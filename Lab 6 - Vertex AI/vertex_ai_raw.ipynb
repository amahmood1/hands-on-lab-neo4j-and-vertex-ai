{
  "cells": [
    {
      "cell_type": "markdown",
      "metadata": {
        "id": "JAPoU8Sm5E6e"
      },
      "source": [
        "<a href=\"https://colab.research.google.com/github/neo4j-partners/hands-on-lab-neo4j-and-vertex-ai/blob/main/Lab%206%20-%20Vertex%20AI/vertex_ai_raw.ipynb\" target=\"_blank\">\n",
        "  <img src=\"https://cloud.google.com/ml-engine/images/colab-logo-32px.png\" alt=\"Colab logo\"> Run in Colab\n",
        "</a>"
      ]
    },
    {
      "cell_type": "markdown",
      "metadata": {
        "id": "BKipBL0kWY7w"
      },
      "source": [
        "# Install Additional Packages\n",
        "First off, you'll also need to install a few packages."
      ]
    },
    {
      "cell_type": "code",
      "execution_count": 1,
      "metadata": {
        "id": "tDipS8p-27qg",
        "vscode": {
          "languageId": "python"
        },
        "outputId": "94bca470-e7fc-4071-a016-22bd2f7be9f0",
        "colab": {
          "base_uri": "https://localhost:8080/"
        }
      },
      "outputs": [
        {
          "output_type": "stream",
          "name": "stdout",
          "text": [
            "\u001b[K     |████████████████████████████████| 1.8 MB 7.6 MB/s \n",
            "\u001b[K     |████████████████████████████████| 107 kB 11.6 MB/s \n",
            "\u001b[K     |████████████████████████████████| 230 kB 38.1 MB/s \n",
            "\u001b[K     |████████████████████████████████| 46 kB 3.6 MB/s \n",
            "\u001b[K     |████████████████████████████████| 107 kB 42.2 MB/s \n",
            "\u001b[K     |████████████████████████████████| 107 kB 29.5 MB/s \n",
            "\u001b[K     |████████████████████████████████| 106 kB 44.0 MB/s \n",
            "\u001b[K     |████████████████████████████████| 106 kB 43.8 MB/s \n",
            "\u001b[K     |████████████████████████████████| 106 kB 10.3 MB/s \n",
            "\u001b[K     |████████████████████████████████| 106 kB 43.0 MB/s \n",
            "\u001b[K     |████████████████████████████████| 105 kB 41.7 MB/s \n",
            "\u001b[K     |████████████████████████████████| 105 kB 43.3 MB/s \n",
            "\u001b[K     |████████████████████████████████| 105 kB 45.2 MB/s \n",
            "\u001b[K     |████████████████████████████████| 105 kB 42.6 MB/s \n",
            "\u001b[K     |████████████████████████████████| 105 kB 44.7 MB/s \n",
            "\u001b[K     |████████████████████████████████| 104 kB 44.0 MB/s \n",
            "\u001b[K     |████████████████████████████████| 104 kB 39.6 MB/s \n",
            "\u001b[K     |████████████████████████████████| 103 kB 13.0 MB/s \n",
            "\u001b[K     |████████████████████████████████| 103 kB 47.3 MB/s \n",
            "\u001b[K     |████████████████████████████████| 103 kB 38.3 MB/s \n",
            "\u001b[K     |████████████████████████████████| 103 kB 42.0 MB/s \n",
            "\u001b[K     |████████████████████████████████| 97 kB 4.0 MB/s \n",
            "\u001b[K     |████████████████████████████████| 97 kB 2.4 MB/s \n",
            "\u001b[K     |████████████████████████████████| 97 kB 2.5 MB/s \n",
            "\u001b[K     |████████████████████████████████| 96 kB 4.9 MB/s \n",
            "\u001b[K     |████████████████████████████████| 96 kB 2.7 MB/s \n",
            "\u001b[K     |████████████████████████████████| 96 kB 4.3 MB/s \n",
            "\u001b[K     |████████████████████████████████| 92 kB 3.2 MB/s \n",
            "\u001b[K     |████████████████████████████████| 92 kB 6.2 MB/s \n",
            "\u001b[K     |████████████████████████████████| 402 kB 52.6 MB/s \n",
            "\u001b[K     |████████████████████████████████| 402 kB 30.2 MB/s \n",
            "\u001b[K     |████████████████████████████████| 286 kB 55.0 MB/s \n",
            "\u001b[K     |████████████████████████████████| 206 kB 48.5 MB/s \n",
            "\u001b[K     |████████████████████████████████| 76 kB 6.4 MB/s \n",
            "\u001b[K     |████████████████████████████████| 1.0 MB 46.6 MB/s \n",
            "\u001b[31mERROR: pip's dependency resolver does not currently take into account all the packages that are installed. This behaviour is the source of the following dependency conflicts.\n",
            "tensorflow 2.8.2+zzzcolab20220527125636 requires protobuf<3.20,>=3.9.2, but you have protobuf 3.20.1 which is incompatible.\n",
            "pandas-gbq 0.13.3 requires google-cloud-bigquery[bqstorage,pandas]<2.0.0dev,>=1.11.1, but you have google-cloud-bigquery 2.34.3 which is incompatible.\n",
            "google-cloud-translate 1.5.0 requires google-cloud-core<2.0dev,>=1.0.0, but you have google-cloud-core 2.3.0 which is incompatible.\n",
            "google-cloud-firestore 1.7.0 requires google-cloud-core<2.0dev,>=1.0.3, but you have google-cloud-core 2.3.0 which is incompatible.\n",
            "google-cloud-datastore 1.8.0 requires google-cloud-core<2.0dev,>=1.0.0, but you have google-cloud-core 2.3.0 which is incompatible.\u001b[0m\n",
            "\u001b[?25h"
          ]
        }
      ],
      "source": [
        "%pip install --quiet google-cloud-storage\n",
        "%pip install --quiet google.cloud.aiplatform"
      ]
    },
    {
      "cell_type": "markdown",
      "metadata": {
        "id": "JBXAh7fVt9Ou"
      },
      "source": [
        "# Restart the Kernel\n",
        "After you install the additional packages, you need to restart the notebook kernel so it can find the packages.  When you run this, you may get a notification that the kernel crashed.  You can disregard that."
      ]
    },
    {
      "cell_type": "code",
      "execution_count": 2,
      "metadata": {
        "id": "ySSyV4T_3dQB",
        "vscode": {
          "languageId": "python"
        },
        "outputId": "2b646b87-fb36-468c-f23c-c85cef25a165",
        "colab": {
          "base_uri": "https://localhost:8080/"
        }
      },
      "outputs": [
        {
          "output_type": "execute_result",
          "data": {
            "text/plain": [
              "{'restart': True, 'status': 'ok'}"
            ]
          },
          "metadata": {},
          "execution_count": 2
        }
      ],
      "source": [
        "import IPython\n",
        "\n",
        "app = IPython.Application.instance()\n",
        "app.kernel.do_shutdown(True)"
      ]
    },
    {
      "cell_type": "markdown",
      "metadata": {
        "id": "nRLomQ5ekAkE"
      },
      "source": [
        "# Download and Split the Data\n",
        "Now let's download the data set and split it into training, validation and test sets."
      ]
    },
    {
      "cell_type": "code",
      "execution_count": 1,
      "metadata": {
        "id": "GHgXinwclEH2",
        "vscode": {
          "languageId": "python"
        },
        "outputId": "ebf3a2c3-51fd-4e25-aa2b-61d21264a245",
        "colab": {
          "base_uri": "https://localhost:8080/"
        }
      },
      "outputs": [
        {
          "output_type": "stream",
          "name": "stdout",
          "text": [
            "--2022-06-04 19:53:55--  https://storage.googleapis.com/neo4j-datasets/form13/2021.csv\n",
            "Resolving storage.googleapis.com (storage.googleapis.com)... 142.250.141.128, 74.125.137.128, 2607:f8b0:4023:c03::80, ...\n",
            "Connecting to storage.googleapis.com (storage.googleapis.com)|142.250.141.128|:443... connected.\n",
            "HTTP request sent, awaiting response... 200 OK\n",
            "Length: 51951699 (50M) [text/csv]\n",
            "Saving to: ‘2021.csv’\n",
            "\n",
            "2021.csv            100%[===================>]  49.54M  81.2MB/s    in 0.6s    \n",
            "\n",
            "2022-06-04 19:53:56 (81.2 MB/s) - ‘2021.csv’ saved [51951699/51951699]\n",
            "\n"
          ]
        }
      ],
      "source": [
        "!wget https://storage.googleapis.com/neo4j-datasets/form13/2021.csv"
      ]
    },
    {
      "cell_type": "code",
      "execution_count": 2,
      "metadata": {
        "id": "tSxivpJUGgsK",
        "vscode": {
          "languageId": "python"
        }
      },
      "outputs": [],
      "source": [
        "import pandas\n",
        "df = pandas.read_csv('2021.csv')\n",
        "\n",
        "df['split']=df['reportCalendarOrQuarter']\n",
        "df['split']=df['split'].replace(['03-31-2021', '06-30-2021', '09-30-2021'], ['TRAIN', 'VALIDATE', 'TEST'])\n",
        "\n",
        "df = df.drop(columns=['reportCalendarOrQuarter'])\n",
        "\n",
        "df.to_csv('raw.csv', index=False)"
      ]
    },
    {
      "cell_type": "markdown",
      "metadata": {
        "id": "Id6tjQDbgf2S"
      },
      "source": [
        "# Authenticate your Google Cloud Account\n",
        "These steps will authenticate the notebook using your Google Cloud credentials."
      ]
    },
    {
      "cell_type": "code",
      "execution_count": 3,
      "metadata": {
        "id": "CvZqoRzdlu6m",
        "vscode": {
          "languageId": "python"
        }
      },
      "outputs": [],
      "source": [
        "# Edit these variables!\n",
        "PROJECT_ID = 'useful-patrol-352218'\n",
        "STORAGE_BUCKET = 'form13sdjfoiergeoirj'\n",
        "\n",
        "#PROJECT_ID = 'YOUR-PROJECT-ID'\n",
        "#STORAGE_BUCKET = 'NAME-OF-BUCKET-FROM-PREVIOUS-LAB'\n",
        "\n",
        "# You can leave this default\n",
        "REGION = 'us-central1'"
      ]
    },
    {
      "cell_type": "code",
      "execution_count": 4,
      "metadata": {
        "id": "1XoT1nT_JlYx",
        "vscode": {
          "languageId": "python"
        }
      },
      "outputs": [],
      "source": [
        "import os\n",
        "os.environ['GCLOUD_PROJECT'] = PROJECT_ID"
      ]
    },
    {
      "cell_type": "code",
      "execution_count": 5,
      "metadata": {
        "id": "HucMnpmVgfmX",
        "vscode": {
          "languageId": "python"
        }
      },
      "outputs": [],
      "source": [
        "try:\n",
        "    from google.colab import auth as google_auth\n",
        "    google_auth.authenticate_user()\n",
        "except:\n",
        "    pass"
      ]
    },
    {
      "cell_type": "markdown",
      "metadata": {
        "id": "FUU7z4FjJS90"
      },
      "source": [
        "# Upload to a GCP Cloud Storage Bucket\n",
        "\n",
        "To get the data into Vertex AI, we must first put it in a bucket as a CSV."
      ]
    },
    {
      "cell_type": "code",
      "execution_count": 6,
      "metadata": {
        "id": "e3nbLg1cKJpJ",
        "vscode": {
          "languageId": "python"
        }
      },
      "outputs": [],
      "source": [
        "from google.cloud import storage\n",
        "client = storage.Client()"
      ]
    },
    {
      "cell_type": "code",
      "execution_count": 7,
      "metadata": {
        "id": "4dAkAU5ALnUo",
        "vscode": {
          "languageId": "python"
        }
      },
      "outputs": [],
      "source": [
        "bucket = client.bucket(STORAGE_BUCKET)"
      ]
    },
    {
      "cell_type": "code",
      "execution_count": 8,
      "metadata": {
        "id": "UTo7-_oJL_dZ",
        "vscode": {
          "languageId": "python"
        }
      },
      "outputs": [],
      "source": [
        "filename = 'raw.csv'\n",
        "upload_path = os.path.join('form13', filename)\n",
        "blob = bucket.blob(upload_path)\n",
        "blob.upload_from_filename(filename)"
      ]
    },
    {
      "cell_type": "markdown",
      "metadata": {
        "id": "ArK3cfKsdT1x"
      },
      "source": [
        "# Train a Model on GCP\n",
        "We'll use the original features to train an AutoML model."
      ]
    },
    {
      "cell_type": "code",
      "execution_count": 9,
      "metadata": {
        "colab": {
          "base_uri": "https://localhost:8080/"
        },
        "id": "KGjrD-k3dsCN",
        "outputId": "64698c1c-0acb-4a0b-de01-d97ccccc16bf",
        "vscode": {
          "languageId": "python"
        }
      },
      "outputs": [
        {
          "output_type": "stream",
          "name": "stdout",
          "text": [
            "Creating TabularDataset\n",
            "Create TabularDataset backing LRO: projects/701617915854/locations/us-central1/datasets/6276007973298896896/operations/8050753399911612416\n",
            "TabularDataset created. Resource name: projects/701617915854/locations/us-central1/datasets/6276007973298896896\n",
            "To use this TabularDataset in another session:\n",
            "ds = aiplatform.TabularDataset('projects/701617915854/locations/us-central1/datasets/6276007973298896896')\n",
            "\tDataset: \"form13-raw\"\n",
            "\tname: \"projects/701617915854/locations/us-central1/datasets/6276007973298896896\"\n"
          ]
        }
      ],
      "source": [
        "from google.cloud import aiplatform\n",
        "\n",
        "aiplatform.init(project=PROJECT_ID, location=REGION)\n",
        "\n",
        "dataset = aiplatform.TabularDataset.create(\n",
        "    display_name=\"form13-raw\",\n",
        "    gcs_source=os.path.join(\"gs://\", STORAGE_BUCKET, 'form13', 'raw.csv'),\n",
        ")\n",
        "dataset.wait()\n",
        "\n",
        "print(f'\\tDataset: \"{dataset.display_name}\"')\n",
        "print(f'\\tname: \"{dataset.resource_name}\"')"
      ]
    },
    {
      "cell_type": "code",
      "execution_count": 10,
      "metadata": {
        "id": "oaSPuk31N2xS",
        "vscode": {
          "languageId": "python"
        }
      },
      "outputs": [],
      "source": [
        "job = aiplatform.AutoMLTabularTrainingJob(\n",
        "    display_name='form13-raw',\n",
        "    optimization_prediction_type='classification'\n",
        ")"
      ]
    },
    {
      "cell_type": "code",
      "execution_count": null,
      "metadata": {
        "colab": {
          "base_uri": "https://localhost:8080/"
        },
        "id": "Fqf44y_G8vi1",
        "outputId": "e6fe8d52-5919-44e0-ebab-f78c50ba9dbf",
        "vscode": {
          "languageId": "python"
        }
      },
      "outputs": [
        {
          "output_type": "stream",
          "name": "stdout",
          "text": [
            "No column transformations provided, so now retrieving columns from dataset in order to set default column transformations.\n",
            "The column transformation of type 'auto' was set for the following columns: ['nameOfIssuer', 'cusip', 'split', 'filingManager', 'value', 'shares'].\n",
            "View Training:\n",
            "https://console.cloud.google.com/ai/platform/locations/us-central1/training/1869090052626186240?project=701617915854\n",
            "AutoMLTabularTrainingJob projects/701617915854/locations/us-central1/trainingPipelines/1869090052626186240 current state:\n",
            "PipelineState.PIPELINE_STATE_PENDING\n",
            "AutoMLTabularTrainingJob projects/701617915854/locations/us-central1/trainingPipelines/1869090052626186240 current state:\n",
            "PipelineState.PIPELINE_STATE_PENDING\n",
            "AutoMLTabularTrainingJob projects/701617915854/locations/us-central1/trainingPipelines/1869090052626186240 current state:\n",
            "PipelineState.PIPELINE_STATE_RUNNING\n",
            "AutoMLTabularTrainingJob projects/701617915854/locations/us-central1/trainingPipelines/1869090052626186240 current state:\n",
            "PipelineState.PIPELINE_STATE_RUNNING\n",
            "AutoMLTabularTrainingJob projects/701617915854/locations/us-central1/trainingPipelines/1869090052626186240 current state:\n",
            "PipelineState.PIPELINE_STATE_RUNNING\n"
          ]
        }
      ],
      "source": [
        "model = job.run(\n",
        "    dataset=dataset,\n",
        "    target_column='target',\n",
        "    predefined_split_column_name='split',\n",
        "    model_display_name='form13-raw',\n",
        "    disable_early_stopping=False,\n",
        "    budget_milli_node_hours=1000,\n",
        ")"
      ]
    },
    {
      "cell_type": "markdown",
      "metadata": {
        "id": "kt03COEXxKOH"
      },
      "source": [
        "1000 milli node hours, or one hour, is the minimum budget that Vertex AI allows.  However, Vertex AI isn't respecting that budget currently.  This job will probably run for two and a half hours.  \n",
        "\n",
        "We're going to move on while that runs.  You can check on the job later in the [Google Cloud Console](https://console.cloud.google.com/) to see the results.  There's a link to the specific job in the output of the cell above."
      ]
    }
  ],
  "metadata": {
    "colab": {
      "name": "vertex_ai_raw.ipynb",
      "provenance": [],
      "toc_visible": true
    },
    "kernelspec": {
      "display_name": "Python 3",
      "name": "python3"
    }
  },
  "nbformat": 4,
  "nbformat_minor": 0
}