{
  "cells": [
    {
      "cell_type": "markdown",
      "metadata": {
        "id": "JAPoU8Sm5E6e"
      },
      "source": [
        "<a href=\"https://colab.research.google.com/github/neo4j-partners/hands-on-lab-neo4j-and-vertex-ai/blob/main/Lab%206%20-%20Vertex%20AI/vertex_ai_embedding.ipynb\" target=\"_blank\">\n",
        "  <img src=\"https://cloud.google.com/ml-engine/images/colab-logo-32px.png\" alt=\"Colab logo\"> Run in Colab\n",
        "</a>"
      ]
    },
    {
      "cell_type": "markdown",
      "metadata": {
        "id": "BKipBL0kWY7w"
      },
      "source": [
        "# Install Additional Packages\n",
        "First off, you'll also need to install a few packages."
      ]
    },
    {
      "cell_type": "code",
      "execution_count": 1,
      "metadata": {
        "colab": {
          "base_uri": "https://localhost:8080/"
        },
        "id": "tDipS8p-27qg",
        "outputId": "7cc33a24-7505-47ec-be92-18346e02a506",
        "vscode": {
          "languageId": "python"
        }
      },
      "outputs": [
        {
          "output_type": "stream",
          "name": "stdout",
          "text": [
            "\u001b[K     |████████████████████████████████| 1.8 MB 14.4 MB/s \n",
            "\u001b[K     |████████████████████████████████| 230 kB 40.6 MB/s \n",
            "\u001b[K     |████████████████████████████████| 107 kB 50.5 MB/s \n",
            "\u001b[K     |████████████████████████████████| 46 kB 818 kB/s \n",
            "\u001b[K     |████████████████████████████████| 107 kB 58.9 MB/s \n",
            "\u001b[K     |████████████████████████████████| 107 kB 64.3 MB/s \n",
            "\u001b[K     |████████████████████████████████| 106 kB 67.7 MB/s \n",
            "\u001b[K     |████████████████████████████████| 106 kB 65.4 MB/s \n",
            "\u001b[K     |████████████████████████████████| 106 kB 59.2 MB/s \n",
            "\u001b[K     |████████████████████████████████| 106 kB 72.2 MB/s \n",
            "\u001b[K     |████████████████████████████████| 105 kB 61.8 MB/s \n",
            "\u001b[K     |████████████████████████████████| 105 kB 71.2 MB/s \n",
            "\u001b[K     |████████████████████████████████| 105 kB 54.5 MB/s \n",
            "\u001b[K     |████████████████████████████████| 105 kB 61.3 MB/s \n",
            "\u001b[K     |████████████████████████████████| 105 kB 69.2 MB/s \n",
            "\u001b[K     |████████████████████████████████| 104 kB 61.8 MB/s \n",
            "\u001b[K     |████████████████████████████████| 104 kB 63.4 MB/s \n",
            "\u001b[K     |████████████████████████████████| 103 kB 62.3 MB/s \n",
            "\u001b[K     |████████████████████████████████| 103 kB 67.5 MB/s \n",
            "\u001b[K     |████████████████████████████████| 103 kB 66.6 MB/s \n",
            "\u001b[K     |████████████████████████████████| 103 kB 66.7 MB/s \n",
            "\u001b[K     |████████████████████████████████| 97 kB 3.8 MB/s \n",
            "\u001b[K     |████████████████████████████████| 97 kB 5.6 MB/s \n",
            "\u001b[K     |████████████████████████████████| 97 kB 4.7 MB/s \n",
            "\u001b[K     |████████████████████████████████| 96 kB 4.7 MB/s \n",
            "\u001b[K     |████████████████████████████████| 96 kB 2.9 MB/s \n",
            "\u001b[K     |████████████████████████████████| 96 kB 4.1 MB/s \n",
            "\u001b[K     |████████████████████████████████| 92 kB 6.6 MB/s \n",
            "\u001b[K     |████████████████████████████████| 92 kB 7.3 MB/s \n",
            "\u001b[K     |████████████████████████████████| 402 kB 40.6 MB/s \n",
            "\u001b[K     |████████████████████████████████| 402 kB 67.3 MB/s \n",
            "\u001b[K     |████████████████████████████████| 286 kB 20.8 MB/s \n",
            "\u001b[K     |████████████████████████████████| 206 kB 69.2 MB/s \n",
            "\u001b[K     |████████████████████████████████| 76 kB 5.3 MB/s \n",
            "\u001b[K     |████████████████████████████████| 1.0 MB 61.4 MB/s \n",
            "\u001b[31mERROR: pip's dependency resolver does not currently take into account all the packages that are installed. This behaviour is the source of the following dependency conflicts.\n",
            "tensorflow 2.8.2+zzzcolab20220527125636 requires protobuf<3.20,>=3.9.2, but you have protobuf 3.20.1 which is incompatible.\n",
            "pandas-gbq 0.13.3 requires google-cloud-bigquery[bqstorage,pandas]<2.0.0dev,>=1.11.1, but you have google-cloud-bigquery 2.34.3 which is incompatible.\n",
            "google-cloud-translate 1.5.0 requires google-cloud-core<2.0dev,>=1.0.0, but you have google-cloud-core 2.3.0 which is incompatible.\n",
            "google-cloud-firestore 1.7.0 requires google-cloud-core<2.0dev,>=1.0.3, but you have google-cloud-core 2.3.0 which is incompatible.\n",
            "google-cloud-datastore 1.8.0 requires google-cloud-core<2.0dev,>=1.0.0, but you have google-cloud-core 2.3.0 which is incompatible.\u001b[0m\n",
            "\u001b[?25h"
          ]
        }
      ],
      "source": [
        "%pip install --quiet google.cloud.aiplatform"
      ]
    },
    {
      "cell_type": "markdown",
      "metadata": {
        "id": "JBXAh7fVt9Ou"
      },
      "source": [
        "# Restart the Kernel\n",
        "After you install the additional packages, you need to restart the notebook kernel so it can find the packages.  When you run this, you may get a notification that the kernel crashed.  You can disregard that."
      ]
    },
    {
      "cell_type": "code",
      "execution_count": 2,
      "metadata": {
        "colab": {
          "base_uri": "https://localhost:8080/"
        },
        "id": "ySSyV4T_3dQB",
        "outputId": "8964ce8b-552f-4578-b3fc-b212fee2ade6",
        "vscode": {
          "languageId": "python"
        }
      },
      "outputs": [
        {
          "output_type": "execute_result",
          "data": {
            "text/plain": [
              "{'restart': True, 'status': 'ok'}"
            ]
          },
          "metadata": {},
          "execution_count": 2
        }
      ],
      "source": [
        "import IPython\n",
        "\n",
        "app = IPython.Application.instance()\n",
        "app.kernel.do_shutdown(True)"
      ]
    },
    {
      "cell_type": "markdown",
      "metadata": {
        "id": "Id6tjQDbgf2S"
      },
      "source": [
        "# Authenticate your Google Cloud Account\n",
        "These steps will authenticate the notebook using your Google Cloud credentials."
      ]
    },
    {
      "cell_type": "code",
      "execution_count": 1,
      "metadata": {
        "id": "K-FC4GI1H3jx",
        "vscode": {
          "languageId": "python"
        }
      },
      "outputs": [],
      "source": [
        "# Edit these variables!\n",
        "#PROJECT_ID = 'YOUR-PROJECT-ID'\n",
        "#STORAGE_BUCKET = 'NAME-OF-BUCKET-FROM-PREVIOUS-LAB'\n",
        "\n",
        "PROJECT_ID = 'useful-patrol-352218'\n",
        "STORAGE_BUCKET = 'form13sdjfoiergeoirj'\n",
        "\n",
        "\n",
        "# You can leave these defaults\n",
        "REGION = 'us-central1'"
      ]
    },
    {
      "cell_type": "code",
      "execution_count": 2,
      "metadata": {
        "id": "1XoT1nT_JlYx",
        "vscode": {
          "languageId": "python"
        }
      },
      "outputs": [],
      "source": [
        "import os\n",
        "os.environ[\"GCLOUD_PROJECT\"] = PROJECT_ID"
      ]
    },
    {
      "cell_type": "code",
      "execution_count": 3,
      "metadata": {
        "id": "HucMnpmVgfmX",
        "vscode": {
          "languageId": "python"
        }
      },
      "outputs": [],
      "source": [
        "try:\n",
        "    from google.colab import auth as google_auth\n",
        "    google_auth.authenticate_user()\n",
        "except:\n",
        "    pass"
      ]
    },
    {
      "cell_type": "markdown",
      "metadata": {
        "id": "ArK3cfKsdT1x"
      },
      "source": [
        "# Train a Model on GCP\n",
        "We'll use the original and engineered features to train an AutoML model."
      ]
    },
    {
      "cell_type": "code",
      "execution_count": 4,
      "metadata": {
        "colab": {
          "base_uri": "https://localhost:8080/"
        },
        "id": "KGjrD-k3dsCN",
        "outputId": "c68fcbef-bcf5-4112-d88b-1d41d163d312",
        "vscode": {
          "languageId": "python"
        }
      },
      "outputs": [
        {
          "output_type": "stream",
          "name": "stdout",
          "text": [
            "Creating TabularDataset\n",
            "Create TabularDataset backing LRO: projects/701617915854/locations/us-central1/datasets/4986852579964092416/operations/2931286523498201088\n",
            "TabularDataset created. Resource name: projects/701617915854/locations/us-central1/datasets/4986852579964092416\n",
            "To use this TabularDataset in another session:\n",
            "ds = aiplatform.TabularDataset('projects/701617915854/locations/us-central1/datasets/4986852579964092416')\n",
            "\tDataset: \"form13-embedding\"\n",
            "\tname: \"projects/701617915854/locations/us-central1/datasets/4986852579964092416\"\n"
          ]
        }
      ],
      "source": [
        "from google.cloud import aiplatform\n",
        "\n",
        "aiplatform.init(project=PROJECT_ID, location=REGION)\n",
        "\n",
        "dataset = aiplatform.TabularDataset.create(\n",
        "    display_name=\"form13-embedding\",\n",
        "    gcs_source=os.path.join(\"gs://\", STORAGE_BUCKET, 'form13', 'embedding.csv'),\n",
        ")\n",
        "dataset.wait()\n",
        "\n",
        "print(f'\\tDataset: \"{dataset.display_name}\"')\n",
        "print(f'\\tname: \"{dataset.resource_name}\"')"
      ]
    },
    {
      "cell_type": "code",
      "execution_count": 5,
      "metadata": {
        "id": "oaSPuk31N2xS",
        "vscode": {
          "languageId": "python"
        }
      },
      "outputs": [],
      "source": [
        "job = aiplatform.AutoMLTabularTrainingJob(\n",
        "    display_name='form13-embedding',\n",
        "    optimization_prediction_type='classification'\n",
        ")"
      ]
    },
    {
      "cell_type": "code",
      "execution_count": null,
      "metadata": {
        "colab": {
          "base_uri": "https://localhost:8080/"
        },
        "id": "Fqf44y_G8vi1",
        "outputId": "633d01ed-8124-4864-a8d7-68f64ef0dd6c",
        "vscode": {
          "languageId": "python"
        }
      },
      "outputs": [
        {
          "output_type": "stream",
          "name": "stdout",
          "text": [
            "No column transformations provided, so now retrieving columns from dataset in order to set default column transformations.\n",
            "The column transformation of type 'auto' was set for the following columns: ['embedding_0', 'embedding_6', 'embedding_13', 'embedding_12', 'cusip', 'embedding_9', 'split', 'nameOfIssuer', 'embedding_8', 'embedding_14', 'embedding_2', 'embedding_4', 'filingManager', 'embedding_1', 'embedding_3', 'embedding_15', 'shares', 'embedding_7', 'embedding_10', 'value', 'embedding_5', 'embedding_11'].\n",
            "View Training:\n",
            "https://console.cloud.google.com/ai/platform/locations/us-central1/training/7626942176219365376?project=701617915854\n",
            "AutoMLTabularTrainingJob projects/701617915854/locations/us-central1/trainingPipelines/7626942176219365376 current state:\n",
            "PipelineState.PIPELINE_STATE_RUNNING\n",
            "AutoMLTabularTrainingJob projects/701617915854/locations/us-central1/trainingPipelines/7626942176219365376 current state:\n",
            "PipelineState.PIPELINE_STATE_RUNNING\n",
            "AutoMLTabularTrainingJob projects/701617915854/locations/us-central1/trainingPipelines/7626942176219365376 current state:\n",
            "PipelineState.PIPELINE_STATE_RUNNING\n"
          ]
        }
      ],
      "source": [
        "model = job.run(\n",
        "    dataset=dataset,\n",
        "    target_column='target',\n",
        "    predefined_split_column_name='split',\n",
        "    model_display_name='form13-embedding',\n",
        "    disable_early_stopping=False,\n",
        "    budget_milli_node_hours=1000,\n",
        ")"
      ]
    },
    {
      "cell_type": "markdown",
      "metadata": {
        "id": "u-d3_txVr39w"
      },
      "source": [
        "1000 milli node hours, or one node hour, is the minimum budget that Vertex AI allows.  However, Vertex AI isn't respecting that budget currently.  This job will probably run for two and a half hours.  \n",
        "\n",
        "We're going to move on while that runs.  You can check on the job later in the [Google Cloud Console](https://console.cloud.google.com/) to see the results.  There's a link to the specific job in the output of the cell above."
      ]
    }
  ],
  "metadata": {
    "colab": {
      "name": "vertex_ai_embedding.ipynb",
      "provenance": [],
      "toc_visible": true
    },
    "kernelspec": {
      "display_name": "Python 3",
      "name": "python3"
    }
  },
  "nbformat": 4,
  "nbformat_minor": 0
}