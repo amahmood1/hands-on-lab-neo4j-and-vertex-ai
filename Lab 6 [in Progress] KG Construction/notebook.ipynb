{
 "cells": [
  {
   "cell_type": "markdown",
   "id": "19ae6874-7585-4a0b-848c-965f639def41",
   "metadata": {},
   "source": [
    "# KG Creation"
   ]
  },
  {
   "cell_type": "code",
   "execution_count": 1,
   "id": "9ef49a93-21b7-4573-87d9-30227aca0464",
   "metadata": {},
   "outputs": [],
   "source": [
    "%%capture\n",
    "%pip install \"google-cloud-aiplatform>=1.25.0\" --upgrade\n",
    "%pip install \"google-cloud-aiplatform[pipelines]>=1.25.0\"\n",
    "%pip install \"langchain>=0.0.237\" graphdatascience pydantic gradio IProgress tqdm python-dotenv xmltodict"
   ]
  },
  {
   "cell_type": "markdown",
   "id": "8f015b4a-3eb2-49da-972a-40d4d4b8d1bb",
   "metadata": {},
   "source": [
    "## Load Environment Variables"
   ]
  },
  {
   "cell_type": "code",
   "execution_count": 2,
   "id": "7f8d4481-00d5-429e-acea-d715571e15e8",
   "metadata": {},
   "outputs": [],
   "source": [
    "from dotenv import load_dotenv\n",
    "import os\n",
    "\n",
    "load_dotenv('credentials.env', override=True)\n",
    "\n",
    "GCP_PROJECT_ID=os.getenv('GCP_PROJECT_ID')\n",
    "GCP_REGION=os.getenv('GCP_REGION')\n",
    "NEO4J_URI=os.getenv('NEO4J_URI')\n",
    "NEO4J_USERNAME=os.getenv('NEO4J_USERNAME')\n",
    "NEO4J_PASSWORD=os.getenv('NEO4J_PASSWORD')\n",
    "AURA_DS=eval(os.getenv('AURA_DS').title()) #True/False"
   ]
  },
  {
   "cell_type": "code",
   "execution_count": 3,
   "id": "43340790-9eab-49f2-9960-df5c195eb893",
   "metadata": {},
   "outputs": [
    {
     "name": "stdout",
     "output_type": "stream",
     "text": [
      "us-central1\n"
     ]
    }
   ],
   "source": [
    "print(GCP_REGION)"
   ]
  },
  {
   "cell_type": "markdown",
   "id": "bce9e224-49c9-4a17-897a-cee29dee9915",
   "metadata": {},
   "source": [
    "## Simple Parsing"
   ]
  },
  {
   "cell_type": "code",
   "execution_count": 4,
   "id": "d2586307-7704-4692-b514-e703fa85f0cb",
   "metadata": {
    "tags": []
   },
   "outputs": [],
   "source": [
    "# Import Test Case\n",
    "import json\n",
    "inp_text = ''\n",
    "with open('./data/raw_2023-05-15_archives_edgar_data_1027451_0000919574-23-003245.txt') as f:\n",
    "#with open('./data/raw_2023-05-15_archives_edgar_data_1748305_0001748305-23-000010.txt') as f:\n",
    "    inp_text = f.read()"
   ]
  },
  {
   "cell_type": "code",
   "execution_count": 5,
   "id": "25c30949-bcb7-40dc-a66b-7eae595e36e4",
   "metadata": {},
   "outputs": [],
   "source": [
    "# Simple functions to extract data\n",
    "import datetime\n",
    "import xmltodict\n",
    "\n",
    "# function to strip namespaces post xmltodict trnasformation\n",
    "def strip_ns(x):\n",
    "    if isinstance(x, dict):\n",
    "        x_striped = dict()\n",
    "        for k, v in x.items():\n",
    "            x_striped[k.split(':')[-1]] = strip_ns(v)\n",
    "    elif isinstance(x, list):\n",
    "        x_striped = [strip_ns(i) for i in x]\n",
    "    else:\n",
    "        x_striped = x\n",
    "    return x_striped\n",
    "\n",
    "\n",
    "def extract_submission_info(contents):\n",
    "    xml = contents[1].split('</XML>')[0].strip()\n",
    "    return strip_ns(xmltodict.parse(xml))['edgarSubmission']\n",
    "\n",
    "def extract_investment_info(contents):\n",
    "    xml = contents[2].split('</XML>')[0].strip()\n",
    "    return strip_ns(xmltodict.parse(xml))['informationTable']['infoTable'] \n",
    "\n",
    "def filter_and_format(info_tables, manager_cik, manager_name, report_period):\n",
    "    res = []\n",
    "    if isinstance(info_tables, dict):\n",
    "        info_tables = [info_tables]\n",
    "    for info_table in info_tables:\n",
    "        # Skip none to report incidencnes\n",
    "        if info_table['cusip'] == '000000000':\n",
    "            pass\n",
    "        # Only want stock holdings, not options\n",
    "        if info_table['shrsOrPrnAmt']['sshPrnamtType'] != 'SH':\n",
    "            pass\n",
    "        # Only want holdings over $10m\n",
    "        elif (float(info_table['value']) * 1000) < 10000000:\n",
    "            pass\n",
    "        # Only want common stock\n",
    "        elif info_table['titleOfClass'] != 'COM':\n",
    "            pass\n",
    "        else:\n",
    "            res.append({'managerCik': manager_cik, \n",
    "                        'managerName': manager_name, \n",
    "                        'reportCalendarOrQuarter': datetime.datetime.strptime(report_period, '%m-%d-%Y').date(),\n",
    "                        'cusip': info_table['cusip'], \n",
    "                        'companyName':info_table['nameOfIssuer'], \n",
    "                        'value': float(info_table['value'].replace(' ', '') + '000'),\n",
    "                        'shares': int(info_table['shrsOrPrnAmt']['sshPrnamt'])})\n",
    "    return res\n",
    "\n",
    "def extract_dict(txt):\n",
    "    contents = txt.split('<XML>')\n",
    "    submt_dict = extract_submission_info(contents)\n",
    "    mng_cik = submt_dict['headerData']['filerInfo']['filer']['credentials']['cik']\n",
    "    mng_name = submt_dict['formData']['coverPage']['filingManager']['name']\n",
    "    report_period = submt_dict['formData']['coverPage']['reportCalendarOrQuarter']\n",
    "    info_dict = extract_investment_info(contents)\n",
    "    return filter_and_format(info_dict, mng_cik, mng_name, report_period)"
   ]
  },
  {
   "cell_type": "code",
   "execution_count": 6,
   "id": "76a58844-23be-4d9d-ab3a-5f773a3358b6",
   "metadata": {},
   "outputs": [
    {
     "data": {
      "text/plain": [
       "[{'managerCik': '0001027451',\n",
       "  'managerName': 'TIGER MANAGEMENT L.L.C.',\n",
       "  'reportCalendarOrQuarter': datetime.date(2023, 3, 31),\n",
       "  'cusip': '023135106',\n",
       "  'companyName': 'AMAZON COM INC',\n",
       "  'value': 582556000.0,\n",
       "  'shares': 5640},\n",
       " {'managerCik': '0001027451',\n",
       "  'managerName': 'TIGER MANAGEMENT L.L.C.',\n",
       "  'reportCalendarOrQuarter': datetime.date(2023, 3, 31),\n",
       "  'cusip': '053332102',\n",
       "  'companyName': 'AUTOZONE INC',\n",
       "  'value': 9218063000.0,\n",
       "  'shares': 3750},\n",
       " {'managerCik': '0001027451',\n",
       "  'managerName': 'TIGER MANAGEMENT L.L.C.',\n",
       "  'reportCalendarOrQuarter': datetime.date(2023, 3, 31),\n",
       "  'cusip': '256677105',\n",
       "  'companyName': 'DOLLAR GEN CORP NEW',\n",
       "  'value': 7110391000.0,\n",
       "  'shares': 33785},\n",
       " {'managerCik': '0001027451',\n",
       "  'managerName': 'TIGER MANAGEMENT L.L.C.',\n",
       "  'reportCalendarOrQuarter': datetime.date(2023, 3, 31),\n",
       "  'cusip': 'N3167Y103',\n",
       "  'companyName': 'FERRARI N V',\n",
       "  'value': 357641000.0,\n",
       "  'shares': 1320},\n",
       " {'managerCik': '0001027451',\n",
       "  'managerName': 'TIGER MANAGEMENT L.L.C.',\n",
       "  'reportCalendarOrQuarter': datetime.date(2023, 3, 31),\n",
       "  'cusip': '573284106',\n",
       "  'companyName': 'MARTIN MARIETTA MATLS INC',\n",
       "  'value': 284048000.0,\n",
       "  'shares': 800},\n",
       " {'managerCik': '0001027451',\n",
       "  'managerName': 'TIGER MANAGEMENT L.L.C.',\n",
       "  'reportCalendarOrQuarter': datetime.date(2023, 3, 31),\n",
       "  'cusip': '594918104',\n",
       "  'companyName': 'MICROSOFT CORP',\n",
       "  'value': 21132390000.0,\n",
       "  'shares': 73300},\n",
       " {'managerCik': '0001027451',\n",
       "  'managerName': 'TIGER MANAGEMENT L.L.C.',\n",
       "  'reportCalendarOrQuarter': datetime.date(2023, 3, 31),\n",
       "  'cusip': '67066G104',\n",
       "  'companyName': 'NVIDIA CORPORATION',\n",
       "  'value': 10451096000.0,\n",
       "  'shares': 37625},\n",
       " {'managerCik': '0001027451',\n",
       "  'managerName': 'TIGER MANAGEMENT L.L.C.',\n",
       "  'reportCalendarOrQuarter': datetime.date(2023, 3, 31),\n",
       "  'cusip': '67066G104',\n",
       "  'companyName': 'NVIDIA CORPORATION',\n",
       "  'value': 416655000.0,\n",
       "  'shares': 1500},\n",
       " {'managerCik': '0001027451',\n",
       "  'managerName': 'TIGER MANAGEMENT L.L.C.',\n",
       "  'reportCalendarOrQuarter': datetime.date(2023, 3, 31),\n",
       "  'cusip': '674599105',\n",
       "  'companyName': 'OCCIDENTAL PETE CORP',\n",
       "  'value': 249720000.0,\n",
       "  'shares': 4000},\n",
       " {'managerCik': '0001027451',\n",
       "  'managerName': 'TIGER MANAGEMENT L.L.C.',\n",
       "  'reportCalendarOrQuarter': datetime.date(2023, 3, 31),\n",
       "  'cusip': '679580100',\n",
       "  'companyName': 'OLD DOMINION FREIGHT LINE IN',\n",
       "  'value': 6578212000.0,\n",
       "  'shares': 19300},\n",
       " {'managerCik': '0001027451',\n",
       "  'managerName': 'TIGER MANAGEMENT L.L.C.',\n",
       "  'reportCalendarOrQuarter': datetime.date(2023, 3, 31),\n",
       "  'cusip': '74275K108',\n",
       "  'companyName': 'PROCORE TECHNOLOGIES INC',\n",
       "  'value': 1388632000.0,\n",
       "  'shares': 22172},\n",
       " {'managerCik': '0001027451',\n",
       "  'managerName': 'TIGER MANAGEMENT L.L.C.',\n",
       "  'reportCalendarOrQuarter': datetime.date(2023, 3, 31),\n",
       "  'cusip': '79466L302',\n",
       "  'companyName': 'SALESFORCE INC',\n",
       "  'value': 6732586000.0,\n",
       "  'shares': 33700},\n",
       " {'managerCik': '0001027451',\n",
       "  'managerName': 'TIGER MANAGEMENT L.L.C.',\n",
       "  'reportCalendarOrQuarter': datetime.date(2023, 3, 31),\n",
       "  'cusip': '90353T100',\n",
       "  'companyName': 'UBER TECHNOLOGIES INC',\n",
       "  'value': 282954000.0,\n",
       "  'shares': 8926},\n",
       " {'managerCik': '0001027451',\n",
       "  'managerName': 'TIGER MANAGEMENT L.L.C.',\n",
       "  'reportCalendarOrQuarter': datetime.date(2023, 3, 31),\n",
       "  'cusip': '91324P102',\n",
       "  'companyName': 'UNITEDHEALTH GROUP INC',\n",
       "  'value': 8884692000.0,\n",
       "  'shares': 18800},\n",
       " {'managerCik': '0001027451',\n",
       "  'managerName': 'TIGER MANAGEMENT L.L.C.',\n",
       "  'reportCalendarOrQuarter': datetime.date(2023, 3, 31),\n",
       "  'cusip': '98585N106',\n",
       "  'companyName': 'YEXT INC',\n",
       "  'value': 12685200000.0,\n",
       "  'shares': 1320000}]"
      ]
     },
     "execution_count": 6,
     "metadata": {},
     "output_type": "execute_result"
    }
   ],
   "source": [
    "# test to see\n",
    "extract_dict(inp_text)"
   ]
  },
  {
   "cell_type": "code",
   "execution_count": 7,
   "id": "b487cf7f-48da-424c-8f90-b10fd622f869",
   "metadata": {},
   "outputs": [
    {
     "name": "stdout",
     "output_type": "stream",
     "text": [
      "CPU times: user 52.3 s, sys: 361 ms, total: 52.6 s\n",
      "Wall time: 52.6 s\n"
     ]
    },
    {
     "data": {
      "text/html": [
       "<div>\n",
       "<style scoped>\n",
       "    .dataframe tbody tr th:only-of-type {\n",
       "        vertical-align: middle;\n",
       "    }\n",
       "\n",
       "    .dataframe tbody tr th {\n",
       "        vertical-align: top;\n",
       "    }\n",
       "\n",
       "    .dataframe thead th {\n",
       "        text-align: right;\n",
       "    }\n",
       "</style>\n",
       "<table border=\"1\" class=\"dataframe\">\n",
       "  <thead>\n",
       "    <tr style=\"text-align: right;\">\n",
       "      <th></th>\n",
       "      <th>managerCik</th>\n",
       "      <th>managerName</th>\n",
       "      <th>reportCalendarOrQuarter</th>\n",
       "      <th>cusip</th>\n",
       "      <th>companyName</th>\n",
       "      <th>value</th>\n",
       "      <th>shares</th>\n",
       "      <th>sourceFilingId</th>\n",
       "    </tr>\n",
       "  </thead>\n",
       "  <tbody>\n",
       "    <tr>\n",
       "      <th>0</th>\n",
       "      <td>0001574010</td>\n",
       "      <td>Lowe Wealth Advisors, LLC</td>\n",
       "      <td>2023-06-30</td>\n",
       "      <td>002824100</td>\n",
       "      <td>ABBOTT LABORATORIES</td>\n",
       "      <td>1.798800e+07</td>\n",
       "      <td>165.0</td>\n",
       "      <td>raw_2023-07-07_archives_edgar_data_1574010_000...</td>\n",
       "    </tr>\n",
       "    <tr>\n",
       "      <th>1</th>\n",
       "      <td>0001574010</td>\n",
       "      <td>Lowe Wealth Advisors, LLC</td>\n",
       "      <td>2023-06-30</td>\n",
       "      <td>007903107</td>\n",
       "      <td>Advanced Micro Devices Inc</td>\n",
       "      <td>1.139100e+07</td>\n",
       "      <td>100.0</td>\n",
       "      <td>raw_2023-07-07_archives_edgar_data_1574010_000...</td>\n",
       "    </tr>\n",
       "    <tr>\n",
       "      <th>2</th>\n",
       "      <td>0001574010</td>\n",
       "      <td>Lowe Wealth Advisors, LLC</td>\n",
       "      <td>2023-06-30</td>\n",
       "      <td>008474108</td>\n",
       "      <td>Agnico Eagle Mines Ltd</td>\n",
       "      <td>1.499400e+07</td>\n",
       "      <td>300.0</td>\n",
       "      <td>raw_2023-07-07_archives_edgar_data_1574010_000...</td>\n",
       "    </tr>\n",
       "    <tr>\n",
       "      <th>3</th>\n",
       "      <td>0001574010</td>\n",
       "      <td>Lowe Wealth Advisors, LLC</td>\n",
       "      <td>2023-06-30</td>\n",
       "      <td>009158106</td>\n",
       "      <td>Air Products &amp; Chemicals Inc</td>\n",
       "      <td>5.990600e+07</td>\n",
       "      <td>200.0</td>\n",
       "      <td>raw_2023-07-07_archives_edgar_data_1574010_000...</td>\n",
       "    </tr>\n",
       "    <tr>\n",
       "      <th>4</th>\n",
       "      <td>0001574010</td>\n",
       "      <td>Lowe Wealth Advisors, LLC</td>\n",
       "      <td>2023-06-30</td>\n",
       "      <td>016255101</td>\n",
       "      <td>Align Technology Inc</td>\n",
       "      <td>1.060900e+07</td>\n",
       "      <td>30.0</td>\n",
       "      <td>raw_2023-07-07_archives_edgar_data_1574010_000...</td>\n",
       "    </tr>\n",
       "    <tr>\n",
       "      <th>...</th>\n",
       "      <td>...</td>\n",
       "      <td>...</td>\n",
       "      <td>...</td>\n",
       "      <td>...</td>\n",
       "      <td>...</td>\n",
       "      <td>...</td>\n",
       "      <td>...</td>\n",
       "      <td>...</td>\n",
       "    </tr>\n",
       "    <tr>\n",
       "      <th>292778</th>\n",
       "      <td>0001004140</td>\n",
       "      <td>PENNSYLVANIA CAPITAL MANAGEMENT INC /ADV</td>\n",
       "      <td>2023-06-30</td>\n",
       "      <td>88160R101</td>\n",
       "      <td>TESLA INC</td>\n",
       "      <td>1.237649e+09</td>\n",
       "      <td>4728.0</td>\n",
       "      <td>raw_2023-07-18_archives_edgar_data_1004140_000...</td>\n",
       "    </tr>\n",
       "    <tr>\n",
       "      <th>292779</th>\n",
       "      <td>0001004140</td>\n",
       "      <td>PENNSYLVANIA CAPITAL MANAGEMENT INC /ADV</td>\n",
       "      <td>2023-06-30</td>\n",
       "      <td>882508104</td>\n",
       "      <td>TEXAS INSTRS INC</td>\n",
       "      <td>5.672430e+08</td>\n",
       "      <td>3151.0</td>\n",
       "      <td>raw_2023-07-18_archives_edgar_data_1004140_000...</td>\n",
       "    </tr>\n",
       "    <tr>\n",
       "      <th>292780</th>\n",
       "      <td>0001004140</td>\n",
       "      <td>PENNSYLVANIA CAPITAL MANAGEMENT INC /ADV</td>\n",
       "      <td>2023-06-30</td>\n",
       "      <td>883556102</td>\n",
       "      <td>THERMO FISHER SCIENTIFIC INC</td>\n",
       "      <td>8.254090e+08</td>\n",
       "      <td>1582.0</td>\n",
       "      <td>raw_2023-07-18_archives_edgar_data_1004140_000...</td>\n",
       "    </tr>\n",
       "    <tr>\n",
       "      <th>292781</th>\n",
       "      <td>0001004140</td>\n",
       "      <td>PENNSYLVANIA CAPITAL MANAGEMENT INC /ADV</td>\n",
       "      <td>2023-06-30</td>\n",
       "      <td>91324P102</td>\n",
       "      <td>UNITEDHEALTH GROUP INC</td>\n",
       "      <td>1.344350e+09</td>\n",
       "      <td>2797.0</td>\n",
       "      <td>raw_2023-07-18_archives_edgar_data_1004140_000...</td>\n",
       "    </tr>\n",
       "    <tr>\n",
       "      <th>292782</th>\n",
       "      <td>0001004140</td>\n",
       "      <td>PENNSYLVANIA CAPITAL MANAGEMENT INC /ADV</td>\n",
       "      <td>2023-06-30</td>\n",
       "      <td>929160109</td>\n",
       "      <td>VULCAN MATLS CO</td>\n",
       "      <td>4.327546e+09</td>\n",
       "      <td>19196.0</td>\n",
       "      <td>raw_2023-07-18_archives_edgar_data_1004140_000...</td>\n",
       "    </tr>\n",
       "  </tbody>\n",
       "</table>\n",
       "<p>292783 rows × 8 columns</p>\n",
       "</div>"
      ],
      "text/plain": [
       "        managerCik                               managerName  \\\n",
       "0       0001574010                 Lowe Wealth Advisors, LLC   \n",
       "1       0001574010                 Lowe Wealth Advisors, LLC   \n",
       "2       0001574010                 Lowe Wealth Advisors, LLC   \n",
       "3       0001574010                 Lowe Wealth Advisors, LLC   \n",
       "4       0001574010                 Lowe Wealth Advisors, LLC   \n",
       "...            ...                                       ...   \n",
       "292778  0001004140  PENNSYLVANIA CAPITAL MANAGEMENT INC /ADV   \n",
       "292779  0001004140  PENNSYLVANIA CAPITAL MANAGEMENT INC /ADV   \n",
       "292780  0001004140  PENNSYLVANIA CAPITAL MANAGEMENT INC /ADV   \n",
       "292781  0001004140  PENNSYLVANIA CAPITAL MANAGEMENT INC /ADV   \n",
       "292782  0001004140  PENNSYLVANIA CAPITAL MANAGEMENT INC /ADV   \n",
       "\n",
       "       reportCalendarOrQuarter      cusip                   companyName  \\\n",
       "0                   2023-06-30  002824100           ABBOTT LABORATORIES   \n",
       "1                   2023-06-30  007903107    Advanced Micro Devices Inc   \n",
       "2                   2023-06-30  008474108        Agnico Eagle Mines Ltd   \n",
       "3                   2023-06-30  009158106  Air Products & Chemicals Inc   \n",
       "4                   2023-06-30  016255101          Align Technology Inc   \n",
       "...                        ...        ...                           ...   \n",
       "292778              2023-06-30  88160R101                     TESLA INC   \n",
       "292779              2023-06-30  882508104              TEXAS INSTRS INC   \n",
       "292780              2023-06-30  883556102  THERMO FISHER SCIENTIFIC INC   \n",
       "292781              2023-06-30  91324P102        UNITEDHEALTH GROUP INC   \n",
       "292782              2023-06-30  929160109               VULCAN MATLS CO   \n",
       "\n",
       "               value   shares  \\\n",
       "0       1.798800e+07    165.0   \n",
       "1       1.139100e+07    100.0   \n",
       "2       1.499400e+07    300.0   \n",
       "3       5.990600e+07    200.0   \n",
       "4       1.060900e+07     30.0   \n",
       "...              ...      ...   \n",
       "292778  1.237649e+09   4728.0   \n",
       "292779  5.672430e+08   3151.0   \n",
       "292780  8.254090e+08   1582.0   \n",
       "292781  1.344350e+09   2797.0   \n",
       "292782  4.327546e+09  19196.0   \n",
       "\n",
       "                                           sourceFilingId  \n",
       "0       raw_2023-07-07_archives_edgar_data_1574010_000...  \n",
       "1       raw_2023-07-07_archives_edgar_data_1574010_000...  \n",
       "2       raw_2023-07-07_archives_edgar_data_1574010_000...  \n",
       "3       raw_2023-07-07_archives_edgar_data_1574010_000...  \n",
       "4       raw_2023-07-07_archives_edgar_data_1574010_000...  \n",
       "...                                                   ...  \n",
       "292778  raw_2023-07-18_archives_edgar_data_1004140_000...  \n",
       "292779  raw_2023-07-18_archives_edgar_data_1004140_000...  \n",
       "292780  raw_2023-07-18_archives_edgar_data_1004140_000...  \n",
       "292781  raw_2023-07-18_archives_edgar_data_1004140_000...  \n",
       "292782  raw_2023-07-18_archives_edgar_data_1004140_000...  \n",
       "\n",
       "[292783 rows x 8 columns]"
      ]
     },
     "execution_count": 7,
     "metadata": {},
     "output_type": "execute_result"
    }
   ],
   "source": [
    "%%time\n",
    "# Go through all files and concatinate to dataframe\n",
    "import pandas as pd\n",
    "\n",
    "filing_dfs = []\n",
    "for file_name in os.listdir('./data'):\n",
    "        if file_name.endswith('.txt'):\n",
    "            file_path = os.path.join('./data', file_name)\n",
    "            with open(file_path, 'r') as file:\n",
    "                filing = extract_dict(file.read())\n",
    "                tmp_filing_df = pd.DataFrame(filing)\n",
    "                tmp_filing_df['sourceFilingId'] = file_name\n",
    "                filing_dfs.append(tmp_filing_df)\n",
    "filing_df = pd.concat(filing_dfs, ignore_index=True)\n",
    "filing_df"
   ]
  },
  {
   "cell_type": "markdown",
   "id": "4fff83c5-1648-4048-9f5e-d5e2462a2bf2",
   "metadata": {},
   "source": [
    "## Using LLM\n",
    "Hitting Input size limits"
   ]
  },
  {
   "cell_type": "code",
   "execution_count": 8,
   "id": "c94a81f1-5193-441e-b3de-59fbc2e6ed66",
   "metadata": {},
   "outputs": [],
   "source": [
    "import vertexai\n",
    "vertexai.init(project=GCP_PROJECT_ID, location=GCP_REGION)"
   ]
  },
  {
   "cell_type": "code",
   "execution_count": 9,
   "id": "030e2766-cf72-4809-9a25-299575f1b768",
   "metadata": {},
   "outputs": [],
   "source": [
    "from vertexai.preview.language_models import TextGenerationModel\n",
    "\n",
    "def run_text_model(\n",
    "    model_name: str,\n",
    "    temperature: float,\n",
    "    max_decode_steps: int,\n",
    "    top_p: float,\n",
    "    top_k: int,\n",
    "    prompt: str,\n",
    "    project_id: str = GCP_PROJECT_ID,\n",
    "    location: str = GCP_REGION,\n",
    "    tuned_model_name: str = None,\n",
    "    ) :\n",
    "    \"\"\"Text Completion Use a Large Language Model.\"\"\"\n",
    "    vertexai.init(project=GCP_PROJECT_ID, location=location)\n",
    "    model = TextGenerationModel.from_pretrained(model_name)\n",
    "    if tuned_model_name is not None:\n",
    "        model = model.get_tuned_model(tuned_model_name)\n",
    "    response = model.predict(\n",
    "        prompt,\n",
    "        temperature=temperature,\n",
    "        max_output_tokens=max_decode_steps,\n",
    "        top_k=top_k,\n",
    "        top_p=top_p)\n",
    "    return response"
   ]
  },
  {
   "cell_type": "code",
   "execution_count": 10,
   "id": "02cc1abd-41bc-44f7-80d7-58520b441a3e",
   "metadata": {},
   "outputs": [],
   "source": [
    "def extract_entities_relationships(prompt, tuned_model_name: str = None):\n",
    "    try:\n",
    "        res = run_text_model(\"text-bison@001\", 0, 1024, 0.8, 1, prompt, tuned_model_name=tuned_model_name)\n",
    "        return res\n",
    "    except Exception as e:\n",
    "        print(e)"
   ]
  },
  {
   "cell_type": "code",
   "execution_count": 11,
   "id": "a98008c1-25af-4ce3-8865-b4c78eae5a64",
   "metadata": {
    "tags": []
   },
   "outputs": [],
   "source": [
    "mgr_info_tpl=\"\"\"From the text below, extract the following as json. Do not miss any of these information.\n",
    "* The tags mentioned below may or may not namespaced. So extract accordingly. Eg: <ns1:tag> is equal to <tag>\n",
    "* \"name\" - The name from the <name> tag under <filingManager> tag\n",
    "* \"street1\" - The manager's street1 address from the <com:street1> tag under <address> tag\n",
    "* \"street2\" - The manager's street2 address from the <com:street2> tag under <address> tag\n",
    "* \"city\" - The manager's city address from the <com:city> tag under <address> tag\n",
    "* \"stateOrCounty\" - The manager's stateOrCounty address from the <com:stateOrCountry> tag under <address> tag\n",
    "* \"zipCode\" - The manager's zipCode from the <com:zipCode> tag under <address> tag\n",
    "* \"reportCalendarOrQuarter\" - The reportCalendarOrQuarter from the <reportCalendarOrQuarter> tag under <address> tag\n",
    "* Just return me the JSON enclosed by 3 backticks. No other text in the response\n",
    "\n",
    "Text:\n",
    "$ctext\n",
    "\"\"\""
   ]
  },
  {
   "cell_type": "code",
   "execution_count": 12,
   "id": "bcf9af60-07f7-473c-ad5b-ccedff86a410",
   "metadata": {
    "tags": []
   },
   "outputs": [],
   "source": [
    "from string import Template\n",
    "\n",
    "_prompt = Template(mgr_info_tpl).substitute(ctext=inp_text)"
   ]
  },
  {
   "cell_type": "code",
   "execution_count": 13,
   "id": "f08d73d9-20bf-412d-8265-1c997866af6a",
   "metadata": {
    "tags": []
   },
   "outputs": [
    {
     "name": "stdout",
     "output_type": "stream",
     "text": [
      "400 Request contains an invalid argument.\n"
     ]
    }
   ],
   "source": [
    "_extraction = extract_entities_relationships(_prompt)"
   ]
  },
  {
   "cell_type": "code",
   "execution_count": 14,
   "id": "e787bf84-8a29-4454-9e5c-082913c978c6",
   "metadata": {},
   "outputs": [
    {
     "name": "stdout",
     "output_type": "stream",
     "text": [
      "None\n"
     ]
    }
   ],
   "source": [
    "print(_extraction)"
   ]
  },
  {
   "cell_type": "code",
   "execution_count": 15,
   "id": "153331fe-b5a1-40b6-9ea4-9e8ef17b071e",
   "metadata": {},
   "outputs": [],
   "source": [
    "filing_info_tpl = \"\"\"From the text below, extract the following as a list of json enclosed by 3 back ticks. You will find many filing information under the <infoTable> tag. Extract all of them.\n",
    "* \"nameOfIssuer\" - The name from the <nameOfIssuer> tag under <infoTable> tag\n",
    "* \"cusip\" - The cusip from the <cusip> tag under <infoTable> tag\n",
    "* \"value\" - The value from the <value> tag under <infoTable> tag\n",
    "* \"sshPrnamt\" - The sshPrnamt from the <sshPrnamt> tag under <infoTable> tag\n",
    "* \"sshPrnamtType\" - The sshPrnamtType from the <sshPrnamtType> tag under <infoTable> tag\n",
    "* \"investmentDiscretion\" - The investmentDiscretion from the <investmentDiscretion> tag under <infoTable> tag\n",
    "* \"votingSole\" - The votingSole from the <votingSole> tag under <infoTable> tag\n",
    "* \"votingShared\" - The votingShared from the <votingShared> tag under <infoTable> tag\n",
    "* \"votingNone\" - The votingNone from the <votingNone> tag under <infoTable> tag\n",
    "\n",
    "Text:\n",
    "$ctext\n",
    "\"\"\""
   ]
  },
  {
   "cell_type": "code",
   "execution_count": 16,
   "id": "4a01b675-33ba-4e8e-b6d6-fb85a9512d1c",
   "metadata": {},
   "outputs": [
    {
     "name": "stdout",
     "output_type": "stream",
     "text": [
      "400 Request contains an invalid argument.\n"
     ]
    }
   ],
   "source": [
    "_prompt = Template(filing_info_tpl).substitute(ctext=inp_text)\n",
    "_extraction = extract_entities_relationships(_prompt)"
   ]
  },
  {
   "cell_type": "code",
   "execution_count": 17,
   "id": "3aa24438-1796-4326-9e0f-34e9a8748941",
   "metadata": {},
   "outputs": [
    {
     "name": "stdout",
     "output_type": "stream",
     "text": [
      "None\n"
     ]
    }
   ],
   "source": [
    "print(_extraction)"
   ]
  },
  {
   "cell_type": "code",
   "execution_count": 18,
   "id": "9e297e6d-87e8-42b1-be17-8893e3e3e198",
   "metadata": {},
   "outputs": [
    {
     "data": {
      "text/plain": [
       "'<SEC-DOCUMENT>0000919574-23-003245.txt : 20230515\\n<SEC-HEADER>0000919574-23-003245.hdr.sgml : 20230515\\n<ACCEPTANCE-DATETIME>20230515103943\\nACCESSION NUMBER:\\t\\t0000919574-23-003245\\nCONFORMED SUBMISSION TYPE:\\t13F-HR\\nPUBLIC DOCUMENT COUNT:\\t\\t2\\nCONFORMED PERIOD OF REPORT:\\t20230331\\nFILED AS OF DATE:\\t\\t20230515\\nDATE AS OF CHANGE:\\t\\t20230515\\nEFFECTIVENESS DATE:\\t\\t20230515\\n\\nFILER:\\n\\n\\tCOMPANY DATA:\\t\\n\\t\\tCOMPANY CONFORMED NAME:\\t\\t\\tTIGER MANAGEMENT L.L.C.\\n\\t\\tCENTRAL INDEX KEY:\\t\\t\\t0001027451\\n\\t\\tIRS NUMBER:\\t\\t\\t\\t000000000\\n\\t\\tSTATE OF INCORPORATION:\\t\\t\\tDE\\n\\n\\tFILING VALUES:\\n\\t\\tFORM TYPE:\\t\\t13F-HR\\n\\t\\tSEC ACT:\\t\\t1934 Act\\n\\t\\tSEC FILE NUMBER:\\t028-05892\\n\\t\\tFILM NUMBER:\\t\\t23919492\\n\\n\\tBUSINESS ADDRESS:\\t\\n\\t\\tSTREET 1:\\t\\t101 PARK AVENUE\\n\\t\\tCITY:\\t\\t\\tNEW YORK\\n\\t\\tSTATE:\\t\\t\\tNY\\n\\t\\tZIP:\\t\\t\\t10178\\n\\t\\tBUSINESS PHONE:\\t\\t212-984-2500\\n\\n\\tMAIL ADDRESS:\\t\\n\\t\\tSTREET 1:\\t\\t101 PARK AVENUE\\n\\t\\tCITY:\\t\\t\\tNEW YORK\\n\\t\\tSTATE:\\t\\t\\tNY\\n\\t\\tZIP:\\t\\t\\t10178\\n\\n\\tFORMER COMPANY:\\t\\n\\t\\tFORMER CONFORMED NAME:\\tTIGER MANAGEMENT LLC/NY\\n\\t\\tDATE OF NAME CHANGE:\\t20010606\\n</SEC-HEADER>\\n<DOCUMENT>\\n<TYPE>13F-HR\\n<SEQUENCE>1\\n<FILENAME>primary_doc.xml\\n<TEXT>\\n<XML>\\n<?xml version=\"1.0\" encoding=\"UTF-8\"?>\\n<edgarSubmission xsi:schemaLocation=\"http://www.sec.gov/edgar/thirteenffiler eis_13F_Filer.xsd\" xmlns=\"http://www.sec.gov/edgar/thirteenffiler\" xmlns:ns1=\"http://www.sec.gov/edgar/common\" xmlns:xsi=\"http://www.w3.org/2001/XMLSchema-instance\">\\n  <schemaVersion>X0202</schemaVersion>\\n  <headerData>\\n    <submissionType>13F-HR</submissionType>\\n    <filerInfo>\\n      <liveTestFlag>LIVE</liveTestFlag>\\n      <flags>\\n        <confirmingCopyFlag>false</confirmingCopyFlag>\\n        <returnCopyFlag>false</returnCopyFlag>\\n        <overrideInternetFlag>false</overrideInternetFlag>\\n      </flags>\\n      <filer>\\n        <credentials>\\n          <cik>0001027451</cik>\\n          <ccc>XXXXXXXX</ccc>\\n        </credentials>\\n      </filer>\\n      <periodOfReport>03-31-2023</periodOfReport>\\n    </filerInfo>\\n  </headerData>\\n  <formData>\\n    <coverPage>\\n      <reportCalendarOrQuarter>03-31-2023</reportCalendarOrQuarter>\\n      <isAmendment>false</isAmendment>\\n      <filingManager>\\n        <name>TIGER MANAGEMENT L.L.C.</name>\\n        <address>\\n          <ns1:street1>101 PARK AVENUE</ns1:street1>\\n          <ns1:city>NEW YORK</ns1:city>\\n          <ns1:stateOrCountry>NY</ns1:stateOrCountry>\\n          <ns1:zipCode>10178</ns1:zipCode>\\n        </address>\\n      </filingManager>\\n      <reportType>13F HOLDINGS REPORT</reportType>\\n      <form13FFileNumber>028-05892</form13FFileNumber>\\n      <provideInfoForInstruction5>N</provideInfoForInstruction5>\\n    </coverPage>\\n    <signatureBlock>\\n      <name>Elouise Manhertz</name>\\n      <title>Chief Financial Officer</title>\\n      <phone>212-984-8869</phone>\\n      <signature>/s/ Elouise Manhertz</signature>\\n      <city>New York</city>\\n      <stateOrCountry>NY</stateOrCountry>\\n      <signatureDate>05-15-2023</signatureDate>\\n    </signatureBlock>\\n    <summaryPage>\\n      <otherIncludedManagersCount>0</otherIncludedManagersCount>\\n      <tableEntryTotal>33</tableEntryTotal>\\n      <tableValueTotal>187894142</tableValueTotal>\\n    </summaryPage>\\n  </formData>\\n</edgarSubmission>\\n</XML>\\n</TEXT>\\n</DOCUMENT>\\n<DOCUMENT>\\n<TYPE>INFORMATION TABLE\\n<SEQUENCE>2\\n<FILENAME>infotable.xml\\n<TEXT>\\n<XML>\\n<?xml version=\"1.0\" ?>\\n<informationTable xsi:schemaLocation=\"http://www.sec.gov/edgar/document/thirteenf/informationtable eis_13FDocument.xsd\" xmlns=\"http://www.sec.gov/edgar/document/thirteenf/informationtable\" xmlns:n1=\"http://www.sec.gov/edgar/document/thirteenf/informationtable\" xmlns:xsi=\"http://www.w3.org/2001/XMLSchema-instance\">\\n  <infoTable>\\n    <nameOfIssuer>ALPHABET INC</nameOfIssuer>\\n    <titleOfClass>CAP STK CL A</titleOfClass>\\n    <cusip>02079K305</cusip>\\n    <value>1488692</value>\\n    <shrsOrPrnAmt>\\n      <sshPrnamt>14352</sshPrnamt>\\n      <sshPrnamtType>SH</sshPrnamtType>\\n    </shrsOrPrnAmt>\\n    <investmentDiscretion>SOLE</investmentDiscretion>\\n    <votingAuthority>\\n      <Sole>14352</Sole>\\n      <Shared>0</Shared>\\n      <None>0</None>\\n    </votingAuthority>\\n  </infoTable>\\n  <infoTable>\\n    <nameOfIssuer>AMAZON COM INC</nameOfIssuer>\\n    <titleOfClass>COM</titleOfClass>\\n    <cusip>023135106</cusip>\\n    <value>582556</value>\\n    <shrsOrPrnAmt>\\n      <sshPrnamt>5640</sshPrnamt>\\n      <sshPrnamtType>SH</sshPrnamtType>\\n    </shrsOrPrnAmt>\\n    <investmentDiscretion>SOLE</investmentDiscretion>\\n    <votingAuthority>\\n      <Sole>5640</Sole>\\n      <Shared>0</Shared>\\n      <None>0</None>\\n    </votingAuthority>\\n  </infoTable>\\n  <infoTable>\\n    <nameOfIssuer>ATLASSIAN CORPORATION</nameOfIssuer>\\n    <titleOfClass>CL A</titleOfClass>\\n    <cusip>049468101</cusip>\\n    <value>205404</value>\\n    <shrsOrPrnAmt>\\n      <sshPrnamt>1200</sshPrnamt>\\n      <sshPrnamtType>SH</sshPrnamtType>\\n    </shrsOrPrnAmt>\\n    <investmentDiscretion>SOLE</investmentDiscretion>\\n    <votingAuthority>\\n      <Sole>1200</Sole>\\n      <Shared>0</Shared>\\n      <None>0</None>\\n    </votingAuthority>\\n  </infoTable>\\n  <infoTable>\\n    <nameOfIssuer>AUTOZONE INC</nameOfIssuer>\\n    <titleOfClass>COM</titleOfClass>\\n    <cusip>053332102</cusip>\\n    <value>9218063</value>\\n    <shrsOrPrnAmt>\\n      <sshPrnamt>3750</sshPrnamt>\\n      <sshPrnamtType>SH</sshPrnamtType>\\n    </shrsOrPrnAmt>\\n    <investmentDiscretion>SOLE</investmentDiscretion>\\n    <votingAuthority>\\n      <Sole>3750</Sole>\\n      <Shared>0</Shared>\\n      <None>0</None>\\n    </votingAuthority>\\n  </infoTable>\\n  <infoTable>\\n    <nameOfIssuer>COINBASE GLOBAL INC</nameOfIssuer>\\n    <titleOfClass>COM CL A</titleOfClass>\\n    <cusip>19260Q107</cusip>\\n    <value>1086458</value>\\n    <shrsOrPrnAmt>\\n      <sshPrnamt>16079</sshPrnamt>\\n      <sshPrnamtType>SH</sshPrnamtType>\\n    </shrsOrPrnAmt>\\n    <investmentDiscretion>SOLE</investmentDiscretion>\\n    <votingAuthority>\\n      <Sole>16079</Sole>\\n      <Shared>0</Shared>\\n      <None>0</None>\\n    </votingAuthority>\\n  </infoTable>\\n  <infoTable>\\n    <nameOfIssuer>DELTA AIR LINES INC DEL</nameOfIssuer>\\n    <titleOfClass>COM NEW</titleOfClass>\\n    <cusip>247361702</cusip>\\n    <value>7008444</value>\\n    <shrsOrPrnAmt>\\n      <sshPrnamt>200700</sshPrnamt>\\n      <sshPrnamtType>SH</sshPrnamtType>\\n    </shrsOrPrnAmt>\\n    <investmentDiscretion>SOLE</investmentDiscretion>\\n    <votingAuthority>\\n      <Sole>200700</Sole>\\n      <Shared>0</Shared>\\n      <None>0</None>\\n    </votingAuthority>\\n  </infoTable>\\n  <infoTable>\\n    <nameOfIssuer>DOLLAR GEN CORP NEW</nameOfIssuer>\\n    <titleOfClass>COM</titleOfClass>\\n    <cusip>256677105</cusip>\\n    <value>7110391</value>\\n    <shrsOrPrnAmt>\\n      <sshPrnamt>33785</sshPrnamt>\\n      <sshPrnamtType>SH</sshPrnamtType>\\n    </shrsOrPrnAmt>\\n    <investmentDiscretion>SOLE</investmentDiscretion>\\n    <votingAuthority>\\n      <Sole>33785</Sole>\\n      <Shared>0</Shared>\\n      <None>0</None>\\n    </votingAuthority>\\n  </infoTable>\\n  <infoTable>\\n    <nameOfIssuer>FERRARI N V</nameOfIssuer>\\n    <titleOfClass>COM</titleOfClass>\\n    <cusip>N3167Y103</cusip>\\n    <value>357641</value>\\n    <shrsOrPrnAmt>\\n      <sshPrnamt>1320</sshPrnamt>\\n      <sshPrnamtType>SH</sshPrnamtType>\\n    </shrsOrPrnAmt>\\n    <investmentDiscretion>SOLE</investmentDiscretion>\\n    <votingAuthority>\\n      <Sole>1320</Sole>\\n      <Shared>0</Shared>\\n      <None>0</None>\\n    </votingAuthority>\\n  </infoTable>\\n  <infoTable>\\n    <nameOfIssuer>FRESHWORKS INC</nameOfIssuer>\\n    <titleOfClass>CLASS A COM</titleOfClass>\\n    <cusip>358054104</cusip>\\n    <value>322007</value>\\n    <shrsOrPrnAmt>\\n      <sshPrnamt>20964</sshPrnamt>\\n      <sshPrnamtType>SH</sshPrnamtType>\\n    </shrsOrPrnAmt>\\n    <investmentDiscretion>SOLE</investmentDiscretion>\\n    <votingAuthority>\\n      <Sole>20964</Sole>\\n      <Shared>0</Shared>\\n      <None>0</None>\\n    </votingAuthority>\\n  </infoTable>\\n  <infoTable>\\n    <nameOfIssuer>MADISON SQUARE GRDN SPRT COR</nameOfIssuer>\\n    <titleOfClass>CL A</titleOfClass>\\n    <cusip>55825T103</cusip>\\n    <value>12080700</value>\\n    <shrsOrPrnAmt>\\n      <sshPrnamt>62000</sshPrnamt>\\n      <sshPrnamtType>SH</sshPrnamtType>\\n    </shrsOrPrnAmt>\\n    <investmentDiscretion>SOLE</investmentDiscretion>\\n    <votingAuthority>\\n      <Sole>62000</Sole>\\n      <Shared>0</Shared>\\n      <None>0</None>\\n    </votingAuthority>\\n  </infoTable>\\n  <infoTable>\\n    <nameOfIssuer>MARTIN MARIETTA MATLS INC</nameOfIssuer>\\n    <titleOfClass>COM</titleOfClass>\\n    <cusip>573284106</cusip>\\n    <value>284048</value>\\n    <shrsOrPrnAmt>\\n      <sshPrnamt>800</sshPrnamt>\\n      <sshPrnamtType>SH</sshPrnamtType>\\n    </shrsOrPrnAmt>\\n    <investmentDiscretion>SOLE</investmentDiscretion>\\n    <votingAuthority>\\n      <Sole>800</Sole>\\n      <Shared>0</Shared>\\n      <None>0</None>\\n    </votingAuthority>\\n  </infoTable>\\n  <infoTable>\\n    <nameOfIssuer>MASTERCARD INCORPORATED</nameOfIssuer>\\n    <titleOfClass>CL A</titleOfClass>\\n    <cusip>57636Q104</cusip>\\n    <value>9521342</value>\\n    <shrsOrPrnAmt>\\n      <sshPrnamt>26200</sshPrnamt>\\n      <sshPrnamtType>SH</sshPrnamtType>\\n    </shrsOrPrnAmt>\\n    <investmentDiscretion>SOLE</investmentDiscretion>\\n    <votingAuthority>\\n      <Sole>26200</Sole>\\n      <Shared>0</Shared>\\n      <None>0</None>\\n    </votingAuthority>\\n  </infoTable>\\n  <infoTable>\\n    <nameOfIssuer>MICROSOFT CORP</nameOfIssuer>\\n    <titleOfClass>COM</titleOfClass>\\n    <cusip>594918104</cusip>\\n    <value>21132390</value>\\n    <shrsOrPrnAmt>\\n      <sshPrnamt>73300</sshPrnamt>\\n      <sshPrnamtType>SH</sshPrnamtType>\\n    </shrsOrPrnAmt>\\n    <investmentDiscretion>SOLE</investmentDiscretion>\\n    <votingAuthority>\\n      <Sole>73300</Sole>\\n      <Shared>0</Shared>\\n      <None>0</None>\\n    </votingAuthority>\\n  </infoTable>\\n  <infoTable>\\n    <nameOfIssuer>NEMAURA MED INC</nameOfIssuer>\\n    <titleOfClass>COM NEW</titleOfClass>\\n    <cusip>640442208</cusip>\\n    <value>335625</value>\\n    <shrsOrPrnAmt>\\n      <sshPrnamt>375000</sshPrnamt>\\n      <sshPrnamtType>SH</sshPrnamtType>\\n    </shrsOrPrnAmt>\\n    <investmentDiscretion>SOLE</investmentDiscretion>\\n    <votingAuthority>\\n      <Sole>375000</Sole>\\n      <Shared>0</Shared>\\n      <None>0</None>\\n    </votingAuthority>\\n  </infoTable>\\n  <infoTable>\\n    <nameOfIssuer>NU HLDGS LTD</nameOfIssuer>\\n    <titleOfClass>ORD SHS CL A</titleOfClass>\\n    <cusip>G6683N103</cusip>\\n    <value>292797</value>\\n    <shrsOrPrnAmt>\\n      <sshPrnamt>61512</sshPrnamt>\\n      <sshPrnamtType>SH</sshPrnamtType>\\n    </shrsOrPrnAmt>\\n    <investmentDiscretion>SOLE</investmentDiscretion>\\n    <votingAuthority>\\n      <Sole>61512</Sole>\\n      <Shared>0</Shared>\\n      <None>0</None>\\n    </votingAuthority>\\n  </infoTable>\\n  <infoTable>\\n    <nameOfIssuer>NVIDIA CORPORATION</nameOfIssuer>\\n    <titleOfClass>COM</titleOfClass>\\n    <cusip>67066G104</cusip>\\n    <value>10451096</value>\\n    <shrsOrPrnAmt>\\n      <sshPrnamt>37625</sshPrnamt>\\n      <sshPrnamtType>SH</sshPrnamtType>\\n    </shrsOrPrnAmt>\\n    <investmentDiscretion>SOLE</investmentDiscretion>\\n    <votingAuthority>\\n      <Sole>37625</Sole>\\n      <Shared>0</Shared>\\n      <None>0</None>\\n    </votingAuthority>\\n  </infoTable>\\n  <infoTable>\\n    <nameOfIssuer>NVIDIA CORPORATION</nameOfIssuer>\\n    <titleOfClass>COM</titleOfClass>\\n    <cusip>67066G104</cusip>\\n    <value>416655</value>\\n    <shrsOrPrnAmt>\\n      <sshPrnamt>1500</sshPrnamt>\\n      <sshPrnamtType>SH</sshPrnamtType>\\n    </shrsOrPrnAmt>\\n    <putCall>Call</putCall>\\n    <investmentDiscretion>SOLE</investmentDiscretion>\\n    <votingAuthority>\\n      <Sole>1500</Sole>\\n      <Shared>0</Shared>\\n      <None>0</None>\\n    </votingAuthority>\\n  </infoTable>\\n  <infoTable>\\n    <nameOfIssuer>OCCIDENTAL PETE CORP</nameOfIssuer>\\n    <titleOfClass>COM</titleOfClass>\\n    <cusip>674599105</cusip>\\n    <value>249720</value>\\n    <shrsOrPrnAmt>\\n      <sshPrnamt>4000</sshPrnamt>\\n      <sshPrnamtType>SH</sshPrnamtType>\\n    </shrsOrPrnAmt>\\n    <investmentDiscretion>SOLE</investmentDiscretion>\\n    <votingAuthority>\\n      <Sole>4000</Sole>\\n      <Shared>0</Shared>\\n      <None>0</None>\\n    </votingAuthority>\\n  </infoTable>\\n  <infoTable>\\n    <nameOfIssuer>OKTA INC</nameOfIssuer>\\n    <titleOfClass>CL A</titleOfClass>\\n    <cusip>679295105</cusip>\\n    <value>267344</value>\\n    <shrsOrPrnAmt>\\n      <sshPrnamt>3100</sshPrnamt>\\n      <sshPrnamtType>SH</sshPrnamtType>\\n    </shrsOrPrnAmt>\\n    <investmentDiscretion>SOLE</investmentDiscretion>\\n    <votingAuthority>\\n      <Sole>3100</Sole>\\n      <Shared>0</Shared>\\n      <None>0</None>\\n    </votingAuthority>\\n  </infoTable>\\n  <infoTable>\\n    <nameOfIssuer>OLD DOMINION FREIGHT LINE IN</nameOfIssuer>\\n    <titleOfClass>COM</titleOfClass>\\n    <cusip>679580100</cusip>\\n    <value>6578212</value>\\n    <shrsOrPrnAmt>\\n      <sshPrnamt>19300</sshPrnamt>\\n      <sshPrnamtType>SH</sshPrnamtType>\\n    </shrsOrPrnAmt>\\n    <investmentDiscretion>SOLE</investmentDiscretion>\\n    <votingAuthority>\\n      <Sole>19300</Sole>\\n      <Shared>0</Shared>\\n      <None>0</None>\\n    </votingAuthority>\\n  </infoTable>\\n  <infoTable>\\n    <nameOfIssuer>PERIMETER SOLUTIONS SA</nameOfIssuer>\\n    <titleOfClass>COMMON STOCK</titleOfClass>\\n    <cusip>L7579L106</cusip>\\n    <value>1144823</value>\\n    <shrsOrPrnAmt>\\n      <sshPrnamt>141686</sshPrnamt>\\n      <sshPrnamtType>SH</sshPrnamtType>\\n    </shrsOrPrnAmt>\\n    <investmentDiscretion>SOLE</investmentDiscretion>\\n    <votingAuthority>\\n      <Sole>141686</Sole>\\n      <Shared>0</Shared>\\n      <None>0</None>\\n    </votingAuthority>\\n  </infoTable>\\n  <infoTable>\\n    <nameOfIssuer>PINTEREST INC</nameOfIssuer>\\n    <titleOfClass>CL A</titleOfClass>\\n    <cusip>72352L106</cusip>\\n    <value>12074232</value>\\n    <shrsOrPrnAmt>\\n      <sshPrnamt>442766</sshPrnamt>\\n      <sshPrnamtType>SH</sshPrnamtType>\\n    </shrsOrPrnAmt>\\n    <investmentDiscretion>SOLE</investmentDiscretion>\\n    <votingAuthority>\\n      <Sole>442766</Sole>\\n      <Shared>0</Shared>\\n      <None>0</None>\\n    </votingAuthority>\\n  </infoTable>\\n  <infoTable>\\n    <nameOfIssuer>PROCORE TECHNOLOGIES INC</nameOfIssuer>\\n    <titleOfClass>COM</titleOfClass>\\n    <cusip>74275K108</cusip>\\n    <value>1388632</value>\\n    <shrsOrPrnAmt>\\n      <sshPrnamt>22172</sshPrnamt>\\n      <sshPrnamtType>SH</sshPrnamtType>\\n    </shrsOrPrnAmt>\\n    <investmentDiscretion>SOLE</investmentDiscretion>\\n    <votingAuthority>\\n      <Sole>22172</Sole>\\n      <Shared>0</Shared>\\n      <None>0</None>\\n    </votingAuthority>\\n  </infoTable>\\n  <infoTable>\\n    <nameOfIssuer>SALESFORCE INC</nameOfIssuer>\\n    <titleOfClass>COM</titleOfClass>\\n    <cusip>79466L302</cusip>\\n    <value>6732586</value>\\n    <shrsOrPrnAmt>\\n      <sshPrnamt>33700</sshPrnamt>\\n      <sshPrnamtType>SH</sshPrnamtType>\\n    </shrsOrPrnAmt>\\n    <investmentDiscretion>SOLE</investmentDiscretion>\\n    <votingAuthority>\\n      <Sole>33700</Sole>\\n      <Shared>0</Shared>\\n      <None>0</None>\\n    </votingAuthority>\\n  </infoTable>\\n  <infoTable>\\n    <nameOfIssuer>SEA LTD</nameOfIssuer>\\n    <titleOfClass>SPONSORD ADS</titleOfClass>\\n    <cusip>81141R100</cusip>\\n    <value>272633</value>\\n    <shrsOrPrnAmt>\\n      <sshPrnamt>3150</sshPrnamt>\\n      <sshPrnamtType>SH</sshPrnamtType>\\n    </shrsOrPrnAmt>\\n    <investmentDiscretion>SOLE</investmentDiscretion>\\n    <votingAuthority>\\n      <Sole>3150</Sole>\\n      <Shared>0</Shared>\\n      <None>0</None>\\n    </votingAuthority>\\n  </infoTable>\\n  <infoTable>\\n    <nameOfIssuer>SHOPIFY INC</nameOfIssuer>\\n    <titleOfClass>CL A</titleOfClass>\\n    <cusip>82509L107</cusip>\\n    <value>349533</value>\\n    <shrsOrPrnAmt>\\n      <sshPrnamt>7300</sshPrnamt>\\n      <sshPrnamtType>SH</sshPrnamtType>\\n    </shrsOrPrnAmt>\\n    <investmentDiscretion>SOLE</investmentDiscretion>\\n    <votingAuthority>\\n      <Sole>7300</Sole>\\n      <Shared>0</Shared>\\n      <None>0</None>\\n    </votingAuthority>\\n  </infoTable>\\n  <infoTable>\\n    <nameOfIssuer>SPDR GOLD TR</nameOfIssuer>\\n    <titleOfClass>GOLD SHS</titleOfClass>\\n    <cusip>78463V107</cusip>\\n    <value>3847620</value>\\n    <shrsOrPrnAmt>\\n      <sshPrnamt>21000</sshPrnamt>\\n      <sshPrnamtType>SH</sshPrnamtType>\\n    </shrsOrPrnAmt>\\n    <putCall>Call</putCall>\\n    <investmentDiscretion>SOLE</investmentDiscretion>\\n    <votingAuthority>\\n      <Sole>21000</Sole>\\n      <Shared>0</Shared>\\n      <None>0</None>\\n    </votingAuthority>\\n  </infoTable>\\n  <infoTable>\\n    <nameOfIssuer>SPDR S&amp;P 500 ETF TR</nameOfIssuer>\\n    <titleOfClass>TR UNIT</titleOfClass>\\n    <cusip>78462F103</cusip>\\n    <value>17194380</value>\\n    <shrsOrPrnAmt>\\n      <sshPrnamt>42000</sshPrnamt>\\n      <sshPrnamtType>SH</sshPrnamtType>\\n    </shrsOrPrnAmt>\\n    <putCall>Put</putCall>\\n    <investmentDiscretion>SOLE</investmentDiscretion>\\n    <votingAuthority>\\n      <Sole>42000</Sole>\\n      <Shared>0</Shared>\\n      <None>0</None>\\n    </votingAuthority>\\n  </infoTable>\\n  <infoTable>\\n    <nameOfIssuer>UBER TECHNOLOGIES INC</nameOfIssuer>\\n    <titleOfClass>COM</titleOfClass>\\n    <cusip>90353T100</cusip>\\n    <value>282954</value>\\n    <shrsOrPrnAmt>\\n      <sshPrnamt>8926</sshPrnamt>\\n      <sshPrnamtType>SH</sshPrnamtType>\\n    </shrsOrPrnAmt>\\n    <investmentDiscretion>SOLE</investmentDiscretion>\\n    <votingAuthority>\\n      <Sole>8926</Sole>\\n      <Shared>0</Shared>\\n      <None>0</None>\\n    </votingAuthority>\\n  </infoTable>\\n  <infoTable>\\n    <nameOfIssuer>UNITEDHEALTH GROUP INC</nameOfIssuer>\\n    <titleOfClass>COM</titleOfClass>\\n    <cusip>91324P102</cusip>\\n    <value>8884692</value>\\n    <shrsOrPrnAmt>\\n      <sshPrnamt>18800</sshPrnamt>\\n      <sshPrnamtType>SH</sshPrnamtType>\\n    </shrsOrPrnAmt>\\n    <investmentDiscretion>SOLE</investmentDiscretion>\\n    <votingAuthority>\\n      <Sole>18800</Sole>\\n      <Shared>0</Shared>\\n      <None>0</None>\\n    </votingAuthority>\\n  </infoTable>\\n  <infoTable>\\n    <nameOfIssuer>VISA INC</nameOfIssuer>\\n    <titleOfClass>COM CL A</titleOfClass>\\n    <cusip>92826C839</cusip>\\n    <value>14880360</value>\\n    <shrsOrPrnAmt>\\n      <sshPrnamt>66000</sshPrnamt>\\n      <sshPrnamtType>SH</sshPrnamtType>\\n    </shrsOrPrnAmt>\\n    <investmentDiscretion>SOLE</investmentDiscretion>\\n    <votingAuthority>\\n      <Sole>66000</Sole>\\n      <Shared>0</Shared>\\n      <None>0</None>\\n    </votingAuthority>\\n  </infoTable>\\n  <infoTable>\\n    <nameOfIssuer>WORKDAY INC</nameOfIssuer>\\n    <titleOfClass>CL A</titleOfClass>\\n    <cusip>98138H101</cusip>\\n    <value>19166912</value>\\n    <shrsOrPrnAmt>\\n      <sshPrnamt>92800</sshPrnamt>\\n      <sshPrnamtType>SH</sshPrnamtType>\\n    </shrsOrPrnAmt>\\n    <investmentDiscretion>SOLE</investmentDiscretion>\\n    <votingAuthority>\\n      <Sole>92800</Sole>\\n      <Shared>0</Shared>\\n      <None>0</None>\\n    </votingAuthority>\\n  </infoTable>\\n  <infoTable>\\n    <nameOfIssuer>YEXT INC</nameOfIssuer>\\n    <titleOfClass>COM</titleOfClass>\\n    <cusip>98585N106</cusip>\\n    <value>12685200</value>\\n    <shrsOrPrnAmt>\\n      <sshPrnamt>1320000</sshPrnamt>\\n      <sshPrnamtType>SH</sshPrnamtType>\\n    </shrsOrPrnAmt>\\n    <investmentDiscretion>SOLE</investmentDiscretion>\\n    <votingAuthority>\\n      <Sole>1320000</Sole>\\n      <Shared>0</Shared>\\n      <None>0</None>\\n    </votingAuthority>\\n  </infoTable>\\n</informationTable>\\n</XML>\\n</TEXT>\\n</DOCUMENT>\\n</SEC-DOCUMENT>\\n'"
      ]
     },
     "execution_count": 18,
     "metadata": {},
     "output_type": "execute_result"
    }
   ],
   "source": [
    "inp_text"
   ]
  }
 ],
 "metadata": {
  "environment": {
   "kernel": "python3",
   "name": "pytorch-gpu.1-13.m108",
   "type": "gcloud",
   "uri": "gcr.io/deeplearning-platform-release/pytorch-gpu.1-13:m108"
  },
  "kernelspec": {
   "display_name": "Python 3",
   "language": "python",
   "name": "python3"
  },
  "language_info": {
   "codemirror_mode": {
    "name": "ipython",
    "version": 3
   },
   "file_extension": ".py",
   "mimetype": "text/x-python",
   "name": "python",
   "nbconvert_exporter": "python",
   "pygments_lexer": "ipython3",
   "version": "3.10.10"
  }
 },
 "nbformat": 4,
 "nbformat_minor": 5
}
