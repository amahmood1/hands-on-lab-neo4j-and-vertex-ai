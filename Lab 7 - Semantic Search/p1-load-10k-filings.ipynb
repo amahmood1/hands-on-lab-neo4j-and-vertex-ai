{
 "cells": [
  {
   "cell_type": "markdown",
   "id": "19ae6874-7585-4a0b-848c-965f639def41",
   "metadata": {},
   "source": [
    "# Load 10K Filings\n",
    "\n",
    "In this notebook we add 10K filings with embeddings to our graph"
   ]
  },
  {
   "cell_type": "markdown",
   "id": "cbadcd3e-3306-41bf-986a-bb690b2f1a7b",
   "metadata": {},
   "source": [
    "## Setup\n",
    "First, check to ensure you're using the `neo4j_genai` kernel with the following command. This kernel has the necessary runtime and dependencies for this notebook. If you see a different kernel, try changing the kernel to `neo4j_genai` in the upper right corner of the screen."
   ]
  },
  {
   "cell_type": "code",
   "execution_count": null,
   "id": "f6a58389-bf6e-4304-bf49-3d3d06a5732b",
   "metadata": {},
   "outputs": [],
   "source": [
    "import sys\n",
    "import os\n",
    "os.path.basename(sys.executable.replace(\"/bin/python\",\"\"))"
   ]
  },
  {
   "cell_type": "markdown",
   "id": "82cb3b8f-e03c-4f08-9ff4-27b21d1fc0d9",
   "metadata": {},
   "source": [
    "Next we install and import some libraries "
   ]
  },
  {
   "cell_type": "markdown",
   "id": "3dd7c539-68b5-4126-990e-60c85b84fafa",
   "metadata": {},
   "source": [
    "Now import needed packages"
   ]
  },
  {
   "cell_type": "code",
   "execution_count": null,
   "id": "f0e7aeea-5d5d-4cbc-a454-9708de3a3f5a",
   "metadata": {},
   "outputs": [],
   "source": [
    "import json\n",
    "import numpy as np\n",
    "import os\n",
    "import re\n",
    "from string import Template\n",
    "\n",
    "# Neo4j\n",
    "from graphdatascience import GraphDataScience"
   ]
  },
  {
   "cell_type": "markdown",
   "id": "e446e651-9134-4634-a527-4f2745c7d623",
   "metadata": {},
   "source": [
    "## Loading 10-K Documents with Embeddings"
   ]
  },
  {
   "cell_type": "code",
   "execution_count": null,
   "id": "54ca3c83-fdc8-4d30-bacd-4c0b0328655f",
   "metadata": {},
   "outputs": [],
   "source": [
    "import pandas as pd\n",
    "edf = pd.read_csv(embedding_entries)"
   ]
  },
  {
   "cell_type": "code",
   "execution_count": null,
   "id": "93fffd14-e6bb-4843-90e9-d1d4e7cef3cc",
   "metadata": {},
   "outputs": [],
   "source": [
    "load_dotenv('credentials.env', override=True)\n",
    "# username is neo4j by default\n",
    "NEO4J_USERNAME = 'neo4j'\n",
    "# You will need to change these to match\n",
    "NEO4J_URI = os.getenv('NEO4J_URI')\n",
    "NEO4J_PASSWORD = os.getenv('NEO4J_PASSWORD')"
   ]
  },
  {
   "cell_type": "code",
   "execution_count": null,
   "id": "f38e2ef1-f5bd-4561-87e7-a014b8af2e62",
   "metadata": {},
   "outputs": [],
   "source": [
    "gds = GraphDataScience(\n",
    "    NEO4J_URI,\n",
    "    auth=(NEO4J_USERNAME, NEO4J_PASSWORD),\n",
    "    aura_ds=True\n",
    ")\n",
    "gds.set_database('neo4j')"
   ]
  },
  {
   "cell_type": "code",
   "execution_count": null,
   "id": "fa827ed2-4b31-4b8c-ad63-1e3f210a5112",
   "metadata": {},
   "outputs": [],
   "source": [
    "gds.run_cypher('CREATE INDEX company_name IF NOT EXISTS FOR (n:Company) ON (n.companyName)')\n",
    "gds.run_cypher('CREATE CONSTRAINT unique_document_id IF NOT EXISTS FOR (n:Document) REQUIRE (n.documentId) IS NODE KEY')"
   ]
  },
  {
   "cell_type": "code",
   "execution_count": null,
   "id": "971cd795-4097-415f-83d6-f4caa651218a",
   "metadata": {},
   "outputs": [],
   "source": [
    "edf = pd.read_csv('form10k-docs.csv')\n",
    "edf"
   ]
  },
  {
   "cell_type": "code",
   "execution_count": null,
   "id": "1b7a65ff-4b31-40df-986e-1471b0dc54df",
   "metadata": {},
   "outputs": [],
   "source": [
    "%%time\n",
    "\n",
    "embedding_entries = edf.to_dict(orient='records')\n",
    "total = len(embedding_entries)\n",
    "count = 0\n",
    "for d in chunks(embedding_entries, 100):\n",
    "    gds.run_cypher('''\n",
    "    UNWIND $records AS record\n",
    "    MATCH(c:Company {companyName:record.companyName})\n",
    "    MERGE(b:Document {documentId:record.contextId})\n",
    "    ON CREATE SET b.documentType='FORM_10K_ITEM1', b.seqId = record.seqId, b.textEmbedding = record.textEmbedding, b.text = record.text\n",
    "    MERGE(c)-[:HAS]->(b)\n",
    "    RETURN count(b) as cnt\n",
    "    ''', params = {'records':d})\n",
    "    count += len(d)\n",
    "    print(f'loaded {count} of {total}')"
   ]
  },
  {
   "cell_type": "markdown",
   "id": "4af24f67-f6c9-4f1c-9ae2-b499e173a28b",
   "metadata": {},
   "source": [
    "## Check Data"
   ]
  },
  {
   "cell_type": "code",
   "execution_count": null,
   "id": "38e07f86-3889-4a46-baf4-6e8e5fb53c19",
   "metadata": {},
   "outputs": [],
   "source": [
    "# Check node count\n",
    "gds.run_cypher('MATCH(doc:Document) RETURN count(doc)')"
   ]
  },
  {
   "cell_type": "markdown",
   "id": "a66464a3-cb8e-4312-9ec1-38b16bacd3ca",
   "metadata": {},
   "source": [
    "Note that we were only pulling 10K docs for a minorty of companies. It should be fine for this setting, but in a more rigerious setting you may want to try and pull more.  There are likely two factors attributing to this.  1) We used company names to search EDGAR which resulted in many misses and dups which were discarded. In a more rigerious setting we would investigate other endpoints and use more parsing to extract EDGAR kick keys to exact match companies when pulling forms. 2) Not all companies in the dataset are obligated to file 10Ks. "
   ]
  },
  {
   "cell_type": "code",
   "execution_count": null,
   "id": "6b3bf117-5285-4928-88e8-1da35025e75b",
   "metadata": {},
   "outputs": [],
   "source": [
    "# Check count and percentage of companies with 10K docs.  Note it is the minority\n",
    "gds.run_cypher('''\n",
    "MATCH(b:Company)\n",
    "WITH b, count{(b)-[:HAS]->(d:Document)} AS docCount\n",
    "WITH count(b) AS total, sum(toInteger(docCount > 0)) AS numWithDocs\n",
    "RETURN total, numWithDocs, round(100*toFloat(numWithDocs)/toFloat(total), 2) As PercWithDocs\n",
    "''')"
   ]
  },
  {
   "cell_type": "markdown",
   "id": "d75281ba-3bd8-43fb-adda-e61b1410036f",
   "metadata": {},
   "source": [
    "Note that there are duplicate names.  For the purposes of these demos, we will treat it as entity resolution (meaning that we treat companies with the same name as belonging to the same entity). In a more rigerious setting we would need to disambiguate with the CUSIP or other EDGAR keys. "
   ]
  },
  {
   "cell_type": "code",
   "execution_count": null,
   "id": "e54e242a-e008-473b-9dcc-7fc08ab928fa",
   "metadata": {},
   "outputs": [],
   "source": [
    "# Show duplicates via HAS relationship\n",
    "gds.run_cypher('''\n",
    "MATCH(b:Company)\n",
    "RETURN count(b) AS totalCompanies, count(DISTINCT b.companyName) AS uniqueCompanyNames\n",
    "''')"
   ]
  }
 ],
 "metadata": {
  "environment": {
   "kernel": "python3",
   "name": "pytorch-gpu.1-13.m108",
   "type": "gcloud",
   "uri": "gcr.io/deeplearning-platform-release/pytorch-gpu.1-13:m108"
  },
  "kernelspec": {
   "display_name": "neo4j_genai_test4 (Local)",
   "language": "python",
   "name": "local-neo4j_genai_test4"
  },
  "language_info": {
   "codemirror_mode": {
    "name": "ipython",
    "version": 3
   },
   "file_extension": ".py",
   "mimetype": "text/x-python",
   "name": "python",
   "nbconvert_exporter": "python",
   "pygments_lexer": "ipython3",
   "version": "3.8.17"
  }
 },
 "nbformat": 4,
 "nbformat_minor": 5
}
