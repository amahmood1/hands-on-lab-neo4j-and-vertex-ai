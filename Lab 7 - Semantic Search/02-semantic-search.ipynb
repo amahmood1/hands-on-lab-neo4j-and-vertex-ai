{
 "cells": [
  {
   "cell_type": "markdown",
   "id": "19ae6874-7585-4a0b-848c-965f639def41",
   "metadata": {},
   "source": [
    "# Semantic Search\n",
    "Semantic search is [defined as \"search with meaning.\"](https://en.wikipedia.org/wiki/Semantic_search) It is key for effective knowledge retrieval.\n",
    "\n",
    "As opposed to traditional, lexical, search which finds matches based on keywords, semantic search seeks to improve search quality and accuracy by understanding search intent and pulling results that match the user’s contextual meaning.  Semantic search is often used in reference to text embedding and vector similarity search, but this is just one implementation aspect of it. Knowledge graph and symbolic query logic can also play a critical role in making semantic search a reality. \n",
    "\n",
    "If all you care about is analyzing a set of documents on a file system, then sure, vector indexing and search may be sufficient.  However, once you need to retrieve and make inferences about people, places, and things connected to those documents, Knowledge graph becomes key. \n",
    "\n",
    "If documents are the entities of interest, for example: \"find all documents that talk about pharma related things,\" then text embeddings with vector similarity search suffices.  But, what if we want second or third-order entities related to the documents?  For example, \"find investors who are most focused on pharma related strategies,\" how would we efficiently search for them at scale in an enterprise setting?\n",
    "\n",
    "This is what we demonstrate below.  We will also show how you can use graph relationships and Graph Data Science algorithms to further improve search results, especially in common scenarios where the presence of text data is inconsistent or sparse."
   ]
  },
  {
   "cell_type": "markdown",
   "id": "4026b768-0406-4ce1-a1bb-ed79b64701a3",
   "metadata": {},
   "source": [
    "## Connect to Neo4j"
   ]
  },
  {
   "cell_type": "code",
   "execution_count": null,
   "id": "50798482-b5d5-4e96-adb2-851a3855f82e",
   "metadata": {},
   "outputs": [],
   "source": [
    "# username is neo4j by default\n",
    "NEO4J_USERNAME = 'neo4j'\n",
    "\n",
    "# You will need to change these to match your credentials\n",
    "NEO4J_URI = 'neo4j+s://6688b25b.databases.neo4j.io'\n",
    "NEO4J_PASSWORD = '_kogrNk53u8oTk5be55kmit1kHGdhZj98yJlG-VYSR'"
   ]
  },
  {
   "cell_type": "code",
   "execution_count": 5,
   "id": "5aa11282-874f-4126-832d-9a2f772989a5",
   "metadata": {},
   "outputs": [],
   "source": [
    "from graphdatascience import GraphDataScience\n",
    "\n",
    "gds = GraphDataScience(\n",
    "    NEO4J_URI,\n",
    "    auth = (NEO4J_USERNAME, NEO4J_PASSWORD),\n",
    "    aura_ds = True\n",
    ")"
   ]
  },
  {
   "cell_type": "markdown",
   "id": "6ded4103-008d-4f93-82c9-918add3688eb",
   "metadata": {},
   "source": [
    "## Neo4j Vector Index\n",
    "We will need to create a vector index for similarity search on Document nodes. Neo4j offers a vector index that enables Approximate Nearest Neighbor Search (ANN). Let's creat an index."
   ]
  },
  {
   "cell_type": "code",
   "execution_count": null,
   "id": "f08fe029-fd4f-476a-b510-7dbcdb3d892d",
   "metadata": {},
   "outputs": [],
   "source": [
    "gds.run_cypher(\"CALL db.index.vector.createNodeIndex('document-embeddings', 'Document', 'textEmbedding', 768, 'cosine')\")"
   ]
  },
  {
   "cell_type": "markdown",
   "id": "27e3300f-e799-4ac1-b236-a23c300ae5e2",
   "metadata": {},
   "source": [
    "You can see that vector index has been created using `SHOW INDEXES`"
   ]
  },
  {
   "cell_type": "code",
   "execution_count": null,
   "id": "3b9c4634-bfee-4d73-a197-ed4345e729bf",
   "metadata": {},
   "outputs": [],
   "source": [
    "gds.run_cypher(''' \n",
    "SHOW INDEXES YIELD name, type, labelsOrTypes, properties, options\n",
    "WHERE type = \"VECTOR\"\n",
    "''')"
   ]
  },
  {
   "cell_type": "markdown",
   "id": "313f706a-08c3-4fc0-9c50-293d588414ae",
   "metadata": {},
   "source": [
    "## Deep Semantic Search with Knowledge Graph\n",
    "Now that we have an index.  Let’s use it in action.\n",
    "In this case, we will Answer The Question - \"What are the companies associated with energy, oil and gas?\". \n",
    "Remember we do not have documents on investment managers, just companies, and there can be multiple documents for each company."
   ]
  },
  {
   "cell_type": "markdown",
   "id": "a00ab005-bc0f-49b7-8cf9-e6ecf5cbe298",
   "metadata": {},
   "source": [
    "## Dense Retrieval using Neo4j"
   ]
  },
  {
   "cell_type": "code",
   "execution_count": 6,
   "id": "c13411b2-37ae-4d80-a147-9e32904d9012",
   "metadata": {},
   "outputs": [],
   "source": [
    "from langchain.docstore.document import Document\n",
    "from typing import (\n",
    "    List,\n",
    "    Tuple,\n",
    ")\n",
    "\n",
    "def to_df(results: List[Tuple[Document, float]]):\n",
    "    return pd.DataFrame({\n",
    "        \"doc_id\": [r[0].metadata.get('documentId') for r in results],\n",
    "        \"score\": [r[1] for r in results],\n",
    "        \"text\": [r[0].page_content for r in results]\n",
    "    })"
   ]
  },
  {
   "cell_type": "code",
   "execution_count": 27,
   "id": "48299f48-f956-4648-8739-9c990811fa55",
   "metadata": {},
   "outputs": [
    {
     "data": {
      "text/html": [
       "<div>\n",
       "<style scoped>\n",
       "    .dataframe tbody tr th:only-of-type {\n",
       "        vertical-align: middle;\n",
       "    }\n",
       "\n",
       "    .dataframe tbody tr th {\n",
       "        vertical-align: top;\n",
       "    }\n",
       "\n",
       "    .dataframe thead th {\n",
       "        text-align: right;\n",
       "    }\n",
       "</style>\n",
       "<table border=\"1\" class=\"dataframe\">\n",
       "  <thead>\n",
       "    <tr style=\"text-align: right;\">\n",
       "      <th></th>\n",
       "      <th>doc_id</th>\n",
       "      <th>score</th>\n",
       "      <th>text</th>\n",
       "    </tr>\n",
       "  </thead>\n",
       "  <tbody>\n",
       "    <tr>\n",
       "      <th>0</th>\n",
       "      <td>BERKSHIRE HATHAWAY INC10</td>\n",
       "      <td>0.847954</td>\n",
       "      <td>As railroads streamline, rationalize and other...</td>\n",
       "    </tr>\n",
       "    <tr>\n",
       "      <th>1</th>\n",
       "      <td>BERKSHIRE HATHAWAY INC21</td>\n",
       "      <td>0.842450</td>\n",
       "      <td>Certain Marmon business, including the Rail an...</td>\n",
       "    </tr>\n",
       "    <tr>\n",
       "      <th>2</th>\n",
       "      <td>BERKSHIRE HATHAWAY INC11</td>\n",
       "      <td>0.841626</td>\n",
       "      <td>As vertically integrated utilities, BHE’s dome...</td>\n",
       "    </tr>\n",
       "    <tr>\n",
       "      <th>3</th>\n",
       "      <td>ROPER TECHNOLOGIES I2</td>\n",
       "      <td>0.840261</td>\n",
       "      <td>Logitech\\n - provides equipment and consumable...</td>\n",
       "    </tr>\n",
       "    <tr>\n",
       "      <th>4</th>\n",
       "      <td>BERKSHIRE HATHAWAY INC20</td>\n",
       "      <td>0.839466</td>\n",
       "      <td>Electrical\\n produces electrical wire for use ...</td>\n",
       "    </tr>\n",
       "    <tr>\n",
       "      <th>5</th>\n",
       "      <td>BERKSHIRE HATHAWAY INC27</td>\n",
       "      <td>0.837863</td>\n",
       "      <td>The BH Shoe Holdings Group, headquartered in G...</td>\n",
       "    </tr>\n",
       "    <tr>\n",
       "      <th>6</th>\n",
       "      <td>Goldman sachs group inc56</td>\n",
       "      <td>0.836494</td>\n",
       "      <td>Goldman Sachs 2021 Form 10-K\\n \\n \\n \\n \\n \\n ...</td>\n",
       "    </tr>\n",
       "    <tr>\n",
       "      <th>7</th>\n",
       "      <td>BERKSHIRE HATHAWAY INC13</td>\n",
       "      <td>0.835542</td>\n",
       "      <td>AltaLink is regulated by the Alberta Utilities...</td>\n",
       "    </tr>\n",
       "    <tr>\n",
       "      <th>8</th>\n",
       "      <td>Johnson Controls Intern3</td>\n",
       "      <td>0.834024</td>\n",
       "      <td>Building Solutions North America designs, sell...</td>\n",
       "    </tr>\n",
       "    <tr>\n",
       "      <th>9</th>\n",
       "      <td>BERKSHIRE HATHAWAY INC12</td>\n",
       "      <td>0.833583</td>\n",
       "      <td>BHE Renewables, based in Iowa, owns interests ...</td>\n",
       "    </tr>\n",
       "  </tbody>\n",
       "</table>\n",
       "</div>"
      ],
      "text/plain": [
       "                      doc_id     score  \\\n",
       "0   BERKSHIRE HATHAWAY INC10  0.847954   \n",
       "1   BERKSHIRE HATHAWAY INC21  0.842450   \n",
       "2   BERKSHIRE HATHAWAY INC11  0.841626   \n",
       "3      ROPER TECHNOLOGIES I2  0.840261   \n",
       "4   BERKSHIRE HATHAWAY INC20  0.839466   \n",
       "5   BERKSHIRE HATHAWAY INC27  0.837863   \n",
       "6  Goldman sachs group inc56  0.836494   \n",
       "7   BERKSHIRE HATHAWAY INC13  0.835542   \n",
       "8   Johnson Controls Intern3  0.834024   \n",
       "9   BERKSHIRE HATHAWAY INC12  0.833583   \n",
       "\n",
       "                                                text  \n",
       "0  As railroads streamline, rationalize and other...  \n",
       "1  Certain Marmon business, including the Rail an...  \n",
       "2  As vertically integrated utilities, BHE’s dome...  \n",
       "3  Logitech\\n - provides equipment and consumable...  \n",
       "4  Electrical\\n produces electrical wire for use ...  \n",
       "5  The BH Shoe Holdings Group, headquartered in G...  \n",
       "6  Goldman Sachs 2021 Form 10-K\\n \\n \\n \\n \\n \\n ...  \n",
       "7  AltaLink is regulated by the Alberta Utilities...  \n",
       "8  Building Solutions North America designs, sell...  \n",
       "9  BHE Renewables, based in Iowa, owns interests ...  "
      ]
     },
     "execution_count": 27,
     "metadata": {},
     "output_type": "execute_result"
    }
   ],
   "source": [
    "from langchain.vectorstores import Neo4jVector\n",
    "from langchain.embeddings.vertexai import VertexAIEmbeddings\n",
    "from langchain.vectorstores.neo4j_vector import SearchType\n",
    "import pandas as pd\n",
    "\n",
    "db = Neo4jVector.from_existing_index(\n",
    "    url = NEO4J_URI,\n",
    "    username = NEO4J_USERNAME,\n",
    "    password = NEO4J_PASSWORD,\n",
    "    embedding = VertexAIEmbeddings(),\n",
    "    index_name = 'document-embeddings',\n",
    "    keyword_index_name = 'doc_text',\n",
    "    search_type = SearchType.VECTOR\n",
    ")\n",
    "query = 'What are the companies associated with energy, oil and gas?'\n",
    "results = db.similarity_search_with_score(query, k=10)\n",
    "res_df = to_df(results)\n",
    "res_df"
   ]
  },
  {
   "cell_type": "markdown",
   "id": "6842196c-c83a-4e07-889e-e4775ef1ff26",
   "metadata": {},
   "source": [
    "Lets take a look at the first result and then understand whether the chunk has the information we asked for."
   ]
  },
  {
   "cell_type": "code",
   "execution_count": 28,
   "id": "365985b9-eb2b-47cd-8869-4f31351a23ac",
   "metadata": {},
   "outputs": [
    {
     "data": {
      "text/plain": [
       "'As railroads streamline, rationalize and otherwise enhance their franchises, competition among rail carriers intensifies. BNSF Railway’s primary rail competitor in the Western region of the United States is the Union Pacific Railroad Company. Other Class\\xa0I railroads and numerous regional railroads and motor carriers also operate in parts of the same territories served by BNSF Railway. \\n\\n\\nUtilities and Energy Businesses—Berkshire Hathaway Energy \\n\\n\\nBerkshire currently has a 91.1% ownership interest in Berkshire Hathaway Energy Company (“BHE”). BHE is a global energy company with subsidiaries and affiliates that generate, transmit, store, distribute and supply energy. BHE’s locally managed businesses are organized as separate operating units. BHE’s domestic regulated energy interests are comprised of four regulated utility companies serving approximately 5.2\\xa0million retail customers, five interstate natural gas pipeline companies with approximately 21,100 miles of operated pipeline having a design capacity of approximately 21\\xa0billion cubic feet of natural gas per day and ownership interests in electricity transmission businesses. BHE’s Great Britain electricity distribution subsidiaries serve about 3.9\\xa0million electricity end-users and its electricity transmission-only business in Alberta, Canada serves approximately 85% of Alberta’s population. BHE’s interests also include a diversified portfolio of independent power projects, a liquefied natural gas export, import and storage facility, the largest residential real estate brokerage firm in the United States, and one of the largest residential real estate brokerage franchise networks in the United States. BHE employs approximately 24,000 people in connection with its various operations. \\n\\n\\nK-7\\n\\n\\n\\n\\n\\xa0\\n\\n\\nGeneral Matters \\n\\n\\nPacifiCorp is a regulated electric utility company headquartered in Oregon, serving electric customers in portions of Utah, Oregon, Wyoming, Washington, Idaho and California. The combined service territory’s diverse regional economy ranges from rural, agricultural and mining areas to urban, manufacturing and government service centers. No single segment of the economy dominates the combined service territory, which helps mitigate PacifiCorp’s exposure to economic fluctuations. In addition to retail sales, PacifiCorp sells electricity on a wholesale basis. \\n\\n\\nMidAmerican Energy Company (“MEC”) is a regulated electric and natural gas utility company headquartered in Iowa, serving electric and natural gas customers primarily in Iowa and also in portions of Illinois, South Dakota and Nebraska. MEC has a diverse retail customer base consisting of urban and rural residential customers and a variety of commercial and industrial customers. In addition to retail sales and natural gas transportation, MEC sells electricity and natural gas on a wholesale basis. \\n\\n\\nNV Energy, Inc. (“NV Energy”) is an energy holding company headquartered in Nevada, primarily consisting of two regulated utility subsidiaries, Nevada Power Company (“Nevada Power”) and Sierra Pacific Power Company (“Sierra Pacific”) (collectively, the “Nevada Utilities”). Nevada Power serves retail electric customers in southern Nevada and Sierra Pacific serves retail electric and natural gas customers in northern Nevada. The Nevada Utilities’ combined service territory’s economy includes gaming, mining, recreation, warehousing, manufacturing and governmental services. In addition to retail sales and natural gas transportation, the Nevada Utilities sell electricity and natural gas on a wholesale basis.'"
      ]
     },
     "execution_count": 28,
     "metadata": {},
     "output_type": "execute_result"
    }
   ],
   "source": [
    "res_df['text'][0]"
   ]
  },
  {
   "cell_type": "markdown",
   "id": "b8f4a919-4a40-4b37-a565-73111324fa31",
   "metadata": {},
   "source": [
    "## Re-rank results\n",
    "If you explore the results, you may find some irrelevant results. The retriever has to be efficient for large document collections with millions of entries. However, it might return irrelevant candidates.\n",
    "A re-ranker based on a Cross-Encoder can substantially improve the final results for the user. The query and a possible document is passed simultaneously to transformer network, which then outputs a single score between 0 and 1 indicating how relevant the document is for the given query.\n",
    "\n",
    "We will use a Cross-encoder model named `ms-marco-MiniLM-L-6-v2` from SentenceTransformers library."
   ]
  },
  {
   "cell_type": "code",
   "execution_count": 9,
   "id": "29a717ff-9df5-47fb-9962-f296187faae2",
   "metadata": {},
   "outputs": [],
   "source": [
    "def rerank_results(res_df):\n",
    "    from sentence_transformers import SentenceTransformer, CrossEncoder, util\n",
    "    cross_encoder = CrossEncoder('cross-encoder/ms-marco-MiniLM-L-6-v2')\n",
    "    passages = []\n",
    "    \n",
    "    # Score all retrieved passages with the cross_encoder\n",
    "    cross_inp = [[query, f\"Text: {hit['text']}\"] for _,hit in res_df[:].iterrows()]\n",
    "    cross_scores = cross_encoder.predict(cross_inp)\n",
    "\n",
    "    # Sort results by the cross-encoder scores\n",
    "    res_df['cross-score'] = cross_scores\n",
    "\n",
    "    # Output of top-10 hits from re-ranker\n",
    "    print(\"Top-10 Cross-Encoder Re-ranker hits\")\n",
    "    hits = res_df.sort_values('cross-score', ascending=False).reset_index(drop=True)\n",
    "    for _,hit in hits.iterrows():\n",
    "        print(\"\\t{:.3f}\\t{}\".format(hit['cross-score'], hit['doc_id']))\n",
    "    return hits"
   ]
  },
  {
   "cell_type": "code",
   "execution_count": 29,
   "id": "5851d3bb-d93f-41fc-9315-8d8dc34f4a72",
   "metadata": {},
   "outputs": [
    {
     "name": "stdout",
     "output_type": "stream",
     "text": [
      "Top-10 Cross-Encoder Re-ranker hits\n",
      "\t-2.966\tBERKSHIRE HATHAWAY INC10\n",
      "\t-3.291\tBERKSHIRE HATHAWAY INC11\n",
      "\t-5.627\tBERKSHIRE HATHAWAY INC12\n",
      "\t-6.222\tBERKSHIRE HATHAWAY INC13\n",
      "\t-6.797\tGoldman sachs group inc56\n",
      "\t-6.881\tBERKSHIRE HATHAWAY INC20\n",
      "\t-7.527\tROPER TECHNOLOGIES I2\n",
      "\t-8.108\tJohnson Controls Intern3\n",
      "\t-9.081\tBERKSHIRE HATHAWAY INC21\n",
      "\t-9.925\tBERKSHIRE HATHAWAY INC27\n"
     ]
    },
    {
     "data": {
      "text/html": [
       "<div>\n",
       "<style scoped>\n",
       "    .dataframe tbody tr th:only-of-type {\n",
       "        vertical-align: middle;\n",
       "    }\n",
       "\n",
       "    .dataframe tbody tr th {\n",
       "        vertical-align: top;\n",
       "    }\n",
       "\n",
       "    .dataframe thead th {\n",
       "        text-align: right;\n",
       "    }\n",
       "</style>\n",
       "<table border=\"1\" class=\"dataframe\">\n",
       "  <thead>\n",
       "    <tr style=\"text-align: right;\">\n",
       "      <th></th>\n",
       "      <th>doc_id</th>\n",
       "      <th>score</th>\n",
       "      <th>text</th>\n",
       "      <th>cross-score</th>\n",
       "    </tr>\n",
       "  </thead>\n",
       "  <tbody>\n",
       "    <tr>\n",
       "      <th>0</th>\n",
       "      <td>BERKSHIRE HATHAWAY INC10</td>\n",
       "      <td>0.847954</td>\n",
       "      <td>As railroads streamline, rationalize and other...</td>\n",
       "      <td>-2.966444</td>\n",
       "    </tr>\n",
       "    <tr>\n",
       "      <th>1</th>\n",
       "      <td>BERKSHIRE HATHAWAY INC11</td>\n",
       "      <td>0.841626</td>\n",
       "      <td>As vertically integrated utilities, BHE’s dome...</td>\n",
       "      <td>-3.290705</td>\n",
       "    </tr>\n",
       "    <tr>\n",
       "      <th>2</th>\n",
       "      <td>BERKSHIRE HATHAWAY INC12</td>\n",
       "      <td>0.833583</td>\n",
       "      <td>BHE Renewables, based in Iowa, owns interests ...</td>\n",
       "      <td>-5.627203</td>\n",
       "    </tr>\n",
       "    <tr>\n",
       "      <th>3</th>\n",
       "      <td>BERKSHIRE HATHAWAY INC13</td>\n",
       "      <td>0.835542</td>\n",
       "      <td>AltaLink is regulated by the Alberta Utilities...</td>\n",
       "      <td>-6.222227</td>\n",
       "    </tr>\n",
       "    <tr>\n",
       "      <th>4</th>\n",
       "      <td>Goldman sachs group inc56</td>\n",
       "      <td>0.836494</td>\n",
       "      <td>Goldman Sachs 2021 Form 10-K\\n \\n \\n \\n \\n \\n ...</td>\n",
       "      <td>-6.797363</td>\n",
       "    </tr>\n",
       "    <tr>\n",
       "      <th>5</th>\n",
       "      <td>BERKSHIRE HATHAWAY INC20</td>\n",
       "      <td>0.839466</td>\n",
       "      <td>Electrical\\n produces electrical wire for use ...</td>\n",
       "      <td>-6.880808</td>\n",
       "    </tr>\n",
       "    <tr>\n",
       "      <th>6</th>\n",
       "      <td>ROPER TECHNOLOGIES I2</td>\n",
       "      <td>0.840261</td>\n",
       "      <td>Logitech\\n - provides equipment and consumable...</td>\n",
       "      <td>-7.526938</td>\n",
       "    </tr>\n",
       "    <tr>\n",
       "      <th>7</th>\n",
       "      <td>Johnson Controls Intern3</td>\n",
       "      <td>0.834024</td>\n",
       "      <td>Building Solutions North America designs, sell...</td>\n",
       "      <td>-8.107805</td>\n",
       "    </tr>\n",
       "    <tr>\n",
       "      <th>8</th>\n",
       "      <td>BERKSHIRE HATHAWAY INC21</td>\n",
       "      <td>0.842450</td>\n",
       "      <td>Certain Marmon business, including the Rail an...</td>\n",
       "      <td>-9.080620</td>\n",
       "    </tr>\n",
       "    <tr>\n",
       "      <th>9</th>\n",
       "      <td>BERKSHIRE HATHAWAY INC27</td>\n",
       "      <td>0.837863</td>\n",
       "      <td>The BH Shoe Holdings Group, headquartered in G...</td>\n",
       "      <td>-9.924603</td>\n",
       "    </tr>\n",
       "  </tbody>\n",
       "</table>\n",
       "</div>"
      ],
      "text/plain": [
       "                      doc_id     score  \\\n",
       "0   BERKSHIRE HATHAWAY INC10  0.847954   \n",
       "1   BERKSHIRE HATHAWAY INC11  0.841626   \n",
       "2   BERKSHIRE HATHAWAY INC12  0.833583   \n",
       "3   BERKSHIRE HATHAWAY INC13  0.835542   \n",
       "4  Goldman sachs group inc56  0.836494   \n",
       "5   BERKSHIRE HATHAWAY INC20  0.839466   \n",
       "6      ROPER TECHNOLOGIES I2  0.840261   \n",
       "7   Johnson Controls Intern3  0.834024   \n",
       "8   BERKSHIRE HATHAWAY INC21  0.842450   \n",
       "9   BERKSHIRE HATHAWAY INC27  0.837863   \n",
       "\n",
       "                                                text  cross-score  \n",
       "0  As railroads streamline, rationalize and other...    -2.966444  \n",
       "1  As vertically integrated utilities, BHE’s dome...    -3.290705  \n",
       "2  BHE Renewables, based in Iowa, owns interests ...    -5.627203  \n",
       "3  AltaLink is regulated by the Alberta Utilities...    -6.222227  \n",
       "4  Goldman Sachs 2021 Form 10-K\\n \\n \\n \\n \\n \\n ...    -6.797363  \n",
       "5  Electrical\\n produces electrical wire for use ...    -6.880808  \n",
       "6  Logitech\\n - provides equipment and consumable...    -7.526938  \n",
       "7  Building Solutions North America designs, sell...    -8.107805  \n",
       "8  Certain Marmon business, including the Rail an...    -9.080620  \n",
       "9  The BH Shoe Holdings Group, headquartered in G...    -9.924603  "
      ]
     },
     "execution_count": 29,
     "metadata": {},
     "output_type": "execute_result"
    }
   ],
   "source": [
    "ranked_results = rerank_results(res_df)\n",
    "ranked_results"
   ]
  },
  {
   "cell_type": "markdown",
   "id": "3479218e-c372-4296-8058-af73eb85096b",
   "metadata": {},
   "source": [
    "As seen above, the cross-encoder finds this passages which are more relevant to the query and ranks them accordingly"
   ]
  },
  {
   "cell_type": "markdown",
   "id": "4f1d9d37-7f27-4683-9bb4-c21db62257f8",
   "metadata": {},
   "source": [
    "## Hybrid Search with Neo4j\n",
    "Vector Search is not the only solution. Often you will find a hybrid approach - a combination of Vector and Fulltext search perform better. You can do both in Neo4j.\n",
    "\n",
    "To do a Fulltext Search, lets first create a fulltext index"
   ]
  },
  {
   "cell_type": "code",
   "execution_count": 12,
   "id": "e107afba-2ae8-4da8-88b1-e5fe7236ced4",
   "metadata": {},
   "outputs": [
    {
     "data": {
      "text/html": [
       "<div>\n",
       "<style scoped>\n",
       "    .dataframe tbody tr th:only-of-type {\n",
       "        vertical-align: middle;\n",
       "    }\n",
       "\n",
       "    .dataframe tbody tr th {\n",
       "        vertical-align: top;\n",
       "    }\n",
       "\n",
       "    .dataframe thead th {\n",
       "        text-align: right;\n",
       "    }\n",
       "</style>\n",
       "<table border=\"1\" class=\"dataframe\">\n",
       "  <thead>\n",
       "    <tr style=\"text-align: right;\">\n",
       "      <th></th>\n",
       "    </tr>\n",
       "  </thead>\n",
       "  <tbody>\n",
       "  </tbody>\n",
       "</table>\n",
       "</div>"
      ],
      "text/plain": [
       "Empty DataFrame\n",
       "Columns: []\n",
       "Index: []"
      ]
     },
     "execution_count": 12,
     "metadata": {},
     "output_type": "execute_result"
    }
   ],
   "source": [
    "gds.run_cypher(\"CREATE FULLTEXT INDEX doc_text IF NOT EXISTS FOR (n:Document) ON EACH [n.text]\")"
   ]
  },
  {
   "cell_type": "code",
   "execution_count": 13,
   "id": "4c75544b-ec3f-4eaa-b57d-bde5258d68b7",
   "metadata": {},
   "outputs": [
    {
     "data": {
      "text/html": [
       "<div>\n",
       "<style scoped>\n",
       "    .dataframe tbody tr th:only-of-type {\n",
       "        vertical-align: middle;\n",
       "    }\n",
       "\n",
       "    .dataframe tbody tr th {\n",
       "        vertical-align: top;\n",
       "    }\n",
       "\n",
       "    .dataframe thead th {\n",
       "        text-align: right;\n",
       "    }\n",
       "</style>\n",
       "<table border=\"1\" class=\"dataframe\">\n",
       "  <thead>\n",
       "    <tr style=\"text-align: right;\">\n",
       "      <th></th>\n",
       "      <th>name</th>\n",
       "      <th>type</th>\n",
       "      <th>labelsOrTypes</th>\n",
       "      <th>properties</th>\n",
       "      <th>options</th>\n",
       "    </tr>\n",
       "  </thead>\n",
       "  <tbody>\n",
       "    <tr>\n",
       "      <th>0</th>\n",
       "      <td>doc_text</td>\n",
       "      <td>FULLTEXT</td>\n",
       "      <td>[Document]</td>\n",
       "      <td>[text]</td>\n",
       "      <td>{'indexProvider': 'fulltext-1.0', 'indexConfig...</td>\n",
       "    </tr>\n",
       "  </tbody>\n",
       "</table>\n",
       "</div>"
      ],
      "text/plain": [
       "       name      type labelsOrTypes properties  \\\n",
       "0  doc_text  FULLTEXT    [Document]     [text]   \n",
       "\n",
       "                                             options  \n",
       "0  {'indexProvider': 'fulltext-1.0', 'indexConfig...  "
      ]
     },
     "execution_count": 13,
     "metadata": {},
     "output_type": "execute_result"
    }
   ],
   "source": [
    "gds.run_cypher(''' \n",
    "SHOW INDEXES YIELD name, type, labelsOrTypes, properties, options\n",
    "WHERE type = \"FULLTEXT\"\n",
    "''')"
   ]
  },
  {
   "cell_type": "code",
   "execution_count": 31,
   "id": "c512be4c-9e55-4b92-9d7c-bb8f2eb2a583",
   "metadata": {},
   "outputs": [
    {
     "data": {
      "text/html": [
       "<div>\n",
       "<style scoped>\n",
       "    .dataframe tbody tr th:only-of-type {\n",
       "        vertical-align: middle;\n",
       "    }\n",
       "\n",
       "    .dataframe tbody tr th {\n",
       "        vertical-align: top;\n",
       "    }\n",
       "\n",
       "    .dataframe thead th {\n",
       "        text-align: right;\n",
       "    }\n",
       "</style>\n",
       "<table border=\"1\" class=\"dataframe\">\n",
       "  <thead>\n",
       "    <tr style=\"text-align: right;\">\n",
       "      <th></th>\n",
       "      <th>doc_id</th>\n",
       "      <th>score</th>\n",
       "      <th>text</th>\n",
       "    </tr>\n",
       "  </thead>\n",
       "  <tbody>\n",
       "    <tr>\n",
       "      <th>0</th>\n",
       "      <td>CANADIAN PACIFIC KANSAS CITY LTD7</td>\n",
       "      <td>1.000000</td>\n",
       "      <td>export company owned in equal shares by Nutrie...</td>\n",
       "    </tr>\n",
       "    <tr>\n",
       "      <th>1</th>\n",
       "      <td>BERKSHIRE HATHAWAY INC12</td>\n",
       "      <td>0.990436</td>\n",
       "      <td>BHE Renewables, based in Iowa, owns interests ...</td>\n",
       "    </tr>\n",
       "    <tr>\n",
       "      <th>2</th>\n",
       "      <td>DELTA AI8</td>\n",
       "      <td>0.985763</td>\n",
       "      <td>If we or our subsidiaries are unable to reach ...</td>\n",
       "    </tr>\n",
       "    <tr>\n",
       "      <th>3</th>\n",
       "      <td>Goldman Sachs BDC, Inc.48</td>\n",
       "      <td>0.954804</td>\n",
       "      <td>Net Assets\\n\\n\\n \\n\\n\\n\\n\\n\\n\\nSoftware\\n\\n\\n ...</td>\n",
       "    </tr>\n",
       "    <tr>\n",
       "      <th>4</th>\n",
       "      <td>Martin Marietta Materia5</td>\n",
       "      <td>0.953364</td>\n",
       "      <td>The cement operations of the Building Material...</td>\n",
       "    </tr>\n",
       "    <tr>\n",
       "      <th>5</th>\n",
       "      <td>CANADIAN PACIFIC KANSAS CITY LTD8</td>\n",
       "      <td>0.949872</td>\n",
       "      <td>Petroleum products consist of commodities such...</td>\n",
       "    </tr>\n",
       "    <tr>\n",
       "      <th>6</th>\n",
       "      <td>BERKSHIRE HATHAWAY INC11</td>\n",
       "      <td>0.932074</td>\n",
       "      <td>As vertically integrated utilities, BHE’s dome...</td>\n",
       "    </tr>\n",
       "    <tr>\n",
       "      <th>7</th>\n",
       "      <td>Delta Apparel Inc5</td>\n",
       "      <td>0.928153</td>\n",
       "      <td>The focus on reducing our overall energy inten...</td>\n",
       "    </tr>\n",
       "    <tr>\n",
       "      <th>8</th>\n",
       "      <td>DELTA AI9</td>\n",
       "      <td>0.894565</td>\n",
       "      <td>The competitive nature of the airline industry...</td>\n",
       "    </tr>\n",
       "    <tr>\n",
       "      <th>9</th>\n",
       "      <td>BERKSHIRE HATHAWAY INC16</td>\n",
       "      <td>0.884960</td>\n",
       "      <td>Investment casting technology involves a multi...</td>\n",
       "    </tr>\n",
       "  </tbody>\n",
       "</table>\n",
       "</div>"
      ],
      "text/plain": [
       "                              doc_id     score  \\\n",
       "0  CANADIAN PACIFIC KANSAS CITY LTD7  1.000000   \n",
       "1           BERKSHIRE HATHAWAY INC12  0.990436   \n",
       "2                          DELTA AI8  0.985763   \n",
       "3          Goldman Sachs BDC, Inc.48  0.954804   \n",
       "4           Martin Marietta Materia5  0.953364   \n",
       "5  CANADIAN PACIFIC KANSAS CITY LTD8  0.949872   \n",
       "6           BERKSHIRE HATHAWAY INC11  0.932074   \n",
       "7                 Delta Apparel Inc5  0.928153   \n",
       "8                          DELTA AI9  0.894565   \n",
       "9           BERKSHIRE HATHAWAY INC16  0.884960   \n",
       "\n",
       "                                                text  \n",
       "0  export company owned in equal shares by Nutrie...  \n",
       "1  BHE Renewables, based in Iowa, owns interests ...  \n",
       "2  If we or our subsidiaries are unable to reach ...  \n",
       "3  Net Assets\\n\\n\\n \\n\\n\\n\\n\\n\\n\\nSoftware\\n\\n\\n ...  \n",
       "4  The cement operations of the Building Material...  \n",
       "5  Petroleum products consist of commodities such...  \n",
       "6  As vertically integrated utilities, BHE’s dome...  \n",
       "7  The focus on reducing our overall energy inten...  \n",
       "8  The competitive nature of the airline industry...  \n",
       "9  Investment casting technology involves a multi...  "
      ]
     },
     "execution_count": 31,
     "metadata": {},
     "output_type": "execute_result"
    }
   ],
   "source": [
    "from langchain.embeddings.vertexai import VertexAIEmbeddings\n",
    "from langchain.text_splitter import CharacterTextSplitter\n",
    "from langchain.vectorstores import Neo4jVector\n",
    "from langchain.vectorstores.neo4j_vector import SearchType\n",
    "\n",
    "db = Neo4jVector.from_existing_index(\n",
    "    url = NEO4J_URI,\n",
    "    username = NEO4J_USERNAME,\n",
    "    password = NEO4J_PASSWORD,\n",
    "    embedding = VertexAIEmbeddings(),\n",
    "    index_name = 'document-embeddings',\n",
    "    keyword_index_name = 'doc_text',\n",
    "    search_type = SearchType.HYBRID # Hybrid search type\n",
    ")\n",
    "\n",
    "results = db.similarity_search_with_score(query, k=10)\n",
    "res_df = to_df(results)\n",
    "res_df"
   ]
  },
  {
   "cell_type": "markdown",
   "id": "daf3c617-4915-4357-999e-31c346031842",
   "metadata": {},
   "source": [
    "Lets re-rank our results for relevancy"
   ]
  },
  {
   "cell_type": "code",
   "execution_count": 32,
   "id": "ae38378f-8288-4481-94ba-2fb7fa5083a8",
   "metadata": {},
   "outputs": [
    {
     "name": "stdout",
     "output_type": "stream",
     "text": [
      "Top-10 Cross-Encoder Re-ranker hits\n",
      "\t-0.917\tCANADIAN PACIFIC KANSAS CITY LTD8\n",
      "\t-3.291\tBERKSHIRE HATHAWAY INC11\n",
      "\t-5.437\tDELTA AI9\n",
      "\t-5.627\tBERKSHIRE HATHAWAY INC12\n",
      "\t-6.176\tBERKSHIRE HATHAWAY INC16\n",
      "\t-6.386\tMartin Marietta Materia5\n",
      "\t-6.993\tCANADIAN PACIFIC KANSAS CITY LTD7\n",
      "\t-7.620\tDelta Apparel Inc5\n",
      "\t-7.949\tDELTA AI8\n",
      "\t-8.604\tGoldman Sachs BDC, Inc.48\n"
     ]
    },
    {
     "data": {
      "text/html": [
       "<div>\n",
       "<style scoped>\n",
       "    .dataframe tbody tr th:only-of-type {\n",
       "        vertical-align: middle;\n",
       "    }\n",
       "\n",
       "    .dataframe tbody tr th {\n",
       "        vertical-align: top;\n",
       "    }\n",
       "\n",
       "    .dataframe thead th {\n",
       "        text-align: right;\n",
       "    }\n",
       "</style>\n",
       "<table border=\"1\" class=\"dataframe\">\n",
       "  <thead>\n",
       "    <tr style=\"text-align: right;\">\n",
       "      <th></th>\n",
       "      <th>doc_id</th>\n",
       "      <th>score</th>\n",
       "      <th>text</th>\n",
       "      <th>cross-score</th>\n",
       "    </tr>\n",
       "  </thead>\n",
       "  <tbody>\n",
       "    <tr>\n",
       "      <th>0</th>\n",
       "      <td>CANADIAN PACIFIC KANSAS CITY LTD8</td>\n",
       "      <td>0.949872</td>\n",
       "      <td>Petroleum products consist of commodities such...</td>\n",
       "      <td>-0.916921</td>\n",
       "    </tr>\n",
       "    <tr>\n",
       "      <th>1</th>\n",
       "      <td>BERKSHIRE HATHAWAY INC11</td>\n",
       "      <td>0.932074</td>\n",
       "      <td>As vertically integrated utilities, BHE’s dome...</td>\n",
       "      <td>-3.290705</td>\n",
       "    </tr>\n",
       "    <tr>\n",
       "      <th>2</th>\n",
       "      <td>DELTA AI9</td>\n",
       "      <td>0.894565</td>\n",
       "      <td>The competitive nature of the airline industry...</td>\n",
       "      <td>-5.437329</td>\n",
       "    </tr>\n",
       "    <tr>\n",
       "      <th>3</th>\n",
       "      <td>BERKSHIRE HATHAWAY INC12</td>\n",
       "      <td>0.990436</td>\n",
       "      <td>BHE Renewables, based in Iowa, owns interests ...</td>\n",
       "      <td>-5.627203</td>\n",
       "    </tr>\n",
       "    <tr>\n",
       "      <th>4</th>\n",
       "      <td>BERKSHIRE HATHAWAY INC16</td>\n",
       "      <td>0.884960</td>\n",
       "      <td>Investment casting technology involves a multi...</td>\n",
       "      <td>-6.175798</td>\n",
       "    </tr>\n",
       "    <tr>\n",
       "      <th>5</th>\n",
       "      <td>Martin Marietta Materia5</td>\n",
       "      <td>0.953364</td>\n",
       "      <td>The cement operations of the Building Material...</td>\n",
       "      <td>-6.386041</td>\n",
       "    </tr>\n",
       "    <tr>\n",
       "      <th>6</th>\n",
       "      <td>CANADIAN PACIFIC KANSAS CITY LTD7</td>\n",
       "      <td>1.000000</td>\n",
       "      <td>export company owned in equal shares by Nutrie...</td>\n",
       "      <td>-6.992681</td>\n",
       "    </tr>\n",
       "    <tr>\n",
       "      <th>7</th>\n",
       "      <td>Delta Apparel Inc5</td>\n",
       "      <td>0.928153</td>\n",
       "      <td>The focus on reducing our overall energy inten...</td>\n",
       "      <td>-7.620418</td>\n",
       "    </tr>\n",
       "    <tr>\n",
       "      <th>8</th>\n",
       "      <td>DELTA AI8</td>\n",
       "      <td>0.985763</td>\n",
       "      <td>If we or our subsidiaries are unable to reach ...</td>\n",
       "      <td>-7.948834</td>\n",
       "    </tr>\n",
       "    <tr>\n",
       "      <th>9</th>\n",
       "      <td>Goldman Sachs BDC, Inc.48</td>\n",
       "      <td>0.954804</td>\n",
       "      <td>Net Assets\\n\\n\\n \\n\\n\\n\\n\\n\\n\\nSoftware\\n\\n\\n ...</td>\n",
       "      <td>-8.603694</td>\n",
       "    </tr>\n",
       "  </tbody>\n",
       "</table>\n",
       "</div>"
      ],
      "text/plain": [
       "                              doc_id     score  \\\n",
       "0  CANADIAN PACIFIC KANSAS CITY LTD8  0.949872   \n",
       "1           BERKSHIRE HATHAWAY INC11  0.932074   \n",
       "2                          DELTA AI9  0.894565   \n",
       "3           BERKSHIRE HATHAWAY INC12  0.990436   \n",
       "4           BERKSHIRE HATHAWAY INC16  0.884960   \n",
       "5           Martin Marietta Materia5  0.953364   \n",
       "6  CANADIAN PACIFIC KANSAS CITY LTD7  1.000000   \n",
       "7                 Delta Apparel Inc5  0.928153   \n",
       "8                          DELTA AI8  0.985763   \n",
       "9          Goldman Sachs BDC, Inc.48  0.954804   \n",
       "\n",
       "                                                text  cross-score  \n",
       "0  Petroleum products consist of commodities such...    -0.916921  \n",
       "1  As vertically integrated utilities, BHE’s dome...    -3.290705  \n",
       "2  The competitive nature of the airline industry...    -5.437329  \n",
       "3  BHE Renewables, based in Iowa, owns interests ...    -5.627203  \n",
       "4  Investment casting technology involves a multi...    -6.175798  \n",
       "5  The cement operations of the Building Material...    -6.386041  \n",
       "6  export company owned in equal shares by Nutrie...    -6.992681  \n",
       "7  The focus on reducing our overall energy inten...    -7.620418  \n",
       "8  If we or our subsidiaries are unable to reach ...    -7.948834  \n",
       "9  Net Assets\\n\\n\\n \\n\\n\\n\\n\\n\\n\\nSoftware\\n\\n\\n ...    -8.603694  "
      ]
     },
     "execution_count": 32,
     "metadata": {},
     "output_type": "execute_result"
    }
   ],
   "source": [
    "ranked_results = rerank_results(res_df)\n",
    "ranked_results"
   ]
  },
  {
   "cell_type": "code",
   "execution_count": 34,
   "id": "19387fbd-0144-49cf-928c-6c2c25a8caf3",
   "metadata": {},
   "outputs": [
    {
     "data": {
      "text/plain": [
       "'The cement operations of the Building Materials business produce Portland and specialty cements. Similar to aggregates, cement is used in infrastructure projects, nonresidential and residential construction, and the railroad, agricultural, utility and environmental industries. \\nConsequently, the cement industry is cyclical and dependent on the strength of the construction sector.\\n\\xa0\\xa0\\n\\n\\nCement consumption is dependent on the time of year and prevalent weather conditions. According to the Portland Cement Association, nearly two-thirds of U.S. cement consumption occurs in the six months between May and October.\\xa0\\xa0Approximately 70% to 75% of all cement shipments are sent to ready mixed concrete operators. The rest are shipped to manufacturers of concrete-related products, contractors, materials dealers and oil well/mining/drilling companies, as well as government entities.\\n\\n\\n\\xa0\\n\\n\\n\\n\\n\\n\\n\\n\\n\\n\\n\\n\\n\\n\\n\\n\\n\\n\\n\\n\\nSOAR to a Sustainable Future\\n\\n\\n\\n\\n\\n\\n\\n\\nForm 10-K\\xa0\\xa0\\n♦\\n \\nPage 3\\n\\n\\n\\n\\n\\n\\n\\xa0\\n\\n\\n\\n\\nPart I\\xa0\\xa0\\n♦\\n\\xa0\\xa0Item 1 – Business\\n\\n\\nEnergy accounted for approximately 23% of the cement production cost profile in 2021. Therefore, profitability of cement is affected by changes in energy prices and the available supply of these products.\\xa0\\xa0The Company currently has fixed-price supply contracts for coal and natural gas, but also consumes alternative fuel and petroleum coke. Further, profitability of the cement operations is also \\nimpacted by\\n kiln maintenance, which typically requires a plant to be shut down for a period of time.\\n\\n\\nThe limestone reserves used as a raw material for cement are located on Company-owned property, adjacent to each of the cement plants.\\xa0\\xa0Management believes that its reserves of limestone are sufficient to permit production at the current operational levels for the foreseeable future.\\n\\n\\nThe cement operations generally deliver their products upon receipt of customer orders or requests.\\xa0\\xa0Inventory for products is generally maintained in sufficient quantities to meet rapid delivery requirements of customers\\n.\\xa0\\xa0\\n\\n\\nReady mixed concrete, a mixture primarily consisting of cement, aggregates, sand and water, is measured in cubic yards and specifically batched or produced for customers’ construction projects and then transported and poured at the project site. The aggregates used for ready mixed concrete is a washed material with limited amounts of fines (such as dirt and clay). The Company operates 150 ready mix plants in Texas, Colorado, California, Arizona and Wyoming.\\xa0\\xa0The California ready mixed concrete operations are classified as assets held for sale as of December 31, 2021.\\xa0\\xa0Asphalt is most commonly used in surfacing roads and parking lots and consists of liquid asphalt, or bitumen, the binding medium, and aggregates. Similar to ready mixed concrete, each asphalt batch is produced to customer specifications. The Company operates 35 asphalt plants in Arizona, California, Colorado and Minnesota.\\xa0\\xa0The Company also provides paving services in Colorado and California.\\xa0\\xa0Market dynamics for these downstream product lines include a highly competitive environment and lower barriers to entry compared with aggregates and cement.\\xa0\\xa0\\n\\n\\nThe cement and downstream operations results are affected by volatile factors, including energy-related costs, operating efficiencies and weather, to a greater extent than the Company’s aggregates operations.\\xa0\\xa0Liquid asphalt and cement serve as key raw materials in the production of hot mix asphalt and ready mixed concrete, respectively.\\xa0\\xa0Therefore, fluctuations in prices for these raw materials directly affect the Company’s operating results. \\n\\n\\nMagnesia Specialties Business'"
      ]
     },
     "execution_count": 34,
     "metadata": {},
     "output_type": "execute_result"
    }
   ],
   "source": [
    "ranked_results['text'][5]"
   ]
  },
  {
   "cell_type": "markdown",
   "id": "541c6aad-05b4-4391-9f27-b668a82ae910",
   "metadata": {},
   "source": [
    "The Hybrid search brought in additional results from companies not in vector-only search but has content related to energy, oil & gas. The re-ranker helped rank the results. "
   ]
  },
  {
   "cell_type": "markdown",
   "id": "07198bd2-2a8d-432a-8d7d-94f617cc0969",
   "metadata": {},
   "source": [
    "## Semantic Search with Multi-hop retrieval using Knowledge Graph"
   ]
  },
  {
   "cell_type": "markdown",
   "id": "7502f4a3-5ca8-4771-b637-af58ea07f1ac",
   "metadata": {},
   "source": [
    "First, let's create a database connection."
   ]
  },
  {
   "cell_type": "code",
   "execution_count": 17,
   "id": "b8bbab47-d50a-4827-aeb4-42d4c9c612af",
   "metadata": {},
   "outputs": [],
   "source": [
    "db = Neo4jVector(\n",
    "    url = NEO4J_URI,\n",
    "    username = NEO4J_USERNAME,\n",
    "    password = NEO4J_PASSWORD,\n",
    "    embedding = VertexAIEmbeddings()\n",
    ")"
   ]
  },
  {
   "cell_type": "markdown",
   "id": "91518685-9430-4f52-8e6b-d7e4b61a7a25",
   "metadata": {},
   "source": [
    "Now let's use that query vector to search for companies.  Remember, companies have multiple documents so we will need to use a graph traversal on top of a document lookup to find which companies are most similar."
   ]
  },
  {
   "cell_type": "code",
   "execution_count": 18,
   "id": "f9428f7f-5aea-445d-a2ee-203c05a4d4f8",
   "metadata": {},
   "outputs": [
    {
     "data": {
      "text/plain": [
       "[0.06058839336037636,\n",
       " 0.0039505185559391975,\n",
       " -0.05093487352132797,\n",
       " 0.01724359206855297,\n",
       " 0.0011352039873600006]"
      ]
     },
     "execution_count": 18,
     "metadata": {},
     "output_type": "execute_result"
    }
   ],
   "source": [
    "query_vector = db.embedding.embed_query(text=query)\n",
    "query_vector[0:5]"
   ]
  },
  {
   "cell_type": "code",
   "execution_count": 35,
   "id": "26e84306-7097-4ea7-ab34-166ef2421f2d",
   "metadata": {},
   "outputs": [
    {
     "data": {
      "text/plain": [
       "[{'companyName': 'ROPER TECHNOLOGIES', 'score': 0.8402605056762695},\n",
       " {'companyName': 'Berkshire Hathaway Inc B', 'score': 0.8397833960396902},\n",
       " {'companyName': 'Goldman Sachs Grp', 'score': 0.836493730545044},\n",
       " {'companyName': 'Johnson &amp; Johnson', 'score': 0.8340243101119995}]"
      ]
     },
     "execution_count": 35,
     "metadata": {},
     "output_type": "execute_result"
    }
   ],
   "source": [
    "# Search for similar companies\n",
    "res_df = db.query(\"\"\"\n",
    "CALL db.index.vector.queryNodes('document-embeddings', 10, $queryVector)\n",
    "YIELD node AS similarDocuments, score\n",
    "\n",
    "MATCH (similarDocuments)<-[:HAS]-(c:Company)\n",
    "RETURN c.companyName as companyName, avg(score) AS score\n",
    "ORDER BY score DESC LIMIT 10\n",
    "\"\"\", params =  {'queryVector': query_vector})\n",
    "res_df"
   ]
  },
  {
   "cell_type": "markdown",
   "id": "085bb735-27de-4726-b23f-df0762ff28e6",
   "metadata": {},
   "source": [
    "The above result is based on the limited set of documents we have in the DB. The scores are based on Average similarity scores across chunks"
   ]
  },
  {
   "cell_type": "markdown",
   "id": "64e2d9f1-f2f6-4438-98ec-f04be86972c3",
   "metadata": {},
   "source": [
    "Now let's take this one step further and find investment managers who are most heavily focused in Energy.  This will involve a bit more Cypher for a 2-hop traversal. "
   ]
  },
  {
   "cell_type": "code",
   "execution_count": 36,
   "id": "c36b2196-554e-43ca-a52c-a3719d12c146",
   "metadata": {},
   "outputs": [
    {
     "data": {
      "text/html": [
       "<div>\n",
       "<style scoped>\n",
       "    .dataframe tbody tr th:only-of-type {\n",
       "        vertical-align: middle;\n",
       "    }\n",
       "\n",
       "    .dataframe tbody tr th {\n",
       "        vertical-align: top;\n",
       "    }\n",
       "\n",
       "    .dataframe thead th {\n",
       "        text-align: right;\n",
       "    }\n",
       "</style>\n",
       "<table border=\"1\" class=\"dataframe\">\n",
       "  <thead>\n",
       "    <tr style=\"text-align: right;\">\n",
       "      <th></th>\n",
       "      <th>managerName</th>\n",
       "      <th>score</th>\n",
       "    </tr>\n",
       "  </thead>\n",
       "  <tbody>\n",
       "    <tr>\n",
       "      <th>0</th>\n",
       "      <td>Rempart Asset Management Inc.</td>\n",
       "      <td>0.801099</td>\n",
       "    </tr>\n",
       "    <tr>\n",
       "      <th>1</th>\n",
       "      <td>BASSETT HARGROVE INVESTMENT COUNSEL, LLC</td>\n",
       "      <td>0.800587</td>\n",
       "    </tr>\n",
       "    <tr>\n",
       "      <th>2</th>\n",
       "      <td>TIGER MANAGEMENT L.L.C.</td>\n",
       "      <td>0.796342</td>\n",
       "    </tr>\n",
       "    <tr>\n",
       "      <th>3</th>\n",
       "      <td>Emery Howard Portfolio Management, Inc.</td>\n",
       "      <td>0.794092</td>\n",
       "    </tr>\n",
       "  </tbody>\n",
       "</table>\n",
       "</div>"
      ],
      "text/plain": [
       "                                managerName     score\n",
       "0             Rempart Asset Management Inc.  0.801099\n",
       "1  BASSETT HARGROVE INVESTMENT COUNSEL, LLC  0.800587\n",
       "2                   TIGER MANAGEMENT L.L.C.  0.796342\n",
       "3   Emery Howard Portfolio Management, Inc.  0.794092"
      ]
     },
     "execution_count": 36,
     "metadata": {},
     "output_type": "execute_result"
    }
   ],
   "source": [
    "# Search for managers with significiant investments in area\n",
    "res_df = gds.run_cypher(\"\"\"\n",
    "CALL db.index.vector.queryNodes('document-embeddings', 1000, $queryVector)\n",
    "YIELD node AS similarDocuments, score\n",
    "MATCH (similarDocuments)<-[:HAS]-(c:Company)\n",
    "WITH c, avg(score) AS score ORDER BY score LIMIT 100\n",
    "MATCH (c)<-[r:OWNS]-(m:Manager)\n",
    "WITH m, r.value as value, score*r.value as weightedScore\n",
    "WITH m.managerName AS managerName, sum(weightedScore) AS aggScore, sum(value) AS aggValue\n",
    "RETURN managerName, aggScore/aggValue AS score ORDER BY score DESC LIMIT 1000\n",
    "\n",
    "\"\"\", params =  {'queryVector': query_vector})\n",
    "res_df"
   ]
  },
  {
   "cell_type": "code",
   "execution_count": 39,
   "id": "ccf6be00-7ae2-468f-abb9-c28242c7f9db",
   "metadata": {},
   "outputs": [
    {
     "data": {
      "text/plain": [
       "'Rempart Asset Management Inc.'"
      ]
     },
     "execution_count": 39,
     "metadata": {},
     "output_type": "execute_result"
    }
   ],
   "source": [
    "top_mgr = res_df['managerName'][0]\n",
    "top_mgr"
   ]
  },
  {
   "cell_type": "markdown",
   "id": "930804d4-d3ec-48a7-b8c6-92ab8a64ef04",
   "metadata": {},
   "source": [
    "## Expanding Available Data for Knowledge Retrieval\n",
    "Not every element in your data will have rich text data, and further, much like we only have 10K documents for some companies, your use cases may also have incomplete, unevenly distributed text data. \n",
    "\n",
    "We can check our top result investment manager to this. "
   ]
  },
  {
   "cell_type": "code",
   "execution_count": 40,
   "id": "10aefd2b-4100-4be3-a985-1ceabcd2c8ca",
   "metadata": {},
   "outputs": [
    {
     "data": {
      "text/html": [
       "<div>\n",
       "<style scoped>\n",
       "    .dataframe tbody tr th:only-of-type {\n",
       "        vertical-align: middle;\n",
       "    }\n",
       "\n",
       "    .dataframe tbody tr th {\n",
       "        vertical-align: top;\n",
       "    }\n",
       "\n",
       "    .dataframe thead th {\n",
       "        text-align: right;\n",
       "    }\n",
       "</style>\n",
       "<table border=\"1\" class=\"dataframe\">\n",
       "  <thead>\n",
       "    <tr style=\"text-align: right;\">\n",
       "      <th></th>\n",
       "      <th>managerName</th>\n",
       "      <th>ownedCompaniesWithDocs</th>\n",
       "      <th>totalOwnedCompanies</th>\n",
       "    </tr>\n",
       "  </thead>\n",
       "  <tbody>\n",
       "    <tr>\n",
       "      <th>0</th>\n",
       "      <td>Rempart Asset Management Inc.</td>\n",
       "      <td>17</td>\n",
       "      <td>41</td>\n",
       "    </tr>\n",
       "  </tbody>\n",
       "</table>\n",
       "</div>"
      ],
      "text/plain": [
       "                     managerName  ownedCompaniesWithDocs  totalOwnedCompanies\n",
       "0  Rempart Asset Management Inc.                      17                   41"
      ]
     },
     "execution_count": 40,
     "metadata": {},
     "output_type": "execute_result"
    }
   ],
   "source": [
    "gds.run_cypher('''\n",
    "MATCH (m:Manager {managerName: $managerName})-[:OWNS]->(c:Company)-[:HAS]->(d:Document)\n",
    "WITH m, count(DISTINCT c) AS ownedCompaniesWithDocs\n",
    "MATCH (m:Manager {managerName: $managerName})-[:OWNS]->(c:Company)\n",
    "RETURN m.managerName AS managerName, ownedCompaniesWithDocs, count(DISTINCT c) AS totalOwnedCompanies\n",
    "''', params =  {'managerName': top_mgr})"
   ]
  },
  {
   "cell_type": "markdown",
   "id": "532553dd-682e-45cf-96d8-7cecf58068a2",
   "metadata": {},
   "source": [
    "This manager has significantly more other companies they own without documents.  We can use Graph Data Science Node Similarity to find the managers that have the most overlap to this one which should give us other Energy companies that we missed due to sparse text data."
   ]
  },
  {
   "cell_type": "code",
   "execution_count": 43,
   "id": "252ff6a0-eae7-4dcc-aa39-fbb7a37b1114",
   "metadata": {},
   "outputs": [],
   "source": [
    "g, _ = gds.graph.project('proj', ['Company', 'Manager'], {'OWNS':{'properties':['value']}})"
   ]
  },
  {
   "cell_type": "code",
   "execution_count": 44,
   "id": "23119a94-d0d0-4c60-b319-f2d94805a144",
   "metadata": {},
   "outputs": [
    {
     "data": {
      "text/plain": [
       "preProcessingMillis                                                       0\n",
       "computeMillis                                                             3\n",
       "writeMillis                                                              20\n",
       "postProcessingMillis                                                     -1\n",
       "nodesCompared                                                             4\n",
       "relationshipsWritten                                                     10\n",
       "similarityDistribution    {'min': 6.620865315198898e-05, 'p5': 6.6208653...\n",
       "configuration             {'writeProperty': 'score', 'writeRelationshipT...\n",
       "Name: 0, dtype: object"
      ]
     },
     "execution_count": 44,
     "metadata": {},
     "output_type": "execute_result"
    }
   ],
   "source": [
    "gds.nodeSimilarity.write(g, writeRelationshipType = 'SIMILAR', writeProperty = 'score', relationshipWeightProperty = 'value')"
   ]
  },
  {
   "cell_type": "code",
   "execution_count": 45,
   "id": "acd39e18-fc3d-4734-bbe8-e1862516fc29",
   "metadata": {},
   "outputs": [
    {
     "data": {
      "text/plain": [
       "graphName                                                             proj\n",
       "database                                                             neo4j\n",
       "memoryUsage                                                               \n",
       "sizeInBytes                                                             -1\n",
       "nodeCount                                                              247\n",
       "relationshipCount                                                      172\n",
       "configuration            {'relationshipProjection': {'OWNS': {'aggregat...\n",
       "density                                                           0.002831\n",
       "creationTime                           2023-10-04T06:46:59.593541431+00:00\n",
       "modificationTime                       2023-10-04T06:46:59.602932015+00:00\n",
       "schema                   {'graphProperties': {}, 'nodes': {'Manager': {...\n",
       "schemaWithOrientation    {'graphProperties': {}, 'nodes': {'Manager': {...\n",
       "Name: 0, dtype: object"
      ]
     },
     "execution_count": 45,
     "metadata": {},
     "output_type": "execute_result"
    }
   ],
   "source": [
    "g.drop()"
   ]
  },
  {
   "cell_type": "markdown",
   "id": "addcf2b2-a3b3-41a2-bc5d-d9630b0689cb",
   "metadata": {},
   "source": [
    "And now we can pull back other relevant results"
   ]
  },
  {
   "cell_type": "code",
   "execution_count": 46,
   "id": "5ec2ed6f-6d34-414f-82b3-9cf28602d4e0",
   "metadata": {},
   "outputs": [
    {
     "data": {
      "text/html": [
       "<div>\n",
       "<style scoped>\n",
       "    .dataframe tbody tr th:only-of-type {\n",
       "        vertical-align: middle;\n",
       "    }\n",
       "\n",
       "    .dataframe tbody tr th {\n",
       "        vertical-align: top;\n",
       "    }\n",
       "\n",
       "    .dataframe thead th {\n",
       "        text-align: right;\n",
       "    }\n",
       "</style>\n",
       "<table border=\"1\" class=\"dataframe\">\n",
       "  <thead>\n",
       "    <tr style=\"text-align: right;\">\n",
       "      <th></th>\n",
       "      <th>managerName</th>\n",
       "      <th>score</th>\n",
       "    </tr>\n",
       "  </thead>\n",
       "  <tbody>\n",
       "    <tr>\n",
       "      <th>0</th>\n",
       "      <td>BASSETT HARGROVE INVESTMENT COUNSEL, LLC</td>\n",
       "      <td>0.023110</td>\n",
       "    </tr>\n",
       "    <tr>\n",
       "      <th>1</th>\n",
       "      <td>TIGER MANAGEMENT L.L.C.</td>\n",
       "      <td>0.000284</td>\n",
       "    </tr>\n",
       "  </tbody>\n",
       "</table>\n",
       "</div>"
      ],
      "text/plain": [
       "                                managerName     score\n",
       "0  BASSETT HARGROVE INVESTMENT COUNSEL, LLC  0.023110\n",
       "1                   TIGER MANAGEMENT L.L.C.  0.000284"
      ]
     },
     "execution_count": 46,
     "metadata": {},
     "output_type": "execute_result"
    }
   ],
   "source": [
    "gds.run_cypher('''\n",
    "MATCH (m0:Manager {managerName: $managerName})-[r:SIMILAR]->(m:Manager)\n",
    "RETURN DISTINCT m.managerName AS managerName, r.score AS score\n",
    "ORDER BY score DESC LIMIT 10\n",
    "''', params =  {'managerName': top_mgr})"
   ]
  },
  {
   "cell_type": "markdown",
   "id": "3a0a43fc-72c5-4a40-914f-01e7f3001c56",
   "metadata": {},
   "source": [
    "## Clean Up"
   ]
  },
  {
   "cell_type": "code",
   "execution_count": 47,
   "id": "0f548f8e-e48f-4d5f-b2fd-2251280fc8f9",
   "metadata": {},
   "outputs": [
    {
     "data": {
      "text/html": [
       "<div>\n",
       "<style scoped>\n",
       "    .dataframe tbody tr th:only-of-type {\n",
       "        vertical-align: middle;\n",
       "    }\n",
       "\n",
       "    .dataframe tbody tr th {\n",
       "        vertical-align: top;\n",
       "    }\n",
       "\n",
       "    .dataframe thead th {\n",
       "        text-align: right;\n",
       "    }\n",
       "</style>\n",
       "<table border=\"1\" class=\"dataframe\">\n",
       "  <thead>\n",
       "    <tr style=\"text-align: right;\">\n",
       "      <th></th>\n",
       "    </tr>\n",
       "  </thead>\n",
       "  <tbody>\n",
       "  </tbody>\n",
       "</table>\n",
       "</div>"
      ],
      "text/plain": [
       "Empty DataFrame\n",
       "Columns: []\n",
       "Index: []"
      ]
     },
     "execution_count": 47,
     "metadata": {},
     "output_type": "execute_result"
    }
   ],
   "source": [
    "gds.run_cypher('MATCH (M:Manager)-[s:SIMILAR]->() DELETE s')"
   ]
  },
  {
   "cell_type": "code",
   "execution_count": null,
   "id": "b4364c4e-7a42-4b3d-b166-55b6b2d5f377",
   "metadata": {},
   "outputs": [],
   "source": []
  }
 ],
 "metadata": {
  "environment": {
   "kernel": "conda-root-py",
   "name": "workbench-notebooks.m111",
   "type": "gcloud",
   "uri": "gcr.io/deeplearning-platform-release/workbench-notebooks:m111"
  },
  "kernelspec": {
   "display_name": "lab (Local)",
   "language": "python",
   "name": "local-lab"
  },
  "language_info": {
   "codemirror_mode": {
    "name": "ipython",
    "version": 3
   },
   "file_extension": ".py",
   "mimetype": "text/x-python",
   "name": "python",
   "nbconvert_exporter": "python",
   "pygments_lexer": "ipython3",
   "version": "3.8.17"
  }
 },
 "nbformat": 4,
 "nbformat_minor": 5
}
