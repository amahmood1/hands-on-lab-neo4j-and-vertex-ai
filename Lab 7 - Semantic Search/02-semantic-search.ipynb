{
 "cells": [
  {
   "cell_type": "markdown",
   "id": "19ae6874-7585-4a0b-848c-965f639def41",
   "metadata": {},
   "source": [
    "# Semantic Search\n",
    "Semantic search is [defined as \"search with meaning.\"](https://en.wikipedia.org/wiki/Semantic_search) It is key for effective knowledge retrieval.\n",
    "\n",
    "As opposed to traditional, lexical, search which finds matches based on keywords, semantic search seeks to improve search quality and accuracy by understanding search intent and pulling results that match the user’s contextual meaning.  Semantic search is often used in reference to text embedding and vector similarity search, but this is just one implementation aspect of it. Knowledge graph and symbolic query logic can also play a critical role in making semantic search a reality. \n",
    "\n",
    "If all you care about is analyzing a set of documents on a file system, then sure, vector indexing and search may be sufficient.  However, once you need to retrieve and make inferences about people, places, and things connected to those documents, Knowledge graph becomes key. \n",
    "\n",
    "If documents are the entities of interest, for example: \"find all documents that talk about pharma related things,\" then text embeddings with vector similarity search suffices.  But, what if we want second or third-order entities related to the documents?  For example, \"find investors who are most focused on pharma related strategies,\" how would we efficiently search for them at scale in an enterprise setting?\n",
    "\n",
    "This is what we demonstrate below.  We will also show how you can use graph relationships and Graph Data Science algorithms to further improve search results, especially in common scenarios where the presence of text data is inconsistent or sparse."
   ]
  },
  {
   "cell_type": "markdown",
   "id": "4026b768-0406-4ce1-a1bb-ed79b64701a3",
   "metadata": {},
   "source": [
    "## Connect to Neo4j"
   ]
  },
  {
   "cell_type": "code",
   "execution_count": null,
   "id": "50798482-b5d5-4e96-adb2-851a3855f82e",
   "metadata": {},
   "outputs": [],
   "source": [
    "# username is neo4j by default\n",
    "NEO4J_USERNAME = 'neo4j'\n",
    "\n",
    "# You will need to change these to match your credentials\n",
    "NEO4J_URI = 'neo4j+s://6688b25b.databases.neo4j.io'\n",
    "NEO4J_PASSWORD = '_kogrNk53u8oTk5be55kmit1kHGdhZj98yJlG-VYSR'"
   ]
  },
  {
   "cell_type": "code",
   "execution_count": 2,
   "id": "5aa11282-874f-4126-832d-9a2f772989a5",
   "metadata": {},
   "outputs": [],
   "source": [
    "from graphdatascience import GraphDataScience\n",
    "\n",
    "gds = GraphDataScience(\n",
    "    NEO4J_URI,\n",
    "    auth = (NEO4J_USERNAME, NEO4J_PASSWORD),\n",
    "    aura_ds = True\n",
    ")"
   ]
  },
  {
   "cell_type": "markdown",
   "id": "6ded4103-008d-4f93-82c9-918add3688eb",
   "metadata": {},
   "source": [
    "## Neo4j Vector Index\n",
    "We will need to create a vector index for similarity search on Document nodes. Neo4j offers a vector index that enables Approximate Nearest Neighbor Search (ANN). Let's creat an index."
   ]
  },
  {
   "cell_type": "code",
   "execution_count": 3,
   "id": "f08fe029-fd4f-476a-b510-7dbcdb3d892d",
   "metadata": {},
   "outputs": [
    {
     "data": {
      "text/html": [
       "<div>\n",
       "<style scoped>\n",
       "    .dataframe tbody tr th:only-of-type {\n",
       "        vertical-align: middle;\n",
       "    }\n",
       "\n",
       "    .dataframe tbody tr th {\n",
       "        vertical-align: top;\n",
       "    }\n",
       "\n",
       "    .dataframe thead th {\n",
       "        text-align: right;\n",
       "    }\n",
       "</style>\n",
       "<table border=\"1\" class=\"dataframe\">\n",
       "  <thead>\n",
       "    <tr style=\"text-align: right;\">\n",
       "      <th></th>\n",
       "    </tr>\n",
       "  </thead>\n",
       "  <tbody>\n",
       "  </tbody>\n",
       "</table>\n",
       "</div>"
      ],
      "text/plain": [
       "Empty DataFrame\n",
       "Columns: []\n",
       "Index: []"
      ]
     },
     "execution_count": 3,
     "metadata": {},
     "output_type": "execute_result"
    }
   ],
   "source": [
    "gds.run_cypher(\"CALL db.index.vector.createNodeIndex('document-embeddings', 'Document', 'textEmbedding', 768, 'cosine')\")"
   ]
  },
  {
   "cell_type": "markdown",
   "id": "27e3300f-e799-4ac1-b236-a23c300ae5e2",
   "metadata": {},
   "source": [
    "You can see that vector index has been created using `SHOW INDEXES`"
   ]
  },
  {
   "cell_type": "code",
   "execution_count": 4,
   "id": "3b9c4634-bfee-4d73-a197-ed4345e729bf",
   "metadata": {},
   "outputs": [
    {
     "data": {
      "text/html": [
       "<div>\n",
       "<style scoped>\n",
       "    .dataframe tbody tr th:only-of-type {\n",
       "        vertical-align: middle;\n",
       "    }\n",
       "\n",
       "    .dataframe tbody tr th {\n",
       "        vertical-align: top;\n",
       "    }\n",
       "\n",
       "    .dataframe thead th {\n",
       "        text-align: right;\n",
       "    }\n",
       "</style>\n",
       "<table border=\"1\" class=\"dataframe\">\n",
       "  <thead>\n",
       "    <tr style=\"text-align: right;\">\n",
       "      <th></th>\n",
       "      <th>name</th>\n",
       "      <th>type</th>\n",
       "      <th>labelsOrTypes</th>\n",
       "      <th>properties</th>\n",
       "      <th>options</th>\n",
       "    </tr>\n",
       "  </thead>\n",
       "  <tbody>\n",
       "    <tr>\n",
       "      <th>0</th>\n",
       "      <td>document-embeddings</td>\n",
       "      <td>VECTOR</td>\n",
       "      <td>[Document]</td>\n",
       "      <td>[textEmbedding]</td>\n",
       "      <td>{'indexProvider': 'vector-1.0', 'indexConfig':...</td>\n",
       "    </tr>\n",
       "  </tbody>\n",
       "</table>\n",
       "</div>"
      ],
      "text/plain": [
       "                  name    type labelsOrTypes       properties  \\\n",
       "0  document-embeddings  VECTOR    [Document]  [textEmbedding]   \n",
       "\n",
       "                                             options  \n",
       "0  {'indexProvider': 'vector-1.0', 'indexConfig':...  "
      ]
     },
     "execution_count": 4,
     "metadata": {},
     "output_type": "execute_result"
    }
   ],
   "source": [
    "gds.run_cypher(''' \n",
    "SHOW INDEXES YIELD name, type, labelsOrTypes, properties, options\n",
    "WHERE type = \"VECTOR\"\n",
    "''')"
   ]
  },
  {
   "cell_type": "markdown",
   "id": "313f706a-08c3-4fc0-9c50-293d588414ae",
   "metadata": {},
   "source": [
    "## Deep Semantic Search with Knowledge Graph\n",
    "Now that we have an index.  Let’s use it in action.\n",
    "In this case, we will Answer The Question - \"What are the companies associated with energy, oil and gas?\". \n",
    "Remember we do not have documents on investment managers, just companies, and there can be multiple documents for each company."
   ]
  },
  {
   "cell_type": "markdown",
   "id": "a00ab005-bc0f-49b7-8cf9-e6ecf5cbe298",
   "metadata": {},
   "source": [
    "## Dense Retrieval using Neo4j"
   ]
  },
  {
   "cell_type": "code",
   "execution_count": 5,
   "id": "c13411b2-37ae-4d80-a147-9e32904d9012",
   "metadata": {},
   "outputs": [],
   "source": [
    "from langchain.docstore.document import Document\n",
    "from typing import (\n",
    "    List,\n",
    "    Tuple,\n",
    ")\n",
    "\n",
    "def to_df(results: List[Tuple[Document, float]]):\n",
    "    return pd.DataFrame({\n",
    "        \"doc_id\": [r[0].metadata.get('documentId') for r in results],\n",
    "        \"score\": [r[1] for r in results],\n",
    "        \"text\": [r[0].page_content for r in results]\n",
    "    })"
   ]
  },
  {
   "cell_type": "code",
   "execution_count": 6,
   "id": "48299f48-f956-4648-8739-9c990811fa55",
   "metadata": {},
   "outputs": [
    {
     "data": {
      "text/html": [
       "<div>\n",
       "<style scoped>\n",
       "    .dataframe tbody tr th:only-of-type {\n",
       "        vertical-align: middle;\n",
       "    }\n",
       "\n",
       "    .dataframe tbody tr th {\n",
       "        vertical-align: top;\n",
       "    }\n",
       "\n",
       "    .dataframe thead th {\n",
       "        text-align: right;\n",
       "    }\n",
       "</style>\n",
       "<table border=\"1\" class=\"dataframe\">\n",
       "  <thead>\n",
       "    <tr style=\"text-align: right;\">\n",
       "      <th></th>\n",
       "      <th>doc_id</th>\n",
       "      <th>score</th>\n",
       "      <th>text</th>\n",
       "    </tr>\n",
       "  </thead>\n",
       "  <tbody>\n",
       "    <tr>\n",
       "      <th>0</th>\n",
       "      <td>General motors co8</td>\n",
       "      <td>0.832602</td>\n",
       "      <td>HYDROTEC\\n  We are developing hydrogen fuel ce...</td>\n",
       "    </tr>\n",
       "    <tr>\n",
       "      <th>1</th>\n",
       "      <td>General motors co0</td>\n",
       "      <td>0.821065</td>\n",
       "      <td>&gt;Item 1. Business \\nGeneral Motors Company (so...</td>\n",
       "    </tr>\n",
       "    <tr>\n",
       "      <th>2</th>\n",
       "      <td>Verizon Communications INC8</td>\n",
       "      <td>0.817423</td>\n",
       "      <td>Local services\\n. We offer an array of local d...</td>\n",
       "    </tr>\n",
       "    <tr>\n",
       "      <th>3</th>\n",
       "      <td>General motors co17</td>\n",
       "      <td>0.816134</td>\n",
       "      <td>In North America, GM Financial offers a sub-pr...</td>\n",
       "    </tr>\n",
       "    <tr>\n",
       "      <th>4</th>\n",
       "      <td>General motors co16</td>\n",
       "      <td>0.815707</td>\n",
       "      <td>In some instances, we purchase systems, compon...</td>\n",
       "    </tr>\n",
       "    <tr>\n",
       "      <th>5</th>\n",
       "      <td>General motors co2</td>\n",
       "      <td>0.814699</td>\n",
       "      <td>In September 2021, we announced three new driv...</td>\n",
       "    </tr>\n",
       "    <tr>\n",
       "      <th>6</th>\n",
       "      <td>Schwab Charles Corp0</td>\n",
       "      <td>0.813860</td>\n",
       "      <td>&gt;Item 1.     Business\\nGeneral Corporate Overv...</td>\n",
       "    </tr>\n",
       "    <tr>\n",
       "      <th>7</th>\n",
       "      <td>General motors co12</td>\n",
       "      <td>0.812042</td>\n",
       "      <td>As discussed above, total vehicle sales and ma...</td>\n",
       "    </tr>\n",
       "    <tr>\n",
       "      <th>8</th>\n",
       "      <td>General motors co31</td>\n",
       "      <td>0.811816</td>\n",
       "      <td>Through December 31, 2021, we implemented proj...</td>\n",
       "    </tr>\n",
       "    <tr>\n",
       "      <th>9</th>\n",
       "      <td>Verizon Communications INC6</td>\n",
       "      <td>0.811811</td>\n",
       "      <td>Global Enterprise offers a broad portfolio of ...</td>\n",
       "    </tr>\n",
       "  </tbody>\n",
       "</table>\n",
       "</div>"
      ],
      "text/plain": [
       "                        doc_id     score  \\\n",
       "0           General motors co8  0.832602   \n",
       "1           General motors co0  0.821065   \n",
       "2  Verizon Communications INC8  0.817423   \n",
       "3          General motors co17  0.816134   \n",
       "4          General motors co16  0.815707   \n",
       "5           General motors co2  0.814699   \n",
       "6         Schwab Charles Corp0  0.813860   \n",
       "7          General motors co12  0.812042   \n",
       "8          General motors co31  0.811816   \n",
       "9  Verizon Communications INC6  0.811811   \n",
       "\n",
       "                                                text  \n",
       "0  HYDROTEC\\n  We are developing hydrogen fuel ce...  \n",
       "1  >Item 1. Business \\nGeneral Motors Company (so...  \n",
       "2  Local services\\n. We offer an array of local d...  \n",
       "3  In North America, GM Financial offers a sub-pr...  \n",
       "4  In some instances, we purchase systems, compon...  \n",
       "5  In September 2021, we announced three new driv...  \n",
       "6  >Item 1.     Business\\nGeneral Corporate Overv...  \n",
       "7  As discussed above, total vehicle sales and ma...  \n",
       "8  Through December 31, 2021, we implemented proj...  \n",
       "9  Global Enterprise offers a broad portfolio of ...  "
      ]
     },
     "execution_count": 6,
     "metadata": {},
     "output_type": "execute_result"
    }
   ],
   "source": [
    "from langchain.vectorstores import Neo4jVector\n",
    "from langchain.embeddings.vertexai import VertexAIEmbeddings\n",
    "from langchain.vectorstores.neo4j_vector import SearchType\n",
    "import pandas as pd\n",
    "\n",
    "db = Neo4jVector.from_existing_index(\n",
    "    url = NEO4J_URI,\n",
    "    username = NEO4J_USERNAME,\n",
    "    password = NEO4J_PASSWORD,\n",
    "    embedding = VertexAIEmbeddings(),\n",
    "    index_name = 'document-embeddings',\n",
    "    keyword_index_name = 'doc_text',\n",
    "    search_type = SearchType.VECTOR\n",
    ")\n",
    "query = 'What are the companies associated with energy, oil and gas?'\n",
    "results = db.similarity_search_with_score(query, k=10)\n",
    "res_df = to_df(results)\n",
    "res_df"
   ]
  },
  {
   "cell_type": "markdown",
   "id": "6842196c-c83a-4e07-889e-e4775ef1ff26",
   "metadata": {},
   "source": [
    "Lets take a look at the first result and then understand whether the chunk has the information we asked for."
   ]
  },
  {
   "cell_type": "code",
   "execution_count": 7,
   "id": "365985b9-eb2b-47cd-8869-4f31351a23ac",
   "metadata": {},
   "outputs": [
    {
     "data": {
      "text/plain": [
       "\"HYDROTEC\\n  We are developing hydrogen fuel cell applications across transportations and industries, including mobile power generation, class 7/8 truck, locomotive, aerospace and marine applications. The development of HYDROTEC is another element of our long-term strategy and commitment toward the reduction of petroleum consumption and GHG emissions. We believe hydrogen fuel cells will play an important role in many automotive and other mobility applications where customers will derive additional benefits from the ability to refuel quickly, an extended range, suitability for heavier payloads and central refueling of large fleets. GM and Honda, through our long-term strategic alliance to collaborate in research and advanced engineering efforts, are developing and commercializing fuel cell systems. In 2021, GM announced it will supply HYDROTEC to Navistar, Inc., which is developing hydrogen-powered heavy trucks to launch in 2024, and to Liebherr-Aerospace, which is developing hydrogen-powered auxiliary power units for aircraft. In June 2021, we announced a collaboration with Wabtec Corporation to develop and commercialize the Ultium platform and HYDROTEC fuel systems for their locomotives. \\nOnStar Insurance Services\\n  OnStar Insurance is currently available in 46 states and Washington, D.C. and is expected to be available in all 50 states by the second quarter of 2022. In the future, we plan to integrate insurance products into the vehicle experience and offer premiums based on personal driving behaviors by leveraging, with customer consent, data coming from GM vehicles.\\nGM Defense\\n  Providing commercially developed solutions, including purpose-built vehicles, for government and military customers. GM Defense's growth strategy is focused on building a portfolio of products, including the Infantry Squad Vehicle and the purpose-built Heavy Duty Suburban, by leveraging our manufacturing and innovation capabilities.\\nCompetitive Position and Vehicle Sales\""
      ]
     },
     "execution_count": 7,
     "metadata": {},
     "output_type": "execute_result"
    }
   ],
   "source": [
    "res_df['text'][0]"
   ]
  },
  {
   "cell_type": "markdown",
   "id": "b8f4a919-4a40-4b37-a565-73111324fa31",
   "metadata": {},
   "source": [
    "## Re-rank results\n",
    "If you explore the results, you may find some irrelevant results. The retriever has to be efficient for large document collections with millions of entries. However, it might return irrelevant candidates.\n",
    "A re-ranker based on a Cross-Encoder can substantially improve the final results for the user. The query and a possible document is passed simultaneously to transformer network, which then outputs a single score between 0 and 1 indicating how relevant the document is for the given query.\n",
    "\n",
    "We will use a Cross-encoder model named `ms-marco-MiniLM-L-6-v2` from SentenceTransformers library."
   ]
  },
  {
   "cell_type": "code",
   "execution_count": 8,
   "id": "29a717ff-9df5-47fb-9962-f296187faae2",
   "metadata": {},
   "outputs": [],
   "source": [
    "def rerank_results(res_df):\n",
    "    from sentence_transformers import SentenceTransformer, CrossEncoder, util\n",
    "    cross_encoder = CrossEncoder('cross-encoder/ms-marco-MiniLM-L-6-v2')\n",
    "    passages = []\n",
    "    \n",
    "    # Score all retrieved passages with the cross_encoder\n",
    "    cross_inp = [[query, f\"Text: {hit['text']}\"] for _,hit in res_df[:].iterrows()]\n",
    "    cross_scores = cross_encoder.predict(cross_inp)\n",
    "\n",
    "    # Sort results by the cross-encoder scores\n",
    "    res_df['cross-score'] = cross_scores\n",
    "\n",
    "    # Output of top-10 hits from re-ranker\n",
    "    print(\"Top-10 Cross-Encoder Re-ranker hits\")\n",
    "    hits = res_df.sort_values('cross-score', ascending=False).reset_index(drop=True)\n",
    "    for _,hit in hits.iterrows():\n",
    "        print(\"\\t{:.3f}\\t{}\".format(hit['cross-score'], hit['doc_id']))\n",
    "    return hits"
   ]
  },
  {
   "cell_type": "code",
   "execution_count": 9,
   "id": "5851d3bb-d93f-41fc-9315-8d8dc34f4a72",
   "metadata": {},
   "outputs": [
    {
     "data": {
      "application/vnd.jupyter.widget-view+json": {
       "model_id": "a720a0db28fc46b9a6d6f4591b6d54c7",
       "version_major": 2,
       "version_minor": 0
      },
      "text/plain": [
       "Downloading (…)lve/main/config.json:   0%|          | 0.00/794 [00:00<?, ?B/s]"
      ]
     },
     "metadata": {},
     "output_type": "display_data"
    },
    {
     "data": {
      "application/vnd.jupyter.widget-view+json": {
       "model_id": "393bc6716e954cf1ae2bdc13c6c839ca",
       "version_major": 2,
       "version_minor": 0
      },
      "text/plain": [
       "Downloading pytorch_model.bin:   0%|          | 0.00/90.9M [00:00<?, ?B/s]"
      ]
     },
     "metadata": {},
     "output_type": "display_data"
    },
    {
     "data": {
      "application/vnd.jupyter.widget-view+json": {
       "model_id": "07d10e390f7b48c886133cfecfac8812",
       "version_major": 2,
       "version_minor": 0
      },
      "text/plain": [
       "Downloading (…)okenizer_config.json:   0%|          | 0.00/316 [00:00<?, ?B/s]"
      ]
     },
     "metadata": {},
     "output_type": "display_data"
    },
    {
     "data": {
      "application/vnd.jupyter.widget-view+json": {
       "model_id": "fabdce608ba64f578ed6d9abecd4ec0c",
       "version_major": 2,
       "version_minor": 0
      },
      "text/plain": [
       "Downloading (…)solve/main/vocab.txt:   0%|          | 0.00/232k [00:00<?, ?B/s]"
      ]
     },
     "metadata": {},
     "output_type": "display_data"
    },
    {
     "data": {
      "application/vnd.jupyter.widget-view+json": {
       "model_id": "0b94e412cdc446d58519553089b65ce4",
       "version_major": 2,
       "version_minor": 0
      },
      "text/plain": [
       "Downloading (…)cial_tokens_map.json:   0%|          | 0.00/112 [00:00<?, ?B/s]"
      ]
     },
     "metadata": {},
     "output_type": "display_data"
    },
    {
     "name": "stdout",
     "output_type": "stream",
     "text": [
      "Top-10 Cross-Encoder Re-ranker hits\n",
      "\t-7.386\tGeneral motors co31\n",
      "\t-9.050\tGeneral motors co8\n",
      "\t-9.898\tGeneral motors co0\n",
      "\t-10.299\tSchwab Charles Corp0\n",
      "\t-10.334\tGeneral motors co17\n",
      "\t-10.509\tGeneral motors co16\n",
      "\t-10.627\tGeneral motors co2\n",
      "\t-10.954\tVerizon Communications INC6\n",
      "\t-11.068\tGeneral motors co12\n",
      "\t-11.102\tVerizon Communications INC8\n"
     ]
    },
    {
     "data": {
      "text/html": [
       "<div>\n",
       "<style scoped>\n",
       "    .dataframe tbody tr th:only-of-type {\n",
       "        vertical-align: middle;\n",
       "    }\n",
       "\n",
       "    .dataframe tbody tr th {\n",
       "        vertical-align: top;\n",
       "    }\n",
       "\n",
       "    .dataframe thead th {\n",
       "        text-align: right;\n",
       "    }\n",
       "</style>\n",
       "<table border=\"1\" class=\"dataframe\">\n",
       "  <thead>\n",
       "    <tr style=\"text-align: right;\">\n",
       "      <th></th>\n",
       "      <th>doc_id</th>\n",
       "      <th>score</th>\n",
       "      <th>text</th>\n",
       "      <th>cross-score</th>\n",
       "    </tr>\n",
       "  </thead>\n",
       "  <tbody>\n",
       "    <tr>\n",
       "      <th>0</th>\n",
       "      <td>General motors co31</td>\n",
       "      <td>0.811816</td>\n",
       "      <td>Through December 31, 2021, we implemented proj...</td>\n",
       "      <td>-7.385767</td>\n",
       "    </tr>\n",
       "    <tr>\n",
       "      <th>1</th>\n",
       "      <td>General motors co8</td>\n",
       "      <td>0.832602</td>\n",
       "      <td>HYDROTEC\\n  We are developing hydrogen fuel ce...</td>\n",
       "      <td>-9.049635</td>\n",
       "    </tr>\n",
       "    <tr>\n",
       "      <th>2</th>\n",
       "      <td>General motors co0</td>\n",
       "      <td>0.821065</td>\n",
       "      <td>&gt;Item 1. Business \\nGeneral Motors Company (so...</td>\n",
       "      <td>-9.897727</td>\n",
       "    </tr>\n",
       "    <tr>\n",
       "      <th>3</th>\n",
       "      <td>Schwab Charles Corp0</td>\n",
       "      <td>0.813860</td>\n",
       "      <td>&gt;Item 1.     Business\\nGeneral Corporate Overv...</td>\n",
       "      <td>-10.298505</td>\n",
       "    </tr>\n",
       "    <tr>\n",
       "      <th>4</th>\n",
       "      <td>General motors co17</td>\n",
       "      <td>0.816134</td>\n",
       "      <td>In North America, GM Financial offers a sub-pr...</td>\n",
       "      <td>-10.333549</td>\n",
       "    </tr>\n",
       "    <tr>\n",
       "      <th>5</th>\n",
       "      <td>General motors co16</td>\n",
       "      <td>0.815707</td>\n",
       "      <td>In some instances, we purchase systems, compon...</td>\n",
       "      <td>-10.508667</td>\n",
       "    </tr>\n",
       "    <tr>\n",
       "      <th>6</th>\n",
       "      <td>General motors co2</td>\n",
       "      <td>0.814699</td>\n",
       "      <td>In September 2021, we announced three new driv...</td>\n",
       "      <td>-10.627051</td>\n",
       "    </tr>\n",
       "    <tr>\n",
       "      <th>7</th>\n",
       "      <td>Verizon Communications INC6</td>\n",
       "      <td>0.811811</td>\n",
       "      <td>Global Enterprise offers a broad portfolio of ...</td>\n",
       "      <td>-10.953615</td>\n",
       "    </tr>\n",
       "    <tr>\n",
       "      <th>8</th>\n",
       "      <td>General motors co12</td>\n",
       "      <td>0.812042</td>\n",
       "      <td>As discussed above, total vehicle sales and ma...</td>\n",
       "      <td>-11.068060</td>\n",
       "    </tr>\n",
       "    <tr>\n",
       "      <th>9</th>\n",
       "      <td>Verizon Communications INC8</td>\n",
       "      <td>0.817423</td>\n",
       "      <td>Local services\\n. We offer an array of local d...</td>\n",
       "      <td>-11.101725</td>\n",
       "    </tr>\n",
       "  </tbody>\n",
       "</table>\n",
       "</div>"
      ],
      "text/plain": [
       "                        doc_id     score  \\\n",
       "0          General motors co31  0.811816   \n",
       "1           General motors co8  0.832602   \n",
       "2           General motors co0  0.821065   \n",
       "3         Schwab Charles Corp0  0.813860   \n",
       "4          General motors co17  0.816134   \n",
       "5          General motors co16  0.815707   \n",
       "6           General motors co2  0.814699   \n",
       "7  Verizon Communications INC6  0.811811   \n",
       "8          General motors co12  0.812042   \n",
       "9  Verizon Communications INC8  0.817423   \n",
       "\n",
       "                                                text  cross-score  \n",
       "0  Through December 31, 2021, we implemented proj...    -7.385767  \n",
       "1  HYDROTEC\\n  We are developing hydrogen fuel ce...    -9.049635  \n",
       "2  >Item 1. Business \\nGeneral Motors Company (so...    -9.897727  \n",
       "3  >Item 1.     Business\\nGeneral Corporate Overv...   -10.298505  \n",
       "4  In North America, GM Financial offers a sub-pr...   -10.333549  \n",
       "5  In some instances, we purchase systems, compon...   -10.508667  \n",
       "6  In September 2021, we announced three new driv...   -10.627051  \n",
       "7  Global Enterprise offers a broad portfolio of ...   -10.953615  \n",
       "8  As discussed above, total vehicle sales and ma...   -11.068060  \n",
       "9  Local services\\n. We offer an array of local d...   -11.101725  "
      ]
     },
     "execution_count": 9,
     "metadata": {},
     "output_type": "execute_result"
    }
   ],
   "source": [
    "ranked_results = rerank_results(res_df)\n",
    "ranked_results"
   ]
  },
  {
   "cell_type": "markdown",
   "id": "3479218e-c372-4296-8058-af73eb85096b",
   "metadata": {},
   "source": [
    "As seen above, the cross-encoder finds this passage to be more relevant to the query"
   ]
  },
  {
   "cell_type": "code",
   "execution_count": 10,
   "id": "c38a08dc-b443-48ab-8e8e-11eb9bc53062",
   "metadata": {},
   "outputs": [
    {
     "data": {
      "text/plain": [
       "'Through December 31, 2021, we implemented projects and signed renewable energy contracts globally that brought our total renewable energy capacity to over one gigawatt by 2023, which represents approximately 75% of our U.S. electricity use and approximately 40% of our global electricity use. In 2019 and 2020, we executed two of our largest green tariffs to date with DTE Energy Company, sourcing 840,000 megawatt hours of renewable energy that began supplying us in early 2021 in phase 1 with the remainder expected in mid-2023 in phase 2. Additionally, in 2020 we executed our largest power purchase agreement to date, with 180 megawatts of solar electricity supplying our U.S. operations starting in 2023. We continue to seek opportunities for a diversified renewable energy portfolio including wind, solar and landfill gas, including executing a 28 megawatts solar green tariff with TVA to supply our Bowling Green Assembly Plant. In 2021, Energy Star certified two assembly plants and four buildings in the U.S. for superior energy management. We also met the EPA Energy Star Challenge for Industry (EPA Challenge) at five additional sites by reducing energy intensity an average of 15% at these sites within two years. To meet the EPA Challenge, industrial sites must reduce energy intensity by 10% within a five year period. In total, 69 GM-owned manufacturing sites have met the EPA Challenge, with many sites achieving the goal multiple times for a total of 132 recognitions. Additionally, we received recognition from the U.S. Department of Energy (DOE) of 50001 Ready status for 25 facilities. The U.S. DOE 50001 Ready program is a self-guided approach for facilities to establish an energy management system and self-attest to the structure of ISO 50001, a voluntary global standard for energy management systems in industrial, commercial and institutional facilities. These sustainability efforts reduce our operational expenses and are part of our approach to improve the'"
      ]
     },
     "execution_count": 10,
     "metadata": {},
     "output_type": "execute_result"
    }
   ],
   "source": [
    "ranked_results['text'][0]"
   ]
  },
  {
   "cell_type": "markdown",
   "id": "4f1d9d37-7f27-4683-9bb4-c21db62257f8",
   "metadata": {},
   "source": [
    "## Hybrid Search with Neo4j\n",
    "Vector Search is not the only solution. Often you will find a hybrid approach - a combination of Vector and Fulltext search perform better. You can do both in Neo4j.\n",
    "\n",
    "To do a Fulltext Search, lets first create a fulltext index"
   ]
  },
  {
   "cell_type": "code",
   "execution_count": 11,
   "id": "e107afba-2ae8-4da8-88b1-e5fe7236ced4",
   "metadata": {},
   "outputs": [
    {
     "data": {
      "text/html": [
       "<div>\n",
       "<style scoped>\n",
       "    .dataframe tbody tr th:only-of-type {\n",
       "        vertical-align: middle;\n",
       "    }\n",
       "\n",
       "    .dataframe tbody tr th {\n",
       "        vertical-align: top;\n",
       "    }\n",
       "\n",
       "    .dataframe thead th {\n",
       "        text-align: right;\n",
       "    }\n",
       "</style>\n",
       "<table border=\"1\" class=\"dataframe\">\n",
       "  <thead>\n",
       "    <tr style=\"text-align: right;\">\n",
       "      <th></th>\n",
       "    </tr>\n",
       "  </thead>\n",
       "  <tbody>\n",
       "  </tbody>\n",
       "</table>\n",
       "</div>"
      ],
      "text/plain": [
       "Empty DataFrame\n",
       "Columns: []\n",
       "Index: []"
      ]
     },
     "execution_count": 11,
     "metadata": {},
     "output_type": "execute_result"
    }
   ],
   "source": [
    "gds.run_cypher(\"CREATE FULLTEXT INDEX doc_text IF NOT EXISTS FOR (n:Document) ON EACH [n.text]\")"
   ]
  },
  {
   "cell_type": "code",
   "execution_count": 12,
   "id": "4c75544b-ec3f-4eaa-b57d-bde5258d68b7",
   "metadata": {},
   "outputs": [
    {
     "data": {
      "text/html": [
       "<div>\n",
       "<style scoped>\n",
       "    .dataframe tbody tr th:only-of-type {\n",
       "        vertical-align: middle;\n",
       "    }\n",
       "\n",
       "    .dataframe tbody tr th {\n",
       "        vertical-align: top;\n",
       "    }\n",
       "\n",
       "    .dataframe thead th {\n",
       "        text-align: right;\n",
       "    }\n",
       "</style>\n",
       "<table border=\"1\" class=\"dataframe\">\n",
       "  <thead>\n",
       "    <tr style=\"text-align: right;\">\n",
       "      <th></th>\n",
       "      <th>name</th>\n",
       "      <th>type</th>\n",
       "      <th>labelsOrTypes</th>\n",
       "      <th>properties</th>\n",
       "      <th>options</th>\n",
       "    </tr>\n",
       "  </thead>\n",
       "  <tbody>\n",
       "    <tr>\n",
       "      <th>0</th>\n",
       "      <td>doc_text</td>\n",
       "      <td>FULLTEXT</td>\n",
       "      <td>[Document]</td>\n",
       "      <td>[text]</td>\n",
       "      <td>{'indexProvider': 'fulltext-1.0', 'indexConfig...</td>\n",
       "    </tr>\n",
       "  </tbody>\n",
       "</table>\n",
       "</div>"
      ],
      "text/plain": [
       "       name      type labelsOrTypes properties  \\\n",
       "0  doc_text  FULLTEXT    [Document]     [text]   \n",
       "\n",
       "                                             options  \n",
       "0  {'indexProvider': 'fulltext-1.0', 'indexConfig...  "
      ]
     },
     "execution_count": 12,
     "metadata": {},
     "output_type": "execute_result"
    }
   ],
   "source": [
    "gds.run_cypher(''' \n",
    "SHOW INDEXES YIELD name, type, labelsOrTypes, properties, options\n",
    "WHERE type = \"FULLTEXT\"\n",
    "''')"
   ]
  },
  {
   "cell_type": "code",
   "execution_count": 13,
   "id": "c512be4c-9e55-4b92-9d7c-bb8f2eb2a583",
   "metadata": {},
   "outputs": [
    {
     "data": {
      "text/html": [
       "<div>\n",
       "<style scoped>\n",
       "    .dataframe tbody tr th:only-of-type {\n",
       "        vertical-align: middle;\n",
       "    }\n",
       "\n",
       "    .dataframe tbody tr th {\n",
       "        vertical-align: top;\n",
       "    }\n",
       "\n",
       "    .dataframe thead th {\n",
       "        text-align: right;\n",
       "    }\n",
       "</style>\n",
       "<table border=\"1\" class=\"dataframe\">\n",
       "  <thead>\n",
       "    <tr style=\"text-align: right;\">\n",
       "      <th></th>\n",
       "      <th>doc_id</th>\n",
       "      <th>score</th>\n",
       "      <th>text</th>\n",
       "    </tr>\n",
       "  </thead>\n",
       "  <tbody>\n",
       "    <tr>\n",
       "      <th>0</th>\n",
       "      <td>General motors co30</td>\n",
       "      <td>1.000000</td>\n",
       "      <td>In 2021, we launched our new global GM Zero Wa...</td>\n",
       "    </tr>\n",
       "    <tr>\n",
       "      <th>1</th>\n",
       "      <td>General motors co8</td>\n",
       "      <td>0.832602</td>\n",
       "      <td>HYDROTEC\\n  We are developing hydrogen fuel ce...</td>\n",
       "    </tr>\n",
       "    <tr>\n",
       "      <th>2</th>\n",
       "      <td>General motors co0</td>\n",
       "      <td>0.821065</td>\n",
       "      <td>&gt;Item 1. Business \\nGeneral Motors Company (so...</td>\n",
       "    </tr>\n",
       "    <tr>\n",
       "      <th>3</th>\n",
       "      <td>Verizon Communications INC8</td>\n",
       "      <td>0.817423</td>\n",
       "      <td>Local services\\n. We offer an array of local d...</td>\n",
       "    </tr>\n",
       "    <tr>\n",
       "      <th>4</th>\n",
       "      <td>General motors co17</td>\n",
       "      <td>0.816134</td>\n",
       "      <td>In North America, GM Financial offers a sub-pr...</td>\n",
       "    </tr>\n",
       "    <tr>\n",
       "      <th>5</th>\n",
       "      <td>General motors co16</td>\n",
       "      <td>0.815707</td>\n",
       "      <td>In some instances, we purchase systems, compon...</td>\n",
       "    </tr>\n",
       "    <tr>\n",
       "      <th>6</th>\n",
       "      <td>General motors co2</td>\n",
       "      <td>0.814699</td>\n",
       "      <td>In September 2021, we announced three new driv...</td>\n",
       "    </tr>\n",
       "    <tr>\n",
       "      <th>7</th>\n",
       "      <td>Schwab Charles Corp0</td>\n",
       "      <td>0.813860</td>\n",
       "      <td>&gt;Item 1.     Business\\nGeneral Corporate Overv...</td>\n",
       "    </tr>\n",
       "    <tr>\n",
       "      <th>8</th>\n",
       "      <td>General motors co12</td>\n",
       "      <td>0.812042</td>\n",
       "      <td>As discussed above, total vehicle sales and ma...</td>\n",
       "    </tr>\n",
       "    <tr>\n",
       "      <th>9</th>\n",
       "      <td>General motors co31</td>\n",
       "      <td>0.811816</td>\n",
       "      <td>Through December 31, 2021, we implemented proj...</td>\n",
       "    </tr>\n",
       "  </tbody>\n",
       "</table>\n",
       "</div>"
      ],
      "text/plain": [
       "                        doc_id     score  \\\n",
       "0          General motors co30  1.000000   \n",
       "1           General motors co8  0.832602   \n",
       "2           General motors co0  0.821065   \n",
       "3  Verizon Communications INC8  0.817423   \n",
       "4          General motors co17  0.816134   \n",
       "5          General motors co16  0.815707   \n",
       "6           General motors co2  0.814699   \n",
       "7         Schwab Charles Corp0  0.813860   \n",
       "8          General motors co12  0.812042   \n",
       "9          General motors co31  0.811816   \n",
       "\n",
       "                                                text  \n",
       "0  In 2021, we launched our new global GM Zero Wa...  \n",
       "1  HYDROTEC\\n  We are developing hydrogen fuel ce...  \n",
       "2  >Item 1. Business \\nGeneral Motors Company (so...  \n",
       "3  Local services\\n. We offer an array of local d...  \n",
       "4  In North America, GM Financial offers a sub-pr...  \n",
       "5  In some instances, we purchase systems, compon...  \n",
       "6  In September 2021, we announced three new driv...  \n",
       "7  >Item 1.     Business\\nGeneral Corporate Overv...  \n",
       "8  As discussed above, total vehicle sales and ma...  \n",
       "9  Through December 31, 2021, we implemented proj...  "
      ]
     },
     "execution_count": 13,
     "metadata": {},
     "output_type": "execute_result"
    }
   ],
   "source": [
    "from langchain.embeddings.vertexai import VertexAIEmbeddings\n",
    "from langchain.text_splitter import CharacterTextSplitter\n",
    "from langchain.vectorstores import Neo4jVector\n",
    "from langchain.vectorstores.neo4j_vector import SearchType\n",
    "\n",
    "db = Neo4jVector.from_existing_index(\n",
    "    url = NEO4J_URI,\n",
    "    username = NEO4J_USERNAME,\n",
    "    password = NEO4J_PASSWORD,\n",
    "    embedding = VertexAIEmbeddings(),\n",
    "    index_name = 'document-embeddings',\n",
    "    keyword_index_name = 'doc_text',\n",
    "    search_type = SearchType.HYBRID # Hybrid search type\n",
    ")\n",
    "\n",
    "results = db.similarity_search_with_score(query, k=10)\n",
    "res_df = to_df(results)\n",
    "res_df"
   ]
  },
  {
   "cell_type": "markdown",
   "id": "daf3c617-4915-4357-999e-31c346031842",
   "metadata": {},
   "source": [
    "Lets re-rank our results for relevancy"
   ]
  },
  {
   "cell_type": "code",
   "execution_count": 14,
   "id": "ae38378f-8288-4481-94ba-2fb7fa5083a8",
   "metadata": {},
   "outputs": [
    {
     "name": "stdout",
     "output_type": "stream",
     "text": [
      "Top-10 Cross-Encoder Re-ranker hits\n",
      "\t-7.386\tGeneral motors co31\n",
      "\t-9.050\tGeneral motors co8\n",
      "\t-9.898\tGeneral motors co0\n",
      "\t-10.088\tGeneral motors co30\n",
      "\t-10.299\tSchwab Charles Corp0\n",
      "\t-10.334\tGeneral motors co17\n",
      "\t-10.509\tGeneral motors co16\n",
      "\t-10.627\tGeneral motors co2\n",
      "\t-11.068\tGeneral motors co12\n",
      "\t-11.102\tVerizon Communications INC8\n"
     ]
    },
    {
     "data": {
      "text/html": [
       "<div>\n",
       "<style scoped>\n",
       "    .dataframe tbody tr th:only-of-type {\n",
       "        vertical-align: middle;\n",
       "    }\n",
       "\n",
       "    .dataframe tbody tr th {\n",
       "        vertical-align: top;\n",
       "    }\n",
       "\n",
       "    .dataframe thead th {\n",
       "        text-align: right;\n",
       "    }\n",
       "</style>\n",
       "<table border=\"1\" class=\"dataframe\">\n",
       "  <thead>\n",
       "    <tr style=\"text-align: right;\">\n",
       "      <th></th>\n",
       "      <th>doc_id</th>\n",
       "      <th>score</th>\n",
       "      <th>text</th>\n",
       "      <th>cross-score</th>\n",
       "    </tr>\n",
       "  </thead>\n",
       "  <tbody>\n",
       "    <tr>\n",
       "      <th>0</th>\n",
       "      <td>General motors co31</td>\n",
       "      <td>0.811816</td>\n",
       "      <td>Through December 31, 2021, we implemented proj...</td>\n",
       "      <td>-7.385767</td>\n",
       "    </tr>\n",
       "    <tr>\n",
       "      <th>1</th>\n",
       "      <td>General motors co8</td>\n",
       "      <td>0.832602</td>\n",
       "      <td>HYDROTEC\\n  We are developing hydrogen fuel ce...</td>\n",
       "      <td>-9.049635</td>\n",
       "    </tr>\n",
       "    <tr>\n",
       "      <th>2</th>\n",
       "      <td>General motors co0</td>\n",
       "      <td>0.821065</td>\n",
       "      <td>&gt;Item 1. Business \\nGeneral Motors Company (so...</td>\n",
       "      <td>-9.897727</td>\n",
       "    </tr>\n",
       "    <tr>\n",
       "      <th>3</th>\n",
       "      <td>General motors co30</td>\n",
       "      <td>1.000000</td>\n",
       "      <td>In 2021, we launched our new global GM Zero Wa...</td>\n",
       "      <td>-10.088181</td>\n",
       "    </tr>\n",
       "    <tr>\n",
       "      <th>4</th>\n",
       "      <td>Schwab Charles Corp0</td>\n",
       "      <td>0.813860</td>\n",
       "      <td>&gt;Item 1.     Business\\nGeneral Corporate Overv...</td>\n",
       "      <td>-10.298505</td>\n",
       "    </tr>\n",
       "    <tr>\n",
       "      <th>5</th>\n",
       "      <td>General motors co17</td>\n",
       "      <td>0.816134</td>\n",
       "      <td>In North America, GM Financial offers a sub-pr...</td>\n",
       "      <td>-10.333549</td>\n",
       "    </tr>\n",
       "    <tr>\n",
       "      <th>6</th>\n",
       "      <td>General motors co16</td>\n",
       "      <td>0.815707</td>\n",
       "      <td>In some instances, we purchase systems, compon...</td>\n",
       "      <td>-10.508667</td>\n",
       "    </tr>\n",
       "    <tr>\n",
       "      <th>7</th>\n",
       "      <td>General motors co2</td>\n",
       "      <td>0.814699</td>\n",
       "      <td>In September 2021, we announced three new driv...</td>\n",
       "      <td>-10.627051</td>\n",
       "    </tr>\n",
       "    <tr>\n",
       "      <th>8</th>\n",
       "      <td>General motors co12</td>\n",
       "      <td>0.812042</td>\n",
       "      <td>As discussed above, total vehicle sales and ma...</td>\n",
       "      <td>-11.068060</td>\n",
       "    </tr>\n",
       "    <tr>\n",
       "      <th>9</th>\n",
       "      <td>Verizon Communications INC8</td>\n",
       "      <td>0.817423</td>\n",
       "      <td>Local services\\n. We offer an array of local d...</td>\n",
       "      <td>-11.101725</td>\n",
       "    </tr>\n",
       "  </tbody>\n",
       "</table>\n",
       "</div>"
      ],
      "text/plain": [
       "                        doc_id     score  \\\n",
       "0          General motors co31  0.811816   \n",
       "1           General motors co8  0.832602   \n",
       "2           General motors co0  0.821065   \n",
       "3          General motors co30  1.000000   \n",
       "4         Schwab Charles Corp0  0.813860   \n",
       "5          General motors co17  0.816134   \n",
       "6          General motors co16  0.815707   \n",
       "7           General motors co2  0.814699   \n",
       "8          General motors co12  0.812042   \n",
       "9  Verizon Communications INC8  0.817423   \n",
       "\n",
       "                                                text  cross-score  \n",
       "0  Through December 31, 2021, we implemented proj...    -7.385767  \n",
       "1  HYDROTEC\\n  We are developing hydrogen fuel ce...    -9.049635  \n",
       "2  >Item 1. Business \\nGeneral Motors Company (so...    -9.897727  \n",
       "3  In 2021, we launched our new global GM Zero Wa...   -10.088181  \n",
       "4  >Item 1.     Business\\nGeneral Corporate Overv...   -10.298505  \n",
       "5  In North America, GM Financial offers a sub-pr...   -10.333549  \n",
       "6  In some instances, we purchase systems, compon...   -10.508667  \n",
       "7  In September 2021, we announced three new driv...   -10.627051  \n",
       "8  As discussed above, total vehicle sales and ma...   -11.068060  \n",
       "9  Local services\\n. We offer an array of local d...   -11.101725  "
      ]
     },
     "execution_count": 14,
     "metadata": {},
     "output_type": "execute_result"
    }
   ],
   "source": [
    "ranked_results = rerank_results(res_df)\n",
    "ranked_results"
   ]
  },
  {
   "cell_type": "code",
   "execution_count": 15,
   "id": "19387fbd-0144-49cf-928c-6c2c25a8caf3",
   "metadata": {},
   "outputs": [
    {
     "data": {
      "text/plain": [
       "'>Item 1. \\xa0\\xa0\\xa0\\xa0Business\\nGeneral Corporate Overview\\nThe Charles Schwab Corporation (CSC) is a savings and loan holding company. CSC engages, through its subsidiaries (collectively referred to as Schwab or the Company), in wealth management, securities brokerage, banking, asset management, custody, and financial advisory services. At December\\xa031, 2021, Schwab had $8.14 trillion\\xa0in client assets,\\xa033.2 million active brokerage accounts, 2.2 million corporate retirement plan participants, and 1.6 million banking accounts.\\nPrincipal business subsidiaries of CSC include the following:\\n•\\nCharles Schwab & Co., Inc. (CS&Co), incorporated in 1971, a securities broker-dealer;\\n•\\nTD Ameritrade, Inc., an introducing securities broker-dealer;\\n•\\nTD Ameritrade Clearing, Inc. (TDAC), a securities broker-dealer that provides trade execution and clearing services to TD Ameritrade, Inc.; \\n•\\nCharles Schwab Bank, SSB (CSB), our principal banking entity; and\\n•\\nCharles Schwab Investment Management, Inc. (CSIM), the investment advisor\\xa0for Schwab’s proprietary mutual funds (Schwab\\xa0Funds\\n®\\n) and for Schwab’s exchange-traded funds (Schwab ETFs\\n™\\n).\\nUnless otherwise indicated, the terms “Schwab,” “the Company,” “we,” “us,” or “our” mean CSC together with its consolidated subsidiaries.\\nSchwab provides financial services to individuals and institutional clients through two segments – Investor Services and Advisor Services. The Investor Services segment provides retail brokerage, investment advisory, and banking and trust services to individual investors, and retirement plan services, as well as other corporate brokerage services, to businesses and their employees. The Advisor Services segment provides custodial, trading, banking and trust, and support services, as well as retirement business services, to independent registered investment advisors (RIAs), independent retirement advisors, and recordkeepers. These services are further described in the segment discussion below.'"
      ]
     },
     "execution_count": 15,
     "metadata": {},
     "output_type": "execute_result"
    }
   ],
   "source": [
    "ranked_results['text'][4]"
   ]
  },
  {
   "cell_type": "markdown",
   "id": "541c6aad-05b4-4391-9f27-b668a82ae910",
   "metadata": {},
   "source": [
    "We don't have much documents from other companies chunked. But once you have it, you can see additional results with Hybrid search. The re-ranker can then help rank these results accordingly. "
   ]
  },
  {
   "cell_type": "markdown",
   "id": "07198bd2-2a8d-432a-8d7d-94f617cc0969",
   "metadata": {},
   "source": [
    "## Semantic Search with Multi-hop retrieval using Knowledge Graph"
   ]
  },
  {
   "cell_type": "markdown",
   "id": "7502f4a3-5ca8-4771-b637-af58ea07f1ac",
   "metadata": {},
   "source": [
    "First, let's create a database connection."
   ]
  },
  {
   "cell_type": "code",
   "execution_count": 16,
   "id": "b8bbab47-d50a-4827-aeb4-42d4c9c612af",
   "metadata": {},
   "outputs": [],
   "source": [
    "db = Neo4jVector(\n",
    "    url = NEO4J_URI,\n",
    "    username = NEO4J_USERNAME,\n",
    "    password = NEO4J_PASSWORD,\n",
    "    embedding = VertexAIEmbeddings()\n",
    ")"
   ]
  },
  {
   "cell_type": "markdown",
   "id": "91518685-9430-4f52-8e6b-d7e4b61a7a25",
   "metadata": {},
   "source": [
    "Now let's use that query vector to search for companies.  Remember, companies have multiple documents so we will need to use a graph traversal on top of a document lookup to find which companies are most similar."
   ]
  },
  {
   "cell_type": "code",
   "execution_count": 17,
   "id": "f9428f7f-5aea-445d-a2ee-203c05a4d4f8",
   "metadata": {},
   "outputs": [
    {
     "data": {
      "text/plain": [
       "[0.06058839336037636,\n",
       " 0.0039505185559391975,\n",
       " -0.05093487352132797,\n",
       " 0.01724359206855297,\n",
       " 0.0011352039873600006]"
      ]
     },
     "execution_count": 17,
     "metadata": {},
     "output_type": "execute_result"
    }
   ],
   "source": [
    "query_vector = db.embedding.embed_query(text=query)\n",
    "query_vector[0:5]"
   ]
  },
  {
   "cell_type": "code",
   "execution_count": 18,
   "id": "26e84306-7097-4ea7-ab34-166ef2421f2d",
   "metadata": {},
   "outputs": [
    {
     "data": {
      "text/plain": [
       "[{'companyName': 'General Electric Co', 'score': 0.8177236488887242},\n",
       " {'companyName': 'VERIZON', 'score': 0.814616858959198},\n",
       " {'companyName': 'SCHWAB STRATEGIC TR US LRG CAP ETF',\n",
       "  'score': 0.8138596415519714}]"
      ]
     },
     "execution_count": 18,
     "metadata": {},
     "output_type": "execute_result"
    }
   ],
   "source": [
    "# Search for similar companies\n",
    "res_df = db.query(\"\"\"\n",
    "CALL db.index.vector.queryNodes('document-embeddings', 10, $queryVector)\n",
    "YIELD node AS similarDocuments, score\n",
    "\n",
    "MATCH (similarDocuments)<-[:HAS]-(c:Company)\n",
    "RETURN c.companyName as companyName, avg(score) AS score\n",
    "ORDER BY score DESC LIMIT 10\n",
    "\"\"\", params =  {'queryVector': query_vector})\n",
    "res_df"
   ]
  },
  {
   "cell_type": "markdown",
   "id": "085bb735-27de-4726-b23f-df0762ff28e6",
   "metadata": {},
   "source": [
    "The above result is based on the limited set of documents we have in the DB. The scores are based on Average similarity scores across chunks"
   ]
  },
  {
   "cell_type": "markdown",
   "id": "64e2d9f1-f2f6-4438-98ec-f04be86972c3",
   "metadata": {},
   "source": [
    "Now let's take this one step further and find investment managers who are most heavily focused in Energy.  This will involve a bit more Cypher for a 2-hop traversal. "
   ]
  },
  {
   "cell_type": "code",
   "execution_count": 19,
   "id": "c36b2196-554e-43ca-a52c-a3719d12c146",
   "metadata": {},
   "outputs": [
    {
     "data": {
      "text/html": [
       "<div>\n",
       "<style scoped>\n",
       "    .dataframe tbody tr th:only-of-type {\n",
       "        vertical-align: middle;\n",
       "    }\n",
       "\n",
       "    .dataframe tbody tr th {\n",
       "        vertical-align: top;\n",
       "    }\n",
       "\n",
       "    .dataframe thead th {\n",
       "        text-align: right;\n",
       "    }\n",
       "</style>\n",
       "<table border=\"1\" class=\"dataframe\">\n",
       "  <thead>\n",
       "    <tr style=\"text-align: right;\">\n",
       "      <th></th>\n",
       "      <th>managerName</th>\n",
       "      <th>score</th>\n",
       "    </tr>\n",
       "  </thead>\n",
       "  <tbody>\n",
       "    <tr>\n",
       "      <th>0</th>\n",
       "      <td>BASSETT HARGROVE INVESTMENT COUNSEL, LLC</td>\n",
       "      <td>0.794981</td>\n",
       "    </tr>\n",
       "    <tr>\n",
       "      <th>1</th>\n",
       "      <td>Rempart Asset Management Inc.</td>\n",
       "      <td>0.786834</td>\n",
       "    </tr>\n",
       "    <tr>\n",
       "      <th>2</th>\n",
       "      <td>PRIVATE ASSET MANAGEMENT INC</td>\n",
       "      <td>0.783902</td>\n",
       "    </tr>\n",
       "    <tr>\n",
       "      <th>3</th>\n",
       "      <td>Emery Howard Portfolio Management, Inc.</td>\n",
       "      <td>0.781502</td>\n",
       "    </tr>\n",
       "  </tbody>\n",
       "</table>\n",
       "</div>"
      ],
      "text/plain": [
       "                                managerName     score\n",
       "0  BASSETT HARGROVE INVESTMENT COUNSEL, LLC  0.794981\n",
       "1             Rempart Asset Management Inc.  0.786834\n",
       "2              PRIVATE ASSET MANAGEMENT INC  0.783902\n",
       "3   Emery Howard Portfolio Management, Inc.  0.781502"
      ]
     },
     "execution_count": 19,
     "metadata": {},
     "output_type": "execute_result"
    }
   ],
   "source": [
    "# Search for managers with significiant investments in area\n",
    "res_df = gds.run_cypher(\"\"\"\n",
    "CALL db.index.vector.queryNodes('document-embeddings', 1000, $queryVector)\n",
    "YIELD node AS similarDocuments, score\n",
    "MATCH (similarDocuments)<-[:HAS]-(c:Company)\n",
    "WITH c, avg(score) AS score ORDER BY score LIMIT 100\n",
    "MATCH (c)<-[r:OWNS]-(m:Manager)\n",
    "WITH m, r.value as value, score*r.value as weightedScore\n",
    "WITH m.managerName AS managerName, sum(weightedScore) AS aggScore, sum(value) AS aggValue\n",
    "RETURN managerName, aggScore/aggValue AS score ORDER BY score DESC LIMIT 1000\n",
    "\n",
    "\"\"\", params =  {'queryVector': query_vector})\n",
    "res_df"
   ]
  },
  {
   "cell_type": "markdown",
   "id": "458e5b2c-8bf6-4755-8e3c-9eaf06bc4096",
   "metadata": {},
   "source": [
    "And we can see that our top result is:"
   ]
  },
  {
   "cell_type": "code",
   "execution_count": 20,
   "id": "20f01f64-f15a-4181-9ec3-2adb326e239d",
   "metadata": {},
   "outputs": [
    {
     "data": {
      "text/plain": [
       "'BASSETT HARGROVE INVESTMENT COUNSEL, LLC'"
      ]
     },
     "execution_count": 20,
     "metadata": {},
     "output_type": "execute_result"
    }
   ],
   "source": [
    "top_manager = res_df['managerName'][0]\n",
    "top_manager"
   ]
  },
  {
   "cell_type": "markdown",
   "id": "930804d4-d3ec-48a7-b8c6-92ab8a64ef04",
   "metadata": {},
   "source": [
    "## Expanding Available Data for Knowledge Retrieval\n",
    "Not every element in your data will have rich text data, and further, much like we only have 10K documents for some companies, your use cases may also have incomplete, unevenly distributed text data. \n",
    "\n",
    "We can check our top result investment manager to this. "
   ]
  },
  {
   "cell_type": "code",
   "execution_count": 21,
   "id": "10aefd2b-4100-4be3-a985-1ceabcd2c8ca",
   "metadata": {},
   "outputs": [
    {
     "data": {
      "text/html": [
       "<div>\n",
       "<style scoped>\n",
       "    .dataframe tbody tr th:only-of-type {\n",
       "        vertical-align: middle;\n",
       "    }\n",
       "\n",
       "    .dataframe tbody tr th {\n",
       "        vertical-align: top;\n",
       "    }\n",
       "\n",
       "    .dataframe thead th {\n",
       "        text-align: right;\n",
       "    }\n",
       "</style>\n",
       "<table border=\"1\" class=\"dataframe\">\n",
       "  <thead>\n",
       "    <tr style=\"text-align: right;\">\n",
       "      <th></th>\n",
       "      <th>managerName</th>\n",
       "      <th>ownedCompaniesWithDocs</th>\n",
       "      <th>totalOwnedCompanies</th>\n",
       "    </tr>\n",
       "  </thead>\n",
       "  <tbody>\n",
       "    <tr>\n",
       "      <th>0</th>\n",
       "      <td>BASSETT HARGROVE INVESTMENT COUNSEL, LLC</td>\n",
       "      <td>2</td>\n",
       "      <td>51</td>\n",
       "    </tr>\n",
       "  </tbody>\n",
       "</table>\n",
       "</div>"
      ],
      "text/plain": [
       "                                managerName  ownedCompaniesWithDocs  \\\n",
       "0  BASSETT HARGROVE INVESTMENT COUNSEL, LLC                       2   \n",
       "\n",
       "   totalOwnedCompanies  \n",
       "0                   51  "
      ]
     },
     "execution_count": 21,
     "metadata": {},
     "output_type": "execute_result"
    }
   ],
   "source": [
    "gds.run_cypher('''\n",
    "MATCH (m:Manager {managerName: $managerName})-[:OWNS]->(c:Company)-[:HAS]->(d:Document)\n",
    "WITH m, count(DISTINCT c) AS ownedCompaniesWithDocs\n",
    "MATCH (m:Manager {managerName: $managerName})-[:OWNS]->(c:Company)\n",
    "RETURN m.managerName AS managerName, ownedCompaniesWithDocs, count(DISTINCT c) AS totalOwnedCompanies\n",
    "''', params =  {'managerName':top_manager})"
   ]
  },
  {
   "cell_type": "markdown",
   "id": "532553dd-682e-45cf-96d8-7cecf58068a2",
   "metadata": {},
   "source": [
    "This manager has significantly more other companies they own without documents.  We can use Graph Data Science Node Similarity to find the managers that have the most overlap to this one which should give us other Energy companies that we missed due to sparse text data."
   ]
  },
  {
   "cell_type": "code",
   "execution_count": 22,
   "id": "252ff6a0-eae7-4dcc-aa39-fbb7a37b1114",
   "metadata": {},
   "outputs": [],
   "source": [
    "g, _ = gds.graph.project('proj', ['Company', 'Manager'], {'OWNS':{'properties':['value']}})"
   ]
  },
  {
   "cell_type": "code",
   "execution_count": 23,
   "id": "23119a94-d0d0-4c60-b319-f2d94805a144",
   "metadata": {},
   "outputs": [
    {
     "data": {
      "text/plain": [
       "preProcessingMillis                                                       1\n",
       "computeMillis                                                            11\n",
       "writeMillis                                                              33\n",
       "postProcessingMillis                                                     -1\n",
       "nodesCompared                                                             4\n",
       "relationshipsWritten                                                     10\n",
       "similarityDistribution    {'min': 0.01062631607055664, 'p5': 0.010626316...\n",
       "configuration             {'writeProperty': 'score', 'writeRelationshipT...\n",
       "Name: 0, dtype: object"
      ]
     },
     "execution_count": 23,
     "metadata": {},
     "output_type": "execute_result"
    }
   ],
   "source": [
    "gds.nodeSimilarity.write(g, writeRelationshipType = 'SIMILAR', writeProperty = 'score', relationshipWeightProperty = 'value')"
   ]
  },
  {
   "cell_type": "code",
   "execution_count": 24,
   "id": "acd39e18-fc3d-4734-bbe8-e1862516fc29",
   "metadata": {},
   "outputs": [
    {
     "data": {
      "text/plain": [
       "graphName                                                             proj\n",
       "database                                                             neo4j\n",
       "memoryUsage                                                               \n",
       "sizeInBytes                                                             -1\n",
       "nodeCount                                                              224\n",
       "relationshipCount                                                      289\n",
       "configuration            {'relationshipProjection': {'OWNS': {'aggregat...\n",
       "density                                                           0.005786\n",
       "creationTime                           2023-10-09T13:54:37.030415913+00:00\n",
       "modificationTime                       2023-10-09T13:54:37.850611254+00:00\n",
       "schema                   {'graphProperties': {}, 'nodes': {'Manager': {...\n",
       "schemaWithOrientation    {'graphProperties': {}, 'nodes': {'Manager': {...\n",
       "Name: 0, dtype: object"
      ]
     },
     "execution_count": 24,
     "metadata": {},
     "output_type": "execute_result"
    }
   ],
   "source": [
    "g.drop()"
   ]
  },
  {
   "cell_type": "markdown",
   "id": "addcf2b2-a3b3-41a2-bc5d-d9630b0689cb",
   "metadata": {},
   "source": [
    "And now we can pull back other relevant results"
   ]
  },
  {
   "cell_type": "code",
   "execution_count": 25,
   "id": "5ec2ed6f-6d34-414f-82b3-9cf28602d4e0",
   "metadata": {},
   "outputs": [
    {
     "data": {
      "text/html": [
       "<div>\n",
       "<style scoped>\n",
       "    .dataframe tbody tr th:only-of-type {\n",
       "        vertical-align: middle;\n",
       "    }\n",
       "\n",
       "    .dataframe tbody tr th {\n",
       "        vertical-align: top;\n",
       "    }\n",
       "\n",
       "    .dataframe thead th {\n",
       "        text-align: right;\n",
       "    }\n",
       "</style>\n",
       "<table border=\"1\" class=\"dataframe\">\n",
       "  <thead>\n",
       "    <tr style=\"text-align: right;\">\n",
       "      <th></th>\n",
       "      <th>managerName</th>\n",
       "      <th>score</th>\n",
       "    </tr>\n",
       "  </thead>\n",
       "  <tbody>\n",
       "    <tr>\n",
       "      <th>0</th>\n",
       "      <td>PRIVATE ASSET MANAGEMENT INC</td>\n",
       "      <td>0.045189</td>\n",
       "    </tr>\n",
       "    <tr>\n",
       "      <th>1</th>\n",
       "      <td>Rempart Asset Management Inc.</td>\n",
       "      <td>0.023110</td>\n",
       "    </tr>\n",
       "    <tr>\n",
       "      <th>2</th>\n",
       "      <td>Emery Howard Portfolio Management, Inc.</td>\n",
       "      <td>0.010626</td>\n",
       "    </tr>\n",
       "  </tbody>\n",
       "</table>\n",
       "</div>"
      ],
      "text/plain": [
       "                               managerName     score\n",
       "0             PRIVATE ASSET MANAGEMENT INC  0.045189\n",
       "1            Rempart Asset Management Inc.  0.023110\n",
       "2  Emery Howard Portfolio Management, Inc.  0.010626"
      ]
     },
     "execution_count": 25,
     "metadata": {},
     "output_type": "execute_result"
    }
   ],
   "source": [
    "gds.run_cypher('''\n",
    "MATCH (m0:Manager {managerName: $managerName})-[r:SIMILAR]->(m:Manager)\n",
    "RETURN DISTINCT m.managerName AS managerName, r.score AS score\n",
    "ORDER BY score DESC LIMIT 10\n",
    "''', params =  {'managerName':top_manager})"
   ]
  },
  {
   "cell_type": "markdown",
   "id": "3a0a43fc-72c5-4a40-914f-01e7f3001c56",
   "metadata": {},
   "source": [
    "## Clean Up"
   ]
  },
  {
   "cell_type": "code",
   "execution_count": 26,
   "id": "0f548f8e-e48f-4d5f-b2fd-2251280fc8f9",
   "metadata": {},
   "outputs": [
    {
     "data": {
      "text/html": [
       "<div>\n",
       "<style scoped>\n",
       "    .dataframe tbody tr th:only-of-type {\n",
       "        vertical-align: middle;\n",
       "    }\n",
       "\n",
       "    .dataframe tbody tr th {\n",
       "        vertical-align: top;\n",
       "    }\n",
       "\n",
       "    .dataframe thead th {\n",
       "        text-align: right;\n",
       "    }\n",
       "</style>\n",
       "<table border=\"1\" class=\"dataframe\">\n",
       "  <thead>\n",
       "    <tr style=\"text-align: right;\">\n",
       "      <th></th>\n",
       "    </tr>\n",
       "  </thead>\n",
       "  <tbody>\n",
       "  </tbody>\n",
       "</table>\n",
       "</div>"
      ],
      "text/plain": [
       "Empty DataFrame\n",
       "Columns: []\n",
       "Index: []"
      ]
     },
     "execution_count": 26,
     "metadata": {},
     "output_type": "execute_result"
    }
   ],
   "source": [
    "gds.run_cypher('MATCH (M:Manager)-[s:SIMILAR]->() DELETE s')"
   ]
  },
  {
   "cell_type": "code",
   "execution_count": null,
   "id": "97bb842d-c9c3-4caa-bfa2-58ac997e534e",
   "metadata": {},
   "outputs": [],
   "source": []
  }
 ],
 "metadata": {
  "environment": {
   "kernel": "conda-root-py",
   "name": "workbench-notebooks.m111",
   "type": "gcloud",
   "uri": "gcr.io/deeplearning-platform-release/workbench-notebooks:m111"
  },
  "kernelspec": {
   "display_name": "Python (Local)",
   "language": "python",
   "name": "local-base"
  },
  "language_info": {
   "codemirror_mode": {
    "name": "ipython",
    "version": 3
   },
   "file_extension": ".py",
   "mimetype": "text/x-python",
   "name": "python",
   "nbconvert_exporter": "python",
   "pygments_lexer": "ipython3",
   "version": "3.10.12"
  }
 },
 "nbformat": 4,
 "nbformat_minor": 5
}
