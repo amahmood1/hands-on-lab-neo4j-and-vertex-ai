{
 "cells": [
  {
   "cell_type": "markdown",
   "id": "19ae6874-7585-4a0b-848c-965f639def41",
   "metadata": {},
   "source": [
    "# Semantic Search\n",
    "Semantic search is [defined as \"search with meaning.\"](https://en.wikipedia.org/wiki/Semantic_search) It is key for effective knowledge retrieval.\n",
    "\n",
    "As opposed to traditional, lexical, search which finds matches based on keywords, semantic search seeks to improve search quality and accuracy by understanding search intent and pulling results that match the user’s contextual meaning.  Semantic search is often used in reference to text embedding and vector similarity search, but this is just one implementation aspect of it. Knowledge graph and symbolic query logic can also play a critical role in making semantic search a reality. \n",
    "\n",
    "If all you care about is analyzing a set of documents on a file system, then sure, vector indexing and search may be sufficient.  However, once you need to retrieve and make inferences about people, places, and things connected to those documents, Knowledge graph becomes key. \n",
    "\n",
    "If documents are the entities of interest, for example: \"find all documents that talk about pharma related things,\" then text embeddings with vector similarity search suffices.  But, what if we want second or third-order entities related to the documents?  For example, \"find investors who are most focused on pharma related strategies,\" how would we efficiently search for them at scale in an enterprise setting?\n",
    "\n",
    "This is what we demonstrate below.  We will also show how you can use graph relationships and Graph Data Science algorithms to further improve search results, especially in common scenarios where the presence of text data is inconsistent or sparse."
   ]
  },
  {
   "cell_type": "markdown",
   "id": "4026b768-0406-4ce1-a1bb-ed79b64701a3",
   "metadata": {},
   "source": [
    "## Connect to Neo4j"
   ]
  },
  {
   "cell_type": "code",
   "execution_count": null,
   "id": "50798482-b5d5-4e96-adb2-851a3855f82e",
   "metadata": {},
   "outputs": [],
   "source": [
    "# username is neo4j by default\n",
    "NEO4J_USERNAME = 'neo4j'\n",
    "\n",
    "# You will need to change these to match your credentials\n",
    "NEO4J_URI = 'neo4j+s://6688b25b.databases.neo4j.io'\n",
    "NEO4J_PASSWORD = '_kogrNk53u8oTk5be55kmit1kHGdhZj98yJlG-VYSR'"
   ]
  },
  {
   "cell_type": "code",
   "execution_count": 4,
   "id": "5aa11282-874f-4126-832d-9a2f772989a5",
   "metadata": {},
   "outputs": [],
   "source": [
    "from graphdatascience import GraphDataScience\n",
    "\n",
    "gds = GraphDataScience(\n",
    "    NEO4J_URI,\n",
    "    auth=(NEO4J_USERNAME, NEO4J_PASSWORD),\n",
    "    aura_ds=True\n",
    ")\n",
    "gds.set_database('neo4j')"
   ]
  },
  {
   "cell_type": "markdown",
   "id": "6ded4103-008d-4f93-82c9-918add3688eb",
   "metadata": {},
   "source": [
    "## Neo4j Vector Index\n",
    "We will need to create a vector index for similarity search on Document nodes. Neo4j offers a vector index that enables Approximate Nearest Neighbor Search (ANN). Let's creat an index."
   ]
  },
  {
   "cell_type": "code",
   "execution_count": null,
   "id": "f08fe029-fd4f-476a-b510-7dbcdb3d892d",
   "metadata": {},
   "outputs": [],
   "source": [
    "gds.run_cypher(\"CALL db.index.vector.createNodeIndex('document-embeddings', 'Document', 'textEmbedding', 768, 'cosine')\")"
   ]
  },
  {
   "cell_type": "markdown",
   "id": "27e3300f-e799-4ac1-b236-a23c300ae5e2",
   "metadata": {},
   "source": [
    "You can see that vector index has been created using `SHOW INDEXES`"
   ]
  },
  {
   "cell_type": "code",
   "execution_count": 8,
   "id": "3b9c4634-bfee-4d73-a197-ed4345e729bf",
   "metadata": {},
   "outputs": [
    {
     "data": {
      "text/html": [
       "<div>\n",
       "<style scoped>\n",
       "    .dataframe tbody tr th:only-of-type {\n",
       "        vertical-align: middle;\n",
       "    }\n",
       "\n",
       "    .dataframe tbody tr th {\n",
       "        vertical-align: top;\n",
       "    }\n",
       "\n",
       "    .dataframe thead th {\n",
       "        text-align: right;\n",
       "    }\n",
       "</style>\n",
       "<table border=\"1\" class=\"dataframe\">\n",
       "  <thead>\n",
       "    <tr style=\"text-align: right;\">\n",
       "      <th></th>\n",
       "      <th>name</th>\n",
       "      <th>type</th>\n",
       "      <th>labelsOrTypes</th>\n",
       "      <th>properties</th>\n",
       "      <th>options</th>\n",
       "    </tr>\n",
       "  </thead>\n",
       "  <tbody>\n",
       "    <tr>\n",
       "      <th>0</th>\n",
       "      <td>document-embeddings</td>\n",
       "      <td>VECTOR</td>\n",
       "      <td>[Document]</td>\n",
       "      <td>[textEmbedding]</td>\n",
       "      <td>{'indexProvider': 'vector-1.0', 'indexConfig':...</td>\n",
       "    </tr>\n",
       "  </tbody>\n",
       "</table>\n",
       "</div>"
      ],
      "text/plain": [
       "                  name    type labelsOrTypes       properties  \\\n",
       "0  document-embeddings  VECTOR    [Document]  [textEmbedding]   \n",
       "\n",
       "                                             options  \n",
       "0  {'indexProvider': 'vector-1.0', 'indexConfig':...  "
      ]
     },
     "execution_count": 8,
     "metadata": {},
     "output_type": "execute_result"
    }
   ],
   "source": [
    "gds.run_cypher(''' \n",
    "SHOW INDEXES YIELD name, type, labelsOrTypes, properties, options\n",
    "WHERE type = \"VECTOR\"\n",
    "''')"
   ]
  },
  {
   "cell_type": "markdown",
   "id": "313f706a-08c3-4fc0-9c50-293d588414ae",
   "metadata": {},
   "source": [
    "## Deep Semantic Search with Knowledge Graph\n",
    "Now that we have an index.  Let’s use it in action.\n",
    "In this case, we will Answer The Question - \"What are the companies associated with energy, oil and gas?\". \n",
    "Remember we do not have documents on investment managers, just companies, and there can be multiple documents for each company."
   ]
  },
  {
   "cell_type": "markdown",
   "id": "a00ab005-bc0f-49b7-8cf9-e6ecf5cbe298",
   "metadata": {},
   "source": [
    "## Dense Retrieval using Neo4j"
   ]
  },
  {
   "cell_type": "code",
   "execution_count": 5,
   "id": "c13411b2-37ae-4d80-a147-9e32904d9012",
   "metadata": {},
   "outputs": [],
   "source": [
    "from langchain.docstore.document import Document\n",
    "from typing import (\n",
    "    List,\n",
    "    Tuple,\n",
    ")\n",
    "import json\n",
    "\n",
    "def to_df(results: List[Tuple[Document, float]]):\n",
    "    return pd.DataFrame({\n",
    "        \"doc_id\": [r[0].metadata.get('documentId') for r in results],\n",
    "        \"score\": [r[1] for r in results],\n",
    "        \"text\": [r[0].page_content for r in results]\n",
    "    })"
   ]
  },
  {
   "cell_type": "code",
   "execution_count": 39,
   "id": "48299f48-f956-4648-8739-9c990811fa55",
   "metadata": {},
   "outputs": [
    {
     "data": {
      "text/html": [
       "<div>\n",
       "<style scoped>\n",
       "    .dataframe tbody tr th:only-of-type {\n",
       "        vertical-align: middle;\n",
       "    }\n",
       "\n",
       "    .dataframe tbody tr th {\n",
       "        vertical-align: top;\n",
       "    }\n",
       "\n",
       "    .dataframe thead th {\n",
       "        text-align: right;\n",
       "    }\n",
       "</style>\n",
       "<table border=\"1\" class=\"dataframe\">\n",
       "  <thead>\n",
       "    <tr style=\"text-align: right;\">\n",
       "      <th></th>\n",
       "      <th>doc_id</th>\n",
       "      <th>score</th>\n",
       "      <th>text</th>\n",
       "    </tr>\n",
       "  </thead>\n",
       "  <tbody>\n",
       "    <tr>\n",
       "      <th>0</th>\n",
       "      <td>Goldman Sachs BDC, Inc.34</td>\n",
       "      <td>0.846822</td>\n",
       "      <td>Conergy Asia &amp; ME Pte. LTD.\\n\\n\\nConstruction ...</td>\n",
       "    </tr>\n",
       "    <tr>\n",
       "      <th>1</th>\n",
       "      <td>BERKSHIRE HATHAWAY INC25</td>\n",
       "      <td>0.845432</td>\n",
       "      <td>The Great Britain distribution companies consi...</td>\n",
       "    </tr>\n",
       "    <tr>\n",
       "      <th>2</th>\n",
       "      <td>BERKSHIRE HATHAWAY INC24</td>\n",
       "      <td>0.842114</td>\n",
       "      <td>MidAmerican Energy Company (“MEC”) is a regula...</td>\n",
       "    </tr>\n",
       "    <tr>\n",
       "      <th>3</th>\n",
       "      <td>BERKSHIRE HATHAWAY INC23</td>\n",
       "      <td>0.840685</td>\n",
       "      <td>Berkshire currently has a 91.1% ownership inte...</td>\n",
       "    </tr>\n",
       "    <tr>\n",
       "      <th>4</th>\n",
       "      <td>ROPER TECHNOLOGIES I5</td>\n",
       "      <td>0.838911</td>\n",
       "      <td>FTI\\n - provides flow meter calibrators, and c...</td>\n",
       "    </tr>\n",
       "    <tr>\n",
       "      <th>5</th>\n",
       "      <td>BERKSHIRE HATHAWAY INC34</td>\n",
       "      <td>0.838776</td>\n",
       "      <td>BHE and its energy subsidiaries continue to fo...</td>\n",
       "    </tr>\n",
       "    <tr>\n",
       "      <th>6</th>\n",
       "      <td>BERKSHIRE HATHAWAY INC40</td>\n",
       "      <td>0.838742</td>\n",
       "      <td>Lubrizol \\n\\n\\nThe Lubrizol Corporation (“Lubr...</td>\n",
       "    </tr>\n",
       "    <tr>\n",
       "      <th>7</th>\n",
       "      <td>STANLEY BLACK &amp; DECKER, INC7</td>\n",
       "      <td>0.837772</td>\n",
       "      <td>The Engineered Fastening business primarily se...</td>\n",
       "    </tr>\n",
       "    <tr>\n",
       "      <th>8</th>\n",
       "      <td>CANADIAN PACIFIC KANSAS CITY LTD16</td>\n",
       "      <td>0.836339</td>\n",
       "      <td>Forest products traffic includes pulp and pape...</td>\n",
       "    </tr>\n",
       "    <tr>\n",
       "      <th>9</th>\n",
       "      <td>BERKSHIRE HATHAWAY INC46</td>\n",
       "      <td>0.836064</td>\n",
       "      <td>Transportation Products\\n serves the automotiv...</td>\n",
       "    </tr>\n",
       "  </tbody>\n",
       "</table>\n",
       "</div>"
      ],
      "text/plain": [
       "                               doc_id     score  \\\n",
       "0           Goldman Sachs BDC, Inc.34  0.846822   \n",
       "1            BERKSHIRE HATHAWAY INC25  0.845432   \n",
       "2            BERKSHIRE HATHAWAY INC24  0.842114   \n",
       "3            BERKSHIRE HATHAWAY INC23  0.840685   \n",
       "4               ROPER TECHNOLOGIES I5  0.838911   \n",
       "5            BERKSHIRE HATHAWAY INC34  0.838776   \n",
       "6            BERKSHIRE HATHAWAY INC40  0.838742   \n",
       "7        STANLEY BLACK & DECKER, INC7  0.837772   \n",
       "8  CANADIAN PACIFIC KANSAS CITY LTD16  0.836339   \n",
       "9            BERKSHIRE HATHAWAY INC46  0.836064   \n",
       "\n",
       "                                                text  \n",
       "0  Conergy Asia & ME Pte. LTD.\\n\\n\\nConstruction ...  \n",
       "1  The Great Britain distribution companies consi...  \n",
       "2  MidAmerican Energy Company (“MEC”) is a regula...  \n",
       "3  Berkshire currently has a 91.1% ownership inte...  \n",
       "4  FTI\\n - provides flow meter calibrators, and c...  \n",
       "5  BHE and its energy subsidiaries continue to fo...  \n",
       "6  Lubrizol \\n\\n\\nThe Lubrizol Corporation (“Lubr...  \n",
       "7  The Engineered Fastening business primarily se...  \n",
       "8  Forest products traffic includes pulp and pape...  \n",
       "9  Transportation Products\\n serves the automotiv...  "
      ]
     },
     "execution_count": 39,
     "metadata": {},
     "output_type": "execute_result"
    }
   ],
   "source": [
    "from langchain.embeddings.vertexai import VertexAIEmbeddings\n",
    "from langchain.text_splitter import CharacterTextSplitter\n",
    "from langchain.vectorstores import Neo4jVector\n",
    "from langchain.vectorstores.neo4j_vector import SearchType\n",
    "import pandas as pd\n",
    "\n",
    "db = Neo4jVector.from_existing_index(\n",
    "    url=NEO4J_URI,\n",
    "    username=NEO4J_USERNAME,\n",
    "    password=NEO4J_PASSWORD,\n",
    "    embedding=VertexAIEmbeddings(),\n",
    "    index_name='document-embeddings',\n",
    "    keyword_index_name='doc_text',\n",
    "    search_type=SearchType.VECTOR\n",
    ")\n",
    "query = 'What are the companies associated with energy, oil and gas?'\n",
    "results = db.similarity_search_with_score(query, k=10)\n",
    "res_df = to_df(results)\n",
    "res_df"
   ]
  },
  {
   "cell_type": "markdown",
   "id": "6842196c-c83a-4e07-889e-e4775ef1ff26",
   "metadata": {},
   "source": [
    "Lets take a look at the first result and then understand whether the chunk has the information we asked for."
   ]
  },
  {
   "cell_type": "code",
   "execution_count": 40,
   "id": "365985b9-eb2b-47cd-8869-4f31351a23ac",
   "metadata": {},
   "outputs": [
    {
     "data": {
      "text/plain": [
       "'Conergy Asia & ME Pte. LTD.\\n\\n\\nConstruction & Engineering\\n\\n\\n\\xa0\\n\\n\\n01/11/21\\n\\n\\n\\xa0\\n\\n\\n3,126,780\\n\\n\\n\\xa0\\n\\n\\n\\xa0\\n\\n\\n5,300\\n\\n\\n\\xa0\\n\\n\\n\\xa0\\n\\n\\n—\\n\\n\\n\\xa0\\n\\n\\n\\xa0^ (1) (3) (6)\\n\\n\\n\\n\\n\\n\\nCountry Fresh Holding Company Inc.\\n\\n\\nFood Products\\n\\n\\n\\xa0\\n\\n\\n04/29/19\\n\\n\\n\\xa0\\n\\n\\n1,514\\n\\n\\n\\xa0\\n\\n\\n\\xa0\\n\\n\\n888\\n\\n\\n\\xa0\\n\\n\\n\\xa0\\n\\n\\n—\\n\\n\\n\\xa0\\n\\n\\n\\xa0(2) (3) (6)\\n\\n\\n\\n\\n\\n\\nElah Holdings, Inc.\\n\\n\\nCapital Markets\\n\\n\\n\\xa0\\n\\n\\n05/09/18\\n\\n\\n\\xa0\\n\\n\\n111,650\\n\\n\\n\\xa0\\n\\n\\n\\xa0\\n\\n\\n5,238\\n\\n\\n\\xa0\\n\\n\\n\\xa0\\n\\n\\n5,396\\n\\n\\n\\xa0\\n\\n\\n\\xa0^ (2) (3) (6)\\n\\n\\n\\n\\n\\n\\nExostar LLC - Class B\\n\\n\\nAerospace & Defense\\n\\n\\n\\xa0\\n\\n\\n07/06/20\\n\\n\\n\\xa0\\n\\n\\n31,407\\n\\n\\n\\xa0\\n\\n\\n\\xa0\\n\\n\\n—\\n\\n\\n\\xa0\\n\\n\\n\\xa0\\n\\n\\n25\\n\\n\\n\\xa0\\n\\n\\n\\xa0(2) (3) (6)\\n\\n\\n\\n\\n\\n\\nFoundation Software - Class B\\n\\n\\nConstruction & Engineering\\n\\n\\n\\xa0\\n\\n\\n08/31/20\\n\\n\\n\\xa0\\n\\n\\n11,826\\n\\n\\n\\xa0\\n\\n\\n\\xa0\\n\\n\\n—\\n\\n\\n\\xa0\\n\\n\\n\\xa0\\n\\n\\n9\\n\\n\\n\\xa0\\n\\n\\n\\xa0(2) (3) (6)\\n\\n\\n\\n\\n\\n\\nIracore International Holdings, Inc.\\n\\n\\nEnergy Equipment & Services\\n\\n\\n\\xa0\\n\\n\\n04/13/17\\n\\n\\n\\xa0\\n\\n\\n28,898\\n\\n\\n\\xa0\\n\\n\\n\\xa0\\n\\n\\n7,003\\n\\n\\n\\xa0\\n\\n\\n\\xa0\\n\\n\\n5,235\\n\\n\\n\\xa0\\n\\n\\n\\xa0^ (3) (6)\\n\\n\\n\\n\\n\\n\\nJill Acquisition LLC (dba J. Jill)\\n\\n\\nSpecialty Retail\\n\\n\\n\\xa0\\n\\n\\n09/30/20\\n\\n\\n\\xa0\\n\\n\\n18,869\\n\\n\\n\\xa0\\n\\n\\n\\xa0\\n\\n\\n56\\n\\n\\n\\xa0\\n\\n\\n\\xa0\\n\\n\\n362\\n\\n\\n\\xa0\\n\\n\\n\\xa0(6)\\n\\n\\n\\n\\n\\n\\nKawa Solar Holdings Limited\\n\\n\\nConstruction & Engineering\\n\\n\\n\\xa0\\n\\n\\n08/17/16\\n\\n\\n\\xa0\\n\\n\\n1,399,556\\n\\n\\n\\xa0\\n\\n\\n\\xa0\\n\\n\\n—\\n\\n\\n\\xa0\\n\\n\\n\\xa0\\n\\n\\n—\\n\\n\\n\\xa0\\n\\n\\n\\xa0^ (1) (3) (6)\\n\\n\\n\\n\\n\\n\\nNational Spine and Pain Centers, LLC\\n\\n\\nHealth Care Providers & Services\\n\\n\\n\\xa0\\n\\n\\n06/02/17\\n\\n\\n\\xa0\\n\\n\\n1,100\\n\\n\\n\\xa0\\n\\n\\n\\xa0\\n\\n\\n883\\n\\n\\n\\xa0\\n\\n\\n\\xa0\\n\\n\\n546\\n\\n\\n\\xa0\\n\\n\\n\\xa0(2) (3) (6)\\n\\n\\n\\n\\n\\n\\nPrairie Provident Resources, Inc.\\n\\n\\nOil, Gas & Consumable Fuels\\n\\n\\n\\xa0\\n\\n\\n\\xa0\\n\\n\\n\\xa0\\n\\n\\n3,579,988\\n\\n\\n\\xa0\\n\\n\\n\\xa0\\n\\n\\n9,237\\n\\n\\n\\xa0\\n\\n\\n\\xa0\\n\\n\\n322\\n\\n\\n\\xa0\\n\\n\\n\\xa0(1) (6)\\n\\n\\n\\n\\n\\n\\nTotal Vision LLC\\n\\n\\nHealth Care Providers & Services\\n\\n\\n\\xa0\\n\\n\\n07/15/21\\n\\n\\n\\xa0\\n\\n\\n72,571\\n\\n\\n\\xa0\\n\\n\\n\\xa0\\n\\n\\n1,270\\n\\n\\n\\xa0\\n\\n\\n\\xa0\\n\\n\\n1,306\\n\\n\\n\\xa0\\n\\n\\n\\xa0(2) (3) (6)\\n\\n\\n\\n\\n\\n\\nVolt Bidco, Inc. (aka Power Factors)\\n\\n\\nIndependent Power and Renewable Electricity Producers\\n\\n\\n\\xa0\\n\\n\\n08/11/21\\n\\n\\n\\xa0\\n\\n\\n2,908\\n\\n\\n\\xa0\\n\\n\\n\\xa0\\n\\n\\n2,908\\n\\n\\n\\xa0\\n\\n\\n\\xa0\\n\\n\\n3,057\\n\\n\\n\\xa0\\n\\n\\n\\xa0(2) (3) (6)\\n\\n\\n\\n\\n\\n\\nWhiteWater Holding Company LLC\\n\\n\\nDiversified Consumer Services\\n\\n\\n\\xa0\\n\\n\\n12/21/21\\n\\n\\n\\xa0\\n\\n\\n23,400\\n\\n\\n\\xa0\\n\\n\\n\\xa0\\n\\n\\n2,340\\n\\n\\n\\xa0\\n\\n\\n\\xa0\\n\\n\\n2,340\\n\\n\\n\\xa0\\n\\n\\n\\xa0(2) (6)\\n\\n\\n\\n\\n\\n\\nYasso, Inc.\\n\\n\\nFood Products\\n\\n\\n\\xa0\\n\\n\\n03/23/17\\n\\n\\n\\xa0\\n\\n\\n1,640\\n\\n\\n\\xa0\\n\\n\\n\\xa0\\n\\n\\n1,368\\n\\n\\n\\xa0\\n\\n\\n\\xa0\\n\\n\\n2,326\\n\\n\\n\\xa0\\n\\n\\n\\xa0(2) (3) (6)\\n\\n\\n\\n\\n\\n\\nTotal Common Stock\\n\\n\\n\\xa0\\n\\n\\n\\xa0\\n\\n\\n\\xa0\\n\\n\\n\\xa0\\n\\n\\n\\xa0\\n\\n\\n\\xa0\\n\\n\\n71,777'"
      ]
     },
     "execution_count": 40,
     "metadata": {},
     "output_type": "execute_result"
    }
   ],
   "source": [
    "res_df['text'][0]"
   ]
  },
  {
   "cell_type": "markdown",
   "id": "b8f4a919-4a40-4b37-a565-73111324fa31",
   "metadata": {},
   "source": [
    "## Re-rank results\n",
    "If you explore the results, you may find some irrelevant results. The retriever has to be efficient for large document collections with millions of entries. However, it might return irrelevant candidates.\n",
    "A re-ranker based on a Cross-Encoder can substantially improve the final results for the user. The query and a possible document is passed simultaneously to transformer network, which then outputs a single score between 0 and 1 indicating how relevant the document is for the given query.\n",
    "\n",
    "We will use a Cross-encoder model named `ms-marco-MiniLM-L-6-v2` from SentenceTransformers library."
   ]
  },
  {
   "cell_type": "code",
   "execution_count": 43,
   "id": "29a717ff-9df5-47fb-9962-f296187faae2",
   "metadata": {},
   "outputs": [],
   "source": [
    "def rerank_results(res_df):\n",
    "    from sentence_transformers import SentenceTransformer, CrossEncoder, util\n",
    "    cross_encoder = CrossEncoder('cross-encoder/ms-marco-MiniLM-L-6-v2')\n",
    "    passages = []\n",
    "    ##### Re-Ranking #####\n",
    "    # Now, score all retrieved passages with the cross_encoder\n",
    "    cross_inp = [[query, f\"Text: {hit['text']}\"] for _,hit in res_df[:].iterrows()]\n",
    "    cross_scores = cross_encoder.predict(cross_inp)\n",
    "\n",
    "    # Sort results by the cross-encoder scores\n",
    "    res_df['cross-score'] = cross_scores\n",
    "\n",
    "    # Output of top-10 hits from re-ranker\n",
    "    print(\"Top-10 Cross-Encoder Re-ranker hits\")\n",
    "    hits = res_df.sort_values('cross-score', ascending=False).reset_index(drop=True)\n",
    "    for _,hit in hits.iterrows():\n",
    "        print(\"\\t{:.3f}\\t{}\".format(hit['cross-score'], hit['doc_id']))\n",
    "    return hits"
   ]
  },
  {
   "cell_type": "code",
   "execution_count": 44,
   "id": "5851d3bb-d93f-41fc-9315-8d8dc34f4a72",
   "metadata": {},
   "outputs": [
    {
     "name": "stdout",
     "output_type": "stream",
     "text": [
      "Top-10 Cross-Encoder Re-ranker hits\n",
      "\t-2.413\tBERKSHIRE HATHAWAY INC23\n",
      "\t-3.615\tBERKSHIRE HATHAWAY INC24\n",
      "\t-3.911\tGoldman Sachs BDC, Inc.34\n",
      "\t-4.144\tCANADIAN PACIFIC KANSAS CITY LTD16\n",
      "\t-4.773\tBERKSHIRE HATHAWAY INC25\n",
      "\t-5.857\tSTANLEY BLACK & DECKER, INC7\n",
      "\t-5.920\tBERKSHIRE HATHAWAY INC34\n",
      "\t-7.938\tROPER TECHNOLOGIES I5\n",
      "\t-8.347\tBERKSHIRE HATHAWAY INC40\n",
      "\t-9.472\tBERKSHIRE HATHAWAY INC46\n"
     ]
    },
    {
     "data": {
      "text/html": [
       "<div>\n",
       "<style scoped>\n",
       "    .dataframe tbody tr th:only-of-type {\n",
       "        vertical-align: middle;\n",
       "    }\n",
       "\n",
       "    .dataframe tbody tr th {\n",
       "        vertical-align: top;\n",
       "    }\n",
       "\n",
       "    .dataframe thead th {\n",
       "        text-align: right;\n",
       "    }\n",
       "</style>\n",
       "<table border=\"1\" class=\"dataframe\">\n",
       "  <thead>\n",
       "    <tr style=\"text-align: right;\">\n",
       "      <th></th>\n",
       "      <th>doc_id</th>\n",
       "      <th>score</th>\n",
       "      <th>text</th>\n",
       "      <th>cross-score</th>\n",
       "    </tr>\n",
       "  </thead>\n",
       "  <tbody>\n",
       "    <tr>\n",
       "      <th>0</th>\n",
       "      <td>BERKSHIRE HATHAWAY INC23</td>\n",
       "      <td>0.840685</td>\n",
       "      <td>Berkshire currently has a 91.1% ownership inte...</td>\n",
       "      <td>-2.412767</td>\n",
       "    </tr>\n",
       "    <tr>\n",
       "      <th>1</th>\n",
       "      <td>BERKSHIRE HATHAWAY INC24</td>\n",
       "      <td>0.842114</td>\n",
       "      <td>MidAmerican Energy Company (“MEC”) is a regula...</td>\n",
       "      <td>-3.615500</td>\n",
       "    </tr>\n",
       "    <tr>\n",
       "      <th>2</th>\n",
       "      <td>Goldman Sachs BDC, Inc.34</td>\n",
       "      <td>0.846822</td>\n",
       "      <td>Conergy Asia &amp; ME Pte. LTD.\\n\\n\\nConstruction ...</td>\n",
       "      <td>-3.911106</td>\n",
       "    </tr>\n",
       "    <tr>\n",
       "      <th>3</th>\n",
       "      <td>CANADIAN PACIFIC KANSAS CITY LTD16</td>\n",
       "      <td>0.836339</td>\n",
       "      <td>Forest products traffic includes pulp and pape...</td>\n",
       "      <td>-4.144452</td>\n",
       "    </tr>\n",
       "    <tr>\n",
       "      <th>4</th>\n",
       "      <td>BERKSHIRE HATHAWAY INC25</td>\n",
       "      <td>0.845432</td>\n",
       "      <td>The Great Britain distribution companies consi...</td>\n",
       "      <td>-4.772871</td>\n",
       "    </tr>\n",
       "    <tr>\n",
       "      <th>5</th>\n",
       "      <td>STANLEY BLACK &amp; DECKER, INC7</td>\n",
       "      <td>0.837772</td>\n",
       "      <td>The Engineered Fastening business primarily se...</td>\n",
       "      <td>-5.857329</td>\n",
       "    </tr>\n",
       "    <tr>\n",
       "      <th>6</th>\n",
       "      <td>BERKSHIRE HATHAWAY INC34</td>\n",
       "      <td>0.838776</td>\n",
       "      <td>BHE and its energy subsidiaries continue to fo...</td>\n",
       "      <td>-5.920151</td>\n",
       "    </tr>\n",
       "    <tr>\n",
       "      <th>7</th>\n",
       "      <td>ROPER TECHNOLOGIES I5</td>\n",
       "      <td>0.838911</td>\n",
       "      <td>FTI\\n - provides flow meter calibrators, and c...</td>\n",
       "      <td>-7.938165</td>\n",
       "    </tr>\n",
       "    <tr>\n",
       "      <th>8</th>\n",
       "      <td>BERKSHIRE HATHAWAY INC40</td>\n",
       "      <td>0.838742</td>\n",
       "      <td>Lubrizol \\n\\n\\nThe Lubrizol Corporation (“Lubr...</td>\n",
       "      <td>-8.347017</td>\n",
       "    </tr>\n",
       "    <tr>\n",
       "      <th>9</th>\n",
       "      <td>BERKSHIRE HATHAWAY INC46</td>\n",
       "      <td>0.836064</td>\n",
       "      <td>Transportation Products\\n serves the automotiv...</td>\n",
       "      <td>-9.472342</td>\n",
       "    </tr>\n",
       "  </tbody>\n",
       "</table>\n",
       "</div>"
      ],
      "text/plain": [
       "                               doc_id     score  \\\n",
       "0            BERKSHIRE HATHAWAY INC23  0.840685   \n",
       "1            BERKSHIRE HATHAWAY INC24  0.842114   \n",
       "2           Goldman Sachs BDC, Inc.34  0.846822   \n",
       "3  CANADIAN PACIFIC KANSAS CITY LTD16  0.836339   \n",
       "4            BERKSHIRE HATHAWAY INC25  0.845432   \n",
       "5        STANLEY BLACK & DECKER, INC7  0.837772   \n",
       "6            BERKSHIRE HATHAWAY INC34  0.838776   \n",
       "7               ROPER TECHNOLOGIES I5  0.838911   \n",
       "8            BERKSHIRE HATHAWAY INC40  0.838742   \n",
       "9            BERKSHIRE HATHAWAY INC46  0.836064   \n",
       "\n",
       "                                                text  cross-score  \n",
       "0  Berkshire currently has a 91.1% ownership inte...    -2.412767  \n",
       "1  MidAmerican Energy Company (“MEC”) is a regula...    -3.615500  \n",
       "2  Conergy Asia & ME Pte. LTD.\\n\\n\\nConstruction ...    -3.911106  \n",
       "3  Forest products traffic includes pulp and pape...    -4.144452  \n",
       "4  The Great Britain distribution companies consi...    -4.772871  \n",
       "5  The Engineered Fastening business primarily se...    -5.857329  \n",
       "6  BHE and its energy subsidiaries continue to fo...    -5.920151  \n",
       "7  FTI\\n - provides flow meter calibrators, and c...    -7.938165  \n",
       "8  Lubrizol \\n\\n\\nThe Lubrizol Corporation (“Lubr...    -8.347017  \n",
       "9  Transportation Products\\n serves the automotiv...    -9.472342  "
      ]
     },
     "execution_count": 44,
     "metadata": {},
     "output_type": "execute_result"
    }
   ],
   "source": [
    "ranked_results = rerank_results(res_df)\n",
    "ranked_results"
   ]
  },
  {
   "cell_type": "markdown",
   "id": "3479218e-c372-4296-8058-af73eb85096b",
   "metadata": {},
   "source": [
    "As seen above, the cross-encoder finds this passage from Bershire Hathaway to be more relevant to the query"
   ]
  },
  {
   "cell_type": "code",
   "execution_count": 42,
   "id": "c38a08dc-b443-48ab-8e8e-11eb9bc53062",
   "metadata": {},
   "outputs": [
    {
     "data": {
      "text/plain": [
       "'Berkshire currently has a 91.1% ownership interest in Berkshire Hathaway Energy Company (“BHE”). BHE is a global energy company with subsidiaries and affiliates that generate, transmit, store, distribute and supply energy. BHE’s locally managed businesses are organized as separate operating units. BHE’s domestic regulated energy interests are comprised of four regulated utility companies serving approximately 5.2\\xa0million retail customers, five interstate natural gas pipeline companies with approximately 21,100 miles of operated pipeline having a design capacity of approximately 21\\xa0billion cubic feet of natural gas per day and ownership interests in electricity transmission businesses. BHE’s Great Britain electricity distribution subsidiaries serve about 3.9\\xa0million electricity end-users and its electricity transmission-only business in Alberta, Canada serves approximately 85% of Alberta’s population. BHE’s interests also include a diversified portfolio of independent power projects, a liquefied natural gas export, import and storage facility, the largest residential real estate brokerage firm in the United States, and one of the largest residential real estate brokerage franchise networks in the United States. BHE employs approximately 24,000 people in connection with its various operations. \\n\\n\\nK-7\\n\\n\\n\\n\\n\\xa0\\n\\n\\nGeneral Matters \\n\\n\\nPacifiCorp is a regulated electric utility company headquartered in Oregon, serving electric customers in portions of Utah, Oregon, Wyoming, Washington, Idaho and California. The combined service territory’s diverse regional economy ranges from rural, agricultural and mining areas to urban, manufacturing and government service centers. No single segment of the economy dominates the combined service territory, which helps mitigate PacifiCorp’s exposure to economic fluctuations. In addition to retail sales, PacifiCorp sells electricity on a wholesale basis.'"
      ]
     },
     "execution_count": 42,
     "metadata": {},
     "output_type": "execute_result"
    }
   ],
   "source": [
    "ranked_results['text'][0]"
   ]
  },
  {
   "cell_type": "markdown",
   "id": "4f1d9d37-7f27-4683-9bb4-c21db62257f8",
   "metadata": {},
   "source": [
    "## Hybrid Search with Neo4j\n",
    "Vector Search is not the only solution. Often you will find a hybrid approach - a combination of Vector and Fulltext search perform better. You can do both in Neo4j.\n",
    "\n",
    "To do a Fulltext Search, lets first create a fulltext index"
   ]
  },
  {
   "cell_type": "code",
   "execution_count": 228,
   "id": "e107afba-2ae8-4da8-88b1-e5fe7236ced4",
   "metadata": {},
   "outputs": [
    {
     "data": {
      "text/html": [
       "<div>\n",
       "<style scoped>\n",
       "    .dataframe tbody tr th:only-of-type {\n",
       "        vertical-align: middle;\n",
       "    }\n",
       "\n",
       "    .dataframe tbody tr th {\n",
       "        vertical-align: top;\n",
       "    }\n",
       "\n",
       "    .dataframe thead th {\n",
       "        text-align: right;\n",
       "    }\n",
       "</style>\n",
       "<table border=\"1\" class=\"dataframe\">\n",
       "  <thead>\n",
       "    <tr style=\"text-align: right;\">\n",
       "      <th></th>\n",
       "    </tr>\n",
       "  </thead>\n",
       "  <tbody>\n",
       "  </tbody>\n",
       "</table>\n",
       "</div>"
      ],
      "text/plain": [
       "Empty DataFrame\n",
       "Columns: []\n",
       "Index: []"
      ]
     },
     "execution_count": 228,
     "metadata": {},
     "output_type": "execute_result"
    }
   ],
   "source": [
    "gds.run_cypher(\"CREATE FULLTEXT INDEX doc_text IF NOT EXISTS FOR (n:Document) ON EACH [n.text]\")"
   ]
  },
  {
   "cell_type": "code",
   "execution_count": 229,
   "id": "4c75544b-ec3f-4eaa-b57d-bde5258d68b7",
   "metadata": {},
   "outputs": [
    {
     "data": {
      "text/html": [
       "<div>\n",
       "<style scoped>\n",
       "    .dataframe tbody tr th:only-of-type {\n",
       "        vertical-align: middle;\n",
       "    }\n",
       "\n",
       "    .dataframe tbody tr th {\n",
       "        vertical-align: top;\n",
       "    }\n",
       "\n",
       "    .dataframe thead th {\n",
       "        text-align: right;\n",
       "    }\n",
       "</style>\n",
       "<table border=\"1\" class=\"dataframe\">\n",
       "  <thead>\n",
       "    <tr style=\"text-align: right;\">\n",
       "      <th></th>\n",
       "      <th>name</th>\n",
       "      <th>type</th>\n",
       "      <th>labelsOrTypes</th>\n",
       "      <th>properties</th>\n",
       "      <th>options</th>\n",
       "    </tr>\n",
       "  </thead>\n",
       "  <tbody>\n",
       "    <tr>\n",
       "      <th>0</th>\n",
       "      <td>doc_text</td>\n",
       "      <td>FULLTEXT</td>\n",
       "      <td>[Document]</td>\n",
       "      <td>[text]</td>\n",
       "      <td>{'indexProvider': 'fulltext-1.0', 'indexConfig...</td>\n",
       "    </tr>\n",
       "  </tbody>\n",
       "</table>\n",
       "</div>"
      ],
      "text/plain": [
       "       name      type labelsOrTypes properties  \\\n",
       "0  doc_text  FULLTEXT    [Document]     [text]   \n",
       "\n",
       "                                             options  \n",
       "0  {'indexProvider': 'fulltext-1.0', 'indexConfig...  "
      ]
     },
     "execution_count": 229,
     "metadata": {},
     "output_type": "execute_result"
    }
   ],
   "source": [
    "gds.run_cypher(''' \n",
    "SHOW INDEXES YIELD name, type, labelsOrTypes, properties, options\n",
    "WHERE type = \"FULLTEXT\"\n",
    "''')"
   ]
  },
  {
   "cell_type": "code",
   "execution_count": 45,
   "id": "c512be4c-9e55-4b92-9d7c-bb8f2eb2a583",
   "metadata": {},
   "outputs": [
    {
     "data": {
      "text/html": [
       "<div>\n",
       "<style scoped>\n",
       "    .dataframe tbody tr th:only-of-type {\n",
       "        vertical-align: middle;\n",
       "    }\n",
       "\n",
       "    .dataframe tbody tr th {\n",
       "        vertical-align: top;\n",
       "    }\n",
       "\n",
       "    .dataframe thead th {\n",
       "        text-align: right;\n",
       "    }\n",
       "</style>\n",
       "<table border=\"1\" class=\"dataframe\">\n",
       "  <thead>\n",
       "    <tr style=\"text-align: right;\">\n",
       "      <th></th>\n",
       "      <th>doc_id</th>\n",
       "      <th>score</th>\n",
       "      <th>text</th>\n",
       "    </tr>\n",
       "  </thead>\n",
       "  <tbody>\n",
       "    <tr>\n",
       "      <th>0</th>\n",
       "      <td>Goldman Sachs BDC, Inc.102</td>\n",
       "      <td>1.000000</td>\n",
       "      <td>—\\n\\n\\n \\n\\n\\n\\n\\n\\n\\nTrading Companies &amp; Dist...</td>\n",
       "    </tr>\n",
       "    <tr>\n",
       "      <th>1</th>\n",
       "      <td>BERKSHIRE HATHAWAY INC37</td>\n",
       "      <td>0.957910</td>\n",
       "      <td>Investment casting technology involves a multi...</td>\n",
       "    </tr>\n",
       "    <tr>\n",
       "      <th>2</th>\n",
       "      <td>Martin Marietta Materia12</td>\n",
       "      <td>0.951432</td>\n",
       "      <td>Cement consumption is dependent on the time of...</td>\n",
       "    </tr>\n",
       "    <tr>\n",
       "      <th>3</th>\n",
       "      <td>BERKSHIRE HATHAWAY INC26</td>\n",
       "      <td>0.930401</td>\n",
       "      <td>Northern Natural, based in Nebraska, operates ...</td>\n",
       "    </tr>\n",
       "    <tr>\n",
       "      <th>4</th>\n",
       "      <td>DELTA AI21</td>\n",
       "      <td>0.892080</td>\n",
       "      <td>Our results of operations are significantly im...</td>\n",
       "    </tr>\n",
       "    <tr>\n",
       "      <th>5</th>\n",
       "      <td>CANADIAN PACIFIC KANSAS CITY LTD16</td>\n",
       "      <td>0.890692</td>\n",
       "      <td>Forest products traffic includes pulp and pape...</td>\n",
       "    </tr>\n",
       "    <tr>\n",
       "      <th>6</th>\n",
       "      <td>Delta Apparel Inc14</td>\n",
       "      <td>0.859891</td>\n",
       "      <td>In February 2022, we removed 27 older model ci...</td>\n",
       "    </tr>\n",
       "    <tr>\n",
       "      <th>7</th>\n",
       "      <td>Goldman Sachs BDC, Inc.34</td>\n",
       "      <td>0.846822</td>\n",
       "      <td>Conergy Asia &amp; ME Pte. LTD.\\n\\n\\nConstruction ...</td>\n",
       "    </tr>\n",
       "    <tr>\n",
       "      <th>8</th>\n",
       "      <td>BERKSHIRE HATHAWAY INC25</td>\n",
       "      <td>0.845432</td>\n",
       "      <td>The Great Britain distribution companies consi...</td>\n",
       "    </tr>\n",
       "    <tr>\n",
       "      <th>9</th>\n",
       "      <td>BERKSHIRE HATHAWAY INC24</td>\n",
       "      <td>0.842114</td>\n",
       "      <td>MidAmerican Energy Company (“MEC”) is a regula...</td>\n",
       "    </tr>\n",
       "  </tbody>\n",
       "</table>\n",
       "</div>"
      ],
      "text/plain": [
       "                               doc_id     score  \\\n",
       "0          Goldman Sachs BDC, Inc.102  1.000000   \n",
       "1            BERKSHIRE HATHAWAY INC37  0.957910   \n",
       "2           Martin Marietta Materia12  0.951432   \n",
       "3            BERKSHIRE HATHAWAY INC26  0.930401   \n",
       "4                          DELTA AI21  0.892080   \n",
       "5  CANADIAN PACIFIC KANSAS CITY LTD16  0.890692   \n",
       "6                 Delta Apparel Inc14  0.859891   \n",
       "7           Goldman Sachs BDC, Inc.34  0.846822   \n",
       "8            BERKSHIRE HATHAWAY INC25  0.845432   \n",
       "9            BERKSHIRE HATHAWAY INC24  0.842114   \n",
       "\n",
       "                                                text  \n",
       "0  —\\n\\n\\n \\n\\n\\n\\n\\n\\n\\nTrading Companies & Dist...  \n",
       "1  Investment casting technology involves a multi...  \n",
       "2  Cement consumption is dependent on the time of...  \n",
       "3  Northern Natural, based in Nebraska, operates ...  \n",
       "4  Our results of operations are significantly im...  \n",
       "5  Forest products traffic includes pulp and pape...  \n",
       "6  In February 2022, we removed 27 older model ci...  \n",
       "7  Conergy Asia & ME Pte. LTD.\\n\\n\\nConstruction ...  \n",
       "8  The Great Britain distribution companies consi...  \n",
       "9  MidAmerican Energy Company (“MEC”) is a regula...  "
      ]
     },
     "execution_count": 45,
     "metadata": {},
     "output_type": "execute_result"
    }
   ],
   "source": [
    "from langchain.embeddings.vertexai import VertexAIEmbeddings\n",
    "from langchain.text_splitter import CharacterTextSplitter\n",
    "from langchain.vectorstores import Neo4jVector\n",
    "from langchain.vectorstores.neo4j_vector import SearchType\n",
    "\n",
    "db = Neo4jVector.from_existing_index(\n",
    "    url=NEO4J_URI,\n",
    "    username=NEO4J_USERNAME,\n",
    "    password=NEO4J_PASSWORD,\n",
    "    embedding=VertexAIEmbeddings(),\n",
    "    index_name='document-embeddings',\n",
    "    keyword_index_name='doc_text',\n",
    "    search_type=SearchType.HYBRID # Hybrid search type\n",
    ")\n",
    "\n",
    "results = db.similarity_search_with_score(query, k=10)\n",
    "res_df = to_df(results)\n",
    "res_df"
   ]
  },
  {
   "cell_type": "markdown",
   "id": "daf3c617-4915-4357-999e-31c346031842",
   "metadata": {},
   "source": [
    "Lets re-rank our results for relevancy"
   ]
  },
  {
   "cell_type": "code",
   "execution_count": 47,
   "id": "ae38378f-8288-4481-94ba-2fb7fa5083a8",
   "metadata": {},
   "outputs": [
    {
     "name": "stdout",
     "output_type": "stream",
     "text": [
      "Top-10 Cross-Encoder Re-ranker hits\n",
      "\t-3.615\tBERKSHIRE HATHAWAY INC24\n",
      "\t-3.911\tGoldman Sachs BDC, Inc.34\n",
      "\t-4.144\tCANADIAN PACIFIC KANSAS CITY LTD16\n",
      "\t-4.773\tBERKSHIRE HATHAWAY INC25\n",
      "\t-6.181\tMartin Marietta Materia12\n",
      "\t-6.294\tGoldman Sachs BDC, Inc.102\n",
      "\t-7.015\tBERKSHIRE HATHAWAY INC26\n",
      "\t-7.793\tBERKSHIRE HATHAWAY INC37\n",
      "\t-8.990\tDELTA AI21\n",
      "\t-10.271\tDelta Apparel Inc14\n"
     ]
    },
    {
     "data": {
      "text/html": [
       "<div>\n",
       "<style scoped>\n",
       "    .dataframe tbody tr th:only-of-type {\n",
       "        vertical-align: middle;\n",
       "    }\n",
       "\n",
       "    .dataframe tbody tr th {\n",
       "        vertical-align: top;\n",
       "    }\n",
       "\n",
       "    .dataframe thead th {\n",
       "        text-align: right;\n",
       "    }\n",
       "</style>\n",
       "<table border=\"1\" class=\"dataframe\">\n",
       "  <thead>\n",
       "    <tr style=\"text-align: right;\">\n",
       "      <th></th>\n",
       "      <th>doc_id</th>\n",
       "      <th>score</th>\n",
       "      <th>text</th>\n",
       "      <th>cross-score</th>\n",
       "    </tr>\n",
       "  </thead>\n",
       "  <tbody>\n",
       "    <tr>\n",
       "      <th>0</th>\n",
       "      <td>BERKSHIRE HATHAWAY INC24</td>\n",
       "      <td>0.842114</td>\n",
       "      <td>MidAmerican Energy Company (“MEC”) is a regula...</td>\n",
       "      <td>-3.615500</td>\n",
       "    </tr>\n",
       "    <tr>\n",
       "      <th>1</th>\n",
       "      <td>Goldman Sachs BDC, Inc.34</td>\n",
       "      <td>0.846822</td>\n",
       "      <td>Conergy Asia &amp; ME Pte. LTD.\\n\\n\\nConstruction ...</td>\n",
       "      <td>-3.911106</td>\n",
       "    </tr>\n",
       "    <tr>\n",
       "      <th>2</th>\n",
       "      <td>CANADIAN PACIFIC KANSAS CITY LTD16</td>\n",
       "      <td>0.890692</td>\n",
       "      <td>Forest products traffic includes pulp and pape...</td>\n",
       "      <td>-4.144452</td>\n",
       "    </tr>\n",
       "    <tr>\n",
       "      <th>3</th>\n",
       "      <td>BERKSHIRE HATHAWAY INC25</td>\n",
       "      <td>0.845432</td>\n",
       "      <td>The Great Britain distribution companies consi...</td>\n",
       "      <td>-4.772871</td>\n",
       "    </tr>\n",
       "    <tr>\n",
       "      <th>4</th>\n",
       "      <td>Martin Marietta Materia12</td>\n",
       "      <td>0.951432</td>\n",
       "      <td>Cement consumption is dependent on the time of...</td>\n",
       "      <td>-6.180655</td>\n",
       "    </tr>\n",
       "    <tr>\n",
       "      <th>5</th>\n",
       "      <td>Goldman Sachs BDC, Inc.102</td>\n",
       "      <td>1.000000</td>\n",
       "      <td>—\\n\\n\\n \\n\\n\\n\\n\\n\\n\\nTrading Companies &amp; Dist...</td>\n",
       "      <td>-6.294070</td>\n",
       "    </tr>\n",
       "    <tr>\n",
       "      <th>6</th>\n",
       "      <td>BERKSHIRE HATHAWAY INC26</td>\n",
       "      <td>0.930401</td>\n",
       "      <td>Northern Natural, based in Nebraska, operates ...</td>\n",
       "      <td>-7.015031</td>\n",
       "    </tr>\n",
       "    <tr>\n",
       "      <th>7</th>\n",
       "      <td>BERKSHIRE HATHAWAY INC37</td>\n",
       "      <td>0.957910</td>\n",
       "      <td>Investment casting technology involves a multi...</td>\n",
       "      <td>-7.792734</td>\n",
       "    </tr>\n",
       "    <tr>\n",
       "      <th>8</th>\n",
       "      <td>DELTA AI21</td>\n",
       "      <td>0.892080</td>\n",
       "      <td>Our results of operations are significantly im...</td>\n",
       "      <td>-8.990334</td>\n",
       "    </tr>\n",
       "    <tr>\n",
       "      <th>9</th>\n",
       "      <td>Delta Apparel Inc14</td>\n",
       "      <td>0.859891</td>\n",
       "      <td>In February 2022, we removed 27 older model ci...</td>\n",
       "      <td>-10.270824</td>\n",
       "    </tr>\n",
       "  </tbody>\n",
       "</table>\n",
       "</div>"
      ],
      "text/plain": [
       "                               doc_id     score  \\\n",
       "0            BERKSHIRE HATHAWAY INC24  0.842114   \n",
       "1           Goldman Sachs BDC, Inc.34  0.846822   \n",
       "2  CANADIAN PACIFIC KANSAS CITY LTD16  0.890692   \n",
       "3            BERKSHIRE HATHAWAY INC25  0.845432   \n",
       "4           Martin Marietta Materia12  0.951432   \n",
       "5          Goldman Sachs BDC, Inc.102  1.000000   \n",
       "6            BERKSHIRE HATHAWAY INC26  0.930401   \n",
       "7            BERKSHIRE HATHAWAY INC37  0.957910   \n",
       "8                          DELTA AI21  0.892080   \n",
       "9                 Delta Apparel Inc14  0.859891   \n",
       "\n",
       "                                                text  cross-score  \n",
       "0  MidAmerican Energy Company (“MEC”) is a regula...    -3.615500  \n",
       "1  Conergy Asia & ME Pte. LTD.\\n\\n\\nConstruction ...    -3.911106  \n",
       "2  Forest products traffic includes pulp and pape...    -4.144452  \n",
       "3  The Great Britain distribution companies consi...    -4.772871  \n",
       "4  Cement consumption is dependent on the time of...    -6.180655  \n",
       "5  —\\n\\n\\n \\n\\n\\n\\n\\n\\n\\nTrading Companies & Dist...    -6.294070  \n",
       "6  Northern Natural, based in Nebraska, operates ...    -7.015031  \n",
       "7  Investment casting technology involves a multi...    -7.792734  \n",
       "8  Our results of operations are significantly im...    -8.990334  \n",
       "9  In February 2022, we removed 27 older model ci...   -10.270824  "
      ]
     },
     "execution_count": 47,
     "metadata": {},
     "output_type": "execute_result"
    }
   ],
   "source": [
    "ranked_results = rerank_results(res_df)\n",
    "ranked_results"
   ]
  },
  {
   "cell_type": "code",
   "execution_count": 49,
   "id": "19387fbd-0144-49cf-928c-6c2c25a8caf3",
   "metadata": {},
   "outputs": [
    {
     "data": {
      "text/plain": [
       "'Cement consumption is dependent on the time of year and prevalent weather conditions. According to the Portland Cement Association, nearly two-thirds of U.S. cement consumption occurs in the six months between May and October.\\xa0\\xa0Approximately 70% to 75% of all cement shipments are sent to ready mixed concrete operators. The rest are shipped to manufacturers of concrete-related products, contractors, materials dealers and oil well/mining/drilling companies, as well as government entities.\\n\\n\\n\\xa0\\n\\n\\n\\n\\n\\n\\n\\n\\n\\n\\n\\n\\n\\n\\n\\n\\n\\n\\n\\n\\nSOAR to a Sustainable Future\\n\\n\\n\\n\\n\\n\\n\\n\\nForm 10-K\\xa0\\xa0\\n♦\\n \\nPage 3\\n\\n\\n\\n\\n\\n\\n\\xa0\\n\\n\\n\\n\\nPart I\\xa0\\xa0\\n♦\\n\\xa0\\xa0Item 1 – Business\\n\\n\\nEnergy accounted for approximately 23% of the cement production cost profile in 2021. Therefore, profitability of cement is affected by changes in energy prices and the available supply of these products.\\xa0\\xa0The Company currently has fixed-price supply contracts for coal and natural gas, but also consumes alternative fuel and petroleum coke. Further, profitability of the cement operations is also \\nimpacted by\\n kiln maintenance, which typically requires a plant to be shut down for a period of time.\\n\\n\\nThe limestone reserves used as a raw material for cement are located on Company-owned property, adjacent to each of the cement plants.\\xa0\\xa0Management believes that its reserves of limestone are sufficient to permit production at the current operational levels for the foreseeable future.\\n\\n\\nThe cement operations generally deliver their products upon receipt of customer orders or requests.\\xa0\\xa0Inventory for products is generally maintained in sufficient quantities to meet rapid delivery requirements of customers\\n.'"
      ]
     },
     "execution_count": 49,
     "metadata": {},
     "output_type": "execute_result"
    }
   ],
   "source": [
    "ranked_results['text'][4]"
   ]
  },
  {
   "cell_type": "markdown",
   "id": "541c6aad-05b4-4391-9f27-b668a82ae910",
   "metadata": {},
   "source": [
    "The Hybrid search brought in additional results like `Martin Marietta Material2` which also has content related to energy, oil & gas. The re-ranker helped rank the results. "
   ]
  },
  {
   "cell_type": "markdown",
   "id": "07198bd2-2a8d-432a-8d7d-94f617cc0969",
   "metadata": {},
   "source": [
    "## Semantic Search with Multi-hop retrieval using Knowledge Graph"
   ]
  },
  {
   "cell_type": "code",
   "execution_count": 50,
   "id": "b8bbab47-d50a-4827-aeb4-42d4c9c612af",
   "metadata": {},
   "outputs": [],
   "source": [
    "# Semantic query, lets use these key words to search\n",
    "db = Neo4jVector(\n",
    "    url = NEO4J_URI,\n",
    "    username = NEO4J_USERNAME,\n",
    "    password = NEO4J_PASSWORD,\n",
    "    embedding = VertexAIEmbeddings()\n",
    ")"
   ]
  },
  {
   "cell_type": "markdown",
   "id": "91518685-9430-4f52-8e6b-d7e4b61a7a25",
   "metadata": {},
   "source": [
    "Now let's use that query vector to search for companies.  Remember, companies have multiple documents so we will need to use a graph traversal on top of a document lookup to find which companies are most similar."
   ]
  },
  {
   "cell_type": "code",
   "execution_count": 51,
   "id": "f9428f7f-5aea-445d-a2ee-203c05a4d4f8",
   "metadata": {},
   "outputs": [
    {
     "data": {
      "text/plain": [
       "[0.06058839336037636,\n",
       " 0.0039505185559391975,\n",
       " -0.05093487352132797,\n",
       " 0.01724359206855297,\n",
       " 0.0011352039873600006]"
      ]
     },
     "execution_count": 51,
     "metadata": {},
     "output_type": "execute_result"
    }
   ],
   "source": [
    "query_vector = db.embedding.embed_query(text=query)\n",
    "query_vector[0:5]"
   ]
  },
  {
   "cell_type": "code",
   "execution_count": 52,
   "id": "26e84306-7097-4ea7-ab34-166ef2421f2d",
   "metadata": {},
   "outputs": [
    {
     "data": {
      "text/plain": [
       "[{'companyName': 'Goldman Sachs Grp', 'score': 0.8468223214149475},\n",
       " {'companyName': 'Berkshire Hathaway Inc B', 'score': 0.8403021693229675},\n",
       " {'companyName': 'ROPER TECHNOLOGIES', 'score': 0.838910698890686},\n",
       " {'companyName': 'STANLEY BLACK &amp; DECKER', 'score': 0.8377716541290283},\n",
       " {'companyName': 'CANADIAN NATIONAL RAILWAY', 'score': 0.8363386392593384}]"
      ]
     },
     "execution_count": 52,
     "metadata": {},
     "output_type": "execute_result"
    }
   ],
   "source": [
    "# Search for similar companies\n",
    "res_df = db.query(\"\"\"\n",
    "CALL db.index.vector.queryNodes('document-embeddings', 10, $queryVector)\n",
    "YIELD node AS similarDocuments, score\n",
    "\n",
    "MATCH (similarDocuments)<-[:HAS]-(c:Company)\n",
    "RETURN c.companyName as companyName, avg(score) AS score\n",
    "ORDER BY score DESC LIMIT 10\n",
    "\"\"\", params =  {'queryVector': query_vector})\n",
    "res_df"
   ]
  },
  {
   "cell_type": "markdown",
   "id": "085bb735-27de-4726-b23f-df0762ff28e6",
   "metadata": {},
   "source": [
    "The above result is based on the limited set of documents we have in the DB. The scores are based on Average similarity scores across chunks"
   ]
  },
  {
   "cell_type": "markdown",
   "id": "64e2d9f1-f2f6-4438-98ec-f04be86972c3",
   "metadata": {},
   "source": [
    "Now let's take this one step further and find investment managers who are most heavily focused in Energy.  This will involve a bit more Cypher for a 2-hop traversal. "
   ]
  },
  {
   "cell_type": "code",
   "execution_count": 53,
   "id": "c36b2196-554e-43ca-a52c-a3719d12c146",
   "metadata": {},
   "outputs": [
    {
     "data": {
      "text/html": [
       "<div>\n",
       "<style scoped>\n",
       "    .dataframe tbody tr th:only-of-type {\n",
       "        vertical-align: middle;\n",
       "    }\n",
       "\n",
       "    .dataframe tbody tr th {\n",
       "        vertical-align: top;\n",
       "    }\n",
       "\n",
       "    .dataframe thead th {\n",
       "        text-align: right;\n",
       "    }\n",
       "</style>\n",
       "<table border=\"1\" class=\"dataframe\">\n",
       "  <thead>\n",
       "    <tr style=\"text-align: right;\">\n",
       "      <th></th>\n",
       "      <th>managerName</th>\n",
       "      <th>score</th>\n",
       "    </tr>\n",
       "  </thead>\n",
       "  <tbody>\n",
       "    <tr>\n",
       "      <th>0</th>\n",
       "      <td>BASSETT HARGROVE INVESTMENT COUNSEL, LLC</td>\n",
       "      <td>0.802753</td>\n",
       "    </tr>\n",
       "    <tr>\n",
       "      <th>1</th>\n",
       "      <td>Rempart Asset Management Inc.</td>\n",
       "      <td>0.802098</td>\n",
       "    </tr>\n",
       "    <tr>\n",
       "      <th>2</th>\n",
       "      <td>TIGER MANAGEMENT L.L.C.</td>\n",
       "      <td>0.798163</td>\n",
       "    </tr>\n",
       "    <tr>\n",
       "      <th>3</th>\n",
       "      <td>Emery Howard Portfolio Management, Inc.</td>\n",
       "      <td>0.797394</td>\n",
       "    </tr>\n",
       "  </tbody>\n",
       "</table>\n",
       "</div>"
      ],
      "text/plain": [
       "                                managerName     score\n",
       "0  BASSETT HARGROVE INVESTMENT COUNSEL, LLC  0.802753\n",
       "1             Rempart Asset Management Inc.  0.802098\n",
       "2                   TIGER MANAGEMENT L.L.C.  0.798163\n",
       "3   Emery Howard Portfolio Management, Inc.  0.797394"
      ]
     },
     "execution_count": 53,
     "metadata": {},
     "output_type": "execute_result"
    }
   ],
   "source": [
    "# Search for managers with significiant investments in area\n",
    "res_df = gds.run_cypher(\"\"\"\n",
    "CALL db.index.vector.queryNodes('document-embeddings', 1000, $queryVector)\n",
    "YIELD node AS similarDocuments, score\n",
    "MATCH (similarDocuments)<-[:HAS]-(c:Company)\n",
    "WITH c, avg(score) AS score ORDER BY score LIMIT 100\n",
    "MATCH (c)<-[r:OWNS]-(m:Manager)\n",
    "WITH m, r.value as value, score*r.value as weightedScore\n",
    "WITH m.managerName AS managerName, sum(weightedScore) AS aggScore, sum(value) AS aggValue\n",
    "RETURN managerName, aggScore/aggValue AS score ORDER BY score DESC LIMIT 1000\n",
    "\n",
    "\"\"\", params =  {'queryVector': query_vector})\n",
    "res_df"
   ]
  },
  {
   "cell_type": "markdown",
   "id": "458e5b2c-8bf6-4755-8e3c-9eaf06bc4096",
   "metadata": {},
   "source": [
    "And we can see that our top result is `BASSETT HARGROVE INVESTMENT COUNSEL, LLC\t`"
   ]
  },
  {
   "cell_type": "markdown",
   "id": "930804d4-d3ec-48a7-b8c6-92ab8a64ef04",
   "metadata": {},
   "source": [
    "## Expanding Available Data for Knowledge Retrieval\n",
    "Not every element in your data will have rich text data, and further, much like we only have 10K documents for some companies, your use cases may also have incomplete, unevenly distributed text data. \n",
    "\n",
    "We can check our top result investment manager to this. "
   ]
  },
  {
   "cell_type": "code",
   "execution_count": 54,
   "id": "10aefd2b-4100-4be3-a985-1ceabcd2c8ca",
   "metadata": {},
   "outputs": [
    {
     "data": {
      "text/html": [
       "<div>\n",
       "<style scoped>\n",
       "    .dataframe tbody tr th:only-of-type {\n",
       "        vertical-align: middle;\n",
       "    }\n",
       "\n",
       "    .dataframe tbody tr th {\n",
       "        vertical-align: top;\n",
       "    }\n",
       "\n",
       "    .dataframe thead th {\n",
       "        text-align: right;\n",
       "    }\n",
       "</style>\n",
       "<table border=\"1\" class=\"dataframe\">\n",
       "  <thead>\n",
       "    <tr style=\"text-align: right;\">\n",
       "      <th></th>\n",
       "      <th>managerName</th>\n",
       "      <th>ownedCompaniesWithDocs</th>\n",
       "      <th>totalOwnedCompanies</th>\n",
       "    </tr>\n",
       "  </thead>\n",
       "  <tbody>\n",
       "    <tr>\n",
       "      <th>0</th>\n",
       "      <td>BASSETT HARGROVE INVESTMENT COUNSEL, LLC</td>\n",
       "      <td>22</td>\n",
       "      <td>51</td>\n",
       "    </tr>\n",
       "  </tbody>\n",
       "</table>\n",
       "</div>"
      ],
      "text/plain": [
       "                                managerName  ownedCompaniesWithDocs  \\\n",
       "0  BASSETT HARGROVE INVESTMENT COUNSEL, LLC                      22   \n",
       "\n",
       "   totalOwnedCompanies  \n",
       "0                   51  "
      ]
     },
     "execution_count": 54,
     "metadata": {},
     "output_type": "execute_result"
    }
   ],
   "source": [
    "gds.run_cypher('''\n",
    "MATCH (m:Manager {managerName: $managerName})-[:OWNS]->(c:Company)-[:HAS]->(d:Document)\n",
    "WITH m, count(DISTINCT c) AS ownedCompaniesWithDocs\n",
    "MATCH (m:Manager {managerName: $managerName})-[:OWNS]->(c:Company)\n",
    "RETURN m.managerName AS managerName, ownedCompaniesWithDocs, count(DISTINCT c) AS totalOwnedCompanies\n",
    "''', params =  {'managerName':'BASSETT HARGROVE INVESTMENT COUNSEL, LLC'})"
   ]
  },
  {
   "cell_type": "markdown",
   "id": "532553dd-682e-45cf-96d8-7cecf58068a2",
   "metadata": {},
   "source": [
    "This manager has significantly more other companies they own without documents.  We can use Graph Data Science Node Similarity to find the managers that have the most overlap to this one which should give us other Energy companies that we missed due to sparse text data."
   ]
  },
  {
   "cell_type": "code",
   "execution_count": 58,
   "id": "252ff6a0-eae7-4dcc-aa39-fbb7a37b1114",
   "metadata": {},
   "outputs": [],
   "source": [
    "g, _ = gds.graph.project('proj', ['Company', 'Manager'], {'OWNS':{'properties':['value']}})"
   ]
  },
  {
   "cell_type": "code",
   "execution_count": 59,
   "id": "23119a94-d0d0-4c60-b319-f2d94805a144",
   "metadata": {},
   "outputs": [
    {
     "data": {
      "text/plain": [
       "preProcessingMillis                                                       0\n",
       "computeMillis                                                             5\n",
       "writeMillis                                                              22\n",
       "postProcessingMillis                                                     -1\n",
       "nodesCompared                                                             4\n",
       "relationshipsWritten                                                     10\n",
       "similarityDistribution    {'min': 6.620865315198898e-05, 'p5': 6.6208653...\n",
       "configuration             {'writeProperty': 'score', 'writeRelationshipT...\n",
       "Name: 0, dtype: object"
      ]
     },
     "execution_count": 59,
     "metadata": {},
     "output_type": "execute_result"
    }
   ],
   "source": [
    "gds.nodeSimilarity.write(g, writeRelationshipType='SIMILAR', writeProperty='score', relationshipWeightProperty='value')"
   ]
  },
  {
   "cell_type": "code",
   "execution_count": 60,
   "id": "acd39e18-fc3d-4734-bbe8-e1862516fc29",
   "metadata": {},
   "outputs": [
    {
     "data": {
      "text/plain": [
       "graphName                                                             proj\n",
       "database                                                             neo4j\n",
       "memoryUsage                                                               \n",
       "sizeInBytes                                                             -1\n",
       "nodeCount                                                              247\n",
       "relationshipCount                                                      172\n",
       "configuration            {'relationshipProjection': {'OWNS': {'aggregat...\n",
       "density                                                           0.002831\n",
       "creationTime                           2023-09-28T10:29:54.708352797+00:00\n",
       "modificationTime                       2023-09-28T10:29:54.722032139+00:00\n",
       "schema                   {'graphProperties': {}, 'nodes': {'Manager': {...\n",
       "schemaWithOrientation    {'graphProperties': {}, 'nodes': {'Manager': {...\n",
       "Name: 0, dtype: object"
      ]
     },
     "execution_count": 60,
     "metadata": {},
     "output_type": "execute_result"
    }
   ],
   "source": [
    "g.drop()"
   ]
  },
  {
   "cell_type": "markdown",
   "id": "addcf2b2-a3b3-41a2-bc5d-d9630b0689cb",
   "metadata": {},
   "source": [
    "And now we can pull back other relevant results"
   ]
  },
  {
   "cell_type": "code",
   "execution_count": 62,
   "id": "5ec2ed6f-6d34-414f-82b3-9cf28602d4e0",
   "metadata": {},
   "outputs": [
    {
     "data": {
      "text/html": [
       "<div>\n",
       "<style scoped>\n",
       "    .dataframe tbody tr th:only-of-type {\n",
       "        vertical-align: middle;\n",
       "    }\n",
       "\n",
       "    .dataframe tbody tr th {\n",
       "        vertical-align: top;\n",
       "    }\n",
       "\n",
       "    .dataframe thead th {\n",
       "        text-align: right;\n",
       "    }\n",
       "</style>\n",
       "<table border=\"1\" class=\"dataframe\">\n",
       "  <thead>\n",
       "    <tr style=\"text-align: right;\">\n",
       "      <th></th>\n",
       "      <th>managerName</th>\n",
       "      <th>score</th>\n",
       "    </tr>\n",
       "  </thead>\n",
       "  <tbody>\n",
       "    <tr>\n",
       "      <th>0</th>\n",
       "      <td>Rempart Asset Management Inc.</td>\n",
       "      <td>0.023110</td>\n",
       "    </tr>\n",
       "    <tr>\n",
       "      <th>1</th>\n",
       "      <td>Emery Howard Portfolio Management, Inc.</td>\n",
       "      <td>0.010626</td>\n",
       "    </tr>\n",
       "    <tr>\n",
       "      <th>2</th>\n",
       "      <td>TIGER MANAGEMENT L.L.C.</td>\n",
       "      <td>0.000066</td>\n",
       "    </tr>\n",
       "  </tbody>\n",
       "</table>\n",
       "</div>"
      ],
      "text/plain": [
       "                               managerName     score\n",
       "0            Rempart Asset Management Inc.  0.023110\n",
       "1  Emery Howard Portfolio Management, Inc.  0.010626\n",
       "2                  TIGER MANAGEMENT L.L.C.  0.000066"
      ]
     },
     "execution_count": 62,
     "metadata": {},
     "output_type": "execute_result"
    }
   ],
   "source": [
    "gds.run_cypher('''\n",
    "MATCH (m0:Manager {managerName: $managerName})-[r:SIMILAR]->(m:Manager)\n",
    "RETURN DISTINCT m.managerName AS managerName, r.score AS score\n",
    "ORDER BY score DESC LIMIT 10\n",
    "''', params =  {'managerName':'BASSETT HARGROVE INVESTMENT COUNSEL, LLC'})"
   ]
  },
  {
   "cell_type": "markdown",
   "id": "3a0a43fc-72c5-4a40-914f-01e7f3001c56",
   "metadata": {},
   "source": [
    "## Clean Up"
   ]
  },
  {
   "cell_type": "code",
   "execution_count": 56,
   "id": "0f548f8e-e48f-4d5f-b2fd-2251280fc8f9",
   "metadata": {},
   "outputs": [
    {
     "data": {
      "text/html": [
       "<div>\n",
       "<style scoped>\n",
       "    .dataframe tbody tr th:only-of-type {\n",
       "        vertical-align: middle;\n",
       "    }\n",
       "\n",
       "    .dataframe tbody tr th {\n",
       "        vertical-align: top;\n",
       "    }\n",
       "\n",
       "    .dataframe thead th {\n",
       "        text-align: right;\n",
       "    }\n",
       "</style>\n",
       "<table border=\"1\" class=\"dataframe\">\n",
       "  <thead>\n",
       "    <tr style=\"text-align: right;\">\n",
       "      <th></th>\n",
       "    </tr>\n",
       "  </thead>\n",
       "  <tbody>\n",
       "  </tbody>\n",
       "</table>\n",
       "</div>"
      ],
      "text/plain": [
       "Empty DataFrame\n",
       "Columns: []\n",
       "Index: []"
      ]
     },
     "execution_count": 56,
     "metadata": {},
     "output_type": "execute_result"
    }
   ],
   "source": [
    "gds.run_cypher('MATCH (M:Manager)-[s:SIMILAR]->() DELETE s')"
   ]
  }
 ],
 "metadata": {
  "environment": {
   "kernel": "conda-root-py",
   "name": "workbench-notebooks.m111",
   "type": "gcloud",
   "uri": "gcr.io/deeplearning-platform-release/workbench-notebooks:m111"
  },
  "kernelspec": {
   "display_name": "Python 3",
   "language": "python",
   "name": "conda-root-py"
  },
  "language_info": {
   "codemirror_mode": {
    "name": "ipython",
    "version": 3
   },
   "file_extension": ".py",
   "mimetype": "text/x-python",
   "name": "python",
   "nbconvert_exporter": "python",
   "pygments_lexer": "ipython3",
   "version": "3.10.12"
  }
 },
 "nbformat": 4,
 "nbformat_minor": 5
}
