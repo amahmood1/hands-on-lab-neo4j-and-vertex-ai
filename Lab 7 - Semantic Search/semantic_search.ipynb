{
 "cells": [
  {
   "cell_type": "markdown",
   "id": "19ae6874-7585-4a0b-848c-965f639def41",
   "metadata": {},
   "source": [
    "# Semantic Search\n",
    "Semantic search is [defined as \"search with meaning.\"](https://en.wikipedia.org/wiki/Semantic_search) It is key for effective knowledge retrieval.\n",
    "\n",
    "As opposed to traditional, lexical, search which finds matches based on keywords, semantic search seeks to improve search quality and accuracy by understanding search intent and pulling results that match the user’s contextual meaning.  Semantic search is often used in reference to text embedding and vector similarity search, but this is just one implementation aspect of it. Knowledge graph and symbolic query logic can also play a critical role in making semantic search a reality. \n",
    "\n",
    "If all you care about is analyzing a set of documents on a file system, then sure, vector indexing and search may be sufficient.  However, once you need to retrieve and make inferences about people, places, and things connected to those documents, Knowledge graph becomes key. \n",
    "\n",
    "If documents are the entities of interest, for example: \"find all documents that talk about pharma related things,\" then text embeddings with vector similarity search suffices.  But, what if we want second or third-order entities related to the documents?  For example, \"find investors who are most focused on pharma related strategies,\" how would we efficiently search for them at scale in an enterprise setting?\n",
    "\n",
    "This is what we demonstrate below.  We will also show how you can use graph relationships and Graph Data Science algorithms to further improve search results, especially in common scenarios where the presence of text data is inconsistent or sparse."
   ]
  },
  {
   "cell_type": "markdown",
   "id": "4026b768-0406-4ce1-a1bb-ed79b64701a3",
   "metadata": {},
   "source": [
    "## Connect to Neo4j"
   ]
  },
  {
   "cell_type": "code",
   "execution_count": null,
   "id": "50798482-b5d5-4e96-adb2-851a3855f82e",
   "metadata": {},
   "outputs": [],
   "source": [
    "# username is neo4j by default\n",
    "NEO4J_USERNAME = 'neo4j'\n",
    "\n",
    "# You will need to change these to match\n",
    "NEO4J_URI = 'neo4j+s://xxxxx.databases.neo4j.io'\n",
    "NEO4J_PASSWORD = 'password'"
   ]
  },
  {
   "cell_type": "code",
   "execution_count": null,
   "id": "5aa11282-874f-4126-832d-9a2f772989a5",
   "metadata": {},
   "outputs": [],
   "source": [
    "from graphdatascience import GraphDataScience\n",
    "\n",
    "gds = GraphDataScience(\n",
    "    NEO4J_URI,\n",
    "    auth=(NEO4J_USERNAME, NEO4J_PASSWORD),\n",
    "    aura_ds=True\n",
    ")\n",
    "gds.set_database('neo4j')"
   ]
  },
  {
   "cell_type": "markdown",
   "id": "6ded4103-008d-4f93-82c9-918add3688eb",
   "metadata": {},
   "source": [
    "## Neo4j Vector Index\n",
    "We will need to create a vector index for similarity search on Document nodes. Neo4j offers a vector index that enables Approximate Nearest Neighbor Search (ANN). Let's creat an index."
   ]
  },
  {
   "cell_type": "code",
   "execution_count": null,
   "id": "f08fe029-fd4f-476a-b510-7dbcdb3d892d",
   "metadata": {},
   "outputs": [],
   "source": [
    "gds.run_cypher(\"CALL db.index.vector.createNodeIndex('document-embeddings', 'Document', 'textEmbedding', 768, 'cosine')\")"
   ]
  },
  {
   "cell_type": "markdown",
   "id": "27e3300f-e799-4ac1-b236-a23c300ae5e2",
   "metadata": {},
   "source": [
    "You can see that vector index has been created using `SHOW INDEXES`"
   ]
  },
  {
   "cell_type": "code",
   "execution_count": null,
   "id": "3b9c4634-bfee-4d73-a197-ed4345e729bf",
   "metadata": {},
   "outputs": [],
   "source": [
    "gds.run_cypher(''' \n",
    "SHOW INDEXES YIELD name, type, labelsOrTypes, properties, options\n",
    "WHERE type = \"VECTOR\"\n",
    "''')"
   ]
  },
  {
   "cell_type": "markdown",
   "id": "313f706a-08c3-4fc0-9c50-293d588414ae",
   "metadata": {},
   "source": [
    "## Deep Semantic Search with Knowledge Graph\n",
    "Now that we have an index.  Let’s use it in action.\n",
    "In this case, we will Answer The Question - \"What Investors are most focused in pharma, medicine, and healthcare?\" \n",
    "Remember we do not have documents on investment managers, just companies, and there can be multiple documents for each company. "
   ]
  },
  {
   "cell_type": "code",
   "execution_count": null,
   "id": "b8bbab47-d50a-4827-aeb4-42d4c9c612af",
   "metadata": {},
   "outputs": [],
   "source": [
    "# Semantic query, lets use these key words to search\n",
    "semantic_query = ['pharma, medicine, healthcare']"
   ]
  },
  {
   "cell_type": "code",
   "execution_count": null,
   "id": "9a8f3979-426f-4adb-b403-885a3df8f11d",
   "metadata": {},
   "outputs": [],
   "source": [
    "from vertexai.language_models import TextEmbeddingModel\n",
    "\n",
    "# Create a query vector by embedding the query using Vertex AI text embedding\n",
    "EMBEDDING_MODEL = TextEmbeddingModel.from_pretrained(\"textembedding-gecko@001\")"
   ]
  },
  {
   "cell_type": "code",
   "execution_count": null,
   "id": "8945b838-c51c-4224-9479-cee1ee946f35",
   "metadata": {},
   "outputs": [],
   "source": [
    "# Get query vector\n",
    "query_vector = EMBEDDING_MODEL.get_embeddings(semantic_query)[0].values\n",
    "query_vector[:10]"
   ]
  },
  {
   "cell_type": "markdown",
   "id": "91518685-9430-4f52-8e6b-d7e4b61a7a25",
   "metadata": {},
   "source": [
    "Now let's use that query vector to search for companies.  Remember, companies have multiple documents so we will need to use a graph traversal on top of a document lookup to find which companies are most similar."
   ]
  },
  {
   "cell_type": "code",
   "execution_count": null,
   "id": "26e84306-7097-4ea7-ab34-166ef2421f2d",
   "metadata": {},
   "outputs": [],
   "source": [
    "# Search for similar companies\n",
    "res_df = gds.run_cypher(\"\"\"\n",
    "CALL db.index.vector.queryNodes('document-embeddings', 1000, $queryVector)\n",
    "YIELD node AS similarDocuments, score\n",
    "MATCH (similarDocuments)<-[:HAS]-(c:Company)\n",
    "RETURN c.companyName as companyName, avg(score) AS score\n",
    "ORDER BY score DESC LIMIT 100\n",
    "\"\"\", params =  {'queryVector': query_vector})\n",
    "res_df"
   ]
  },
  {
   "cell_type": "markdown",
   "id": "085bb735-27de-4726-b23f-df0762ff28e6",
   "metadata": {},
   "source": [
    "You may recognize some of these companies, and if not a quick google search will con firm that their business is involved in healthcare and pharma, so this seems to be working."
   ]
  },
  {
   "cell_type": "markdown",
   "id": "64e2d9f1-f2f6-4438-98ec-f04be86972c3",
   "metadata": {},
   "source": [
    "Now let's take this one step further and find investment managers who are most heavily focused in pharma.  This will involve a bit more Cypher for a 2-hop traversal. "
   ]
  },
  {
   "cell_type": "code",
   "execution_count": null,
   "id": "c36b2196-554e-43ca-a52c-a3719d12c146",
   "metadata": {},
   "outputs": [],
   "source": [
    "# Search for managers with significiant investments in area\n",
    "res_df = gds.run_cypher(\"\"\"\n",
    "CALL db.index.vector.queryNodes('document-embeddings', 1000, $queryVector)\n",
    "YIELD node AS similarDocuments, score\n",
    "MATCH (similarDocuments)<-[:HAS]-(c:Company)\n",
    "WITH c, avg(score) AS score ORDER BY score LIMIT 100\n",
    "MATCH (c)<-[r:OWNS]-(m:Manager)\n",
    "WITH m, r.value as value, score*r.value as weightedScore\n",
    "WITH m.managerName AS managerName, sum(weightedScore) AS aggScore, sum(value) AS aggValue\n",
    "RETURN managerName, aggScore/aggValue AS score ORDER BY score DESC LIMIT 1000\n",
    "\n",
    "\"\"\", params =  {'queryVector': query_vector})\n",
    "res_df"
   ]
  },
  {
   "cell_type": "markdown",
   "id": "458e5b2c-8bf6-4755-8e3c-9eaf06bc4096",
   "metadata": {},
   "source": [
    "And we can see that our top result is a specialized investment trust in Bio-Technology\n",
    "[INTERNATIONAL BIOTECHNOLOGY TRUST PLC](https://ibtplc.com/)"
   ]
  },
  {
   "cell_type": "markdown",
   "id": "930804d4-d3ec-48a7-b8c6-92ab8a64ef04",
   "metadata": {},
   "source": [
    "## Expanding Available Data for Knowledge Retrieval\n",
    "Not every element in your data will have rich text data, and further, much like we only have 10K documents for some companies, your use cases may also have incomplete, unevenly distributed text data. \n",
    "\n",
    "We can check our top result investment manager to this. "
   ]
  },
  {
   "cell_type": "code",
   "execution_count": null,
   "id": "10aefd2b-4100-4be3-a985-1ceabcd2c8ca",
   "metadata": {},
   "outputs": [],
   "source": [
    "gds.run_cypher('''\n",
    "MATCH (m:Manager {managerName: $managerName})-[:OWNS]->(c:Company)-[:HAS]->(d:Document)\n",
    "WITH m, count(DISTINCT c) AS ownedCompaniesWithDocs\n",
    "MATCH (m:Manager {managerName: $managerName})-[:OWNS]->(c:Company)\n",
    "RETURN m.managerName AS managerName, ownedCompaniesWithDocs, count(DISTINCT c) AS totalOwnedCompanies\n",
    "''', params =  {'managerName':'INTERNATIONAL BIOTECHNOLOGY TRUST PLC'})"
   ]
  },
  {
   "cell_type": "markdown",
   "id": "532553dd-682e-45cf-96d8-7cecf58068a2",
   "metadata": {},
   "source": [
    "This manager has significantly more other companies they own without documents.  We can use Graph Data Science Node Similarity to find the managers that have the most overlap to this one which should give us other Biotech companies that we missed due to sparse text data."
   ]
  },
  {
   "cell_type": "code",
   "execution_count": null,
   "id": "252ff6a0-eae7-4dcc-aa39-fbb7a37b1114",
   "metadata": {},
   "outputs": [],
   "source": [
    "g, _  = gds.graph.project('proj', ['Company', 'Manager'], {'OWNS':{'properties':['value']}})"
   ]
  },
  {
   "cell_type": "code",
   "execution_count": null,
   "id": "23119a94-d0d0-4c60-b319-f2d94805a144",
   "metadata": {},
   "outputs": [],
   "source": [
    "gds.nodeSimilarity.write(g, writeRelationshipType='SIMILAR', writeProperty='score', relationshipWeightProperty='value')"
   ]
  },
  {
   "cell_type": "code",
   "execution_count": null,
   "id": "acd39e18-fc3d-4734-bbe8-e1862516fc29",
   "metadata": {},
   "outputs": [],
   "source": [
    "g.drop()"
   ]
  },
  {
   "cell_type": "markdown",
   "id": "addcf2b2-a3b3-41a2-bc5d-d9630b0689cb",
   "metadata": {},
   "source": [
    "And now we can pull back other relevant results"
   ]
  },
  {
   "cell_type": "code",
   "execution_count": null,
   "id": "5ec2ed6f-6d34-414f-82b3-9cf28602d4e0",
   "metadata": {},
   "outputs": [],
   "source": [
    "gds.run_cypher('''\n",
    "MATCH (m0:Manager {managerName: $managerName})-[r:SIMILAR]->(m:Manager)\n",
    "RETURN m.managerName AS managerName, r.score AS score\n",
    "ORDER BY score DESC LIMIT 10\n",
    "''', params =  {'managerName':'INTERNATIONAL BIOTECHNOLOGY TRUST PLC'})"
   ]
  },
  {
   "cell_type": "markdown",
   "id": "3a0a43fc-72c5-4a40-914f-01e7f3001c56",
   "metadata": {},
   "source": [
    "## Clean Up"
   ]
  },
  {
   "cell_type": "code",
   "execution_count": null,
   "id": "0f548f8e-e48f-4d5f-b2fd-2251280fc8f9",
   "metadata": {},
   "outputs": [],
   "source": [
    "gds.run_cypher('MATCH (M:Manager)-[s:SIMILAR]->() DELETE s')"
   ]
  }
 ],
 "metadata": {
  "environment": {
   "kernel": "python3",
   "name": "pytorch-gpu.1-13.m108",
   "type": "gcloud",
   "uri": "gcr.io/deeplearning-platform-release/pytorch-gpu.1-13:m108"
  },
  "kernelspec": {
   "display_name": "neo4j_genai (Local)",
   "language": "python",
   "name": "local-neo4j_genai"
  },
  "language_info": {
   "codemirror_mode": {
    "name": "ipython",
    "version": 3
   },
   "file_extension": ".py",
   "mimetype": "text/x-python",
   "name": "python",
   "nbconvert_exporter": "python",
   "pygments_lexer": "ipython3",
   "version": "3.8.17"
  }
 },
 "nbformat": 4,
 "nbformat_minor": 5
}
