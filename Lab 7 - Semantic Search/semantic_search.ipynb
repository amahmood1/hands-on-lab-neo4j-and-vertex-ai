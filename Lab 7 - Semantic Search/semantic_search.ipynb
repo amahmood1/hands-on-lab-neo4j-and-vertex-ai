{
 "cells": [
  {
   "cell_type": "markdown",
   "id": "19ae6874-7585-4a0b-848c-965f639def41",
   "metadata": {},
   "source": [
    "# Semantic Search\n",
    "Semantic search is [defined as \"search with meaning.\"](https://en.wikipedia.org/wiki/Semantic_search) It is key for effective knowledge retrieval.\n",
    "\n",
    "As opposed to traditional, lexical, search which finds matches based on keywords, semantic search seeks to improve search quality and accuracy by understanding search intent and pulling results that match the user’s contextual meaning.  Semantic search is often used in reference to text embedding and vector similarity search, but this is just one implementation aspect of it. Knowledge graph and symbolic query logic can also play a critical role in making semantic search a reality. \n",
    "\n",
    "If all you care about is analyzing a set of documents on a file system, then sure, vector indexing and search may be sufficient.  However, once you need to retrieve and make inferences about people, places, and things connected to those documents, Knowledge graph becomes key. \n",
    "\n",
    "If documents are the entities of interest, for example: \"find all documents that talk about pharma related things,\" then text embeddings with vector similarity search suffices.  But, what if we want second or third-order entities related to the documents?  For example, \"find investors who are most focused on pharma related strategies,\" how would we efficiently search for them at scale in an enterprise setting?\n",
    "\n",
    "This is what we demonstrate below.  We will also show how you can use graph relationships and Graph Data Science algorithms to further improve search results, especially in common scenarios where the presence of text data is inconsistent or sparse."
   ]
  },
  {
   "cell_type": "markdown",
   "id": "4026b768-0406-4ce1-a1bb-ed79b64701a3",
   "metadata": {},
   "source": [
    "## Connect to Neo4j"
   ]
  },
  {
   "cell_type": "code",
   "execution_count": null,
   "id": "50798482-b5d5-4e96-adb2-851a3855f82e",
   "metadata": {},
   "outputs": [],
   "source": [
    "# username is neo4j by default\n",
    "NEO4J_USERNAME = 'neo4j'\n",
    "\n",
    "# You will need to change these to match\n",
    "NEO4J_URI = 'neo4j+s://xxxxx.databases.neo4j.io'\n",
    "NEO4J_PASSWORD = 'password'"
   ]
  },
  {
   "cell_type": "code",
   "execution_count": 5,
   "id": "5aa11282-874f-4126-832d-9a2f772989a5",
   "metadata": {},
   "outputs": [],
   "source": [
    "from graphdatascience import GraphDataScience\n",
    "\n",
    "gds = GraphDataScience(\n",
    "    NEO4J_URI,\n",
    "    auth=(NEO4J_USERNAME, NEO4J_PASSWORD),\n",
    "    aura_ds=True\n",
    ")\n",
    "gds.set_database('neo4j')"
   ]
  },
  {
   "cell_type": "markdown",
   "id": "6ded4103-008d-4f93-82c9-918add3688eb",
   "metadata": {},
   "source": [
    "## Neo4j Vector Index\n",
    "We will need to create a vector index for similarity search on Document nodes. Neo4j offers a vector index that enables Approximate Nearest Neighbor Search (ANN). Let's creat an index."
   ]
  },
  {
   "cell_type": "code",
   "execution_count": null,
   "id": "f08fe029-fd4f-476a-b510-7dbcdb3d892d",
   "metadata": {},
   "outputs": [],
   "source": [
    "gds.run_cypher(\"CALL db.index.vector.createNodeIndex('document-embeddings', 'Document', 'textEmbedding', 768, 'cosine')\")"
   ]
  },
  {
   "cell_type": "markdown",
   "id": "27e3300f-e799-4ac1-b236-a23c300ae5e2",
   "metadata": {},
   "source": [
    "You can see that vector index has been created using `SHOW INDEXES`"
   ]
  },
  {
   "cell_type": "code",
   "execution_count": 8,
   "id": "3b9c4634-bfee-4d73-a197-ed4345e729bf",
   "metadata": {},
   "outputs": [
    {
     "data": {
      "text/html": [
       "<div>\n",
       "<style scoped>\n",
       "    .dataframe tbody tr th:only-of-type {\n",
       "        vertical-align: middle;\n",
       "    }\n",
       "\n",
       "    .dataframe tbody tr th {\n",
       "        vertical-align: top;\n",
       "    }\n",
       "\n",
       "    .dataframe thead th {\n",
       "        text-align: right;\n",
       "    }\n",
       "</style>\n",
       "<table border=\"1\" class=\"dataframe\">\n",
       "  <thead>\n",
       "    <tr style=\"text-align: right;\">\n",
       "      <th></th>\n",
       "      <th>name</th>\n",
       "      <th>type</th>\n",
       "      <th>labelsOrTypes</th>\n",
       "      <th>properties</th>\n",
       "      <th>options</th>\n",
       "    </tr>\n",
       "  </thead>\n",
       "  <tbody>\n",
       "    <tr>\n",
       "      <th>0</th>\n",
       "      <td>document-embeddings</td>\n",
       "      <td>VECTOR</td>\n",
       "      <td>[Document]</td>\n",
       "      <td>[textEmbedding]</td>\n",
       "      <td>{'indexProvider': 'vector-1.0', 'indexConfig':...</td>\n",
       "    </tr>\n",
       "  </tbody>\n",
       "</table>\n",
       "</div>"
      ],
      "text/plain": [
       "                  name    type labelsOrTypes       properties  \\\n",
       "0  document-embeddings  VECTOR    [Document]  [textEmbedding]   \n",
       "\n",
       "                                             options  \n",
       "0  {'indexProvider': 'vector-1.0', 'indexConfig':...  "
      ]
     },
     "execution_count": 8,
     "metadata": {},
     "output_type": "execute_result"
    }
   ],
   "source": [
    "gds.run_cypher(''' \n",
    "SHOW INDEXES YIELD name, type, labelsOrTypes, properties, options\n",
    "WHERE type = \"VECTOR\"\n",
    "''')"
   ]
  },
  {
   "cell_type": "markdown",
   "id": "313f706a-08c3-4fc0-9c50-293d588414ae",
   "metadata": {},
   "source": [
    "## Deep Semantic Search with Knowledge Graph\n",
    "Now that we have an index.  Let’s use it in action.\n",
    "In this case, we will Answer The Question - \"What Investors are most focused in pharma and healthcare?\" \n",
    "Remember we do not have documents on investment managers, just companies, and there can be multiple documents for each company. "
   ]
  },
  {
   "cell_type": "markdown",
   "id": "a00ab005-bc0f-49b7-8cf9-e6ecf5cbe298",
   "metadata": {},
   "source": [
    "### Vector Search with Neo4j"
   ]
  },
  {
   "cell_type": "code",
   "execution_count": 283,
   "id": "c13411b2-37ae-4d80-a147-9e32904d9012",
   "metadata": {},
   "outputs": [],
   "source": [
    "from langchain.docstore.document import Document\n",
    "from typing import (\n",
    "    List,\n",
    "    Tuple,\n",
    ")\n",
    "import json\n",
    "\n",
    "def to_df(results: List[Tuple[Document, float]]):\n",
    "    return pd.DataFrame({\n",
    "        \"doc_id\": [r[0].metadata.get('documentId') for r in results],\n",
    "        \"score\": [r[1] for r in results],\n",
    "        \"text\": [r[0].page_content for r in results]\n",
    "    })"
   ]
  },
  {
   "cell_type": "code",
   "execution_count": 325,
   "id": "48299f48-f956-4648-8739-9c990811fa55",
   "metadata": {},
   "outputs": [
    {
     "data": {
      "text/html": [
       "<div>\n",
       "<style scoped>\n",
       "    .dataframe tbody tr th:only-of-type {\n",
       "        vertical-align: middle;\n",
       "    }\n",
       "\n",
       "    .dataframe tbody tr th {\n",
       "        vertical-align: top;\n",
       "    }\n",
       "\n",
       "    .dataframe thead th {\n",
       "        text-align: right;\n",
       "    }\n",
       "</style>\n",
       "<table border=\"1\" class=\"dataframe\">\n",
       "  <thead>\n",
       "    <tr style=\"text-align: right;\">\n",
       "      <th></th>\n",
       "      <th>doc_id</th>\n",
       "      <th>score</th>\n",
       "      <th>text</th>\n",
       "    </tr>\n",
       "  </thead>\n",
       "  <tbody>\n",
       "    <tr>\n",
       "      <th>0</th>\n",
       "      <td>BERKSHIRE HATHAWAY INC40</td>\n",
       "      <td>0.849097</td>\n",
       "      <td>Lubrizol \\n\\n\\nThe Lubrizol Corporation (“Lubr...</td>\n",
       "    </tr>\n",
       "    <tr>\n",
       "      <th>1</th>\n",
       "      <td>Goldman Sachs BDC, Inc.34</td>\n",
       "      <td>0.847477</td>\n",
       "      <td>Conergy Asia &amp; ME Pte. LTD.\\n\\n\\nConstruction ...</td>\n",
       "    </tr>\n",
       "    <tr>\n",
       "      <th>2</th>\n",
       "      <td>STANLEY BLACK &amp; DECKER, INC45</td>\n",
       "      <td>0.841106</td>\n",
       "      <td>In addition, many of the Company’s products in...</td>\n",
       "    </tr>\n",
       "    <tr>\n",
       "      <th>3</th>\n",
       "      <td>BERKSHIRE HATHAWAY INC25</td>\n",
       "      <td>0.840315</td>\n",
       "      <td>The Great Britain distribution companies consi...</td>\n",
       "    </tr>\n",
       "    <tr>\n",
       "      <th>4</th>\n",
       "      <td>ROPER TECHNOLOGIES I5</td>\n",
       "      <td>0.838356</td>\n",
       "      <td>FTI\\n - provides flow meter calibrators, and c...</td>\n",
       "    </tr>\n",
       "    <tr>\n",
       "      <th>5</th>\n",
       "      <td>BERKSHIRE HATHAWAY INC46</td>\n",
       "      <td>0.837340</td>\n",
       "      <td>Transportation Products\\n serves the automotiv...</td>\n",
       "    </tr>\n",
       "    <tr>\n",
       "      <th>6</th>\n",
       "      <td>BERKSHIRE HATHAWAY INC62</td>\n",
       "      <td>0.837216</td>\n",
       "      <td>Forest River is subject to regulations of the ...</td>\n",
       "    </tr>\n",
       "    <tr>\n",
       "      <th>7</th>\n",
       "      <td>General motors co16</td>\n",
       "      <td>0.836687</td>\n",
       "      <td>In some instances, we purchase systems, compon...</td>\n",
       "    </tr>\n",
       "    <tr>\n",
       "      <th>8</th>\n",
       "      <td>Goldman Sachs BDC, Inc.19</td>\n",
       "      <td>0.836241</td>\n",
       "      <td>6.75%\\n\\n\\nL + 5.75%\\n\\n\\n1.00%\\n\\n\\n04/02/25\\...</td>\n",
       "    </tr>\n",
       "    <tr>\n",
       "      <th>9</th>\n",
       "      <td>Martin Marietta Materia14</td>\n",
       "      <td>0.835686</td>\n",
       "      <td>The Magnesia Specialties business produces and...</td>\n",
       "    </tr>\n",
       "  </tbody>\n",
       "</table>\n",
       "</div>"
      ],
      "text/plain": [
       "                          doc_id     score  \\\n",
       "0       BERKSHIRE HATHAWAY INC40  0.849097   \n",
       "1      Goldman Sachs BDC, Inc.34  0.847477   \n",
       "2  STANLEY BLACK & DECKER, INC45  0.841106   \n",
       "3       BERKSHIRE HATHAWAY INC25  0.840315   \n",
       "4          ROPER TECHNOLOGIES I5  0.838356   \n",
       "5       BERKSHIRE HATHAWAY INC46  0.837340   \n",
       "6       BERKSHIRE HATHAWAY INC62  0.837216   \n",
       "7            General motors co16  0.836687   \n",
       "8      Goldman Sachs BDC, Inc.19  0.836241   \n",
       "9      Martin Marietta Materia14  0.835686   \n",
       "\n",
       "                                                text  \n",
       "0  Lubrizol \\n\\n\\nThe Lubrizol Corporation (“Lubr...  \n",
       "1  Conergy Asia & ME Pte. LTD.\\n\\n\\nConstruction ...  \n",
       "2  In addition, many of the Company’s products in...  \n",
       "3  The Great Britain distribution companies consi...  \n",
       "4  FTI\\n - provides flow meter calibrators, and c...  \n",
       "5  Transportation Products\\n serves the automotiv...  \n",
       "6  Forest River is subject to regulations of the ...  \n",
       "7  In some instances, we purchase systems, compon...  \n",
       "8  6.75%\\n\\n\\nL + 5.75%\\n\\n\\n1.00%\\n\\n\\n04/02/25\\...  \n",
       "9  The Magnesia Specialties business produces and...  "
      ]
     },
     "execution_count": 325,
     "metadata": {},
     "output_type": "execute_result"
    }
   ],
   "source": [
    "from langchain.embeddings.vertexai import VertexAIEmbeddings\n",
    "from langchain.text_splitter import CharacterTextSplitter\n",
    "from langchain.vectorstores import Neo4jVector\n",
    "from langchain.vectorstores.neo4j_vector import SearchType\n",
    "import pandas as pd\n",
    "\n",
    "db = Neo4jVector.from_existing_index(\n",
    "    url=NEO4J_URI,\n",
    "    username=NEO4J_USERNAME,\n",
    "    password=NEO4J_PASSWORD,\n",
    "    embedding=VertexAIEmbeddings(),\n",
    "    index_name='document-embeddings',\n",
    "    keyword_index_name='doc_text',\n",
    "    search_type=SearchType.VECTOR\n",
    ")\n",
    "query = 'What are the companies associated with nickel, lithium or cobalt?'\n",
    "results = db.similarity_search_with_score(query, k=10)\n",
    "res_df = to_df(results)\n",
    "res_df"
   ]
  },
  {
   "cell_type": "code",
   "execution_count": 318,
   "id": "365985b9-eb2b-47cd-8869-4f31351a23ac",
   "metadata": {},
   "outputs": [
    {
     "data": {
      "text/plain": [
       "'Lubrizol \\n\\n\\nThe Lubrizol Corporation (“Lubrizol”) is a specialty chemical and performance materials company that manufactures products and supplies technologies for the global transportation, industrial and consumer markets. Lubrizol currently operates two business segments: Lubrizol Additives, which produces engine lubricant additives, driveline lubricant additives and industrial specialties products; and Lubrizol Advanced Materials, which includes engineered materials (engineered polymers and performance coatings) and life sciences (beauty and personal care, and health and home care solutions). \\n\\n\\nLubrizol Additives’ products are used in a broad range of applications including engine oils, transmission fluids, gear oils, specialty driveline lubricants, fuels, metalworking fluids and compressor lubricants for transportation and industrial applications. Lubrizol Advanced Materials’ products are used in many different types of applications including beauty, personal care, home care, over-the-counter pharmaceuticals, medical devices, performance coatings, sporting goods, plumbing and fire sprinkler systems. Lubrizol is an industry leader in many of the markets in which it competes, and its principal lubricant additives competitors are Infineum International Ltd., Chevron Oronite Company and Afton Chemical Corporation. Lubrizol Advanced Materials’ businesses compete in many markets with a variety of competitors in each product line.'"
      ]
     },
     "execution_count": 318,
     "metadata": {},
     "output_type": "execute_result"
    }
   ],
   "source": [
    "res_df['text'][0]"
   ]
  },
  {
   "cell_type": "markdown",
   "id": "c0a8fe68-e5ed-489f-ab86-ab58c7b981db",
   "metadata": {},
   "source": [
    "### Re-rank results"
   ]
  },
  {
   "cell_type": "code",
   "execution_count": 313,
   "id": "29a717ff-9df5-47fb-9962-f296187faae2",
   "metadata": {},
   "outputs": [],
   "source": [
    "def rerank_results(res_df):\n",
    "    from sentence_transformers import SentenceTransformer, CrossEncoder, util\n",
    "    cross_encoder = CrossEncoder('cross-encoder/ms-marco-MiniLM-L-6-v2')\n",
    "    passages = []\n",
    "    ##### Re-Ranking #####\n",
    "    # Now, score all retrieved passages with the cross_encoder\n",
    "    cross_inp = [[query, f\"Text: {hit['text']}\"] for _,hit in res_df[:].iterrows()]\n",
    "    cross_scores = cross_encoder.predict(cross_inp)\n",
    "\n",
    "    # Sort results by the cross-encoder scores\n",
    "    res_df['cross-score'] = cross_scores\n",
    "\n",
    "    # Output of top-5 hits from re-ranker\n",
    "    print(\"Top-3 Cross-Encoder Re-ranker hits\")\n",
    "    hits = res_df.sort_values('cross-score', ascending=False).reset_index(drop=True)\n",
    "    for _,hit in hits.iterrows():\n",
    "        print(\"\\t{:.3f}\\t{}\".format(hit['cross-score'], hit['doc_id']))\n",
    "    return hits"
   ]
  },
  {
   "cell_type": "code",
   "execution_count": 315,
   "id": "5851d3bb-d93f-41fc-9315-8d8dc34f4a72",
   "metadata": {},
   "outputs": [
    {
     "name": "stdout",
     "output_type": "stream",
     "text": [
      "Top-3 Cross-Encoder Re-ranker hits\n",
      "\t-4.094\tSTANLEY BLACK & DECKER, INC45\n",
      "\t-8.700\tGoldman Sachs BDC, Inc.19\n",
      "\t-9.284\tGeneral motors co16\n",
      "\t-9.936\tBERKSHIRE HATHAWAY INC25\n",
      "\t-10.056\tBERKSHIRE HATHAWAY INC62\n",
      "\t-10.341\tBERKSHIRE HATHAWAY INC40\n",
      "\t-10.517\tBERKSHIRE HATHAWAY INC46\n",
      "\t-10.604\tGoldman Sachs BDC, Inc.34\n",
      "\t-11.034\tMartin Marietta Materia14\n",
      "\t-11.184\tROPER TECHNOLOGIES I5\n"
     ]
    },
    {
     "data": {
      "text/html": [
       "<div>\n",
       "<style scoped>\n",
       "    .dataframe tbody tr th:only-of-type {\n",
       "        vertical-align: middle;\n",
       "    }\n",
       "\n",
       "    .dataframe tbody tr th {\n",
       "        vertical-align: top;\n",
       "    }\n",
       "\n",
       "    .dataframe thead th {\n",
       "        text-align: right;\n",
       "    }\n",
       "</style>\n",
       "<table border=\"1\" class=\"dataframe\">\n",
       "  <thead>\n",
       "    <tr style=\"text-align: right;\">\n",
       "      <th></th>\n",
       "      <th>doc_id</th>\n",
       "      <th>score</th>\n",
       "      <th>text</th>\n",
       "      <th>cross-score</th>\n",
       "    </tr>\n",
       "  </thead>\n",
       "  <tbody>\n",
       "    <tr>\n",
       "      <th>0</th>\n",
       "      <td>STANLEY BLACK &amp; DECKER, INC45</td>\n",
       "      <td>0.841106</td>\n",
       "      <td>In addition, many of the Company’s products in...</td>\n",
       "      <td>-4.094014</td>\n",
       "    </tr>\n",
       "    <tr>\n",
       "      <th>1</th>\n",
       "      <td>Goldman Sachs BDC, Inc.19</td>\n",
       "      <td>0.836241</td>\n",
       "      <td>6.75%\\n\\n\\nL + 5.75%\\n\\n\\n1.00%\\n\\n\\n04/02/25\\...</td>\n",
       "      <td>-8.700157</td>\n",
       "    </tr>\n",
       "    <tr>\n",
       "      <th>2</th>\n",
       "      <td>General motors co16</td>\n",
       "      <td>0.836687</td>\n",
       "      <td>In some instances, we purchase systems, compon...</td>\n",
       "      <td>-9.283574</td>\n",
       "    </tr>\n",
       "    <tr>\n",
       "      <th>3</th>\n",
       "      <td>BERKSHIRE HATHAWAY INC25</td>\n",
       "      <td>0.840315</td>\n",
       "      <td>The Great Britain distribution companies consi...</td>\n",
       "      <td>-9.936461</td>\n",
       "    </tr>\n",
       "    <tr>\n",
       "      <th>4</th>\n",
       "      <td>BERKSHIRE HATHAWAY INC62</td>\n",
       "      <td>0.837216</td>\n",
       "      <td>Forest River is subject to regulations of the ...</td>\n",
       "      <td>-10.055683</td>\n",
       "    </tr>\n",
       "    <tr>\n",
       "      <th>5</th>\n",
       "      <td>BERKSHIRE HATHAWAY INC40</td>\n",
       "      <td>0.849097</td>\n",
       "      <td>Lubrizol \\n\\n\\nThe Lubrizol Corporation (“Lubr...</td>\n",
       "      <td>-10.340531</td>\n",
       "    </tr>\n",
       "    <tr>\n",
       "      <th>6</th>\n",
       "      <td>BERKSHIRE HATHAWAY INC46</td>\n",
       "      <td>0.837340</td>\n",
       "      <td>Transportation Products\\n serves the automotiv...</td>\n",
       "      <td>-10.517445</td>\n",
       "    </tr>\n",
       "    <tr>\n",
       "      <th>7</th>\n",
       "      <td>Goldman Sachs BDC, Inc.34</td>\n",
       "      <td>0.847477</td>\n",
       "      <td>Conergy Asia &amp; ME Pte. LTD.\\n\\n\\nConstruction ...</td>\n",
       "      <td>-10.604258</td>\n",
       "    </tr>\n",
       "    <tr>\n",
       "      <th>8</th>\n",
       "      <td>Martin Marietta Materia14</td>\n",
       "      <td>0.835686</td>\n",
       "      <td>The Magnesia Specialties business produces and...</td>\n",
       "      <td>-11.033838</td>\n",
       "    </tr>\n",
       "    <tr>\n",
       "      <th>9</th>\n",
       "      <td>ROPER TECHNOLOGIES I5</td>\n",
       "      <td>0.838356</td>\n",
       "      <td>FTI\\n - provides flow meter calibrators, and c...</td>\n",
       "      <td>-11.184478</td>\n",
       "    </tr>\n",
       "  </tbody>\n",
       "</table>\n",
       "</div>"
      ],
      "text/plain": [
       "                          doc_id     score  \\\n",
       "0  STANLEY BLACK & DECKER, INC45  0.841106   \n",
       "1      Goldman Sachs BDC, Inc.19  0.836241   \n",
       "2            General motors co16  0.836687   \n",
       "3       BERKSHIRE HATHAWAY INC25  0.840315   \n",
       "4       BERKSHIRE HATHAWAY INC62  0.837216   \n",
       "5       BERKSHIRE HATHAWAY INC40  0.849097   \n",
       "6       BERKSHIRE HATHAWAY INC46  0.837340   \n",
       "7      Goldman Sachs BDC, Inc.34  0.847477   \n",
       "8      Martin Marietta Materia14  0.835686   \n",
       "9          ROPER TECHNOLOGIES I5  0.838356   \n",
       "\n",
       "                                                text  cross-score  \n",
       "0  In addition, many of the Company’s products in...    -4.094014  \n",
       "1  6.75%\\n\\n\\nL + 5.75%\\n\\n\\n1.00%\\n\\n\\n04/02/25\\...    -8.700157  \n",
       "2  In some instances, we purchase systems, compon...    -9.283574  \n",
       "3  The Great Britain distribution companies consi...    -9.936461  \n",
       "4  Forest River is subject to regulations of the ...   -10.055683  \n",
       "5  Lubrizol \\n\\n\\nThe Lubrizol Corporation (“Lubr...   -10.340531  \n",
       "6  Transportation Products\\n serves the automotiv...   -10.517445  \n",
       "7  Conergy Asia & ME Pte. LTD.\\n\\n\\nConstruction ...   -10.604258  \n",
       "8  The Magnesia Specialties business produces and...   -11.033838  \n",
       "9  FTI\\n - provides flow meter calibrators, and c...   -11.184478  "
      ]
     },
     "execution_count": 315,
     "metadata": {},
     "output_type": "execute_result"
    }
   ],
   "source": [
    "ranked_results = rerank_results(res_df)\n",
    "ranked_results"
   ]
  },
  {
   "cell_type": "code",
   "execution_count": 317,
   "id": "c38a08dc-b443-48ab-8e8e-11eb9bc53062",
   "metadata": {},
   "outputs": [
    {
     "data": {
      "text/plain": [
       "\"In addition, many of the Company’s products incorporate battery technology. As the world moves towards a lower-carbon economy and as other industries begin to adopt similar battery technology for use in their products or increase their current consumption of battery technology, the increased demand could place capacity constraints on the Company’s supply chain. In addition, increased demand for battery technology may also increase the costs to the Company for both the battery cells as well as the underlying raw materials such as cobalt and lithium, among others. If the Company is unable to mitigate any possible supply constraints, related increased costs or drive alternative technology through innovation, its profitably and financial results could be negatively impacted.\\nUncertainty about the financial stability of economies outside the U.S. could have a significant adverse effect on the Company's business, results of operations and financial condition. \\n15\\nThe Company generates approximately 40% of its revenues outside the U.S., including 17% from Europe and 14% from various emerging market countries. Each of the Company’s segments generates sales in these marketplaces. While the Company believes any downturn in the European or emerging marketplaces might be offset to some degree by the relative stability in North America, the Company’s future growth, profitability and financial liquidity could be affected, in several ways, including but not limited to the following:\\n•\\ndepressed consumer and business confidence may decrease demand for products and services;\\n•\\ncustomers may implement cost reduction initiatives or delay purchases to address inventory levels;\\n•\\nsignificant declines of foreign currency values in countries where the Company operates could impact both the revenue growth and overall profitability in those geographies;\\n•\""
      ]
     },
     "execution_count": 317,
     "metadata": {},
     "output_type": "execute_result"
    }
   ],
   "source": [
    "ranked_results['text'][0]"
   ]
  },
  {
   "cell_type": "markdown",
   "id": "4f1d9d37-7f27-4683-9bb4-c21db62257f8",
   "metadata": {},
   "source": [
    "### Hybrid Search with Neo4j"
   ]
  },
  {
   "cell_type": "code",
   "execution_count": 228,
   "id": "e107afba-2ae8-4da8-88b1-e5fe7236ced4",
   "metadata": {},
   "outputs": [
    {
     "data": {
      "text/html": [
       "<div>\n",
       "<style scoped>\n",
       "    .dataframe tbody tr th:only-of-type {\n",
       "        vertical-align: middle;\n",
       "    }\n",
       "\n",
       "    .dataframe tbody tr th {\n",
       "        vertical-align: top;\n",
       "    }\n",
       "\n",
       "    .dataframe thead th {\n",
       "        text-align: right;\n",
       "    }\n",
       "</style>\n",
       "<table border=\"1\" class=\"dataframe\">\n",
       "  <thead>\n",
       "    <tr style=\"text-align: right;\">\n",
       "      <th></th>\n",
       "    </tr>\n",
       "  </thead>\n",
       "  <tbody>\n",
       "  </tbody>\n",
       "</table>\n",
       "</div>"
      ],
      "text/plain": [
       "Empty DataFrame\n",
       "Columns: []\n",
       "Index: []"
      ]
     },
     "execution_count": 228,
     "metadata": {},
     "output_type": "execute_result"
    }
   ],
   "source": [
    "gds.run_cypher(\"CREATE FULLTEXT INDEX doc_text IF NOT EXISTS FOR (n:Document) ON EACH [n.text]\")"
   ]
  },
  {
   "cell_type": "code",
   "execution_count": 229,
   "id": "4c75544b-ec3f-4eaa-b57d-bde5258d68b7",
   "metadata": {},
   "outputs": [
    {
     "data": {
      "text/html": [
       "<div>\n",
       "<style scoped>\n",
       "    .dataframe tbody tr th:only-of-type {\n",
       "        vertical-align: middle;\n",
       "    }\n",
       "\n",
       "    .dataframe tbody tr th {\n",
       "        vertical-align: top;\n",
       "    }\n",
       "\n",
       "    .dataframe thead th {\n",
       "        text-align: right;\n",
       "    }\n",
       "</style>\n",
       "<table border=\"1\" class=\"dataframe\">\n",
       "  <thead>\n",
       "    <tr style=\"text-align: right;\">\n",
       "      <th></th>\n",
       "      <th>name</th>\n",
       "      <th>type</th>\n",
       "      <th>labelsOrTypes</th>\n",
       "      <th>properties</th>\n",
       "      <th>options</th>\n",
       "    </tr>\n",
       "  </thead>\n",
       "  <tbody>\n",
       "    <tr>\n",
       "      <th>0</th>\n",
       "      <td>doc_text</td>\n",
       "      <td>FULLTEXT</td>\n",
       "      <td>[Document]</td>\n",
       "      <td>[text]</td>\n",
       "      <td>{'indexProvider': 'fulltext-1.0', 'indexConfig...</td>\n",
       "    </tr>\n",
       "  </tbody>\n",
       "</table>\n",
       "</div>"
      ],
      "text/plain": [
       "       name      type labelsOrTypes properties  \\\n",
       "0  doc_text  FULLTEXT    [Document]     [text]   \n",
       "\n",
       "                                             options  \n",
       "0  {'indexProvider': 'fulltext-1.0', 'indexConfig...  "
      ]
     },
     "execution_count": 229,
     "metadata": {},
     "output_type": "execute_result"
    }
   ],
   "source": [
    "gds.run_cypher(''' \n",
    "SHOW INDEXES YIELD name, type, labelsOrTypes, properties, options\n",
    "WHERE type = \"FULLTEXT\"\n",
    "''')"
   ]
  },
  {
   "cell_type": "code",
   "execution_count": 319,
   "id": "c512be4c-9e55-4b92-9d7c-bb8f2eb2a583",
   "metadata": {},
   "outputs": [
    {
     "data": {
      "text/html": [
       "<div>\n",
       "<style scoped>\n",
       "    .dataframe tbody tr th:only-of-type {\n",
       "        vertical-align: middle;\n",
       "    }\n",
       "\n",
       "    .dataframe tbody tr th {\n",
       "        vertical-align: top;\n",
       "    }\n",
       "\n",
       "    .dataframe thead th {\n",
       "        text-align: right;\n",
       "    }\n",
       "</style>\n",
       "<table border=\"1\" class=\"dataframe\">\n",
       "  <thead>\n",
       "    <tr style=\"text-align: right;\">\n",
       "      <th></th>\n",
       "      <th>doc_id</th>\n",
       "      <th>score</th>\n",
       "      <th>text</th>\n",
       "    </tr>\n",
       "  </thead>\n",
       "  <tbody>\n",
       "    <tr>\n",
       "      <th>0</th>\n",
       "      <td>Goldman Sachs BDC, Inc.50</td>\n",
       "      <td>1.000000</td>\n",
       "      <td>The accompanying notes are part of these conso...</td>\n",
       "    </tr>\n",
       "    <tr>\n",
       "      <th>1</th>\n",
       "      <td>STANLEY BLACK &amp; DECKER, INC10</td>\n",
       "      <td>0.998252</td>\n",
       "      <td>Raw Materials\\nThe Company’s products are manu...</td>\n",
       "    </tr>\n",
       "    <tr>\n",
       "      <th>2</th>\n",
       "      <td>BERKSHIRE HATHAWAY INC36</td>\n",
       "      <td>0.916378</td>\n",
       "      <td>Precision Castparts Corp. (“PCC”) manufactures...</td>\n",
       "    </tr>\n",
       "    <tr>\n",
       "      <th>3</th>\n",
       "      <td>Goldman Sachs BDC, Inc.19</td>\n",
       "      <td>0.915651</td>\n",
       "      <td>6.75%\\n\\n\\nL + 5.75%\\n\\n\\n1.00%\\n\\n\\n04/02/25\\...</td>\n",
       "    </tr>\n",
       "    <tr>\n",
       "      <th>4</th>\n",
       "      <td>APPLIED OPTOELECTRONICS, INC.55</td>\n",
       "      <td>0.891730</td>\n",
       "      <td>‑\\n \\n\\n\\n \\ndifficulties integrating the busi...</td>\n",
       "    </tr>\n",
       "    <tr>\n",
       "      <th>5</th>\n",
       "      <td>BERKSHIRE HATHAWAY INC40</td>\n",
       "      <td>0.849097</td>\n",
       "      <td>Lubrizol \\n\\n\\nThe Lubrizol Corporation (“Lubr...</td>\n",
       "    </tr>\n",
       "    <tr>\n",
       "      <th>6</th>\n",
       "      <td>Goldman Sachs BDC, Inc.34</td>\n",
       "      <td>0.847477</td>\n",
       "      <td>Conergy Asia &amp; ME Pte. LTD.\\n\\n\\nConstruction ...</td>\n",
       "    </tr>\n",
       "    <tr>\n",
       "      <th>7</th>\n",
       "      <td>STANLEY BLACK &amp; DECKER, INC45</td>\n",
       "      <td>0.841106</td>\n",
       "      <td>In addition, many of the Company’s products in...</td>\n",
       "    </tr>\n",
       "    <tr>\n",
       "      <th>8</th>\n",
       "      <td>BERKSHIRE HATHAWAY INC25</td>\n",
       "      <td>0.840315</td>\n",
       "      <td>The Great Britain distribution companies consi...</td>\n",
       "    </tr>\n",
       "    <tr>\n",
       "      <th>9</th>\n",
       "      <td>ROPER TECHNOLOGIES I5</td>\n",
       "      <td>0.838356</td>\n",
       "      <td>FTI\\n - provides flow meter calibrators, and c...</td>\n",
       "    </tr>\n",
       "  </tbody>\n",
       "</table>\n",
       "</div>"
      ],
      "text/plain": [
       "                            doc_id     score  \\\n",
       "0        Goldman Sachs BDC, Inc.50  1.000000   \n",
       "1    STANLEY BLACK & DECKER, INC10  0.998252   \n",
       "2         BERKSHIRE HATHAWAY INC36  0.916378   \n",
       "3        Goldman Sachs BDC, Inc.19  0.915651   \n",
       "4  APPLIED OPTOELECTRONICS, INC.55  0.891730   \n",
       "5         BERKSHIRE HATHAWAY INC40  0.849097   \n",
       "6        Goldman Sachs BDC, Inc.34  0.847477   \n",
       "7    STANLEY BLACK & DECKER, INC45  0.841106   \n",
       "8         BERKSHIRE HATHAWAY INC25  0.840315   \n",
       "9            ROPER TECHNOLOGIES I5  0.838356   \n",
       "\n",
       "                                                text  \n",
       "0  The accompanying notes are part of these conso...  \n",
       "1  Raw Materials\\nThe Company’s products are manu...  \n",
       "2  Precision Castparts Corp. (“PCC”) manufactures...  \n",
       "3  6.75%\\n\\n\\nL + 5.75%\\n\\n\\n1.00%\\n\\n\\n04/02/25\\...  \n",
       "4  ‑\\n \\n\\n\\n \\ndifficulties integrating the busi...  \n",
       "5  Lubrizol \\n\\n\\nThe Lubrizol Corporation (“Lubr...  \n",
       "6  Conergy Asia & ME Pte. LTD.\\n\\n\\nConstruction ...  \n",
       "7  In addition, many of the Company’s products in...  \n",
       "8  The Great Britain distribution companies consi...  \n",
       "9  FTI\\n - provides flow meter calibrators, and c...  "
      ]
     },
     "execution_count": 319,
     "metadata": {},
     "output_type": "execute_result"
    }
   ],
   "source": [
    "from langchain.embeddings.vertexai import VertexAIEmbeddings\n",
    "from langchain.text_splitter import CharacterTextSplitter\n",
    "from langchain.vectorstores import Neo4jVector\n",
    "from langchain.vectorstores.neo4j_vector import SearchType\n",
    "\n",
    "db = Neo4jVector.from_existing_index(\n",
    "    url=NEO4J_URI,\n",
    "    username=NEO4J_USERNAME,\n",
    "    password=NEO4J_PASSWORD,\n",
    "    embedding=VertexAIEmbeddings(),\n",
    "    index_name='document-embeddings',\n",
    "    keyword_index_name='doc_text',\n",
    "    search_type=SearchType.HYBRID\n",
    ")\n",
    "\n",
    "results = db.similarity_search_with_score(query, k=10)\n",
    "res_df = to_df(results)\n",
    "res_df"
   ]
  },
  {
   "cell_type": "code",
   "execution_count": 321,
   "id": "4bde9793-0612-499b-bee6-41ce2dbacec0",
   "metadata": {},
   "outputs": [
    {
     "data": {
      "text/plain": [
       "'The accompanying notes are part of these consolidated financial statements.\\n\\n\\n92\\n\\n\\n\\xa0\\n\\n\\n\\xa0\\n\\n\\n\\n\\nTable of Contents\\n\\n\\nGoldman Sachs BDC, Inc.\\n\\n\\nConsolidated Schedule of Investments as of \\nDecember 31\\n, 2020 (continued)\\n\\n\\n(in thousands, except share and per share amounts)\\n\\n\\n\\xa0\\n\\n\\n\\n\\n\\n\\n\\n\\n\\n\\n\\n\\n\\n\\n\\n\\n\\n\\n\\n\\n\\n\\n\\n\\n\\n\\n\\n\\n\\n\\n\\n\\n\\n\\n\\n\\n\\n\\n\\n\\n\\n\\n\\n\\n\\n\\nInvestment *\\n\\n\\nIndustry\\n\\n\\nInterest\\nRate (+)\\n\\n\\nReference Rate\\n \\nand Spread (+)\\n\\n\\nFloor (+)\\n\\n\\n \\n\\xa0\\n\\n\\nMaturity\\n\\n\\nPar\\n(++)\\n\\n\\n \\n\\xa0\\n\\n\\nCost\\n\\n\\n \\n\\xa0\\n\\n\\nFair Value\\n\\n\\n \\n\\xa0\\n\\n\\nFootnotes\\n\\n\\n\\n\\n\\n\\nIracore International Holdings, Inc.\\n\\n\\nEnergy Equipment & Services\\n\\n\\n10.00%\\n\\n\\nL + 9.00%\\n\\n\\n1.00%\\n\\n\\n \\n\\xa0\\n\\n\\n04/12/21\\n\\n\\n$\\n\\n\\n2,361\\n\\n\\n \\n\\xa0\\n\\n\\n$\\n\\n\\n2,361\\n\\n\\n \\n\\xa0\\n\\n\\n$\\n\\n\\n2,361\\n\\n\\n \\n\\xa0\\n\\n\\n^ (4)\\n\\n\\n\\n\\n\\n\\nJill Acquisition LLC (dba J. Jill)\\n\\n\\nSpecialty Retail\\n\\n\\n6.00%\\n\\n\\nL + 5.00%\\n\\n\\n1.00%\\n\\n\\n \\n\\xa0\\n\\n\\n05/08/24\\n\\n\\n \\n\\xa0\\n\\n\\n6,622\\n\\n\\n \\n\\xa0\\n\\n\\n \\n\\xa0\\n\\n\\n6,554\\n\\n\\n \\n\\xa0\\n\\n\\n \\n\\xa0\\n\\n\\n4,503\\n\\n\\n \\n\\xa0\\n\\n\\n\\xa0\\n\\n\\n\\n\\n\\n\\nKawa Solar Holdings Limited\\n\\n\\nConstruction & Engineering\\n\\n\\n \\n\\xa0\\n\\n\\n \\n\\xa0\\n\\n\\n \\n\\xa0\\n\\n\\n \\n\\xa0\\n\\n\\n \\n\\xa0\\n\\n\\n12/31/21\\n\\n\\n \\n\\xa0\\n\\n\\n3,917\\n\\n\\n \\n\\xa0\\n\\n\\n \\n\\xa0\\n\\n\\n3,603\\n\\n\\n \\n\\xa0\\n\\n\\n \\n\\xa0\\n\\n\\n1,359\\n\\n\\n \\n\\xa0\\n\\n\\n^ (1) (4) (6)\\n\\n\\n\\n\\n\\n\\nKawa Solar Holdings Limited\\n\\n\\nConstruction & Engineering\\n\\n\\n \\n\\xa0\\n\\n\\n \\n\\xa0\\n\\n\\n \\n\\xa0\\n\\n\\n \\n\\xa0\\n\\n\\n \\n\\xa0\\n\\n\\n12/31/21\\n\\n\\n \\n\\xa0\\n\\n\\n3,318\\n\\n\\n \\n\\xa0\\n\\n\\n \\n\\xa0\\n\\n\\n800\\n\\n\\n \\n\\xa0\\n\\n\\n \\n\\xa0\\n\\n\\n—\\n\\n\\n \\n\\xa0\\n\\n\\n^ (1) (4) (6)\\n\\n\\n\\n\\n\\n\\nLithium Technologies, Inc.\\n\\n\\nInteractive Media & Services\\n\\n\\n9.00%\\n\\n\\nL + 8.00%\\n\\n\\n1.00%\\n\\n\\n \\n\\xa0\\n\\n\\n10/03/22\\n\\n\\n \\n\\xa0\\n\\n\\n89,013\\n\\n\\n \\n\\xa0\\n\\n\\n \\n\\xa0\\n\\n\\n84,252\\n\\n\\n \\n\\xa0\\n\\n\\n \\n\\xa0\\n\\n\\n85,230\\n\\n\\n \\n\\xa0\\n\\n\\n(2) (4)\\n\\n\\n\\n\\n\\n\\nLithium Technologies, Inc.\\n\\n\\nInteractive Media & Services\\n\\n\\n9.00%\\n\\n\\nL + 8.00%\\n\\n\\n1.00%\\n\\n\\n \\n\\xa0\\n\\n\\n10/03/22\\n\\n\\n \\n\\xa0\\n\\n\\n5,110\\n\\n\\n \\n\\xa0\\n\\n\\n \\n\\xa0\\n\\n\\n1,896\\n\\n\\n \\n\\xa0\\n\\n\\n \\n\\xa0\\n\\n\\n1,827\\n\\n\\n \\n\\xa0\\n\\n\\n(2) (3) (4)\\n\\n\\n\\n\\n\\n\\nMailgun Technologies, Inc.\\n\\n\\nInteractive Media & Services\\n\\n\\n6.00%\\n\\n\\nL + 5.00%\\n\\n\\n1.00%\\n\\n\\n \\n\\xa0\\n\\n\\n03/26/25\\n\\n\\n \\n\\xa0\\n\\n\\n38,673\\n\\n\\n \\n\\xa0\\n\\n\\n \\n\\xa0\\n\\n\\n37,340\\n\\n\\n \\n\\xa0\\n\\n\\n \\n\\xa0\\n\\n\\n38,673\\n\\n\\n \\n\\xa0\\n\\n\\n(2) (4)\\n\\n\\n\\n\\n\\n\\nMailgun Technologies, Inc.\\n\\n\\nInteractive Media & Services\\n\\n\\n \\n\\xa0\\n\\n\\nL + 5.00%\\n\\n\\n1.00%\\n\\n\\n \\n\\xa0\\n\\n\\n03/26/25\\n\\n\\n \\n\\xa0\\n\\n\\n2,441\\n\\n\\n \\n\\xa0\\n\\n\\n \\n\\xa0\\n\\n\\n—\\n\\n\\n \\n\\xa0\\n\\n\\n \\n\\xa0\\n\\n\\n—\\n\\n\\n \\n\\xa0\\n\\n\\n(2) (3) (4)\\n\\n\\n\\n\\n\\n\\nMedeAnalytics, Inc.\\n\\n\\nHealth Care Technology\\n\\n\\n7.50%\\n\\n\\nL + 6.50%\\n\\n\\n1.00%'"
      ]
     },
     "execution_count": 321,
     "metadata": {},
     "output_type": "execute_result"
    }
   ],
   "source": [
    "res_df['text'][0]"
   ]
  },
  {
   "cell_type": "code",
   "execution_count": 320,
   "id": "ae38378f-8288-4481-94ba-2fb7fa5083a8",
   "metadata": {},
   "outputs": [
    {
     "name": "stdout",
     "output_type": "stream",
     "text": [
      "Top-3 Cross-Encoder Re-ranker hits\n",
      "\t-3.510\tBERKSHIRE HATHAWAY INC36\n",
      "\t-3.588\tSTANLEY BLACK & DECKER, INC10\n",
      "\t-4.094\tSTANLEY BLACK & DECKER, INC45\n",
      "\t-8.700\tGoldman Sachs BDC, Inc.19\n",
      "\t-9.374\tGoldman Sachs BDC, Inc.50\n",
      "\t-9.936\tBERKSHIRE HATHAWAY INC25\n",
      "\t-10.341\tBERKSHIRE HATHAWAY INC40\n",
      "\t-10.604\tGoldman Sachs BDC, Inc.34\n",
      "\t-11.184\tROPER TECHNOLOGIES I5\n",
      "\t-11.215\tAPPLIED OPTOELECTRONICS, INC.55\n"
     ]
    },
    {
     "data": {
      "text/html": [
       "<div>\n",
       "<style scoped>\n",
       "    .dataframe tbody tr th:only-of-type {\n",
       "        vertical-align: middle;\n",
       "    }\n",
       "\n",
       "    .dataframe tbody tr th {\n",
       "        vertical-align: top;\n",
       "    }\n",
       "\n",
       "    .dataframe thead th {\n",
       "        text-align: right;\n",
       "    }\n",
       "</style>\n",
       "<table border=\"1\" class=\"dataframe\">\n",
       "  <thead>\n",
       "    <tr style=\"text-align: right;\">\n",
       "      <th></th>\n",
       "      <th>doc_id</th>\n",
       "      <th>score</th>\n",
       "      <th>text</th>\n",
       "      <th>cross-score</th>\n",
       "    </tr>\n",
       "  </thead>\n",
       "  <tbody>\n",
       "    <tr>\n",
       "      <th>0</th>\n",
       "      <td>BERKSHIRE HATHAWAY INC36</td>\n",
       "      <td>0.916378</td>\n",
       "      <td>Precision Castparts Corp. (“PCC”) manufactures...</td>\n",
       "      <td>-3.509796</td>\n",
       "    </tr>\n",
       "    <tr>\n",
       "      <th>1</th>\n",
       "      <td>STANLEY BLACK &amp; DECKER, INC10</td>\n",
       "      <td>0.998252</td>\n",
       "      <td>Raw Materials\\nThe Company’s products are manu...</td>\n",
       "      <td>-3.587836</td>\n",
       "    </tr>\n",
       "    <tr>\n",
       "      <th>2</th>\n",
       "      <td>STANLEY BLACK &amp; DECKER, INC45</td>\n",
       "      <td>0.841106</td>\n",
       "      <td>In addition, many of the Company’s products in...</td>\n",
       "      <td>-4.094014</td>\n",
       "    </tr>\n",
       "    <tr>\n",
       "      <th>3</th>\n",
       "      <td>Goldman Sachs BDC, Inc.19</td>\n",
       "      <td>0.915651</td>\n",
       "      <td>6.75%\\n\\n\\nL + 5.75%\\n\\n\\n1.00%\\n\\n\\n04/02/25\\...</td>\n",
       "      <td>-8.700157</td>\n",
       "    </tr>\n",
       "    <tr>\n",
       "      <th>4</th>\n",
       "      <td>Goldman Sachs BDC, Inc.50</td>\n",
       "      <td>1.000000</td>\n",
       "      <td>The accompanying notes are part of these conso...</td>\n",
       "      <td>-9.373708</td>\n",
       "    </tr>\n",
       "    <tr>\n",
       "      <th>5</th>\n",
       "      <td>BERKSHIRE HATHAWAY INC25</td>\n",
       "      <td>0.840315</td>\n",
       "      <td>The Great Britain distribution companies consi...</td>\n",
       "      <td>-9.936461</td>\n",
       "    </tr>\n",
       "    <tr>\n",
       "      <th>6</th>\n",
       "      <td>BERKSHIRE HATHAWAY INC40</td>\n",
       "      <td>0.849097</td>\n",
       "      <td>Lubrizol \\n\\n\\nThe Lubrizol Corporation (“Lubr...</td>\n",
       "      <td>-10.340531</td>\n",
       "    </tr>\n",
       "    <tr>\n",
       "      <th>7</th>\n",
       "      <td>Goldman Sachs BDC, Inc.34</td>\n",
       "      <td>0.847477</td>\n",
       "      <td>Conergy Asia &amp; ME Pte. LTD.\\n\\n\\nConstruction ...</td>\n",
       "      <td>-10.604258</td>\n",
       "    </tr>\n",
       "    <tr>\n",
       "      <th>8</th>\n",
       "      <td>ROPER TECHNOLOGIES I5</td>\n",
       "      <td>0.838356</td>\n",
       "      <td>FTI\\n - provides flow meter calibrators, and c...</td>\n",
       "      <td>-11.184478</td>\n",
       "    </tr>\n",
       "    <tr>\n",
       "      <th>9</th>\n",
       "      <td>APPLIED OPTOELECTRONICS, INC.55</td>\n",
       "      <td>0.891730</td>\n",
       "      <td>‑\\n \\n\\n\\n \\ndifficulties integrating the busi...</td>\n",
       "      <td>-11.215431</td>\n",
       "    </tr>\n",
       "  </tbody>\n",
       "</table>\n",
       "</div>"
      ],
      "text/plain": [
       "                            doc_id     score  \\\n",
       "0         BERKSHIRE HATHAWAY INC36  0.916378   \n",
       "1    STANLEY BLACK & DECKER, INC10  0.998252   \n",
       "2    STANLEY BLACK & DECKER, INC45  0.841106   \n",
       "3        Goldman Sachs BDC, Inc.19  0.915651   \n",
       "4        Goldman Sachs BDC, Inc.50  1.000000   \n",
       "5         BERKSHIRE HATHAWAY INC25  0.840315   \n",
       "6         BERKSHIRE HATHAWAY INC40  0.849097   \n",
       "7        Goldman Sachs BDC, Inc.34  0.847477   \n",
       "8            ROPER TECHNOLOGIES I5  0.838356   \n",
       "9  APPLIED OPTOELECTRONICS, INC.55  0.891730   \n",
       "\n",
       "                                                text  cross-score  \n",
       "0  Precision Castparts Corp. (“PCC”) manufactures...    -3.509796  \n",
       "1  Raw Materials\\nThe Company’s products are manu...    -3.587836  \n",
       "2  In addition, many of the Company’s products in...    -4.094014  \n",
       "3  6.75%\\n\\n\\nL + 5.75%\\n\\n\\n1.00%\\n\\n\\n04/02/25\\...    -8.700157  \n",
       "4  The accompanying notes are part of these conso...    -9.373708  \n",
       "5  The Great Britain distribution companies consi...    -9.936461  \n",
       "6  Lubrizol \\n\\n\\nThe Lubrizol Corporation (“Lubr...   -10.340531  \n",
       "7  Conergy Asia & ME Pte. LTD.\\n\\n\\nConstruction ...   -10.604258  \n",
       "8  FTI\\n - provides flow meter calibrators, and c...   -11.184478  \n",
       "9  ‑\\n \\n\\n\\n \\ndifficulties integrating the busi...   -11.215431  "
      ]
     },
     "execution_count": 320,
     "metadata": {},
     "output_type": "execute_result"
    }
   ],
   "source": [
    "ranked_results = rerank_results(res_df)\n",
    "ranked_results"
   ]
  },
  {
   "cell_type": "code",
   "execution_count": 322,
   "id": "7cd67e90-4580-45f9-a6b6-04beb9833e2e",
   "metadata": {},
   "outputs": [
    {
     "data": {
      "text/plain": [
       "'Precision Castparts Corp. (“PCC”) manufactures complex metal components and products, provides high-quality investment castings, forgings, fasteners/fastener systems and aerostructures for critical aerospace and power and energy applications. PCC also manufactures seamless pipe for coal-fired, industrial gas turbine (“IGT”) and nuclear power plants; downhole casing and tubing, fittings and various mill forms in a variety of nickel and steel alloys for severe-service oil and gas environments; investment castings and forgings for general industrial, armament, medical and other applications; nickel and titanium alloys in all standard mill forms from large ingots and billets to plate, foil, sheet, strip, tubing, bar, rod, extruded shapes, rod-in-coil, wire and welding consumables, as well as cobalt alloys, for the aerospace, chemical processing, oil and gas, pollution control and other industries; revert management solutions; fasteners for automotive and general industrial markets; specialty alloys for the investment casting and forging industries; heat treating and destructive testing services for the investment cast products and forging industries; grinder pumps and affiliated components for low-pressure sewer systems; critical auxiliary equipment and gas monitoring systems for the power generation industry; and metalworking tools for the fastener market and other applications.'"
      ]
     },
     "execution_count": 322,
     "metadata": {},
     "output_type": "execute_result"
    }
   ],
   "source": [
    "ranked_results['text'][0]"
   ]
  },
  {
   "cell_type": "markdown",
   "id": "07198bd2-2a8d-432a-8d7d-94f617cc0969",
   "metadata": {},
   "source": [
    "### Semantic Search with Knowledge Graph"
   ]
  },
  {
   "cell_type": "code",
   "execution_count": 326,
   "id": "b8bbab47-d50a-4827-aeb4-42d4c9c612af",
   "metadata": {},
   "outputs": [],
   "source": [
    "# Semantic query, lets use these key words to search\n",
    "db = Neo4jVector(\n",
    "    url=NEO4J_URI,\n",
    "    username=NEO4J_USERNAME,\n",
    "    password=NEO4J_PASSWORD,\n",
    "    embedding=VertexAIEmbeddings()\n",
    ")"
   ]
  },
  {
   "cell_type": "markdown",
   "id": "91518685-9430-4f52-8e6b-d7e4b61a7a25",
   "metadata": {},
   "source": [
    "Now let's use that query vector to search for companies.  Remember, companies have multiple documents so we will need to use a graph traversal on top of a document lookup to find which companies are most similar."
   ]
  },
  {
   "cell_type": "code",
   "execution_count": 365,
   "id": "f9428f7f-5aea-445d-a2ee-203c05a4d4f8",
   "metadata": {},
   "outputs": [
    {
     "data": {
      "text/plain": [
       "[0.018738236278295517,\n",
       " -0.04106052964925766,\n",
       " -0.026169316843152046,\n",
       " 0.05331621691584587,\n",
       " 0.0431697852909565]"
      ]
     },
     "execution_count": 365,
     "metadata": {},
     "output_type": "execute_result"
    }
   ],
   "source": [
    "query_vector = db.embedding.embed_query(text='pharma, healthcare, biotech related companies')\n",
    "query_vector[0:5]"
   ]
  },
  {
   "cell_type": "code",
   "execution_count": 366,
   "id": "26e84306-7097-4ea7-ab34-166ef2421f2d",
   "metadata": {},
   "outputs": [
    {
     "data": {
      "text/plain": [
       "[{'companyName': 'UnitedHealth Group', 'score': 0.8696630597114563},\n",
       " {'companyName': 'Goldman Sachs Grp', 'score': 0.8675507545471192},\n",
       " {'companyName': 'JOHNSON & JOHNSON', 'score': 0.8666969537734985},\n",
       " {'companyName': 'BERKSHIRE HATHAWAY CLASS B', 'score': 0.864528238773346},\n",
       " {'companyName': 'ROPER TECHNOLOGIES', 'score': 0.8645270466804504}]"
      ]
     },
     "execution_count": 366,
     "metadata": {},
     "output_type": "execute_result"
    }
   ],
   "source": [
    "# Search for similar companies\n",
    "res_df = db.query(\"\"\"\n",
    "CALL db.index.vector.queryNodes('document-embeddings', 10, $queryVector)\n",
    "YIELD node AS similarDocuments, score\n",
    "\n",
    "MATCH (similarDocuments)<-[:HAS]-(c:Company)\n",
    "RETURN c.companyName as companyName, avg(score) AS score\n",
    "ORDER BY score DESC LIMIT 10\n",
    "\"\"\", params =  {'queryVector': query_vector})\n",
    "res_df"
   ]
  },
  {
   "cell_type": "markdown",
   "id": "085bb735-27de-4726-b23f-df0762ff28e6",
   "metadata": {},
   "source": [
    "You may recognize some of these companies, and if not a quick google search will con firm that their business is involved in healthcare and pharma, so this seems to be working."
   ]
  },
  {
   "cell_type": "markdown",
   "id": "64e2d9f1-f2f6-4438-98ec-f04be86972c3",
   "metadata": {},
   "source": [
    "Now let's take this one step further and find investment managers who are most heavily focused in pharma.  This will involve a bit more Cypher for a 2-hop traversal. "
   ]
  },
  {
   "cell_type": "code",
   "execution_count": 367,
   "id": "c36b2196-554e-43ca-a52c-a3719d12c146",
   "metadata": {},
   "outputs": [
    {
     "data": {
      "text/html": [
       "<div>\n",
       "<style scoped>\n",
       "    .dataframe tbody tr th:only-of-type {\n",
       "        vertical-align: middle;\n",
       "    }\n",
       "\n",
       "    .dataframe tbody tr th {\n",
       "        vertical-align: top;\n",
       "    }\n",
       "\n",
       "    .dataframe thead th {\n",
       "        text-align: right;\n",
       "    }\n",
       "</style>\n",
       "<table border=\"1\" class=\"dataframe\">\n",
       "  <thead>\n",
       "    <tr style=\"text-align: right;\">\n",
       "      <th></th>\n",
       "      <th>managerName</th>\n",
       "      <th>score</th>\n",
       "    </tr>\n",
       "  </thead>\n",
       "  <tbody>\n",
       "    <tr>\n",
       "      <th>0</th>\n",
       "      <td>Rempart Asset Management Inc.</td>\n",
       "      <td>0.824773</td>\n",
       "    </tr>\n",
       "    <tr>\n",
       "      <th>1</th>\n",
       "      <td>BASSETT HARGROVE INVESTMENT COUNSEL, LLC</td>\n",
       "      <td>0.823473</td>\n",
       "    </tr>\n",
       "    <tr>\n",
       "      <th>2</th>\n",
       "      <td>Emery Howard Portfolio Management, Inc.</td>\n",
       "      <td>0.821982</td>\n",
       "    </tr>\n",
       "    <tr>\n",
       "      <th>3</th>\n",
       "      <td>TIGER MANAGEMENT L.L.C.</td>\n",
       "      <td>0.819795</td>\n",
       "    </tr>\n",
       "  </tbody>\n",
       "</table>\n",
       "</div>"
      ],
      "text/plain": [
       "                                managerName     score\n",
       "0             Rempart Asset Management Inc.  0.824773\n",
       "1  BASSETT HARGROVE INVESTMENT COUNSEL, LLC  0.823473\n",
       "2   Emery Howard Portfolio Management, Inc.  0.821982\n",
       "3                   TIGER MANAGEMENT L.L.C.  0.819795"
      ]
     },
     "execution_count": 367,
     "metadata": {},
     "output_type": "execute_result"
    }
   ],
   "source": [
    "# Search for managers with significiant investments in area\n",
    "res_df = gds.run_cypher(\"\"\"\n",
    "CALL db.index.vector.queryNodes('document-embeddings', 1000, $queryVector)\n",
    "YIELD node AS similarDocuments, score\n",
    "MATCH (similarDocuments)<-[:HAS]-(c:Company)\n",
    "WITH c, avg(score) AS score ORDER BY score LIMIT 100\n",
    "MATCH (c)<-[r:OWNS]-(m:Manager)\n",
    "WITH m, r.value as value, score*r.value as weightedScore\n",
    "WITH m.managerName AS managerName, sum(weightedScore) AS aggScore, sum(value) AS aggValue\n",
    "RETURN managerName, aggScore/aggValue AS score ORDER BY score DESC LIMIT 1000\n",
    "\n",
    "\"\"\", params =  {'queryVector': query_vector})\n",
    "res_df"
   ]
  },
  {
   "cell_type": "markdown",
   "id": "458e5b2c-8bf6-4755-8e3c-9eaf06bc4096",
   "metadata": {},
   "source": [
    "And we can see that our top result is `Rempart Asset Management Inc.`"
   ]
  },
  {
   "cell_type": "markdown",
   "id": "930804d4-d3ec-48a7-b8c6-92ab8a64ef04",
   "metadata": {},
   "source": [
    "## Expanding Available Data for Knowledge Retrieval\n",
    "Not every element in your data will have rich text data, and further, much like we only have 10K documents for some companies, your use cases may also have incomplete, unevenly distributed text data. \n",
    "\n",
    "We can check our top result investment manager to this. "
   ]
  },
  {
   "cell_type": "code",
   "execution_count": 368,
   "id": "10aefd2b-4100-4be3-a985-1ceabcd2c8ca",
   "metadata": {},
   "outputs": [
    {
     "data": {
      "text/html": [
       "<div>\n",
       "<style scoped>\n",
       "    .dataframe tbody tr th:only-of-type {\n",
       "        vertical-align: middle;\n",
       "    }\n",
       "\n",
       "    .dataframe tbody tr th {\n",
       "        vertical-align: top;\n",
       "    }\n",
       "\n",
       "    .dataframe thead th {\n",
       "        text-align: right;\n",
       "    }\n",
       "</style>\n",
       "<table border=\"1\" class=\"dataframe\">\n",
       "  <thead>\n",
       "    <tr style=\"text-align: right;\">\n",
       "      <th></th>\n",
       "      <th>managerName</th>\n",
       "      <th>ownedCompaniesWithDocs</th>\n",
       "      <th>totalOwnedCompanies</th>\n",
       "    </tr>\n",
       "  </thead>\n",
       "  <tbody>\n",
       "    <tr>\n",
       "      <th>0</th>\n",
       "      <td>Rempart Asset Management Inc.</td>\n",
       "      <td>17</td>\n",
       "      <td>41</td>\n",
       "    </tr>\n",
       "  </tbody>\n",
       "</table>\n",
       "</div>"
      ],
      "text/plain": [
       "                     managerName  ownedCompaniesWithDocs  totalOwnedCompanies\n",
       "0  Rempart Asset Management Inc.                      17                   41"
      ]
     },
     "execution_count": 368,
     "metadata": {},
     "output_type": "execute_result"
    }
   ],
   "source": [
    "gds.run_cypher('''\n",
    "MATCH (m:Manager {managerName: $managerName})-[:OWNS]->(c:Company)-[:HAS]->(d:Document)\n",
    "WITH m, count(DISTINCT c) AS ownedCompaniesWithDocs\n",
    "MATCH (m:Manager {managerName: $managerName})-[:OWNS]->(c:Company)\n",
    "RETURN m.managerName AS managerName, ownedCompaniesWithDocs, count(DISTINCT c) AS totalOwnedCompanies\n",
    "''', params =  {'managerName':'Rempart Asset Management Inc.'})"
   ]
  },
  {
   "cell_type": "markdown",
   "id": "532553dd-682e-45cf-96d8-7cecf58068a2",
   "metadata": {},
   "source": [
    "This manager has significantly more other companies they own without documents.  We can use Graph Data Science Node Similarity to find the managers that have the most overlap to this one which should give us other Biotech companies that we missed due to sparse text data."
   ]
  },
  {
   "cell_type": "code",
   "execution_count": 357,
   "id": "252ff6a0-eae7-4dcc-aa39-fbb7a37b1114",
   "metadata": {},
   "outputs": [],
   "source": [
    "g, _  = gds.graph.project('proj', ['Company', 'Manager'], {'OWNS':{'properties':['value']}})"
   ]
  },
  {
   "cell_type": "code",
   "execution_count": 358,
   "id": "23119a94-d0d0-4c60-b319-f2d94805a144",
   "metadata": {},
   "outputs": [
    {
     "data": {
      "text/plain": [
       "preProcessingMillis                                                       0\n",
       "computeMillis                                                             3\n",
       "writeMillis                                                              15\n",
       "postProcessingMillis                                                     -1\n",
       "nodesCompared                                                             4\n",
       "relationshipsWritten                                                     10\n",
       "similarityDistribution    {'min': 6.620865315198898e-05, 'p5': 6.6208653...\n",
       "configuration             {'writeProperty': 'score', 'writeRelationshipT...\n",
       "Name: 0, dtype: object"
      ]
     },
     "execution_count": 358,
     "metadata": {},
     "output_type": "execute_result"
    }
   ],
   "source": [
    "gds.nodeSimilarity.write(g, writeRelationshipType='SIMILAR', writeProperty='score', relationshipWeightProperty='value')"
   ]
  },
  {
   "cell_type": "code",
   "execution_count": 359,
   "id": "acd39e18-fc3d-4734-bbe8-e1862516fc29",
   "metadata": {},
   "outputs": [
    {
     "data": {
      "text/plain": [
       "graphName                                                             proj\n",
       "database                                                             neo4j\n",
       "memoryUsage                                                               \n",
       "sizeInBytes                                                             -1\n",
       "nodeCount                                                              153\n",
       "relationshipCount                                                      172\n",
       "configuration            {'relationshipProjection': {'OWNS': {'aggregat...\n",
       "density                                                           0.007396\n",
       "creationTime                           2023-09-26T15:50:35.663277734+00:00\n",
       "modificationTime                       2023-09-26T15:50:35.671715265+00:00\n",
       "schema                   {'graphProperties': {}, 'nodes': {'Manager': {...\n",
       "schemaWithOrientation    {'graphProperties': {}, 'nodes': {'Manager': {...\n",
       "Name: 0, dtype: object"
      ]
     },
     "execution_count": 359,
     "metadata": {},
     "output_type": "execute_result"
    }
   ],
   "source": [
    "g.drop()"
   ]
  },
  {
   "cell_type": "markdown",
   "id": "addcf2b2-a3b3-41a2-bc5d-d9630b0689cb",
   "metadata": {},
   "source": [
    "And now we can pull back other relevant results"
   ]
  },
  {
   "cell_type": "code",
   "execution_count": 360,
   "id": "5ec2ed6f-6d34-414f-82b3-9cf28602d4e0",
   "metadata": {},
   "outputs": [
    {
     "data": {
      "text/html": [
       "<div>\n",
       "<style scoped>\n",
       "    .dataframe tbody tr th:only-of-type {\n",
       "        vertical-align: middle;\n",
       "    }\n",
       "\n",
       "    .dataframe tbody tr th {\n",
       "        vertical-align: top;\n",
       "    }\n",
       "\n",
       "    .dataframe thead th {\n",
       "        text-align: right;\n",
       "    }\n",
       "</style>\n",
       "<table border=\"1\" class=\"dataframe\">\n",
       "  <thead>\n",
       "    <tr style=\"text-align: right;\">\n",
       "      <th></th>\n",
       "      <th>managerName</th>\n",
       "      <th>score</th>\n",
       "    </tr>\n",
       "  </thead>\n",
       "  <tbody>\n",
       "    <tr>\n",
       "      <th>0</th>\n",
       "      <td>BASSETT HARGROVE INVESTMENT COUNSEL, LLC</td>\n",
       "      <td>0.023110</td>\n",
       "    </tr>\n",
       "    <tr>\n",
       "      <th>1</th>\n",
       "      <td>TIGER MANAGEMENT L.L.C.</td>\n",
       "      <td>0.000284</td>\n",
       "    </tr>\n",
       "  </tbody>\n",
       "</table>\n",
       "</div>"
      ],
      "text/plain": [
       "                                managerName     score\n",
       "0  BASSETT HARGROVE INVESTMENT COUNSEL, LLC  0.023110\n",
       "1                   TIGER MANAGEMENT L.L.C.  0.000284"
      ]
     },
     "execution_count": 360,
     "metadata": {},
     "output_type": "execute_result"
    }
   ],
   "source": [
    "gds.run_cypher('''\n",
    "MATCH (m0:Manager {managerName: $managerName})-[r:SIMILAR]->(m:Manager)\n",
    "RETURN m.managerName AS managerName, r.score AS score\n",
    "ORDER BY score DESC LIMIT 10\n",
    "''', params =  {'managerName':'Rempart Asset Management Inc.'})"
   ]
  },
  {
   "cell_type": "markdown",
   "id": "3a0a43fc-72c5-4a40-914f-01e7f3001c56",
   "metadata": {},
   "source": [
    "## Clean Up"
   ]
  },
  {
   "cell_type": "code",
   "execution_count": 356,
   "id": "0f548f8e-e48f-4d5f-b2fd-2251280fc8f9",
   "metadata": {},
   "outputs": [
    {
     "data": {
      "text/html": [
       "<div>\n",
       "<style scoped>\n",
       "    .dataframe tbody tr th:only-of-type {\n",
       "        vertical-align: middle;\n",
       "    }\n",
       "\n",
       "    .dataframe tbody tr th {\n",
       "        vertical-align: top;\n",
       "    }\n",
       "\n",
       "    .dataframe thead th {\n",
       "        text-align: right;\n",
       "    }\n",
       "</style>\n",
       "<table border=\"1\" class=\"dataframe\">\n",
       "  <thead>\n",
       "    <tr style=\"text-align: right;\">\n",
       "      <th></th>\n",
       "    </tr>\n",
       "  </thead>\n",
       "  <tbody>\n",
       "  </tbody>\n",
       "</table>\n",
       "</div>"
      ],
      "text/plain": [
       "Empty DataFrame\n",
       "Columns: []\n",
       "Index: []"
      ]
     },
     "execution_count": 356,
     "metadata": {},
     "output_type": "execute_result"
    }
   ],
   "source": [
    "gds.run_cypher('MATCH (M:Manager)-[s:SIMILAR]->() DELETE s')"
   ]
  }
 ],
 "metadata": {
  "environment": {
   "kernel": "python3",
   "name": "pytorch-gpu.1-13.m108",
   "type": "gcloud",
   "uri": "gcr.io/deeplearning-platform-release/pytorch-gpu.1-13:m108"
  },
  "kernelspec": {
   "display_name": "lab (Local)",
   "language": "python",
   "name": "local-lab"
  },
  "language_info": {
   "codemirror_mode": {
    "name": "ipython",
    "version": 3
   },
   "file_extension": ".py",
   "mimetype": "text/x-python",
   "name": "python",
   "nbconvert_exporter": "python",
   "pygments_lexer": "ipython3",
   "version": "3.8.17"
  }
 },
 "nbformat": 4,
 "nbformat_minor": 5
}
