{
 "cells": [
  {
   "cell_type": "markdown",
   "id": "19ae6874-7585-4a0b-848c-965f639def41",
   "metadata": {},
   "source": [
    "# Search & Summerization with Neo4j and GenAI Services\n",
    "\n",
    "\n",
    "Below we use a graph of investment managers who own stocks in different companies from 2022 through 2023-08.  Some companies have a variable number of Documents extracted from 10k filings which explain there business via free text.  \n",
    "\n",
    "![](images/data-model.png)\n",
    "\n",
    "In the context of our use cases, think of search as finding \\<entities\\> which meet some \\<criteria\\>.  Criteria defined by the user, entities (people, places, things) defined by both user and the enterpise system. \n",
    "\n",
    "By using Text embedings in a vector similarity search, we can make the above work well when documents are the entities of interest.  However, what if we want second or third order entity related or connected to those documents?  how would we efficiently search for them at scale in an enterprise setting?\n",
    "\n",
    "For example, in our use case, if we simply wanted to search, what documents met a prompt critieria...i.e. \"find all documents that talk about pharma related things\" We would not need a Graph Database, just a simple vector search mechanism.  But if we instead want to ask \"find investors who are most focused on pharma related things\" then it becomes a different story.  \n",
    "\n",
    "__In this Notebook:__\n",
    "1. Semantic Search: Answer the Question \"What Investors are most focused in: \\[x\\]?\"\n",
    "2. \\[TODO\\]: Gradio Embedded UI? LLM for Summerizing Response? More Examples? "
   ]
  },
  {
   "cell_type": "markdown",
   "id": "cbadcd3e-3306-41bf-986a-bb690b2f1a7b",
   "metadata": {},
   "source": [
    "## Setup\n",
    "First off, check that the Python environment you installed in the readme is running this notebook. Make sure you select the py38 kernel in the top right of this notebook. You should see a 3.8 version when you run this command."
   ]
  },
  {
   "cell_type": "code",
   "execution_count": 1,
   "id": "f6a58389-bf6e-4304-bf49-3d3d06a5732b",
   "metadata": {},
   "outputs": [
    {
     "data": {
      "text/plain": [
       "'3.10.10 | packaged by conda-forge | (main, Mar 24 2023, 20:08:06) [GCC 11.3.0]'"
      ]
     },
     "execution_count": 1,
     "metadata": {},
     "output_type": "execute_result"
    }
   ],
   "source": [
    "import sys\n",
    "sys.version"
   ]
  },
  {
   "cell_type": "markdown",
   "id": "82cb3b8f-e03c-4f08-9ff4-27b21d1fc0d9",
   "metadata": {},
   "source": [
    "Next we install and import some libraries "
   ]
  },
  {
   "cell_type": "code",
   "execution_count": 2,
   "id": "4aad4e36-7048-4bbf-a71a-a5d1b24d0ade",
   "metadata": {},
   "outputs": [],
   "source": [
    "%%capture\n",
    "%pip install --user \"google-cloud-aiplatform>=1.25.0\" --upgrade\n",
    "%pip install --user \"google-cloud-aiplatform[pipelines]>=1.25.0\"\n",
    "%pip install --user graphdatascience\n",
    "%pip install --user nltk"
   ]
  },
  {
   "cell_type": "markdown",
   "id": "3dd7c539-68b5-4126-990e-60c85b84fafa",
   "metadata": {},
   "source": [
    "Now restart the kernel. That will allow the Python evironment to import the new packages."
   ]
  },
  {
   "cell_type": "code",
   "execution_count": 3,
   "id": "f0e7aeea-5d5d-4cbc-a454-9708de3a3f5a",
   "metadata": {},
   "outputs": [],
   "source": [
    "import json\n",
    "import numpy as np\n",
    "import os\n",
    "import re\n",
    "from string import Template\n",
    "from dotenv import load_dotenv\n",
    "\n",
    "# Vertexai\n",
    "import vertexai\n",
    "from vertexai.preview.language_models import TextGenerationModel\n",
    "\n",
    "# Neo4j\n",
    "from graphdatascience import GraphDataScience"
   ]
  },
  {
   "cell_type": "code",
   "execution_count": 4,
   "id": "50798482-b5d5-4e96-adb2-851a3855f82e",
   "metadata": {},
   "outputs": [],
   "source": [
    "# username is neo4j by default\n",
    "NEO4J_USERNAME = 'neo4j'\n",
    "# You will need to change these to match\n",
    "NEO4J_URI = 'neo4j+s://7bcc79e1.databases.neo4j.io' #'<neo4j+s://xxxxx.databases.neo4j.io>'\n",
    "NEO4J_PASSWORD = 'genai123' #'<password>'"
   ]
  },
  {
   "cell_type": "code",
   "execution_count": 5,
   "id": "5aa11282-874f-4126-832d-9a2f772989a5",
   "metadata": {},
   "outputs": [],
   "source": [
    "gds = GraphDataScience(\n",
    "    NEO4J_URI,\n",
    "    auth=(NEO4J_USERNAME, NEO4J_PASSWORD),\n",
    "    aura_ds=True\n",
    ")\n",
    "gds.set_database('neo4j')"
   ]
  },
  {
   "cell_type": "markdown",
   "id": "313f706a-08c3-4fc0-9c50-293d588414ae",
   "metadata": {},
   "source": [
    "## Semantic Search\n",
    "In this Case We will Answer The Question - What Investors are most focused in Pharma"
   ]
  },
  {
   "cell_type": "code",
   "execution_count": 6,
   "id": "b8bbab47-d50a-4827-aeb4-42d4c9c612af",
   "metadata": {},
   "outputs": [],
   "source": [
    "#semantic_query = ['railroad cargo shipping']\n",
    "#semantic_query = ['smart phones, tablets']\n",
    "#semantic_query = ['water heaters and boilers, manufacturing, north america, operations']\n",
    "semantic_query = ['pharma, medicine, healthcare']"
   ]
  },
  {
   "cell_type": "code",
   "execution_count": 7,
   "id": "9a8f3979-426f-4adb-b403-885a3df8f11d",
   "metadata": {},
   "outputs": [],
   "source": [
    "from vertexai.language_models import TextEmbeddingModel\n",
    "\n",
    "EMBEDDING_MODEL = TextEmbeddingModel.from_pretrained(\"textembedding-gecko@001\")"
   ]
  },
  {
   "cell_type": "code",
   "execution_count": 8,
   "id": "8945b838-c51c-4224-9479-cee1ee946f35",
   "metadata": {},
   "outputs": [],
   "source": [
    "# Get query vector\n",
    "#emb_result =[e.values for e in EMBEDDING_MODEL.get_embeddings(semantic_query)][0]\n",
    "query_vector = EMBEDDING_MODEL.get_embeddings(semantic_query)[0].values"
   ]
  },
  {
   "cell_type": "code",
   "execution_count": 9,
   "id": "b83bdf87-c9a4-4507-8e9d-5711a9f5a168",
   "metadata": {},
   "outputs": [
    {
     "name": "stdout",
     "output_type": "stream",
     "text": [
      "CPU times: user 23.1 ms, sys: 0 ns, total: 23.1 ms\n",
      "Wall time: 1.12 s\n"
     ]
    },
    {
     "data": {
      "text/html": [
       "<div>\n",
       "<style scoped>\n",
       "    .dataframe tbody tr th:only-of-type {\n",
       "        vertical-align: middle;\n",
       "    }\n",
       "\n",
       "    .dataframe tbody tr th {\n",
       "        vertical-align: top;\n",
       "    }\n",
       "\n",
       "    .dataframe thead th {\n",
       "        text-align: right;\n",
       "    }\n",
       "</style>\n",
       "<table border=\"1\" class=\"dataframe\">\n",
       "  <thead>\n",
       "    <tr style=\"text-align: right;\">\n",
       "      <th></th>\n",
       "      <th>companyName</th>\n",
       "      <th>score</th>\n",
       "    </tr>\n",
       "  </thead>\n",
       "  <tbody>\n",
       "    <tr>\n",
       "      <th>0</th>\n",
       "      <td>UNITED THERAPEUTICS</td>\n",
       "      <td>0.738174</td>\n",
       "    </tr>\n",
       "    <tr>\n",
       "      <th>1</th>\n",
       "      <td>ORGANON &amp; CO.</td>\n",
       "      <td>0.731347</td>\n",
       "    </tr>\n",
       "    <tr>\n",
       "      <th>2</th>\n",
       "      <td>FORIAN INC</td>\n",
       "      <td>0.730147</td>\n",
       "    </tr>\n",
       "    <tr>\n",
       "      <th>3</th>\n",
       "      <td>LIQUIDIA CORP</td>\n",
       "      <td>0.729185</td>\n",
       "    </tr>\n",
       "    <tr>\n",
       "      <th>4</th>\n",
       "      <td>WINDTREE THERAPEUTICS INC</td>\n",
       "      <td>0.726925</td>\n",
       "    </tr>\n",
       "    <tr>\n",
       "      <th>...</th>\n",
       "      <td>...</td>\n",
       "      <td>...</td>\n",
       "    </tr>\n",
       "    <tr>\n",
       "      <th>525</th>\n",
       "      <td>ARK RESTAURANTS CORP</td>\n",
       "      <td>0.563173</td>\n",
       "    </tr>\n",
       "    <tr>\n",
       "      <th>526</th>\n",
       "      <td>MIDDLEFIELD BANC CORP</td>\n",
       "      <td>0.559373</td>\n",
       "    </tr>\n",
       "    <tr>\n",
       "      <th>527</th>\n",
       "      <td>SAFEGUARD SCIENTIFICS INC</td>\n",
       "      <td>0.555271</td>\n",
       "    </tr>\n",
       "    <tr>\n",
       "      <th>528</th>\n",
       "      <td>TREASURE GLOBAL INC</td>\n",
       "      <td>0.554142</td>\n",
       "    </tr>\n",
       "    <tr>\n",
       "      <th>529</th>\n",
       "      <td>BYNORDIC ACQUISITION CORP</td>\n",
       "      <td>0.544813</td>\n",
       "    </tr>\n",
       "  </tbody>\n",
       "</table>\n",
       "<p>530 rows × 2 columns</p>\n",
       "</div>"
      ],
      "text/plain": [
       "                   companyName     score\n",
       "0          UNITED THERAPEUTICS  0.738174\n",
       "1                ORGANON & CO.  0.731347\n",
       "2                   FORIAN INC  0.730147\n",
       "3                LIQUIDIA CORP  0.729185\n",
       "4    WINDTREE THERAPEUTICS INC  0.726925\n",
       "..                         ...       ...\n",
       "525       ARK RESTAURANTS CORP  0.563173\n",
       "526      MIDDLEFIELD BANC CORP  0.559373\n",
       "527  SAFEGUARD SCIENTIFICS INC  0.555271\n",
       "528        TREASURE GLOBAL INC  0.554142\n",
       "529  BYNORDIC ACQUISITION CORP  0.544813\n",
       "\n",
       "[530 rows x 2 columns]"
      ]
     },
     "execution_count": 9,
     "metadata": {},
     "output_type": "execute_result"
    }
   ],
   "source": [
    "%%time\n",
    "\n",
    "# Search for similar companies\n",
    "res_df = gds.run_cypher('''\n",
    "MATCH (b:Document)\n",
    "WITH b, gds.similarity.pearson($queryVector, b.textEmbedding) AS cosineSimilarity\n",
    "MATCH (b)<-[:HAS]-(c:Company)\n",
    "RETURN c.companyName as companyName, max(cosineSimilarity) AS score\n",
    "ORDER BY score DESC\n",
    "''', params =  {'queryVector': query_vector})\n",
    "res_df"
   ]
  },
  {
   "cell_type": "code",
   "execution_count": 10,
   "id": "9f5499c8-57e2-485e-99f5-9bf52daa7914",
   "metadata": {},
   "outputs": [
    {
     "name": "stdout",
     "output_type": "stream",
     "text": [
      "CPU times: user 35.9 ms, sys: 0 ns, total: 35.9 ms\n",
      "Wall time: 1.22 s\n"
     ]
    },
    {
     "data": {
      "text/html": [
       "<div>\n",
       "<style scoped>\n",
       "    .dataframe tbody tr th:only-of-type {\n",
       "        vertical-align: middle;\n",
       "    }\n",
       "\n",
       "    .dataframe tbody tr th {\n",
       "        vertical-align: top;\n",
       "    }\n",
       "\n",
       "    .dataframe thead th {\n",
       "        text-align: right;\n",
       "    }\n",
       "</style>\n",
       "<table border=\"1\" class=\"dataframe\">\n",
       "  <thead>\n",
       "    <tr style=\"text-align: right;\">\n",
       "      <th></th>\n",
       "      <th>managerName</th>\n",
       "      <th>score</th>\n",
       "    </tr>\n",
       "  </thead>\n",
       "  <tbody>\n",
       "    <tr>\n",
       "      <th>0</th>\n",
       "      <td>ORACLE INVESTMENT MANAGEMENT INC</td>\n",
       "      <td>0.670796</td>\n",
       "    </tr>\n",
       "    <tr>\n",
       "      <th>1</th>\n",
       "      <td>Grey Street Capital, LLC</td>\n",
       "      <td>0.670796</td>\n",
       "    </tr>\n",
       "    <tr>\n",
       "      <th>2</th>\n",
       "      <td>Brainard Capital Management LLC</td>\n",
       "      <td>0.670796</td>\n",
       "    </tr>\n",
       "    <tr>\n",
       "      <th>3</th>\n",
       "      <td>Mendota Financial Group, LLC</td>\n",
       "      <td>0.667671</td>\n",
       "    </tr>\n",
       "    <tr>\n",
       "      <th>4</th>\n",
       "      <td>West Oak Capital, LLC</td>\n",
       "      <td>0.666400</td>\n",
       "    </tr>\n",
       "    <tr>\n",
       "      <th>...</th>\n",
       "      <td>...</td>\n",
       "      <td>...</td>\n",
       "    </tr>\n",
       "    <tr>\n",
       "      <th>995</th>\n",
       "      <td>NorthRock Partners, LLC</td>\n",
       "      <td>0.570197</td>\n",
       "    </tr>\n",
       "    <tr>\n",
       "      <th>996</th>\n",
       "      <td>CONDOR CAPITAL MANAGEMENT</td>\n",
       "      <td>0.570197</td>\n",
       "    </tr>\n",
       "    <tr>\n",
       "      <th>997</th>\n",
       "      <td>Bison Wealth, LLC</td>\n",
       "      <td>0.570197</td>\n",
       "    </tr>\n",
       "    <tr>\n",
       "      <th>998</th>\n",
       "      <td>Eisler Capital (US) LLC</td>\n",
       "      <td>0.570197</td>\n",
       "    </tr>\n",
       "    <tr>\n",
       "      <th>999</th>\n",
       "      <td>NISSAY ASSET MANAGEMENT CORP /JAPAN/ /ADV</td>\n",
       "      <td>0.570197</td>\n",
       "    </tr>\n",
       "  </tbody>\n",
       "</table>\n",
       "<p>1000 rows × 2 columns</p>\n",
       "</div>"
      ],
      "text/plain": [
       "                                   managerName     score\n",
       "0             ORACLE INVESTMENT MANAGEMENT INC  0.670796\n",
       "1                     Grey Street Capital, LLC  0.670796\n",
       "2              Brainard Capital Management LLC  0.670796\n",
       "3                 Mendota Financial Group, LLC  0.667671\n",
       "4                        West Oak Capital, LLC  0.666400\n",
       "..                                         ...       ...\n",
       "995                    NorthRock Partners, LLC  0.570197\n",
       "996                  CONDOR CAPITAL MANAGEMENT  0.570197\n",
       "997                          Bison Wealth, LLC  0.570197\n",
       "998                    Eisler Capital (US) LLC  0.570197\n",
       "999  NISSAY ASSET MANAGEMENT CORP /JAPAN/ /ADV  0.570197\n",
       "\n",
       "[1000 rows x 2 columns]"
      ]
     },
     "execution_count": 10,
     "metadata": {},
     "output_type": "execute_result"
    }
   ],
   "source": [
    "%%time\n",
    "\n",
    "# Search for managers with significiant investments in area\n",
    "res_df = gds.run_cypher('''\n",
    "MATCH (b:Document)\n",
    "WITH b, gds.similarity.cosine($queryVector, b.textEmbedding) AS cosineSimilarity\n",
    "MATCH (b)<-[:HAS]-(c:Company)\n",
    "WITH c, avg(cosineSimilarity) AS mcos\n",
    "MATCH (c)<-[r:OWNS]-(m:Manager)\n",
    "WITH m, r.value as value, mcos*r.value as weightedmcos\n",
    "WITH m.managerName AS managerName, sum(weightedmcos) AS aggwmcos, sum(value) AS aggValue\n",
    "RETURN managerName, aggwmcos/aggValue AS score ORDER BY score DESC LIMIT 1000\n",
    "\n",
    "''', params =  {'queryVector': query_vector})\n",
    "res_df"
   ]
  },
  {
   "cell_type": "markdown",
   "id": "9e12ac15-1e10-4590-8734-8544c58cdb52",
   "metadata": {},
   "source": [
    "If you investigate the top investors you will see the relation to pharma and healthcare\n",
    "\n",
    "For example [ORACLE INVESTMENT MANAGEMENT INC](https://oraclepartners.com/) describes itself as a \"fundamental research driven investment management company that is exclusively focused on the global health care and bioscience industries\""
   ]
  },
  {
   "cell_type": "code",
   "execution_count": null,
   "id": "d7dd7984-9461-412f-9862-5f3ab1bbcacf",
   "metadata": {},
   "outputs": [],
   "source": []
  }
 ],
 "metadata": {
  "environment": {
   "kernel": "python3",
   "name": "pytorch-gpu.1-13.m108",
   "type": "gcloud",
   "uri": "gcr.io/deeplearning-platform-release/pytorch-gpu.1-13:m108"
  },
  "kernelspec": {
   "display_name": "neo4j_genai_test1 (Local)",
   "language": "python",
   "name": "local-neo4j_genai_test1"
  },
  "language_info": {
   "codemirror_mode": {
    "name": "ipython",
    "version": 3
   },
   "file_extension": ".py",
   "mimetype": "text/x-python",
   "name": "python",
   "nbconvert_exporter": "python",
   "pygments_lexer": "ipython3",
   "version": "3.8.17"
  }
 },
 "nbformat": 4,
 "nbformat_minor": 5
}
