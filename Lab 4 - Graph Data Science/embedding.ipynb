{
  "cells": [
    {
      "cell_type": "markdown",
      "metadata": {
        "id": "JAPoU8Sm5E6e"
      },
      "source": [
        "<p>\n",
        "  <a href=\"https://colab.research.google.com/github/neo4j-partners/hands-on-lab-neo4j-and-vertex-ai/blob/main/Lab%202%20-%20Moving%20Data/playing-around.ipynb\" target=\"_blank\">\n",
        "    <img src=\"https://cloud.google.com/ml-engine/images/colab-logo-32px.png\" alt=\"Colab logo\"> Run in Colab\n",
        "  </a>\n",
        "</p>"
      ]
    },
    {
      "cell_type": "markdown",
      "metadata": {},
      "source": [
        "First off, you'll also need to install a few packages."
      ]
    },
    {
      "cell_type": "code",
      "execution_count": null,
      "metadata": {
        "id": "qwKogqD_He_e"
      },
      "outputs": [],
      "source": [
        "!pip install --quiet --upgrade neo4j\n",
        "!pip install --quiet google-cloud-storage"
      ]
    },
    {
      "cell_type": "markdown",
      "metadata": {},
      "source": [
        "You'll need to enter the credentials from your AuraDS instance below. You can get your credentials by following this walkthrough.\n",
        "\n",
        "The \"DB_NAME\" is always neo4j for AuraDS. It is different from the name you gave your database tenant in the AuraDS console."
      ]
    },
    {
      "cell_type": "code",
      "execution_count": null,
      "metadata": {},
      "outputs": [],
      "source": [
        "DB_URL = \"neo4j+s://XXXXX.databases.neo4j.io\"\n",
        "DB_USER = \"neo4j\"\n",
        "DB_PASS = \"YOUR PASSWORD\"\n",
        "DB_NAME = \"neo4j\""
      ]
    },
    {
      "cell_type": "code",
      "execution_count": null,
      "metadata": {},
      "outputs": [],
      "source": [
        "import pandas as pd\n",
        "from neo4j import GraphDatabase\n",
        "\n",
        "\n",
        "driver = GraphDatabase.driver(DB_URL, auth=(DB_USER, DB_PASS))\n"
      ]
    },
    {
      "cell_type": "markdown",
      "metadata": {},
      "source": [
        "First we're going to create an in memory graph represtation of the data in Neo4j Graph Data Science (GDS).\n",
        "\n",
        "Note, if you get an error saying the graph already exists, that's probably because you ran this code before. You can destroy it using the command in the cleanup section of this notebook."
      ]
    },
    {
      "cell_type": "code",
      "execution_count": null,
      "metadata": {},
      "outputs": [],
      "source": [
        "with driver.session(database=DB_NAME) as session:\n",
        "    result = session.read_transaction(\n",
        "        lambda tx: tx.run(\n",
        "            \"\"\"\n",
        "    CALL gds.graph.create.cypher('client_graph', \n",
        "      'MATCH (c:Client) RETURN id(c) as id, c.num_transactions as num_transactions, c.total_transaction_amnt as total_transaction_amnt, c.is_fraudster as is_fraudster',\n",
        "      'MATCH (c:Client)-[:PERFORMED]->(t:Transaction)-[:TO]->(c2:Client) return id(c) as source, id(c2) as target, sum(t.amount) as amount, \"TRANSACTED_WITH\" as type ')\n",
        "    \"\"\"\n",
        "        ).data()\n",
        "    )\n",
        "df = pd.DataFrame(result)\n",
        "display(df)"
      ]
    },
    {
      "cell_type": "markdown",
      "metadata": {},
      "source": [
        "Now we can generate an embedding from that graph. This is a new feature we can use in our predictions. We're using FastRP, which is a more full featured and higher performance of Node2Vec. You can learn more about that [here](https://neo4j.com/docs/graph-data-science/current/algorithms/fastrp/)."
      ]
    },
    {
      "cell_type": "code",
      "execution_count": null,
      "metadata": {},
      "outputs": [],
      "source": [
        "with driver.session(database=DB_NAME) as session:\n",
        "    result = session.read_transaction(\n",
        "        lambda tx: tx.run(\n",
        "            \"\"\"\n",
        "    CALL gds.graph.streamNodeProperties\n",
        "    ('client_graph', ['embedding', 'num_transactions', 'total_transaction_amnt', 'is_fraudster'])\n",
        "    YIELD nodeId, nodeProperty, propertyValue\n",
        "    RETURN nodeId, nodeProperty, propertyValue\n",
        "    \"\"\"\n",
        "        ).data()\n",
        "    )\n",
        "df = pd.DataFrame(result)\n",
        "df.head()"
      ]
    },
    {
      "cell_type": "markdown",
      "metadata": {},
      "source": [
        "Now we need to take that dataframe and shape it into something that better represents our classification problem."
      ]
    },
    {
      "cell_type": "code",
      "execution_count": null,
      "metadata": {},
      "outputs": [],
      "source": [
        "x = df.pivot(index=\"nodeId\", columns=\"nodeProperty\", values=\"propertyValue\")\n",
        "x = x.reset_index()\n",
        "x.columns.name = None\n",
        "x.head()"
      ]
    },
    {
      "cell_type": "markdown",
      "metadata": {},
      "source": [
        "Note that the embedding row is an array. To make this dataset more consumable, we should flatten that out into multiple individual features: embedding_0, embedding_1, ... embedding_n."
      ]
    },
    {
      "cell_type": "code",
      "execution_count": null,
      "metadata": {},
      "outputs": [],
      "source": [
        "FEATURES_FILENAME = \"features.csv\"\n",
        "\n",
        "embeddings = pd.DataFrame(x[\"embedding\"].values.tolist()).add_prefix(\"embedding_\")\n",
        "merged = x.drop(columns=[\"embedding\"]).merge(\n",
        "    embeddings, left_index=True, right_index=True\n",
        ")\n",
        "features_df = merged.drop(\n",
        "    columns=[\"is_fraudster\", \"num_transactions\", \"total_transaction_amnt\"]\n",
        ")\n",
        "train_df = merged.drop(columns=[\"nodeId\"])\n",
        "\n",
        "features_df.to_csv(FEATURES_FILENAME, index=False)"
      ]
    }
  ],
  "metadata": {
    "colab": {
      "name": "playing-around.ipynb",
      "toc_visible": true
    },
    "kernelspec": {
      "display_name": "Python 3",
      "name": "python3"
    }
  },
  "nbformat": 4,
  "nbformat_minor": 0
}
