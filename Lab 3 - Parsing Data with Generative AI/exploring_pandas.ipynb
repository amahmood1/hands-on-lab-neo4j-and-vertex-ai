{
 "cells": [
  {
   "cell_type": "markdown",
   "metadata": {
    "id": "JAPoU8Sm5E6e"
   },
   "source": [
    "<p>\n",
    "  <a href=\"https://colab.research.google.com/github/neo4j-partners/hands-on-lab-neo4j-and-vertex-ai/blob/main/Lab%205%20-%20Vertex%20AI%20Workbench/exploring_pandas.ipynb\" target=\"_blank\">\n",
    "    <img src=\"https://cloud.google.com/ml-engine/images/colab-logo-32px.png\" alt=\"Colab logo\"> Run in Colab\n",
    "  </a>\n",
    "</p>"
   ]
  },
  {
   "cell_type": "markdown",
   "metadata": {
    "id": "YasYy1BqRHY8"
   },
   "source": [
    "We're going to play around with our data...  First off, let's grab the training file."
   ]
  },
  {
   "cell_type": "code",
   "execution_count": 1,
   "metadata": {
    "id": "qwKogqD_He_e"
   },
   "outputs": [
    {
     "name": "stdout",
     "output_type": "stream",
     "text": [
      "--2023-08-08 14:14:48--  https://storage.googleapis.com/neo4j-sec-labs-data/baseline.csv\n",
      "Resolving storage.googleapis.com (storage.googleapis.com)... 74.125.142.128, 74.125.195.128, 172.253.117.128, ...\n",
      "Connecting to storage.googleapis.com (storage.googleapis.com)|74.125.142.128|:443... connected.\n",
      "HTTP request sent, awaiting response... 200 OK\n",
      "Length: 1085089 (1.0M) [text/csv]\n",
      "Saving to: ‘baseline.csv’\n",
      "\n",
      "baseline.csv        100%[===================>]   1.03M  --.-KB/s    in 0.008s  \n",
      "\n",
      "2023-08-08 14:14:48 (126 MB/s) - ‘baseline.csv’ saved [1085089/1085089]\n",
      "\n"
     ]
    }
   ],
   "source": [
    "!wget https://storage.googleapis.com/neo4j-sec-labs-data/baseline.csv"
   ]
  },
  {
   "cell_type": "markdown",
   "metadata": {},
   "source": [
    "Now let's load our data into memory and get a peek at it."
   ]
  },
  {
   "cell_type": "code",
   "execution_count": 2,
   "metadata": {},
   "outputs": [
    {
     "data": {
      "text/html": [
       "<div>\n",
       "<style scoped>\n",
       "    .dataframe tbody tr th:only-of-type {\n",
       "        vertical-align: middle;\n",
       "    }\n",
       "\n",
       "    .dataframe tbody tr th {\n",
       "        vertical-align: top;\n",
       "    }\n",
       "\n",
       "    .dataframe thead th {\n",
       "        text-align: right;\n",
       "    }\n",
       "</style>\n",
       "<table border=\"1\" class=\"dataframe\">\n",
       "  <thead>\n",
       "    <tr style=\"text-align: right;\">\n",
       "      <th></th>\n",
       "      <th>cusip</th>\n",
       "      <th>newBuy</th>\n",
       "      <th>managerName</th>\n",
       "      <th>reportCalendarOrQuarter</th>\n",
       "    </tr>\n",
       "  </thead>\n",
       "  <tbody>\n",
       "    <tr>\n",
       "      <th>0</th>\n",
       "      <td>002824100</td>\n",
       "      <td>1</td>\n",
       "      <td>ABNER HERRMAN &amp; BROCK LLC</td>\n",
       "      <td>2023-06-30</td>\n",
       "    </tr>\n",
       "    <tr>\n",
       "      <th>1</th>\n",
       "      <td>007903107</td>\n",
       "      <td>1</td>\n",
       "      <td>ABNER HERRMAN &amp; BROCK LLC</td>\n",
       "      <td>2023-06-30</td>\n",
       "    </tr>\n",
       "    <tr>\n",
       "      <th>2</th>\n",
       "      <td>009158106</td>\n",
       "      <td>1</td>\n",
       "      <td>ABNER HERRMAN &amp; BROCK LLC</td>\n",
       "      <td>2023-06-30</td>\n",
       "    </tr>\n",
       "    <tr>\n",
       "      <th>3</th>\n",
       "      <td>023135106</td>\n",
       "      <td>1</td>\n",
       "      <td>ABNER HERRMAN &amp; BROCK LLC</td>\n",
       "      <td>2023-06-30</td>\n",
       "    </tr>\n",
       "    <tr>\n",
       "      <th>4</th>\n",
       "      <td>025816109</td>\n",
       "      <td>1</td>\n",
       "      <td>ABNER HERRMAN &amp; BROCK LLC</td>\n",
       "      <td>2023-06-30</td>\n",
       "    </tr>\n",
       "    <tr>\n",
       "      <th>...</th>\n",
       "      <td>...</td>\n",
       "      <td>...</td>\n",
       "      <td>...</td>\n",
       "      <td>...</td>\n",
       "    </tr>\n",
       "    <tr>\n",
       "      <th>20130</th>\n",
       "      <td>88579Y101</td>\n",
       "      <td>1</td>\n",
       "      <td>ZRC WEALTH MANAGEMENT, LLC</td>\n",
       "      <td>2023-06-30</td>\n",
       "    </tr>\n",
       "    <tr>\n",
       "      <th>20131</th>\n",
       "      <td>91324P102</td>\n",
       "      <td>1</td>\n",
       "      <td>ZRC WEALTH MANAGEMENT, LLC</td>\n",
       "      <td>2023-06-30</td>\n",
       "    </tr>\n",
       "    <tr>\n",
       "      <th>20132</th>\n",
       "      <td>92343V104</td>\n",
       "      <td>1</td>\n",
       "      <td>ZRC WEALTH MANAGEMENT, LLC</td>\n",
       "      <td>2023-06-30</td>\n",
       "    </tr>\n",
       "    <tr>\n",
       "      <th>20133</th>\n",
       "      <td>957638109</td>\n",
       "      <td>1</td>\n",
       "      <td>ZRC WEALTH MANAGEMENT, LLC</td>\n",
       "      <td>2023-06-30</td>\n",
       "    </tr>\n",
       "    <tr>\n",
       "      <th>20134</th>\n",
       "      <td>98389B100</td>\n",
       "      <td>1</td>\n",
       "      <td>ZRC WEALTH MANAGEMENT, LLC</td>\n",
       "      <td>2023-06-30</td>\n",
       "    </tr>\n",
       "  </tbody>\n",
       "</table>\n",
       "<p>20135 rows × 4 columns</p>\n",
       "</div>"
      ],
      "text/plain": [
       "           cusip  newBuy                 managerName reportCalendarOrQuarter\n",
       "0      002824100       1   ABNER HERRMAN & BROCK LLC              2023-06-30\n",
       "1      007903107       1   ABNER HERRMAN & BROCK LLC              2023-06-30\n",
       "2      009158106       1   ABNER HERRMAN & BROCK LLC              2023-06-30\n",
       "3      023135106       1   ABNER HERRMAN & BROCK LLC              2023-06-30\n",
       "4      025816109       1   ABNER HERRMAN & BROCK LLC              2023-06-30\n",
       "...          ...     ...                         ...                     ...\n",
       "20130  88579Y101       1  ZRC WEALTH MANAGEMENT, LLC              2023-06-30\n",
       "20131  91324P102       1  ZRC WEALTH MANAGEMENT, LLC              2023-06-30\n",
       "20132  92343V104       1  ZRC WEALTH MANAGEMENT, LLC              2023-06-30\n",
       "20133  957638109       1  ZRC WEALTH MANAGEMENT, LLC              2023-06-30\n",
       "20134  98389B100       1  ZRC WEALTH MANAGEMENT, LLC              2023-06-30\n",
       "\n",
       "[20135 rows x 4 columns]"
      ]
     },
     "execution_count": 2,
     "metadata": {},
     "output_type": "execute_result"
    }
   ],
   "source": [
    "import pandas as pd\n",
    "df = pd.read_csv('baseline.csv')\n",
    "df"
   ]
  },
  {
   "cell_type": "markdown",
   "metadata": {},
   "source": [
    "The column called newBuy is the target we're trying to predict.  It's an indicator that is 1 if the filing firm purchased a company they weren't holding last quarter and 0 otherwise.  A filing period is one quarter."
   ]
  },
  {
   "cell_type": "code",
   "execution_count": 7,
   "metadata": {},
   "outputs": [
    {
     "data": {
      "text/html": [
       "<div>\n",
       "<style scoped>\n",
       "    .dataframe tbody tr th:only-of-type {\n",
       "        vertical-align: middle;\n",
       "    }\n",
       "\n",
       "    .dataframe tbody tr th {\n",
       "        vertical-align: top;\n",
       "    }\n",
       "\n",
       "    .dataframe thead th {\n",
       "        text-align: right;\n",
       "    }\n",
       "</style>\n",
       "<table border=\"1\" class=\"dataframe\">\n",
       "  <thead>\n",
       "    <tr style=\"text-align: right;\">\n",
       "      <th></th>\n",
       "      <th>cusip</th>\n",
       "    </tr>\n",
       "    <tr>\n",
       "      <th>newBuy</th>\n",
       "      <th></th>\n",
       "    </tr>\n",
       "  </thead>\n",
       "  <tbody>\n",
       "    <tr>\n",
       "      <th>0</th>\n",
       "      <td>51</td>\n",
       "    </tr>\n",
       "    <tr>\n",
       "      <th>1</th>\n",
       "      <td>20084</td>\n",
       "    </tr>\n",
       "  </tbody>\n",
       "</table>\n",
       "</div>"
      ],
      "text/plain": [
       "        cusip\n",
       "newBuy       \n",
       "0          51\n",
       "1       20084"
      ]
     },
     "execution_count": 7,
     "metadata": {},
     "output_type": "execute_result"
    }
   ],
   "source": [
    "df[['cusip', 'newBuy']].groupby('newBuy').count()"
   ]
  },
  {
   "cell_type": "markdown",
   "metadata": {},
   "source": [
    "Take a look at the number of rows total.  Compare that to the most frequent value in the target column.  That will tell you how balanced the dataset is.  Is it balanced?  That determines if we can use standard machine learning techniques or if we need to us special methods like boosting that can cope with imbalanced data."
   ]
  },
  {
   "cell_type": "code",
   "execution_count": null,
   "metadata": {},
   "outputs": [],
   "source": []
  }
 ],
 "metadata": {
  "colab": {
   "name": "exploring_pandas.ipynb",
   "toc_visible": true
  },
  "environment": {
   "kernel": "python3",
   "name": "pytorch-gpu.1-13.m108",
   "type": "gcloud",
   "uri": "gcr.io/deeplearning-platform-release/pytorch-gpu.1-13:m108"
  },
  "kernelspec": {
   "display_name": "Python 3",
   "language": "python",
   "name": "python3"
  },
  "language_info": {
   "codemirror_mode": {
    "name": "ipython",
    "version": 3
   },
   "file_extension": ".py",
   "mimetype": "text/x-python",
   "name": "python",
   "nbconvert_exporter": "python",
   "pygments_lexer": "ipython3",
   "version": "3.10.10"
  },
  "vscode": {
   "interpreter": {
    "hash": "31f2aee4e71d21fbe5cf8b01ff0e069b9275f58929596ceb00d14d90e3e16cd6"
   }
  }
 },
 "nbformat": 4,
 "nbformat_minor": 4
}
